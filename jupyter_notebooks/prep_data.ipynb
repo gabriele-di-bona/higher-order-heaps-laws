{
 "cells": [
  {
   "cell_type": "markdown",
   "metadata": {},
   "source": [
    "# Libraries"
   ]
  },
  {
   "cell_type": "code",
   "execution_count": 2,
   "metadata": {},
   "outputs": [],
   "source": [
    "import numpy as np\n",
    "import pickle\n",
    "import os\n",
    "# Change directory to the root of the folder (this script was launched from the subfolder python_scripts)\n",
    "# All utils presuppose that we are working from the root directory of the github folder\n",
    "os.chdir(\"../\")\n",
    "import sys\n",
    "# Add utils directory in the list of directories to look for packages to import\n",
    "sys.path.insert(0, os.path.join(os.getcwd(),'utils'))\n",
    "import matplotlib.pyplot as plt\n",
    "from tqdm.notebook import tqdm\n",
    "import pandas as pd\n",
    "from datetime import datetime\n",
    "import joblib\n",
    "import gzip\n",
    "import csv\n",
    "import fnmatch\n",
    "from nltk.stem import WordNetLemmatizer\n",
    "from nltk.stem.snowball import SnowballStemmer\n",
    "import cld3\n",
    "from iso639 import languages\n",
    "import re\n",
    "import random"
   ]
  },
  {
   "cell_type": "code",
   "execution_count": 3,
   "metadata": {},
   "outputs": [],
   "source": [
    "# local utils\n",
    "from powerlaw_regr import *\n",
    "from analyse_sequence import *\n",
    "from find_files_with_pattern import *"
   ]
  },
  {
   "cell_type": "code",
   "execution_count": 4,
   "metadata": {},
   "outputs": [],
   "source": [
    "# DEFAULT PARAMETERS IN THE FIGURES TO BE ADJUSTED!!!!\n",
    "\n",
    "plt.style.use(\"default\")\n",
    "\n",
    "multiplicator = 4\n",
    "width_fig = 5.70978 * multiplicator # default text width in Comnet is 5.70978\n",
    "height_fig = width_fig * 2 / 3\n",
    "\n",
    "\n",
    "params_default = {\n",
    "    # no upper and right axes\n",
    "    'axes.spines.right' : False,\n",
    "    'axes.spines.top' : False,\n",
    "    # no frame around the legend\n",
    "    \"legend.frameon\" : False,\n",
    "\n",
    "    # dimensions of figures and labels\n",
    "    # we will play with these once we see how they are rendered in the latex\n",
    "    'figure.figsize' : (width_fig, height_fig),\n",
    "\n",
    "    'axes.labelsize' : 8 * multiplicator, #22,\n",
    "    'axes.titlesize' : 8 * multiplicator, #25,\n",
    "    'xtick.labelsize' : 6 * multiplicator, #18,\n",
    "    'ytick.labelsize' : 6 * multiplicator, #18,\n",
    "    'legend.fontsize' : 6 * multiplicator, #16,\n",
    "    'font.size' : 8 * multiplicator,\n",
    "\n",
    "    # no grids (?)\n",
    "    'axes.grid' : False,\n",
    "\n",
    "    # the default color(s) for lines in the plots: in order if multiple lines. We can change them or add colors if needed\n",
    "#     'axes.prop_cycle' : mpl.cycler(color=[\"#00008B\", \"#BF0000\", \"#006400\"]), \n",
    "\n",
    "    # default quality of the plot. Not too high but neither too low\n",
    "    \"savefig.dpi\" : 100,\n",
    "    \"savefig.bbox\" : 'tight', \n",
    "    \n",
    "    'mathtext.fontset': 'stix',\n",
    "    'font.family': 'STIXGeneral',\n",
    "    \n",
    "#     'text.usetex' : True,\n",
    "#     'text.latex.preamble': r\"\\usepackage{amsmath}\",\n",
    "}\n",
    "\n",
    "plt.rcParams.update(params_default)"
   ]
  },
  {
   "cell_type": "code",
   "execution_count": 5,
   "metadata": {},
   "outputs": [],
   "source": [
    "# prune text from punctuation and junk...\n",
    "wnl = WordNetLemmatizer()\n",
    "pattern = re.compile(r'\\B#\\w*[A-Za-z]+\\w*|\\b\\w*[A-Za-z]+\\w*', re.UNICODE)\n",
    "def lemmatize(doc):\n",
    "    '''\n",
    "        Takes a string doc and returns the list of words, without punctuation and junk\n",
    "    '''\n",
    "    l = [wnl.lemmatize(t) for t in pattern.findall(doc)]\n",
    "    return [w.lower() for w in l if len(w) > 1]"
   ]
  },
  {
   "cell_type": "markdown",
   "metadata": {},
   "source": [
    "# Last.fm - 1k (O.Celma)"
   ]
  },
  {
   "cell_type": "markdown",
   "metadata": {},
   "source": [
    "## 1st processing: time ordering"
   ]
  },
  {
   "cell_type": "code",
   "execution_count": 9,
   "metadata": {},
   "outputs": [],
   "source": [
    "file_path = \"./data/ocelma-dataset/lastfm-dataset-1K/userid-timestamp-artid-artname-traid-traname.tsv\""
   ]
  },
  {
   "cell_type": "code",
   "execution_count": null,
   "metadata": {},
   "outputs": [],
   "source": [
    "df_lastfm = pd.read_csv(file_path, sep=\"\\t\", \n",
    "#                       converters={'timestamp':pd.to_datetime},\n",
    "#                       parse_dates=['timestamp'],\n",
    "#                       date_parser=my_date_parser,\n",
    "#                       infer_datetime_format=True, date_parser=[\"timestamp\"],\n",
    "                      error_bad_lines=False, quoting=3, lineterminator=\"\\n\", \n",
    "                names=[\"userid\", \"timestamp\", \"musicbrainz-artist-id\", \"artist-name\", \"musicbrainz-track-id\", \"track-name\"])"
   ]
  },
  {
   "cell_type": "code",
   "execution_count": null,
   "metadata": {},
   "outputs": [],
   "source": [
    "my_format=\"%Y-%m-%dT%H:%M:%SZ\"\n",
    "\n",
    "\n",
    "def lookup(date_pd_series, format=None):\n",
    "    \"\"\"\n",
    "    This is mostly useful for repeated timestamps, otherwise mostly useless.\n",
    "    This is an extremely fast approach to datetime parsing.\n",
    "    For large data, the same dates are often repeated. Rather than\n",
    "    re-parse these, we store all unique dates, parse them, and\n",
    "    use a lookup to convert all dates.\n",
    "    \"\"\"\n",
    "    dates = {date:pd.to_datetime(date, format=format) for date in tqdm(date_pd_series.unique())}\n",
    "    return date_pd_series.map(dates)\n",
    "df_lastfm['timestamp'] = lookup(df_lastfm['timestamp'], format=my_format)"
   ]
  },
  {
   "cell_type": "code",
   "execution_count": 93,
   "metadata": {},
   "outputs": [
    {
     "data": {
      "text/plain": [
       "userid                                            user_000405\n",
       "timestamp                                2010-08-13T23:06:38Z\n",
       "musicbrainz-artist-id    5f572b31-8fd9-45ae-9beb-358c98d839df\n",
       "artist-name                                 The Dandy Warhols\n",
       "musicbrainz-track-id     223f9324-3546-446b-96a2-5f663192dd42\n",
       "track-name                                              Sleep\n",
       "Name: 7727675, dtype: object"
      ]
     },
     "execution_count": 93,
     "metadata": {},
     "output_type": "execute_result"
    }
   ],
   "source": [
    "df_lastfm.iloc[7727675]"
   ]
  },
  {
   "cell_type": "code",
   "execution_count": 76,
   "metadata": {},
   "outputs": [],
   "source": [
    "with open(\"./data/ocelma-dataset/lastfm-dataset-1K/df_orig.pkl\", \"wb\") as fp:\n",
    "    joblib.dump(df_lastfm, fp)"
   ]
  },
  {
   "cell_type": "code",
   "execution_count": 86,
   "metadata": {},
   "outputs": [],
   "source": [
    "df_lastfm = df_lastfm.sort_values(['timestamp', \"userid\"])"
   ]
  },
  {
   "cell_type": "code",
   "execution_count": 87,
   "metadata": {},
   "outputs": [
    {
     "data": {
      "text/html": [
       "<div>\n",
       "<style scoped>\n",
       "    .dataframe tbody tr th:only-of-type {\n",
       "        vertical-align: middle;\n",
       "    }\n",
       "\n",
       "    .dataframe tbody tr th {\n",
       "        vertical-align: top;\n",
       "    }\n",
       "\n",
       "    .dataframe thead th {\n",
       "        text-align: right;\n",
       "    }\n",
       "</style>\n",
       "<table border=\"1\" class=\"dataframe\">\n",
       "  <thead>\n",
       "    <tr style=\"text-align: right;\">\n",
       "      <th></th>\n",
       "      <th>userid</th>\n",
       "      <th>timestamp</th>\n",
       "      <th>musicbrainz-artist-id</th>\n",
       "      <th>artist-name</th>\n",
       "      <th>musicbrainz-track-id</th>\n",
       "      <th>track-name</th>\n",
       "    </tr>\n",
       "  </thead>\n",
       "  <tbody>\n",
       "    <tr>\n",
       "      <th>7589788</th>\n",
       "      <td>user_000391</td>\n",
       "      <td>2005-02-14 00:00:07</td>\n",
       "      <td>fbd86487-ccb5-4a57-a860-cc3d360b5115</td>\n",
       "      <td>Starsailor</td>\n",
       "      <td>6b4977f4-3c7a-492a-af61-1e877fa66f52</td>\n",
       "      <td>Love Is Here</td>\n",
       "    </tr>\n",
       "    <tr>\n",
       "      <th>16931166</th>\n",
       "      <td>user_000871</td>\n",
       "      <td>2005-02-14 00:00:38</td>\n",
       "      <td>b3a6ebdf-4ee6-4ec0-912c-be03ade6c833</td>\n",
       "      <td>Sui Generis</td>\n",
       "      <td>9ecc2ab3-7294-43ad-bdeb-f51388a7a6e0</td>\n",
       "      <td>Rasguña Las Piedras</td>\n",
       "    </tr>\n",
       "    <tr>\n",
       "      <th>13542781</th>\n",
       "      <td>user_000709</td>\n",
       "      <td>2005-02-14 00:01:44</td>\n",
       "      <td>b4d32cff-f19e-455f-86c4-f347d824ca61</td>\n",
       "      <td>Eurythmics</td>\n",
       "      <td>1d0f1ea5-0a92-4578-a7e7-3f2a7129da61</td>\n",
       "      <td>Love Is A Stranger</td>\n",
       "    </tr>\n",
       "    <tr>\n",
       "      <th>5604026</th>\n",
       "      <td>user_000285</td>\n",
       "      <td>2005-02-14 00:02:10</td>\n",
       "      <td>95e1ead9-4d31-4808-a7ac-32c3614c116b</td>\n",
       "      <td>The Killers</td>\n",
       "      <td>46909ba9-46c7-461e-a2ef-280eacd550e4</td>\n",
       "      <td>Jenny Was A Friend Of Mine</td>\n",
       "    </tr>\n",
       "    <tr>\n",
       "      <th>2882463</th>\n",
       "      <td>user_000142</td>\n",
       "      <td>2005-02-14 00:02:40</td>\n",
       "      <td>51086134-0896-4c00-b54a-c5c37aeaf2bf</td>\n",
       "      <td>Anton Maiden</td>\n",
       "      <td>14025355-94c2-4e9b-b63f-c16cab9e8086</td>\n",
       "      <td>Revelations</td>\n",
       "    </tr>\n",
       "  </tbody>\n",
       "</table>\n",
       "</div>"
      ],
      "text/plain": [
       "               userid           timestamp  \\\n",
       "7589788   user_000391 2005-02-14 00:00:07   \n",
       "16931166  user_000871 2005-02-14 00:00:38   \n",
       "13542781  user_000709 2005-02-14 00:01:44   \n",
       "5604026   user_000285 2005-02-14 00:02:10   \n",
       "2882463   user_000142 2005-02-14 00:02:40   \n",
       "\n",
       "                         musicbrainz-artist-id   artist-name  \\\n",
       "7589788   fbd86487-ccb5-4a57-a860-cc3d360b5115    Starsailor   \n",
       "16931166  b3a6ebdf-4ee6-4ec0-912c-be03ade6c833   Sui Generis   \n",
       "13542781  b4d32cff-f19e-455f-86c4-f347d824ca61    Eurythmics   \n",
       "5604026   95e1ead9-4d31-4808-a7ac-32c3614c116b   The Killers   \n",
       "2882463   51086134-0896-4c00-b54a-c5c37aeaf2bf  Anton Maiden   \n",
       "\n",
       "                          musicbrainz-track-id                  track-name  \n",
       "7589788   6b4977f4-3c7a-492a-af61-1e877fa66f52                Love Is Here  \n",
       "16931166  9ecc2ab3-7294-43ad-bdeb-f51388a7a6e0         Rasguña Las Piedras  \n",
       "13542781  1d0f1ea5-0a92-4578-a7e7-3f2a7129da61          Love Is A Stranger  \n",
       "5604026   46909ba9-46c7-461e-a2ef-280eacd550e4  Jenny Was A Friend Of Mine  \n",
       "2882463   14025355-94c2-4e9b-b63f-c16cab9e8086                 Revelations  "
      ]
     },
     "execution_count": 87,
     "metadata": {},
     "output_type": "execute_result"
    }
   ],
   "source": [
    "df_lastfm.head()"
   ]
  },
  {
   "cell_type": "code",
   "execution_count": 96,
   "metadata": {},
   "outputs": [
    {
     "data": {
      "text/html": [
       "<div>\n",
       "<style scoped>\n",
       "    .dataframe tbody tr th:only-of-type {\n",
       "        vertical-align: middle;\n",
       "    }\n",
       "\n",
       "    .dataframe tbody tr th {\n",
       "        vertical-align: top;\n",
       "    }\n",
       "\n",
       "    .dataframe thead th {\n",
       "        text-align: right;\n",
       "    }\n",
       "</style>\n",
       "<table border=\"1\" class=\"dataframe\">\n",
       "  <thead>\n",
       "    <tr style=\"text-align: right;\">\n",
       "      <th></th>\n",
       "      <th>userid</th>\n",
       "      <th>timestamp</th>\n",
       "      <th>musicbrainz-artist-id</th>\n",
       "      <th>artist-name</th>\n",
       "      <th>musicbrainz-track-id</th>\n",
       "      <th>track-name</th>\n",
       "    </tr>\n",
       "  </thead>\n",
       "  <tbody>\n",
       "    <tr>\n",
       "      <th>12052920</th>\n",
       "      <td>user_000650</td>\n",
       "      <td>2009-06-19 20:34:15</td>\n",
       "      <td>cd84f520-7cd7-4e47-8cab-7beeceec3210</td>\n",
       "      <td>Alyson</td>\n",
       "      <td>NaN</td>\n",
       "      <td>Here With Me</td>\n",
       "    </tr>\n",
       "    <tr>\n",
       "      <th>18503194</th>\n",
       "      <td>user_000960</td>\n",
       "      <td>2009-06-19 20:35:33</td>\n",
       "      <td>299278d3-25dd-4f30-bae4-5b571c28034d</td>\n",
       "      <td>The Postal Service</td>\n",
       "      <td>NaN</td>\n",
       "      <td>Umbrella</td>\n",
       "    </tr>\n",
       "    <tr>\n",
       "      <th>18503193</th>\n",
       "      <td>user_000960</td>\n",
       "      <td>2009-06-19 20:40:16</td>\n",
       "      <td>0c751690-c784-4a4f-b1e4-c1de27d47581</td>\n",
       "      <td>Animal Collective</td>\n",
       "      <td>50f16fa4-501b-4883-8932-fb273238947c</td>\n",
       "      <td>Grass</td>\n",
       "    </tr>\n",
       "    <tr>\n",
       "      <th>13793249</th>\n",
       "      <td>user_000724</td>\n",
       "      <td>2009-06-19 20:42:49</td>\n",
       "      <td>f91e3a88-24ee-4563-8963-fab73d2765ed</td>\n",
       "      <td>Franz Schubert</td>\n",
       "      <td>2f685a84-9745-447c-a3a0-8f1d107bc7c2</td>\n",
       "      <td>Piano Sonata No.20 In A, D.959: Ii. Andantino</td>\n",
       "    </tr>\n",
       "    <tr>\n",
       "      <th>18503192</th>\n",
       "      <td>user_000960</td>\n",
       "      <td>2009-06-19 20:43:18</td>\n",
       "      <td>0039c7ae-e1a7-4a7d-9b49-0cbc716821a6</td>\n",
       "      <td>Death Cab For Cutie</td>\n",
       "      <td>5e26d283-96c1-4fbc-a24c-9866953f563c</td>\n",
       "      <td>I Will Possess Your Heart</td>\n",
       "    </tr>\n",
       "    <tr>\n",
       "      <th>13793248</th>\n",
       "      <td>user_000724</td>\n",
       "      <td>2009-06-19 20:50:23</td>\n",
       "      <td>f91e3a88-24ee-4563-8963-fab73d2765ed</td>\n",
       "      <td>Franz Schubert</td>\n",
       "      <td>bd2ff722-fa0b-4090-accb-1fec7b429bb7</td>\n",
       "      <td>Piano Sonata No.20 In A, D.959: Iii. Scherzo (...</td>\n",
       "    </tr>\n",
       "    <tr>\n",
       "      <th>18503191</th>\n",
       "      <td>user_000960</td>\n",
       "      <td>2009-06-19 20:51:53</td>\n",
       "      <td>28b2fb52-a83a-40ec-8617-6436e26eb3fd</td>\n",
       "      <td>Apostle Of Hustle</td>\n",
       "      <td>ca734922-ffc2-41be-8d53-5bdc15be90e2</td>\n",
       "      <td>¡Rafaga!</td>\n",
       "    </tr>\n",
       "    <tr>\n",
       "      <th>16392625</th>\n",
       "      <td>user_000842</td>\n",
       "      <td>2009-06-19 20:55:45</td>\n",
       "      <td>f91e3a88-24ee-4563-8963-fab73d2765ed</td>\n",
       "      <td>Franz Schubert</td>\n",
       "      <td>91aedc56-8a2d-4ca2-96b9-8d014ab92b94</td>\n",
       "      <td>Piano Sonata No.20 In A, D.959: Iv. Rondo (All...</td>\n",
       "    </tr>\n",
       "    <tr>\n",
       "      <th>18503190</th>\n",
       "      <td>user_000960</td>\n",
       "      <td>2009-06-19 20:55:51</td>\n",
       "      <td>299278d3-25dd-4f30-bae4-5b571c28034d</td>\n",
       "      <td>The Postal Service</td>\n",
       "      <td>NaN</td>\n",
       "      <td>Take A Look At Me Now</td>\n",
       "    </tr>\n",
       "    <tr>\n",
       "      <th>18503189</th>\n",
       "      <td>user_000960</td>\n",
       "      <td>2009-06-19 21:00:06</td>\n",
       "      <td>9a58fda3-f4ed-4080-a3a5-f457aac9fcdd</td>\n",
       "      <td>Joy Division</td>\n",
       "      <td>f83d07eb-05d0-4d7b-a4a4-4139b6815ce2</td>\n",
       "      <td>Atrocity Exhibition</td>\n",
       "    </tr>\n",
       "    <tr>\n",
       "      <th>18503188</th>\n",
       "      <td>user_000960</td>\n",
       "      <td>2009-06-19 21:06:11</td>\n",
       "      <td>NaN</td>\n",
       "      <td>Bjork Guðmundsdottir &amp; Trio</td>\n",
       "      <td>NaN</td>\n",
       "      <td>Litli Tonlistarmadurinn</td>\n",
       "    </tr>\n",
       "    <tr>\n",
       "      <th>18503187</th>\n",
       "      <td>user_000960</td>\n",
       "      <td>2009-06-19 21:09:33</td>\n",
       "      <td>20883363-1ea4-4d72-ad72-c0e767038f3e</td>\n",
       "      <td>The Mars Volta</td>\n",
       "      <td>18c564d4-19e4-4598-b896-e3e697da5f2c</td>\n",
       "      <td>This Apparatus Must Be Unearthed</td>\n",
       "    </tr>\n",
       "    <tr>\n",
       "      <th>18503186</th>\n",
       "      <td>user_000960</td>\n",
       "      <td>2009-06-19 21:14:32</td>\n",
       "      <td>db9d25d7-a85b-4a29-b2ff-8f5b69ed691e</td>\n",
       "      <td>Mission Of Burma</td>\n",
       "      <td>6a2e5c69-5c02-479c-b51c-a7a33f25d0c5</td>\n",
       "      <td>Laugh The World Away</td>\n",
       "    </tr>\n",
       "    <tr>\n",
       "      <th>18503185</th>\n",
       "      <td>user_000960</td>\n",
       "      <td>2009-06-19 21:18:26</td>\n",
       "      <td>09037f07-42bc-46ac-a1ee-37f834451fee</td>\n",
       "      <td>Minor Threat</td>\n",
       "      <td>5ec37b8c-1e83-46b2-8c6f-83f4923435a7</td>\n",
       "      <td>No Reason</td>\n",
       "    </tr>\n",
       "    <tr>\n",
       "      <th>18503184</th>\n",
       "      <td>user_000960</td>\n",
       "      <td>2009-06-19 21:20:24</td>\n",
       "      <td>3f542031-b054-454d-b57b-812fa2a81b11</td>\n",
       "      <td>Yo La Tengo</td>\n",
       "      <td>9fb737f7-dc19-452d-983e-83812612b3b5</td>\n",
       "      <td>A Worrying Thing</td>\n",
       "    </tr>\n",
       "    <tr>\n",
       "      <th>18503183</th>\n",
       "      <td>user_000960</td>\n",
       "      <td>2009-06-19 21:23:17</td>\n",
       "      <td>0039c7ae-e1a7-4a7d-9b49-0cbc716821a6</td>\n",
       "      <td>Death Cab For Cutie</td>\n",
       "      <td>4e17b118-70a6-4c1f-b326-b4ce91fd3fad</td>\n",
       "      <td>Soul Meets Body</td>\n",
       "    </tr>\n",
       "    <tr>\n",
       "      <th>18503182</th>\n",
       "      <td>user_000960</td>\n",
       "      <td>2009-06-19 21:27:08</td>\n",
       "      <td>5cbef01b-cc35-4f52-af7b-d0df0c4f61b9</td>\n",
       "      <td>Sonic Youth</td>\n",
       "      <td>af847770-3a91-4ecd-912c-ce154b5fce6a</td>\n",
       "      <td>Superstar</td>\n",
       "    </tr>\n",
       "    <tr>\n",
       "      <th>12068756</th>\n",
       "      <td>user_000651</td>\n",
       "      <td>2009-06-19 21:31:16</td>\n",
       "      <td>c43c7134-5d6f-4bfa-8275-b4012ae97c46</td>\n",
       "      <td>Adolescents</td>\n",
       "      <td>7a415b2b-1655-4516-ad97-de545e05f7a1</td>\n",
       "      <td>Welcome To Reality</td>\n",
       "    </tr>\n",
       "    <tr>\n",
       "      <th>7727675</th>\n",
       "      <td>user_000405</td>\n",
       "      <td>2010-08-13 23:06:38</td>\n",
       "      <td>5f572b31-8fd9-45ae-9beb-358c98d839df</td>\n",
       "      <td>The Dandy Warhols</td>\n",
       "      <td>223f9324-3546-446b-96a2-5f663192dd42</td>\n",
       "      <td>Sleep</td>\n",
       "    </tr>\n",
       "    <tr>\n",
       "      <th>14343563</th>\n",
       "      <td>user_000762</td>\n",
       "      <td>2013-09-29 18:32:04</td>\n",
       "      <td>d8354b38-e942-4c89-ba93-29323432abc3</td>\n",
       "      <td>30 Seconds To Mars</td>\n",
       "      <td>b5b40605-5a81-46b4-a51e-2b1ec7964c1a</td>\n",
       "      <td>A Beautiful Lie</td>\n",
       "    </tr>\n",
       "  </tbody>\n",
       "</table>\n",
       "</div>"
      ],
      "text/plain": [
       "               userid           timestamp  \\\n",
       "12052920  user_000650 2009-06-19 20:34:15   \n",
       "18503194  user_000960 2009-06-19 20:35:33   \n",
       "18503193  user_000960 2009-06-19 20:40:16   \n",
       "13793249  user_000724 2009-06-19 20:42:49   \n",
       "18503192  user_000960 2009-06-19 20:43:18   \n",
       "13793248  user_000724 2009-06-19 20:50:23   \n",
       "18503191  user_000960 2009-06-19 20:51:53   \n",
       "16392625  user_000842 2009-06-19 20:55:45   \n",
       "18503190  user_000960 2009-06-19 20:55:51   \n",
       "18503189  user_000960 2009-06-19 21:00:06   \n",
       "18503188  user_000960 2009-06-19 21:06:11   \n",
       "18503187  user_000960 2009-06-19 21:09:33   \n",
       "18503186  user_000960 2009-06-19 21:14:32   \n",
       "18503185  user_000960 2009-06-19 21:18:26   \n",
       "18503184  user_000960 2009-06-19 21:20:24   \n",
       "18503183  user_000960 2009-06-19 21:23:17   \n",
       "18503182  user_000960 2009-06-19 21:27:08   \n",
       "12068756  user_000651 2009-06-19 21:31:16   \n",
       "7727675   user_000405 2010-08-13 23:06:38   \n",
       "14343563  user_000762 2013-09-29 18:32:04   \n",
       "\n",
       "                         musicbrainz-artist-id                  artist-name  \\\n",
       "12052920  cd84f520-7cd7-4e47-8cab-7beeceec3210                       Alyson   \n",
       "18503194  299278d3-25dd-4f30-bae4-5b571c28034d           The Postal Service   \n",
       "18503193  0c751690-c784-4a4f-b1e4-c1de27d47581            Animal Collective   \n",
       "13793249  f91e3a88-24ee-4563-8963-fab73d2765ed               Franz Schubert   \n",
       "18503192  0039c7ae-e1a7-4a7d-9b49-0cbc716821a6          Death Cab For Cutie   \n",
       "13793248  f91e3a88-24ee-4563-8963-fab73d2765ed               Franz Schubert   \n",
       "18503191  28b2fb52-a83a-40ec-8617-6436e26eb3fd            Apostle Of Hustle   \n",
       "16392625  f91e3a88-24ee-4563-8963-fab73d2765ed               Franz Schubert   \n",
       "18503190  299278d3-25dd-4f30-bae4-5b571c28034d           The Postal Service   \n",
       "18503189  9a58fda3-f4ed-4080-a3a5-f457aac9fcdd                 Joy Division   \n",
       "18503188                                   NaN  Bjork Guðmundsdottir & Trio   \n",
       "18503187  20883363-1ea4-4d72-ad72-c0e767038f3e               The Mars Volta   \n",
       "18503186  db9d25d7-a85b-4a29-b2ff-8f5b69ed691e             Mission Of Burma   \n",
       "18503185  09037f07-42bc-46ac-a1ee-37f834451fee                 Minor Threat   \n",
       "18503184  3f542031-b054-454d-b57b-812fa2a81b11                  Yo La Tengo   \n",
       "18503183  0039c7ae-e1a7-4a7d-9b49-0cbc716821a6          Death Cab For Cutie   \n",
       "18503182  5cbef01b-cc35-4f52-af7b-d0df0c4f61b9                  Sonic Youth   \n",
       "12068756  c43c7134-5d6f-4bfa-8275-b4012ae97c46                  Adolescents   \n",
       "7727675   5f572b31-8fd9-45ae-9beb-358c98d839df            The Dandy Warhols   \n",
       "14343563  d8354b38-e942-4c89-ba93-29323432abc3           30 Seconds To Mars   \n",
       "\n",
       "                          musicbrainz-track-id  \\\n",
       "12052920                                   NaN   \n",
       "18503194                                   NaN   \n",
       "18503193  50f16fa4-501b-4883-8932-fb273238947c   \n",
       "13793249  2f685a84-9745-447c-a3a0-8f1d107bc7c2   \n",
       "18503192  5e26d283-96c1-4fbc-a24c-9866953f563c   \n",
       "13793248  bd2ff722-fa0b-4090-accb-1fec7b429bb7   \n",
       "18503191  ca734922-ffc2-41be-8d53-5bdc15be90e2   \n",
       "16392625  91aedc56-8a2d-4ca2-96b9-8d014ab92b94   \n",
       "18503190                                   NaN   \n",
       "18503189  f83d07eb-05d0-4d7b-a4a4-4139b6815ce2   \n",
       "18503188                                   NaN   \n",
       "18503187  18c564d4-19e4-4598-b896-e3e697da5f2c   \n",
       "18503186  6a2e5c69-5c02-479c-b51c-a7a33f25d0c5   \n",
       "18503185  5ec37b8c-1e83-46b2-8c6f-83f4923435a7   \n",
       "18503184  9fb737f7-dc19-452d-983e-83812612b3b5   \n",
       "18503183  4e17b118-70a6-4c1f-b326-b4ce91fd3fad   \n",
       "18503182  af847770-3a91-4ecd-912c-ce154b5fce6a   \n",
       "12068756  7a415b2b-1655-4516-ad97-de545e05f7a1   \n",
       "7727675   223f9324-3546-446b-96a2-5f663192dd42   \n",
       "14343563  b5b40605-5a81-46b4-a51e-2b1ec7964c1a   \n",
       "\n",
       "                                                 track-name  \n",
       "12052920                                       Here With Me  \n",
       "18503194                                           Umbrella  \n",
       "18503193                                              Grass  \n",
       "13793249      Piano Sonata No.20 In A, D.959: Ii. Andantino  \n",
       "18503192                          I Will Possess Your Heart  \n",
       "13793248  Piano Sonata No.20 In A, D.959: Iii. Scherzo (...  \n",
       "18503191                                           ¡Rafaga!  \n",
       "16392625  Piano Sonata No.20 In A, D.959: Iv. Rondo (All...  \n",
       "18503190                              Take A Look At Me Now  \n",
       "18503189                                Atrocity Exhibition  \n",
       "18503188                            Litli Tonlistarmadurinn  \n",
       "18503187                   This Apparatus Must Be Unearthed  \n",
       "18503186                               Laugh The World Away  \n",
       "18503185                                          No Reason  \n",
       "18503184                                   A Worrying Thing  \n",
       "18503183                                    Soul Meets Body  \n",
       "18503182                                          Superstar  \n",
       "12068756                                 Welcome To Reality  \n",
       "7727675                                               Sleep  \n",
       "14343563                                    A Beautiful Lie  "
      ]
     },
     "execution_count": 96,
     "metadata": {},
     "output_type": "execute_result"
    }
   ],
   "source": [
    "df_lastfm.tail(20)"
   ]
  },
  {
   "cell_type": "code",
   "execution_count": 90,
   "metadata": {},
   "outputs": [
    {
     "name": "stdout",
     "output_type": "stream",
     "text": [
      "2005-02-14 00:00:07 2005-02-14 00:00:38\n",
      "2013-09-29 18:32:04 2010-08-13 23:06:38\n"
     ]
    }
   ],
   "source": [
    "print(df_lastfm.iloc[0][\"timestamp\"], df_lastfm.iloc[1][\"timestamp\"] )\n",
    "print(df_lastfm.iloc[-1][\"timestamp\"], df_lastfm.iloc[-2][\"timestamp\"] )"
   ]
  },
  {
   "cell_type": "code",
   "execution_count": 95,
   "metadata": {},
   "outputs": [],
   "source": [
    "with open(\"./data/ocelma-dataset/lastfm-dataset-1K/df_time_ordered.pkl\", \"wb\") as fp:\n",
    "    joblib.dump(df_lastfm, fp)"
   ]
  },
  {
   "cell_type": "code",
   "execution_count": 42,
   "metadata": {},
   "outputs": [],
   "source": [
    "df = df.reset_index(drop=True)"
   ]
  },
  {
   "cell_type": "markdown",
   "metadata": {},
   "source": [
    "Last two rows must be dropped, because time is completely different than the previous ones. \n",
    "\n",
    "Also this dataframe has a time interval different than the one said by the author on the website."
   ]
  },
  {
   "cell_type": "code",
   "execution_count": 43,
   "metadata": {},
   "outputs": [],
   "source": [
    "df_lastfm = df_lastfm.drop([19150866,19150867])"
   ]
  },
  {
   "cell_type": "code",
   "execution_count": 44,
   "metadata": {},
   "outputs": [
    {
     "data": {
      "text/html": [
       "<div>\n",
       "<style scoped>\n",
       "    .dataframe tbody tr th:only-of-type {\n",
       "        vertical-align: middle;\n",
       "    }\n",
       "\n",
       "    .dataframe tbody tr th {\n",
       "        vertical-align: top;\n",
       "    }\n",
       "\n",
       "    .dataframe thead th {\n",
       "        text-align: right;\n",
       "    }\n",
       "</style>\n",
       "<table border=\"1\" class=\"dataframe\">\n",
       "  <thead>\n",
       "    <tr style=\"text-align: right;\">\n",
       "      <th></th>\n",
       "      <th>userid</th>\n",
       "      <th>timestamp</th>\n",
       "      <th>musicbrainz-artist-id</th>\n",
       "      <th>artist-name</th>\n",
       "      <th>musicbrainz-track-id</th>\n",
       "      <th>track-name</th>\n",
       "    </tr>\n",
       "  </thead>\n",
       "  <tbody>\n",
       "    <tr>\n",
       "      <th>0</th>\n",
       "      <td>user_000391</td>\n",
       "      <td>2005-02-14 00:00:07</td>\n",
       "      <td>fbd86487-ccb5-4a57-a860-cc3d360b5115</td>\n",
       "      <td>Starsailor</td>\n",
       "      <td>6b4977f4-3c7a-492a-af61-1e877fa66f52</td>\n",
       "      <td>Love Is Here</td>\n",
       "    </tr>\n",
       "    <tr>\n",
       "      <th>1</th>\n",
       "      <td>user_000871</td>\n",
       "      <td>2005-02-14 00:00:38</td>\n",
       "      <td>b3a6ebdf-4ee6-4ec0-912c-be03ade6c833</td>\n",
       "      <td>Sui Generis</td>\n",
       "      <td>9ecc2ab3-7294-43ad-bdeb-f51388a7a6e0</td>\n",
       "      <td>Rasguña Las Piedras</td>\n",
       "    </tr>\n",
       "    <tr>\n",
       "      <th>2</th>\n",
       "      <td>user_000709</td>\n",
       "      <td>2005-02-14 00:01:44</td>\n",
       "      <td>b4d32cff-f19e-455f-86c4-f347d824ca61</td>\n",
       "      <td>Eurythmics</td>\n",
       "      <td>1d0f1ea5-0a92-4578-a7e7-3f2a7129da61</td>\n",
       "      <td>Love Is A Stranger</td>\n",
       "    </tr>\n",
       "    <tr>\n",
       "      <th>3</th>\n",
       "      <td>user_000285</td>\n",
       "      <td>2005-02-14 00:02:10</td>\n",
       "      <td>95e1ead9-4d31-4808-a7ac-32c3614c116b</td>\n",
       "      <td>The Killers</td>\n",
       "      <td>46909ba9-46c7-461e-a2ef-280eacd550e4</td>\n",
       "      <td>Jenny Was A Friend Of Mine</td>\n",
       "    </tr>\n",
       "    <tr>\n",
       "      <th>4</th>\n",
       "      <td>user_000142</td>\n",
       "      <td>2005-02-14 00:02:40</td>\n",
       "      <td>51086134-0896-4c00-b54a-c5c37aeaf2bf</td>\n",
       "      <td>Anton Maiden</td>\n",
       "      <td>14025355-94c2-4e9b-b63f-c16cab9e8086</td>\n",
       "      <td>Revelations</td>\n",
       "    </tr>\n",
       "    <tr>\n",
       "      <th>...</th>\n",
       "      <td>...</td>\n",
       "      <td>...</td>\n",
       "      <td>...</td>\n",
       "      <td>...</td>\n",
       "      <td>...</td>\n",
       "      <td>...</td>\n",
       "    </tr>\n",
       "    <tr>\n",
       "      <th>19150861</th>\n",
       "      <td>user_000960</td>\n",
       "      <td>2009-06-19 21:18:26</td>\n",
       "      <td>09037f07-42bc-46ac-a1ee-37f834451fee</td>\n",
       "      <td>Minor Threat</td>\n",
       "      <td>5ec37b8c-1e83-46b2-8c6f-83f4923435a7</td>\n",
       "      <td>No Reason</td>\n",
       "    </tr>\n",
       "    <tr>\n",
       "      <th>19150862</th>\n",
       "      <td>user_000960</td>\n",
       "      <td>2009-06-19 21:20:24</td>\n",
       "      <td>3f542031-b054-454d-b57b-812fa2a81b11</td>\n",
       "      <td>Yo La Tengo</td>\n",
       "      <td>9fb737f7-dc19-452d-983e-83812612b3b5</td>\n",
       "      <td>A Worrying Thing</td>\n",
       "    </tr>\n",
       "    <tr>\n",
       "      <th>19150863</th>\n",
       "      <td>user_000960</td>\n",
       "      <td>2009-06-19 21:23:17</td>\n",
       "      <td>0039c7ae-e1a7-4a7d-9b49-0cbc716821a6</td>\n",
       "      <td>Death Cab For Cutie</td>\n",
       "      <td>4e17b118-70a6-4c1f-b326-b4ce91fd3fad</td>\n",
       "      <td>Soul Meets Body</td>\n",
       "    </tr>\n",
       "    <tr>\n",
       "      <th>19150864</th>\n",
       "      <td>user_000960</td>\n",
       "      <td>2009-06-19 21:27:08</td>\n",
       "      <td>5cbef01b-cc35-4f52-af7b-d0df0c4f61b9</td>\n",
       "      <td>Sonic Youth</td>\n",
       "      <td>af847770-3a91-4ecd-912c-ce154b5fce6a</td>\n",
       "      <td>Superstar</td>\n",
       "    </tr>\n",
       "    <tr>\n",
       "      <th>19150865</th>\n",
       "      <td>user_000651</td>\n",
       "      <td>2009-06-19 21:31:16</td>\n",
       "      <td>c43c7134-5d6f-4bfa-8275-b4012ae97c46</td>\n",
       "      <td>Adolescents</td>\n",
       "      <td>7a415b2b-1655-4516-ad97-de545e05f7a1</td>\n",
       "      <td>Welcome To Reality</td>\n",
       "    </tr>\n",
       "  </tbody>\n",
       "</table>\n",
       "<p>19150866 rows × 6 columns</p>\n",
       "</div>"
      ],
      "text/plain": [
       "               userid           timestamp  \\\n",
       "0         user_000391 2005-02-14 00:00:07   \n",
       "1         user_000871 2005-02-14 00:00:38   \n",
       "2         user_000709 2005-02-14 00:01:44   \n",
       "3         user_000285 2005-02-14 00:02:10   \n",
       "4         user_000142 2005-02-14 00:02:40   \n",
       "...               ...                 ...   \n",
       "19150861  user_000960 2009-06-19 21:18:26   \n",
       "19150862  user_000960 2009-06-19 21:20:24   \n",
       "19150863  user_000960 2009-06-19 21:23:17   \n",
       "19150864  user_000960 2009-06-19 21:27:08   \n",
       "19150865  user_000651 2009-06-19 21:31:16   \n",
       "\n",
       "                         musicbrainz-artist-id          artist-name  \\\n",
       "0         fbd86487-ccb5-4a57-a860-cc3d360b5115           Starsailor   \n",
       "1         b3a6ebdf-4ee6-4ec0-912c-be03ade6c833          Sui Generis   \n",
       "2         b4d32cff-f19e-455f-86c4-f347d824ca61           Eurythmics   \n",
       "3         95e1ead9-4d31-4808-a7ac-32c3614c116b          The Killers   \n",
       "4         51086134-0896-4c00-b54a-c5c37aeaf2bf         Anton Maiden   \n",
       "...                                        ...                  ...   \n",
       "19150861  09037f07-42bc-46ac-a1ee-37f834451fee         Minor Threat   \n",
       "19150862  3f542031-b054-454d-b57b-812fa2a81b11          Yo La Tengo   \n",
       "19150863  0039c7ae-e1a7-4a7d-9b49-0cbc716821a6  Death Cab For Cutie   \n",
       "19150864  5cbef01b-cc35-4f52-af7b-d0df0c4f61b9          Sonic Youth   \n",
       "19150865  c43c7134-5d6f-4bfa-8275-b4012ae97c46          Adolescents   \n",
       "\n",
       "                          musicbrainz-track-id                  track-name  \n",
       "0         6b4977f4-3c7a-492a-af61-1e877fa66f52                Love Is Here  \n",
       "1         9ecc2ab3-7294-43ad-bdeb-f51388a7a6e0         Rasguña Las Piedras  \n",
       "2         1d0f1ea5-0a92-4578-a7e7-3f2a7129da61          Love Is A Stranger  \n",
       "3         46909ba9-46c7-461e-a2ef-280eacd550e4  Jenny Was A Friend Of Mine  \n",
       "4         14025355-94c2-4e9b-b63f-c16cab9e8086                 Revelations  \n",
       "...                                        ...                         ...  \n",
       "19150861  5ec37b8c-1e83-46b2-8c6f-83f4923435a7                   No Reason  \n",
       "19150862  9fb737f7-dc19-452d-983e-83812612b3b5            A Worrying Thing  \n",
       "19150863  4e17b118-70a6-4c1f-b326-b4ce91fd3fad             Soul Meets Body  \n",
       "19150864  af847770-3a91-4ecd-912c-ce154b5fce6a                   Superstar  \n",
       "19150865  7a415b2b-1655-4516-ad97-de545e05f7a1          Welcome To Reality  \n",
       "\n",
       "[19150866 rows x 6 columns]"
      ]
     },
     "execution_count": 44,
     "metadata": {},
     "output_type": "execute_result"
    }
   ],
   "source": [
    "df_lastfm"
   ]
  },
  {
   "cell_type": "code",
   "execution_count": 45,
   "metadata": {},
   "outputs": [],
   "source": [
    "with open(\"./data/ocelma-dataset/lastfm-dataset-1K/df_time_ordered_clean.pkl\", \"wb\") as fp:\n",
    "    joblib.dump(df_lastfm, fp)"
   ]
  },
  {
   "cell_type": "markdown",
   "metadata": {},
   "source": [
    "## 2nd processing: indexing tracks and artists"
   ]
  },
  {
   "cell_type": "code",
   "execution_count": 39,
   "metadata": {},
   "outputs": [],
   "source": [
    "with open(\"./data/ocelma-dataset/lastfm-dataset-1K/df_time_ordered_clean.pkl\", \"rb\") as fp:\n",
    "    df_lastfm = joblib.load(fp)"
   ]
  },
  {
   "cell_type": "code",
   "execution_count": 45,
   "metadata": {},
   "outputs": [],
   "source": [
    "artists = df_lastfm[[\"musicbrainz-artist-id\",\"artist-name\"]]\n",
    "\n",
    "artists_unique = artists.drop_duplicates()\n",
    "\n",
    "artists_unique = artists_unique.reset_index(drop=True)"
   ]
  },
  {
   "cell_type": "code",
   "execution_count": 46,
   "metadata": {},
   "outputs": [
    {
     "name": "stderr",
     "output_type": "stream",
     "text": [
      "100%|██████████| 177023/177023 [00:24<00:00, 7298.38it/s]\n"
     ]
    }
   ],
   "source": [
    "unique_artists_remap = {}\n",
    "for i in tqdm(range(len(artists_unique))):\n",
    "    row = artists_unique.loc[i]\n",
    "    artist_id = row[\"musicbrainz-artist-id\"]\n",
    "    if not pd.notna(artist_id):\n",
    "        artist_id = None\n",
    "    artist_name = row[\"artist-name\"]\n",
    "    if not pd.notna(artist_name):\n",
    "        artist_name = None\n",
    "    unique_artists_remap[(artist_id,artist_name)] = i"
   ]
  },
  {
   "cell_type": "code",
   "execution_count": 40,
   "metadata": {},
   "outputs": [],
   "source": [
    "tracks = df_lastfm[[\"musicbrainz-track-id\",\"track-name\",\"musicbrainz-artist-id\",\"artist-name\"]]"
   ]
  },
  {
   "cell_type": "code",
   "execution_count": 41,
   "metadata": {},
   "outputs": [],
   "source": [
    "tracks_unique = tracks.drop_duplicates()"
   ]
  },
  {
   "cell_type": "code",
   "execution_count": 42,
   "metadata": {},
   "outputs": [],
   "source": [
    "tracks_unique = tracks_unique.reset_index(drop=True)\n",
    "# tracks_unique[\"index\"] = tracks_unique."
   ]
  },
  {
   "cell_type": "code",
   "execution_count": 86,
   "metadata": {},
   "outputs": [],
   "source": [
    "# unique_tracks_remap = {}\n",
    "# for i in tqdm(range(len(tracks_unique))):\n",
    "#     row = tracks_unique.loc[i]\n",
    "#     unique_tracks_remap[(row[\"musicbrainz-track-id\"],row[\"track-name\"],row[\"musicbrainz-artist-id\"],row[\"artist-name\"])] = i"
   ]
  },
  {
   "cell_type": "code",
   "execution_count": 48,
   "metadata": {},
   "outputs": [
    {
     "name": "stderr",
     "output_type": "stream",
     "text": [
      "100%|██████████| 1505514/1505514 [03:45<00:00, 6662.75it/s]\n"
     ]
    }
   ],
   "source": [
    "unique_tracks_remap = {}\n",
    "for i in tqdm(range(len(tracks_unique))):\n",
    "    row = tracks_unique.loc[i]\n",
    "    track_id = row[\"musicbrainz-track-id\"]\n",
    "    if not pd.notna(track_id):\n",
    "        track_id = None\n",
    "    track_name = row[\"track-name\"]\n",
    "    if not pd.notna(track_name):\n",
    "        track_name = None\n",
    "    artist_id = row[\"musicbrainz-artist-id\"]\n",
    "    if not pd.notna(artist_id):\n",
    "        artist_id = None\n",
    "    artist_name = row[\"artist-name\"]\n",
    "    if not pd.notna(artist_name):\n",
    "        artist_name = None\n",
    "    artist_id_remapped = unique_artists_remap[(artist_id,artist_name)]\n",
    "    unique_tracks_remap[(track_id,track_name,artist_id_remapped)] = i"
   ]
  },
  {
   "cell_type": "code",
   "execution_count": 49,
   "metadata": {},
   "outputs": [],
   "source": [
    "df_lastfm2 = df_lastfm[[\"userid\",\"timestamp\"]]\n",
    "track_id_remapped_list = -np.ones(len(df_lastfm2))\n",
    "artist_id_remapped_list = -np.ones(len(df_lastfm2))"
   ]
  },
  {
   "cell_type": "code",
   "execution_count": 50,
   "metadata": {},
   "outputs": [
    {
     "name": "stderr",
     "output_type": "stream",
     "text": [
      "100%|██████████| 19150866/19150866 [1:28:24<00:00, 3610.16it/s]\n"
     ]
    }
   ],
   "source": [
    "for i in tqdm(range(len(df_lastfm))):\n",
    "    row = df_lastfm.loc[i]\n",
    "    track_id = row[\"musicbrainz-track-id\"]\n",
    "    if not pd.notna(track_id):\n",
    "        track_id = None\n",
    "    track_name = row[\"track-name\"]\n",
    "    if not pd.notna(track_name):\n",
    "        track_name = None\n",
    "    artist_id = row[\"musicbrainz-artist-id\"]\n",
    "    if not pd.notna(artist_id):\n",
    "        artist_id = None\n",
    "    artist_name = row[\"artist-name\"]\n",
    "    if not pd.notna(artist_name):\n",
    "        artist_name = None\n",
    "    artist_id_remapped = unique_artists_remap[(artist_id,artist_name)]\n",
    "    artist_id_remapped_list[i] = artist_id_remapped\n",
    "    track_id_remapped_list[i] = unique_tracks_remap[(track_id,track_name,artist_id_remapped)]"
   ]
  },
  {
   "cell_type": "code",
   "execution_count": 51,
   "metadata": {},
   "outputs": [
    {
     "name": "stderr",
     "output_type": "stream",
     "text": [
      "/tmp/2049703.1.all.q/ipykernel_20116/1589433352.py:1: SettingWithCopyWarning: \n",
      "A value is trying to be set on a copy of a slice from a DataFrame.\n",
      "Try using .loc[row_indexer,col_indexer] = value instead\n",
      "\n",
      "See the caveats in the documentation: https://pandas.pydata.org/pandas-docs/stable/user_guide/indexing.html#returning-a-view-versus-a-copy\n",
      "  df2[\"track_id_remapped\"] = track_id_remapped_list.copy()\n",
      "/tmp/2049703.1.all.q/ipykernel_20116/1589433352.py:2: SettingWithCopyWarning: \n",
      "A value is trying to be set on a copy of a slice from a DataFrame.\n",
      "Try using .loc[row_indexer,col_indexer] = value instead\n",
      "\n",
      "See the caveats in the documentation: https://pandas.pydata.org/pandas-docs/stable/user_guide/indexing.html#returning-a-view-versus-a-copy\n",
      "  df2[\"artist_id_remapped\"] = artist_id_remapped_list.copy()\n"
     ]
    }
   ],
   "source": [
    "df_lastfm2[\"track_id_remapped\"] = track_id_remapped_list.copy()\n",
    "df_lastfm2[\"artist_id_remapped\"] = artist_id_remapped_list.copy()"
   ]
  },
  {
   "cell_type": "code",
   "execution_count": 52,
   "metadata": {},
   "outputs": [],
   "source": [
    "with open(\"./data/ocelma-dataset/lastfm-dataset-1K/remap_artists.pkl\", \"wb\") as fp:\n",
    "    joblib.dump(unique_artists_remap, fp)\n",
    "with open(\"./data/ocelma-dataset/lastfm-dataset-1K/remap_tracks.pkl\", \"wb\") as fp:\n",
    "    joblib.dump(unique_tracks_remap, fp)"
   ]
  },
  {
   "cell_type": "code",
   "execution_count": 53,
   "metadata": {},
   "outputs": [],
   "source": [
    "with open(\"./data/ocelma-dataset/lastfm-dataset-1K/df_indexed.pkl\", \"wb\") as fp:\n",
    "    joblib.dump(df_lastfm2, fp)"
   ]
  },
  {
   "cell_type": "code",
   "execution_count": 54,
   "metadata": {},
   "outputs": [],
   "source": [
    "df_lastfm = df_lastfm2.copy()"
   ]
  },
  {
   "cell_type": "markdown",
   "metadata": {},
   "source": [
    "## 3rd processing: creation of individual sequences"
   ]
  },
  {
   "cell_type": "code",
   "execution_count": 281,
   "metadata": {
    "tags": []
   },
   "outputs": [],
   "source": [
    "with open(\"./data/ocelma-dataset/lastfm-dataset-1K/df_indexed.pkl\", \"rb\") as fp:\n",
    "    df_lastfm = joblib.load(fp)"
   ]
  },
  {
   "cell_type": "code",
   "execution_count": 282,
   "metadata": {},
   "outputs": [
    {
     "name": "stdout",
     "output_type": "stream",
     "text": [
      "992 user_001000\n"
     ]
    }
   ],
   "source": [
    "users_list = list(df_lastfm[\"userid\"].unique())\n",
    "users_list.sort()\n",
    "print(len(users_list), max(users_list))"
   ]
  },
  {
   "cell_type": "code",
   "execution_count": 283,
   "metadata": {},
   "outputs": [
    {
     "data": {
      "text/html": [
       "<div>\n",
       "<style scoped>\n",
       "    .dataframe tbody tr th:only-of-type {\n",
       "        vertical-align: middle;\n",
       "    }\n",
       "\n",
       "    .dataframe tbody tr th {\n",
       "        vertical-align: top;\n",
       "    }\n",
       "\n",
       "    .dataframe thead th {\n",
       "        text-align: right;\n",
       "    }\n",
       "</style>\n",
       "<table border=\"1\" class=\"dataframe\">\n",
       "  <thead>\n",
       "    <tr style=\"text-align: right;\">\n",
       "      <th></th>\n",
       "      <th>userid</th>\n",
       "      <th>timestamp</th>\n",
       "      <th>track_id_remapped</th>\n",
       "      <th>artist_id_remapped</th>\n",
       "    </tr>\n",
       "  </thead>\n",
       "  <tbody>\n",
       "    <tr>\n",
       "      <th>0</th>\n",
       "      <td>user_000391</td>\n",
       "      <td>2005-02-14 00:00:07</td>\n",
       "      <td>0.0</td>\n",
       "      <td>0.0</td>\n",
       "    </tr>\n",
       "    <tr>\n",
       "      <th>1</th>\n",
       "      <td>user_000871</td>\n",
       "      <td>2005-02-14 00:00:38</td>\n",
       "      <td>1.0</td>\n",
       "      <td>1.0</td>\n",
       "    </tr>\n",
       "    <tr>\n",
       "      <th>2</th>\n",
       "      <td>user_000709</td>\n",
       "      <td>2005-02-14 00:01:44</td>\n",
       "      <td>2.0</td>\n",
       "      <td>2.0</td>\n",
       "    </tr>\n",
       "    <tr>\n",
       "      <th>3</th>\n",
       "      <td>user_000285</td>\n",
       "      <td>2005-02-14 00:02:10</td>\n",
       "      <td>3.0</td>\n",
       "      <td>3.0</td>\n",
       "    </tr>\n",
       "    <tr>\n",
       "      <th>4</th>\n",
       "      <td>user_000142</td>\n",
       "      <td>2005-02-14 00:02:40</td>\n",
       "      <td>4.0</td>\n",
       "      <td>4.0</td>\n",
       "    </tr>\n",
       "    <tr>\n",
       "      <th>...</th>\n",
       "      <td>...</td>\n",
       "      <td>...</td>\n",
       "      <td>...</td>\n",
       "      <td>...</td>\n",
       "    </tr>\n",
       "    <tr>\n",
       "      <th>19150861</th>\n",
       "      <td>user_000960</td>\n",
       "      <td>2009-06-19 21:18:26</td>\n",
       "      <td>73214.0</td>\n",
       "      <td>2842.0</td>\n",
       "    </tr>\n",
       "    <tr>\n",
       "      <th>19150862</th>\n",
       "      <td>user_000960</td>\n",
       "      <td>2009-06-19 21:20:24</td>\n",
       "      <td>117991.0</td>\n",
       "      <td>2228.0</td>\n",
       "    </tr>\n",
       "    <tr>\n",
       "      <th>19150863</th>\n",
       "      <td>user_000960</td>\n",
       "      <td>2009-06-19 21:23:17</td>\n",
       "      <td>103131.0</td>\n",
       "      <td>126.0</td>\n",
       "    </tr>\n",
       "    <tr>\n",
       "      <th>19150864</th>\n",
       "      <td>user_000960</td>\n",
       "      <td>2009-06-19 21:27:08</td>\n",
       "      <td>25733.0</td>\n",
       "      <td>346.0</td>\n",
       "    </tr>\n",
       "    <tr>\n",
       "      <th>19150865</th>\n",
       "      <td>user_000651</td>\n",
       "      <td>2009-06-19 21:31:16</td>\n",
       "      <td>192460.0</td>\n",
       "      <td>6263.0</td>\n",
       "    </tr>\n",
       "  </tbody>\n",
       "</table>\n",
       "<p>19150866 rows × 4 columns</p>\n",
       "</div>"
      ],
      "text/plain": [
       "               userid           timestamp  track_id_remapped  \\\n",
       "0         user_000391 2005-02-14 00:00:07                0.0   \n",
       "1         user_000871 2005-02-14 00:00:38                1.0   \n",
       "2         user_000709 2005-02-14 00:01:44                2.0   \n",
       "3         user_000285 2005-02-14 00:02:10                3.0   \n",
       "4         user_000142 2005-02-14 00:02:40                4.0   \n",
       "...               ...                 ...                ...   \n",
       "19150861  user_000960 2009-06-19 21:18:26            73214.0   \n",
       "19150862  user_000960 2009-06-19 21:20:24           117991.0   \n",
       "19150863  user_000960 2009-06-19 21:23:17           103131.0   \n",
       "19150864  user_000960 2009-06-19 21:27:08            25733.0   \n",
       "19150865  user_000651 2009-06-19 21:31:16           192460.0   \n",
       "\n",
       "          artist_id_remapped  \n",
       "0                        0.0  \n",
       "1                        1.0  \n",
       "2                        2.0  \n",
       "3                        3.0  \n",
       "4                        4.0  \n",
       "...                      ...  \n",
       "19150861              2842.0  \n",
       "19150862              2228.0  \n",
       "19150863               126.0  \n",
       "19150864               346.0  \n",
       "19150865              6263.0  \n",
       "\n",
       "[19150866 rows x 4 columns]"
      ]
     },
     "execution_count": 283,
     "metadata": {},
     "output_type": "execute_result"
    }
   ],
   "source": [
    "df_lastfm"
   ]
  },
  {
   "cell_type": "code",
   "execution_count": 284,
   "metadata": {},
   "outputs": [],
   "source": [
    "users = {}\n",
    "for userid in users_list:\n",
    "    users[userid] = {\"sequence_tracks\":[], \"sequence_artists\":[], \"sequence_timestamps\":[]}"
   ]
  },
  {
   "cell_type": "code",
   "execution_count": null,
   "metadata": {},
   "outputs": [],
   "source": [
    "for i in tqdm(range(len(df_lastfm))):\n",
    "    row = df_lastfm.loc[i]\n",
    "    userid = row[\"userid\"]\n",
    "    if not pd.notna(userid):\n",
    "        print(f\"Row {i}: userid None\")\n",
    "        userid = None\n",
    "    timestamp = row[\"timestamp\"]\n",
    "    if not pd.notna(timestamp):\n",
    "        print(f\"Row {i}: timestamp None\")\n",
    "        timestamp = None\n",
    "    track_id = row[\"track_id_remapped\"]\n",
    "    if not pd.notna(track_id):\n",
    "        print(f\"Row {i}: track_id None\")\n",
    "        track_id = None\n",
    "    artist_id = row[\"artist_id_remapped\"]\n",
    "    if not pd.notna(artist_id):\n",
    "        print(f\"Row {i}: artist_id None\")\n",
    "        artist_id = None\n",
    "    users[userid][\"sequence_tracks\"].append(track_id)\n",
    "    users[userid][\"sequence_artists\"].append(artist_id)\n",
    "    users[userid][\"sequence_timestamps\"].append(timestamp)"
   ]
  },
  {
   "cell_type": "code",
   "execution_count": 63,
   "metadata": {},
   "outputs": [
    {
     "name": "stderr",
     "output_type": "stream",
     "text": [
      "100%|██████████| 992/992 [00:00<00:00, 14418.21it/s]\n"
     ]
    }
   ],
   "source": [
    "for userid in tqdm(users_list):\n",
    "    users[userid][\"sequence_tracks\"] = np.array(users[userid][\"sequence_tracks\"],dtype=int)\n",
    "    users[userid][\"sequence_artists\"] = np.array(users[userid][\"sequence_artists\"],dtype=int)\n",
    "    users[userid][\"sequence_timestamps\"] = np.array(users[userid][\"sequence_timestamps\"])"
   ]
  },
  {
   "cell_type": "code",
   "execution_count": 64,
   "metadata": {},
   "outputs": [
    {
     "name": "stdout",
     "output_type": "stream",
     "text": [
      "[447195 447199 447208 447212 447213 447218  79351  70436   2677 410222\n",
      " 447267 447272 447276  63867 314911  73796 352588 108352 447301  41303]\n",
      "[1456541  514060   53426 1251851 1161644 1161658 1477073 1477076 1477082\n",
      "  241971 1477101 1477242 1476972 1476987 1476992 1477268 1476995 1477004\n",
      " 1477011 1496528]\n",
      "[55741 55741 55741  6657 14330  7290  7290   284   299  4638 55749 20455\n",
      " 55750   464   464   779 12480   407 17380  1691]\n",
      "[169814  16914   9673    323   1139   1139   6625   6625   6625   6625\n",
      "   6625   6625   6625   6625   6625   6625   6625   6625   6625   2969]\n",
      "[Timestamp('2006-08-13 13:59:20') Timestamp('2006-08-13 14:03:29')\n",
      " Timestamp('2006-08-13 14:10:43') Timestamp('2006-08-13 14:17:40')\n",
      " Timestamp('2006-08-13 14:19:06') Timestamp('2006-08-13 14:23:03')\n",
      " Timestamp('2006-08-13 14:44:23') Timestamp('2006-08-13 14:55:14')\n",
      " Timestamp('2006-08-13 14:59:59') Timestamp('2006-08-13 15:05:20')\n",
      " Timestamp('2006-08-13 15:07:25') Timestamp('2006-08-13 15:12:12')\n",
      " Timestamp('2006-08-13 15:17:35') Timestamp('2006-08-13 15:23:08')\n",
      " Timestamp('2006-08-13 15:28:44') Timestamp('2006-08-13 15:36:22')\n",
      " Timestamp('2006-08-13 15:40:13') Timestamp('2006-08-13 15:44:17')\n",
      " Timestamp('2006-08-13 15:49:22') Timestamp('2006-08-13 15:54:20')]\n",
      "[Timestamp('2009-05-03 14:56:25') Timestamp('2009-05-03 15:04:31')\n",
      " Timestamp('2009-05-03 15:10:18') Timestamp('2009-05-03 15:14:53')\n",
      " Timestamp('2009-05-03 15:37:56') Timestamp('2009-05-03 15:48:25')\n",
      " Timestamp('2009-05-04 12:51:26') Timestamp('2009-05-04 12:55:34')\n",
      " Timestamp('2009-05-04 13:00:48') Timestamp('2009-05-04 13:06:09')\n",
      " Timestamp('2009-05-04 13:13:38') Timestamp('2009-05-04 13:19:22')\n",
      " Timestamp('2009-05-04 13:23:45') Timestamp('2009-05-04 13:33:28')\n",
      " Timestamp('2009-05-04 13:38:31') Timestamp('2009-05-04 13:42:11')\n",
      " Timestamp('2009-05-04 13:42:52') Timestamp('2009-05-04 13:52:04')\n",
      " Timestamp('2009-05-04 13:54:10') Timestamp('2009-05-04 23:08:57')]\n"
     ]
    }
   ],
   "source": [
    "i = users_list[0]\n",
    "print(users[i][\"sequence_tracks\"][:20])\n",
    "print(users[i][\"sequence_tracks\"][-20:])\n",
    "print(users[i][\"sequence_artists\"][:20])\n",
    "print(users[i][\"sequence_artists\"][-20:])\n",
    "print(users[i][\"sequence_timestamps\"][:20])\n",
    "print(users[i][\"sequence_timestamps\"][-20:])"
   ]
  },
  {
   "cell_type": "code",
   "execution_count": 291,
   "metadata": {},
   "outputs": [],
   "source": [
    "with gzip.open(\"./data/ocelma-dataset/lastfm-dataset-1K/users.pkl.gz\", \"wb\") as fp:\n",
    "    joblib.dump(users, fp)"
   ]
  },
  {
   "cell_type": "code",
   "execution_count": 6,
   "metadata": {},
   "outputs": [],
   "source": [
    "with gzip.open(\"./data/ocelma-dataset/lastfm-dataset-1K/users.pkl.gz\", \"rb\") as fp:\n",
    "    users = joblib.load(fp)"
   ]
  },
  {
   "cell_type": "code",
   "execution_count": 10,
   "metadata": {},
   "outputs": [
    {
     "data": {
      "application/vnd.jupyter.widget-view+json": {
       "model_id": "746dd88125f241a48456e734f965ab26",
       "version_major": 2,
       "version_minor": 0
      },
      "text/plain": [
       "  0%|          | 0/992 [00:00<?, ?it/s]"
      ]
     },
     "metadata": {},
     "output_type": "display_data"
    }
   ],
   "source": [
    "# save single files in a specific folder\n",
    "raw_folder = \"./data/ocelma-dataset/lastfm-dataset-1K/raw_sequences/\"\n",
    "os.makedirs(raw_folder, exist_ok = True)\n",
    "for userid, user_dict in tqdm(users.items()):\n",
    "    with gzip.open(os.path.join(raw_folder,f\"{userid}.pkl.gz\"), \"wb\") as fp:\n",
    "        pickle.dump(user_dict, fp)"
   ]
  },
  {
   "cell_type": "code",
   "execution_count": 292,
   "metadata": {},
   "outputs": [
    {
     "data": {
      "application/vnd.jupyter.widget-view+json": {
       "model_id": "141b0112fa5c43da9102363d8cd4f809",
       "version_major": 2,
       "version_minor": 0
      },
      "text/plain": [
       "  0%|          | 0/992 [00:00<?, ?it/s]"
      ]
     },
     "metadata": {},
     "output_type": "display_data"
    },
    {
     "name": "stdout",
     "output_type": "stream",
     "text": [
      "Kept 890 out of 992\n"
     ]
    }
   ],
   "source": [
    "min_len_sequence = 1000\n",
    "# filtering on all users with at least 1000 elements in the sequence\n",
    "users_list_filtered = []\n",
    "for userid in tqdm(users_list):\n",
    "    if len(users[userid][\"sequence_tracks\"]) < min_len_sequence:\n",
    "        del users[userid]\n",
    "    else:\n",
    "        users_list_filtered.append(userid)\n",
    "print(\"Kept %d out of %d\"%(len(users_list_filtered), len(users_list)))"
   ]
  },
  {
   "cell_type": "code",
   "execution_count": 293,
   "metadata": {},
   "outputs": [],
   "source": [
    "# from now on this will be used instead\n",
    "with gzip.open(\"./data/ocelma-dataset/lastfm-dataset-1K/users_min_1000.pkl.gz\", \"wb\") as fp:\n",
    "    joblib.dump(users, fp)"
   ]
  },
  {
   "cell_type": "code",
   "execution_count": 294,
   "metadata": {},
   "outputs": [],
   "source": [
    "users_list = users_list_filtered"
   ]
  },
  {
   "cell_type": "code",
   "execution_count": 17,
   "metadata": {},
   "outputs": [],
   "source": [
    "# from now on this will be used instead\n",
    "with gzip.open(\"./data/ocelma-dataset/lastfm-dataset-1K/users_list_min_1000.pkl.gz\", \"wb\") as fp:\n",
    "    joblib.dump(users_list, fp)"
   ]
  },
  {
   "cell_type": "markdown",
   "metadata": {},
   "source": [
    "## Analysis"
   ]
  },
  {
   "cell_type": "code",
   "execution_count": 5,
   "metadata": {},
   "outputs": [],
   "source": [
    "with gzip.open(\"./data/ocelma-dataset/lastfm-dataset-1K/users_min_1000.pkl.gz\", \"rb\") as fp:\n",
    "    users = joblib.load(fp)"
   ]
  },
  {
   "cell_type": "code",
   "execution_count": 6,
   "metadata": {},
   "outputs": [
    {
     "name": "stdout",
     "output_type": "stream",
     "text": [
      "890 user_001000\n"
     ]
    }
   ],
   "source": [
    "users_list = list(users.keys())\n",
    "users_list.sort()\n",
    "print(len(users_list), max(users_list))"
   ]
  },
  {
   "cell_type": "code",
   "execution_count": 9,
   "metadata": {},
   "outputs": [
    {
     "name": "stderr",
     "output_type": "stream",
     "text": [
      "100%|██████████| 890/890 [00:09<00:00, 94.12it/s] \n"
     ]
    }
   ],
   "source": [
    "# Just a check here\n",
    "# If there is a sequence_labels with max counts of each labels = 2 there might be a problem during entropy calculation!\n",
    "for userid in tqdm(users_list):\n",
    "    sequence_labels = users[userid][\"sequence_artists\"]\n",
    "    labels_freq = {}\n",
    "    for t,label in enumerate(sequence_labels):\n",
    "        if label not in labels_freq:\n",
    "            labels_freq[label] = 1\n",
    "        else:\n",
    "            labels_freq[label] += 1\n",
    "    if max(list(labels_freq.values())) < 10:\n",
    "        print(userid,max(list(labels_freq.values())))"
   ]
  },
  {
   "cell_type": "markdown",
   "metadata": {},
   "source": [
    "### Individual analysis"
   ]
  },
  {
   "cell_type": "code",
   "execution_count": null,
   "metadata": {},
   "outputs": [
    {
     "data": {
      "application/vnd.jupyter.widget-view+json": {
       "model_id": "4aa80b7b40674089afd830226f721327",
       "version_major": 2,
       "version_minor": 0
      },
      "text/plain": [
       "  0%|          | 0/890 [00:00<?, ?it/s]"
      ]
     },
     "metadata": {},
     "output_type": "display_data"
    },
    {
     "name": "stderr",
     "output_type": "stream",
     "text": [
      "/data/home/ahw701/env_enrico/envs/gt/lib/python3.9/site-packages/scipy/optimize/minpack.py:833: OptimizeWarning: Covariance of the parameters could not be estimated\n",
      "  warnings.warn('Covariance of the parameters could not be estimated',\n"
     ]
    }
   ],
   "source": [
    "# userid = users_list[60]\n",
    "results_light_individual_lastfm = {} \n",
    "for userid in tqdm(users_list):\n",
    "    sequence = users[userid][\"sequence_tracks\"]\n",
    "    sequence_labels = users[userid][\"sequence_artists\"]\n",
    "    save_light_file_path = f\"./data/ocelma-dataset/lastfm-dataset-1K/individual_results_light/{userid}_light.pkl\"\n",
    "    save_all_file_path = f\"./data/ocelma-dataset/lastfm-dataset-1K/individual_results/{userid}.pkl\"\n",
    "    save_entropies_file_path = f\"./data/ocelma-dataset/lastfm-dataset-1K/individual_results_entropy/{userid}.pkl\"\n",
    "    results_light_individual_lastfm[userid] = analyse_sequence(sequence, num_to_save=1000, \n",
    "                         calculate_entropies_original = False, calculate_entropies_labels = True,\n",
    "                         D=None, D2=None, D3=None, D4=None, sequence_labels = sequence_labels,\n",
    "                         save_all=True, save_all_file_path = save_all_file_path, \n",
    "                         save_light_file_path = save_light_file_path,\n",
    "                         save_entropies_file_path = save_entropies_file_path,\n",
    "                         calculate_beta_loglogregr_indices = False,\n",
    "                         do_prints = False, return_all = False)"
   ]
  },
  {
   "cell_type": "code",
   "execution_count": null,
   "metadata": {},
   "outputs": [],
   "source": [
    "print(\"FINISHED\")"
   ]
  },
  {
   "cell_type": "code",
   "execution_count": 60,
   "metadata": {
    "tags": []
   },
   "outputs": [],
   "source": [
    "with gzip.open(\"./data/ocelma-dataset/lastfm-dataset-1K/results_light_users_lastfm.pkl.gz\", \"wb\") as fp:\n",
    "    joblib.dump(results_light_individual_lastfm, fp)"
   ]
  },
  {
   "cell_type": "code",
   "execution_count": null,
   "metadata": {},
   "outputs": [],
   "source": [
    "# USE THIS TIME THE SEQUENCE OF ARTISTS FOR THE SEQUENCES\n",
    "results_light_individual_lastfm = {} \n",
    "for userid in tqdm(users_list):\n",
    "    sequence = users[userid][\"sequence_artists\"]\n",
    "    sequence_labels = users[userid][\"sequence_artists\"]\n",
    "    save_light_file_path = f\"./data/ocelma-dataset/lastfm-dataset-1K/individual_results_artists_light/{userid}_light.pkl\"\n",
    "    save_all_file_path = f\"./data/ocelma-dataset/lastfm-dataset-1K/individual_results_artists/{userid}.pkl\"\n",
    "    save_entropies_file_path = f\"./data/ocelma-dataset/lastfm-dataset-1K/individual_results_artists_entropy/{userid}.pkl\"\n",
    "    results_light_individual_lastfm[userid] = analyse_sequence(sequence, num_to_save=1000, \n",
    "                         calculate_entropies_original = False, calculate_entropies_labels = True,\n",
    "                         D=None, D2=None, D3=None, D4=None, sequence_labels = sequence_labels,\n",
    "                         save_all=True, save_all_file_path = save_all_file_path, \n",
    "                         save_light_file_path = save_light_file_path,\n",
    "                         save_entropies_file_path = save_entropies_file_path,\n",
    "                         calculate_beta_loglogregr_indices = False,\n",
    "                         do_prints = False, return_all = False)"
   ]
  },
  {
   "cell_type": "code",
   "execution_count": 62,
   "metadata": {
    "tags": []
   },
   "outputs": [],
   "source": [
    "with gzip.open(\"./data/ocelma-dataset/lastfm-dataset-1K/results_light_users_lastfm_artists.pkl.gz\", \"wb\") as fp:\n",
    "    joblib.dump(results_light_individual_lastfm, fp)"
   ]
  },
  {
   "cell_type": "markdown",
   "metadata": {},
   "source": [
    "### Average individual analysis"
   ]
  },
  {
   "cell_type": "code",
   "execution_count": 18,
   "metadata": {},
   "outputs": [],
   "source": [
    "with gzip.open(\"./data/ocelma-dataset/lastfm-dataset-1K/users_min_1000.pkl.gz\", \"rb\") as fp:\n",
    "    users = joblib.load(fp)"
   ]
  },
  {
   "cell_type": "code",
   "execution_count": 25,
   "metadata": {},
   "outputs": [
    {
     "name": "stdout",
     "output_type": "stream",
     "text": [
      "890 user_001000\n"
     ]
    }
   ],
   "source": [
    "users_list = list(users.keys())\n",
    "users_list.sort()\n",
    "print(len(users_list), max(users_list))"
   ]
  },
  {
   "cell_type": "code",
   "execution_count": 19,
   "metadata": {},
   "outputs": [
    {
     "data": {
      "text/plain": [
       "dict_keys(['sequence_tracks', 'sequence_artists', 'sequence_timestamps'])"
      ]
     },
     "execution_count": 19,
     "metadata": {},
     "output_type": "execute_result"
    }
   ],
   "source": [
    "users['user_000001'].keys()"
   ]
  },
  {
   "cell_type": "code",
   "execution_count": 20,
   "metadata": {},
   "outputs": [],
   "source": [
    "min_len_sequence = 1000"
   ]
  },
  {
   "cell_type": "code",
   "execution_count": 78,
   "metadata": {},
   "outputs": [
    {
     "name": "stdout",
     "output_type": "stream",
     "text": [
      "890\n"
     ]
    },
    {
     "data": {
      "application/vnd.jupyter.widget-view+json": {
       "model_id": "3215c0002c784a6c901c9ea02d7834fd",
       "version_major": 2,
       "version_minor": 0
      },
      "text/plain": [
       "  0%|          | 0/890 [00:00<?, ?it/s]"
      ]
     },
     "metadata": {},
     "output_type": "display_data"
    },
    {
     "name": "stdout",
     "output_type": "stream",
     "text": [
      "Excluding 0% len is 1021\n",
      "Excluding 10% len is 2500\n",
      "Excluding 20% len is 4530\n",
      "Excluding 30% len is 7078\n",
      "Excluding 40% len is 10297\n",
      "Excluding 50% len is 13971\n",
      "Excluding 60% len is 18354\n",
      "Excluding 70% len is 23465\n",
      "Excluding 80% len is 34738\n",
      "Excluding 90% len is 48223\n",
      "Excluding 100% len is 183103\n"
     ]
    },
    {
     "data": {
      "text/plain": [
       "[]"
      ]
     },
     "execution_count": 78,
     "metadata": {},
     "output_type": "execute_result"
    },
    {
     "data": {
      "image/png": "[encoded data removed]",
      "text/plain": [
       "<Figure size 2283.91x1522.61 with 1 Axes>"
      ]
     },
     "metadata": {},
     "output_type": "display_data"
    }
   ],
   "source": [
    "len_sequences = {}\n",
    "len_sequences_to_sort = []\n",
    "num_users = len(users)\n",
    "print(num_users)\n",
    "for ID, user in tqdm(users.items()):\n",
    "    sequence = user[\"sequence_tracks\"]\n",
    "    sequence_labels = user[\"sequence_artists\"]\n",
    "    len_sequences[ID] = len(sequence)\n",
    "    len_sequences_to_sort.append((len(sequence), ID))\n",
    "len_sequences_sorted = sorted(len_sequences_to_sort)\n",
    "for i in range(11):\n",
    "    print(f'Excluding %d%% len is %d'%(i*10, len_sequences_sorted[int(i/10*(num_users-1))][0]))\n",
    "vals, bin_edges = np.histogram(list(len_sequences.values()), bins = np.geomspace(min_len_sequence,2*max(list(len_sequences.values())), 100))\n",
    "bin_centers = (bin_edges[:-1] + bin_edges[1:]) / 2\n",
    "plt.scatter(bin_centers, vals)\n",
    "plt.loglog()"
   ]
  },
  {
   "cell_type": "code",
   "execution_count": 79,
   "metadata": {},
   "outputs": [
    {
     "data": {
      "text/plain": [
       "[]"
      ]
     },
     "execution_count": 79,
     "metadata": {},
     "output_type": "execute_result"
    },
    {
     "data": {
      "image/png": "[encoded data removed]",
      "text/plain": [
       "<Figure size 2283.91x1522.61 with 1 Axes>"
      ]
     },
     "metadata": {},
     "output_type": "display_data"
    }
   ],
   "source": [
    "cum = 0\n",
    "cum_vals = []\n",
    "sum_vals = sum(vals)\n",
    "for val in vals:\n",
    "    cum += val\n",
    "    cum_vals.append(sum_vals - cum)\n",
    "plt.plot(bin_centers, cum_vals)\n",
    "plt.loglog()"
   ]
  },
  {
   "cell_type": "code",
   "execution_count": 80,
   "metadata": {},
   "outputs": [
    {
     "name": "stdout",
     "output_type": "stream",
     "text": [
      "Median len of the sequences is 13985\n"
     ]
    }
   ],
   "source": [
    "median_len_sequences = int(np.round(np.median(list(len_sequences.values()))))\n",
    "print(\"Median len of the sequences is\",median_len_sequences)"
   ]
  },
  {
   "cell_type": "code",
   "execution_count": 81,
   "metadata": {},
   "outputs": [
    {
     "data": {
      "application/vnd.jupyter.widget-view+json": {
       "model_id": "245458c986fb469da54e869b040d77a9",
       "version_major": 2,
       "version_minor": 0
      },
      "text/plain": [
       "  0%|          | 0/890 [00:00<?, ?it/s]"
      ]
     },
     "metadata": {},
     "output_type": "display_data"
    },
    {
     "name": "stdout",
     "output_type": "stream",
     "text": [
      "445\n"
     ]
    }
   ],
   "source": [
    "average_user = {\n",
    "    'D': [], \n",
    "    'D2': [], \n",
    "    'D3': [], \n",
    "    'D4': [], \n",
    "}\n",
    "count = 0\n",
    "for userid in tqdm(users_list):\n",
    "    save_all_file_path = f\"./data/ocelma-dataset/lastfm-dataset-1K/individual_results/{userid}.pkl\"\n",
    "    save_light_file_path = f\"./data/ocelma-dataset/lastfm-dataset-1K/individual_results_light/{userid}_light.pkl\"\n",
    "    with open(save_all_file_path, 'rb') as fp:\n",
    "        user_result = pickle.load(fp)\n",
    "    if len(user_result['D']) > median_len_sequences:\n",
    "        count += 1\n",
    "        average_user['D'].append(user_result['D'][:median_len_sequences])\n",
    "        average_user['D2'].append(user_result['D2'][:median_len_sequences])\n",
    "        average_user['D3'].append(user_result['D3'][:median_len_sequences])\n",
    "        average_user['D4'].append(user_result['D4'][:median_len_sequences])\n",
    "\n",
    "for key in ['D', 'D2', 'D3', 'D4']:\n",
    "    average_user[key] = np.array(average_user[key])\n",
    "    mean = np.mean(average_user[key], axis=0)\n",
    "    std = np.std(average_user[key], axis=0)\n",
    "    average_user[key+'_plus_std'] = mean + std\n",
    "    average_user[key+'_minus_std'] = mean - std\n",
    "    average_user[key+'_25_percentile'] = np.percentile(average_user[key], 25, axis=0)\n",
    "    average_user[key+'_50_percentile'] = np.percentile(average_user[key], 50, axis=0)\n",
    "    average_user[key+'_75_percentile'] = np.percentile(average_user[key], 75, axis=0)\n",
    "    average_user[key] = mean\n",
    "\n",
    "print(count)"
   ]
  },
  {
   "cell_type": "code",
   "execution_count": 85,
   "metadata": {},
   "outputs": [
    {
     "name": "stderr",
     "output_type": "stream",
     "text": [
      "/data/home/ahw701/env_enrico/envs/gt/lib/python3.9/site-packages/scipy/optimize/minpack.py:833: OptimizeWarning: Covariance of the parameters could not be estimated\n",
      "  warnings.warn('Covariance of the parameters could not be estimated',\n"
     ]
    }
   ],
   "source": [
    "D = average_user['D']\n",
    "D2 = average_user['D2']\n",
    "D3 = average_user['D3']\n",
    "D4 = average_user['D4']\n",
    "indices = np.arange(len(D))\n",
    "save_light_file_path = os.path.join('./data/ocelma-dataset/lastfm-dataset-1K/', f\"average_individual_results_light.pkl\")\n",
    "save_all_file_path = os.path.join('./data/ocelma-dataset/lastfm-dataset-1K/', f\"average_individual_results.pkl\")\n",
    "average_results_lastfm = analyse_sequence(None, num_to_save=1000, \n",
    "                         calculate_entropies_original = False, calculate_entropies_labels = False,\n",
    "                         D=D, D2=D2, D3=D3, D4=D4, sequence_labels = None,\n",
    "                         save_all=True, save_all_file_path = save_all_file_path, \n",
    "                         save_light_file_path = save_light_file_path,\n",
    "                         calculate_beta_loglogregr_indices = False,\n",
    "                         use_D_as_D_indices = True, indices=indices,\n",
    "                         do_prints = False, return_all = True)\n",
    "os.remove(save_light_file_path)\n",
    "for key in average_user.keys():\n",
    "    average_results_lastfm[key] = average_user[key]\n",
    "with open(save_all_file_path,'wb') as fp:\n",
    "    pickle.dump(average_results_lastfm,fp)"
   ]
  },
  {
   "cell_type": "code",
   "execution_count": 86,
   "metadata": {},
   "outputs": [
    {
     "data": {
      "application/vnd.jupyter.widget-view+json": {
       "model_id": "0f6b1e5fc608438785349ead823ed01a",
       "version_major": 2,
       "version_minor": 0
      },
      "text/plain": [
       "  0%|          | 0/890 [00:00<?, ?it/s]"
      ]
     },
     "metadata": {},
     "output_type": "display_data"
    },
    {
     "name": "stdout",
     "output_type": "stream",
     "text": [
      "445\n"
     ]
    }
   ],
   "source": [
    "average_user_artists = {\n",
    "    'D': [], \n",
    "    'D2': [], \n",
    "    'D3': [], \n",
    "    'D4': [], \n",
    "}\n",
    "count = 0\n",
    "for userid in tqdm(users_list):\n",
    "    save_all_file_path = f\"./data/ocelma-dataset/lastfm-dataset-1K/individual_results_artists/{userid}.pkl\"\n",
    "    save_light_file_path = f\"./data/ocelma-dataset/lastfm-dataset-1K/individual_results_artists_light/{userid}_light.pkl\"\n",
    "    with open(save_all_file_path, 'rb') as fp:\n",
    "        user_result = pickle.load(fp)\n",
    "    if len(user_result['D']) > median_len_sequences:\n",
    "        count += 1\n",
    "        average_user_artists['D'].append(user_result['D'][:median_len_sequences])\n",
    "        average_user_artists['D2'].append(user_result['D2'][:median_len_sequences])\n",
    "        average_user_artists['D3'].append(user_result['D3'][:median_len_sequences])\n",
    "        average_user_artists['D4'].append(user_result['D4'][:median_len_sequences])\n",
    "\n",
    "for key in ['D', 'D2', 'D3', 'D4']:\n",
    "    average_user_artists[key] = np.array(average_user_artists[key])\n",
    "    mean = np.mean(average_user_artists[key], axis=0)\n",
    "    std = np.std(average_user_artists[key], axis=0)\n",
    "    average_user_artists[key+'_plus_std'] = mean + std\n",
    "    average_user_artists[key+'_minus_std'] = mean - std\n",
    "    average_user_artists[key+'_25_percentile'] = np.percentile(average_user_artists[key], 25, axis=0)\n",
    "    average_user_artists[key+'_50_percentile'] = np.percentile(average_user_artists[key], 50, axis=0)\n",
    "    average_user_artists[key+'_75_percentile'] = np.percentile(average_user_artists[key], 75, axis=0)\n",
    "    average_user_artists[key] = mean\n",
    "\n",
    "print(count)"
   ]
  },
  {
   "cell_type": "code",
   "execution_count": 87,
   "metadata": {},
   "outputs": [],
   "source": [
    "D = average_user_artists['D']\n",
    "D2 = average_user_artists['D2']\n",
    "D3 = average_user_artists['D3']\n",
    "D4 = average_user_artists['D4']\n",
    "indices = np.arange(len(D))\n",
    "save_light_file_path = os.path.join('./data/ocelma-dataset/lastfm-dataset-1K/', f\"average_individual_results_artists_light.pkl\")\n",
    "save_all_file_path = os.path.join('./data/ocelma-dataset/lastfm-dataset-1K/', f\"average_individual_results_artists.pkl\")\n",
    "average_results_lastfm_artists = analyse_sequence(None, num_to_save=1000, \n",
    "                         calculate_entropies_original = False, calculate_entropies_labels = False,\n",
    "                         D=D, D2=D2, D3=D3, D4=D4, sequence_labels = None,\n",
    "                         save_all=True, save_all_file_path = save_all_file_path, \n",
    "                         save_light_file_path = save_light_file_path,\n",
    "                         calculate_beta_loglogregr_indices = False,\n",
    "                         use_D_as_D_indices = True, indices=indices,\n",
    "                         do_prints = False, return_all = True)\n",
    "os.remove(save_light_file_path)\n",
    "for key in average_user_artists.keys():\n",
    "    average_results_lastfm_artists[key] = average_user_artists[key]\n",
    "with open(save_all_file_path,'wb') as fp:\n",
    "    pickle.dump(average_results_lastfm_artists,fp)"
   ]
  },
  {
   "cell_type": "markdown",
   "metadata": {},
   "source": [
    "### Collective analysis"
   ]
  },
  {
   "cell_type": "code",
   "execution_count": 7,
   "metadata": {},
   "outputs": [
    {
     "name": "stderr",
     "output_type": "stream",
     "text": [
      "100%|██████████| 890/890 [00:01<00:00, 765.98it/s]\n"
     ]
    }
   ],
   "source": [
    "sequence = []\n",
    "random_users_list = users_list.copy()\n",
    "random.shuffle(random_users_list)\n",
    "for userid in tqdm(random_users_list):\n",
    "    sequence += list(users[userid][\"sequence_tracks\"])\n",
    "sequence = np.array(sequence)"
   ]
  },
  {
   "cell_type": "code",
   "execution_count": 8,
   "metadata": {},
   "outputs": [
    {
     "name": "stderr",
     "output_type": "stream",
     "text": [
      "100%|██████████| 19112986/19112986 [00:12<00:00, 1543175.76it/s]\n",
      "100%|██████████| 19112985/19112985 [00:14<00:00, 1281420.38it/s]\n",
      "100%|██████████| 19112984/19112984 [00:15<00:00, 1264740.74it/s]\n"
     ]
    },
    {
     "name": "stdout",
     "output_type": "stream",
     "text": [
      "Sorted indices to save at 2023-07-06 13:56:01.829226\n",
      "Doing beta_mean_indices at 2023-07-06 13:56:01.832789\n",
      "Doing geom points loglogregr at 2023-07-06 13:56:01.876098\n"
     ]
    },
    {
     "name": "stderr",
     "output_type": "stream",
     "text": [
      "/data/home/ahw701/env_enrico/envs/gt/lib/python3.9/site-packages/scipy/optimize/minpack.py:833: OptimizeWarning: Covariance of the parameters could not be estimated\n",
      "  warnings.warn('Covariance of the parameters could not be estimated',\n"
     ]
    },
    {
     "name": "stdout",
     "output_type": "stream",
     "text": [
      "Saving at 2023-07-06 13:56:13.066550\n",
      "Finished analysis at 2023-07-06 13:56:13.775472\n"
     ]
    }
   ],
   "source": [
    "save_light_file_path = f\"./data/ocelma-dataset/lastfm-dataset-1K/collective_results_light2.pkl\"\n",
    "save_all_file_path = f\"./data/ocelma-dataset/lastfm-dataset-1K/collective_results2.pkl\"\n",
    "\n",
    "results_light_collective_lastfm = analyse_sequence(sequence, num_to_save=1000, \n",
    "                     calculate_entropies_original = False, calculate_entropies_labels = False,\n",
    "                     D=None, D2=None, D3=None, D4=None, \n",
    "                     do_also_D2 = True, do_also_D3 = True, do_also_D4 = False, \n",
    "                                                   sequence_labels = None,\n",
    "                     save_all=True, save_all_file_path = save_all_file_path, \n",
    "                     save_light_file_path = save_light_file_path,\n",
    "                     save_entropies_file_path = \"old_to_delete.entropy\",\n",
    "                     calculate_beta_loglogregr_indices = False,\n",
    "                     do_prints = True, return_all = False)"
   ]
  },
  {
   "cell_type": "code",
   "execution_count": null,
   "metadata": {},
   "outputs": [],
   "source": [
    "sequence_labels = []\n",
    "random_users_list = users_list.copy()\n",
    "random.shuffle(random_users_list)\n",
    "for userid in tqdm(random_users_list):\n",
    "    sequence_labels += list(users[userid][\"sequence_artists\"])\n",
    "sequence_labels = np.array(sequence_labels)"
   ]
  },
  {
   "cell_type": "code",
   "execution_count": 10,
   "metadata": {},
   "outputs": [
    {
     "name": "stderr",
     "output_type": "stream",
     "text": [
      "100%|██████████| 19112986/19112986 [00:10<00:00, 1744305.51it/s]\n",
      "100%|██████████| 19112985/19112985 [00:13<00:00, 1417251.58it/s]\n",
      "100%|██████████| 19112984/19112984 [00:13<00:00, 1414377.08it/s]\n",
      "100%|██████████| 19112983/19112983 [00:13<00:00, 1371311.88it/s]\n"
     ]
    },
    {
     "name": "stdout",
     "output_type": "stream",
     "text": [
      "Sorted indices to save at 2023-07-05 12:48:57.348772\n",
      "Doing beta_mean_indices at 2023-07-05 12:48:57.354207\n",
      "Doing geom points loglogregr at 2023-07-05 12:48:57.414004\n",
      "Saving at 2023-07-05 12:49:12.134519\n",
      "Finished analysis at 2023-07-05 12:49:13.096111\n"
     ]
    }
   ],
   "source": [
    "save_light_file_path = f\"./data/ocelma-dataset/lastfm-dataset-1K/collective_results_artists_light.pkl\"\n",
    "save_all_file_path = f\"./data/ocelma-dataset/lastfm-dataset-1K/collective_results_artists.pkl\"\n",
    "\n",
    "results_light_collective_lastfm_labels = analyse_sequence(sequence_labels, num_to_save=1000, \n",
    "                     calculate_entropies_original = False, calculate_entropies_labels = False,\n",
    "                     D=None, D2=None, D3=None, D4=None, \n",
    "                     do_also_D4 = False, do_also_D3 = True, sequence_labels = None,\n",
    "                     save_all=True, save_all_file_path = save_all_file_path, \n",
    "                     save_light_file_path = save_light_file_path,\n",
    "                     save_entropies_file_path = \"old_to_delete.entropy\",\n",
    "                     calculate_beta_loglogregr_indices = False,\n",
    "                     do_prints = True, return_all = False)"
   ]
  },
  {
   "cell_type": "markdown",
   "metadata": {},
   "source": [
    "# Gutenberg"
   ]
  },
  {
   "cell_type": "markdown",
   "metadata": {},
   "source": [
    "Only consider English books using https://github.com/pgcorpus/gutenberg"
   ]
  },
  {
   "cell_type": "code",
   "execution_count": 6,
   "metadata": {},
   "outputs": [],
   "source": [
    "data_folder = './data/gutenberg/data/'\n",
    "analysis_folder = './data/gutenberg/analysis/'\n",
    "os.makedirs(analysis_folder, exist_ok = True)\n",
    "text_folder = './data/gutenberg/data/text/'"
   ]
  },
  {
   "cell_type": "markdown",
   "metadata": {},
   "source": [
    "## Data collection"
   ]
  },
  {
   "cell_type": "code",
   "execution_count": 10,
   "metadata": {},
   "outputs": [],
   "source": [
    "min_len_sequence = 1000"
   ]
  },
  {
   "cell_type": "code",
   "execution_count": 11,
   "metadata": {},
   "outputs": [
    {
     "data": {
      "text/plain": [
       "['./gutenberg/data/text/PG10000_text.txt',\n",
       " './gutenberg/data/text/PG10007_text.txt',\n",
       " './gutenberg/data/text/PG1000_text.txt',\n",
       " './gutenberg/data/text/PG10012_text.txt',\n",
       " './gutenberg/data/text/PG1001_text.txt',\n",
       " './gutenberg/data/text/PG1002_text.txt',\n",
       " './gutenberg/data/text/PG10031_text.txt',\n",
       " './gutenberg/data/text/PG10039_text.txt',\n",
       " './gutenberg/data/text/PG1003_text.txt',\n",
       " './gutenberg/data/text/PG1004_text.txt']"
      ]
     },
     "execution_count": 11,
     "metadata": {},
     "output_type": "execute_result"
    }
   ],
   "source": [
    "paths = sorted(find_pattern('*.txt', text_folder))\n",
    "paths[:10]"
   ]
  },
  {
   "cell_type": "code",
   "execution_count": 12,
   "metadata": {},
   "outputs": [
    {
     "data": {
      "text/plain": [
       "['PG10000',\n",
       " 'PG10007',\n",
       " 'PG1000',\n",
       " 'PG10012',\n",
       " 'PG1001',\n",
       " 'PG1002',\n",
       " 'PG10031',\n",
       " 'PG10039',\n",
       " 'PG1003',\n",
       " 'PG1004']"
      ]
     },
     "execution_count": 12,
     "metadata": {},
     "output_type": "execute_result"
    }
   ],
   "source": [
    "IDs = [path.split('/')[-1].split('_')[0] for path in paths]\n",
    "IDs[:10]"
   ]
  },
  {
   "cell_type": "code",
   "execution_count": null,
   "metadata": {},
   "outputs": [
    {
     "name": "stdout",
     "output_type": "stream",
     "text": [
      "Computing word2index and word2stem mapping...\n"
     ]
    },
    {
     "data": {
      "application/vnd.jupyter.widget-view+json": {
       "model_id": "3d6065ee36e2416599de3f66d0fd13fb",
       "version_major": 2,
       "version_minor": 0
      },
      "text/plain": [
       "  0%|          | 0/25079 [00:00<?, ?it/s]"
      ]
     },
     "metadata": {},
     "output_type": "display_data"
    },
    {
     "name": "stdout",
     "output_type": "stream",
     "text": [
      "Found 19637 english books with more than 1000 words out of 25079\n"
     ]
    }
   ],
   "source": [
    "try:\n",
    "    raise KeyError\n",
    "    print('Trying to load word2index and word2stem mapping...')\n",
    "    with gzip.open(os.path.join(analysis_folder, 'word2index.pkl.gz'), 'rb') as fp:\n",
    "        word2index = joblib.load(fp)\n",
    "    with gzip.open(os.path.join(analysis_folder, 'word2stem.pkl.gz'), 'rb') as fp:\n",
    "        word2stem = joblib.load(fp)\n",
    "    print('Loaded word2index and word2stem mapping')\n",
    "except:\n",
    "    print('Computing word2index and word2stem mapping...')\n",
    "    all_books = {}\n",
    "    word2index = {}\n",
    "    max_index = 0\n",
    "    word2stem = {}\n",
    "    stem2index = {}\n",
    "    max_stem_index = 0\n",
    "    english_IDs = []\n",
    "    for path in tqdm(paths):\n",
    "        ID = path.split('/')[-1].split('_')[0]\n",
    "        with open(path, 'r') as fp:\n",
    "            text = fp.read()\n",
    "        language_prediction = cld3.get_language(text) # technically now they are all english texts, so no need for this\n",
    "#         if language_prediction.probability > 0.5: # probability > 0.99: # is_reliable == True:\n",
    "        language = language_prediction.language # This gives a iso639 code\n",
    "        if language != 'en':\n",
    "            continue\n",
    "        language = languages.get(alpha2=language).name # get the full name of the language from its iso639 code\n",
    "#         else:\n",
    "#             print(text,language_prediction, language)\n",
    "#             break\n",
    "        words = lemmatize(text)\n",
    "        if len(words) < min_len_sequence:\n",
    "            continue\n",
    "        sequence_words = []\n",
    "        sequence_stems = []\n",
    "        snow_stemmer = SnowballStemmer(language=language.lower())\n",
    "        for word in words:\n",
    "            if word not in word2index:\n",
    "                word2index[word] = max_index\n",
    "                max_index += 1\n",
    "                stem = snow_stemmer.stem(word)\n",
    "                word2stem[word] = stem\n",
    "                if stem not in stem2index:\n",
    "                    stem2index[stem] = max_stem_index\n",
    "                    max_stem_index += 1\n",
    "            sequence_words.append(word2index[word])\n",
    "            sequence_stems.append(stem2index[word2stem[word]])\n",
    "        all_books[ID] = {'ID':ID, 'sequence_words':sequence_words, 'sequence_stems':sequence_stems}\n",
    "        english_IDs.append(ID)\n",
    "    print(f'Found {len(english_IDs)} english books with more than 1000 words out of {len(IDs)}')\n",
    "    # Dump\n",
    "    with gzip.open(os.path.join(analysis_folder, 'word2index.pkl.gz'), 'wb') as fp:\n",
    "        joblib.dump(word2index,fp)\n",
    "    with gzip.open(os.path.join(analysis_folder, 'word2stem.pkl.gz'), 'wb') as fp:\n",
    "        joblib.dump(word2stem,fp)\n",
    "    with gzip.open(os.path.join(analysis_folder, 'stem2index.pkl.gz'), 'wb') as fp:\n",
    "        joblib.dump(stem2index,fp)\n",
    "    with gzip.open(os.path.join(analysis_folder, 'all_books_preprocessed.pkl.gz'), 'wb') as fp:\n",
    "        joblib.dump(all_books,fp)\n",
    "    print('Dumped')"
   ]
  },
  {
   "cell_type": "markdown",
   "metadata": {},
   "source": [
    "## Individual analysis"
   ]
  },
  {
   "cell_type": "code",
   "execution_count": 20,
   "metadata": {},
   "outputs": [],
   "source": [
    "with gzip.open(os.path.join(analysis_folder, \"all_books_preprocessed.pkl.gz\"), \"rb\") as fp:\n",
    "    all_books = joblib.load(fp)"
   ]
  },
  {
   "cell_type": "code",
   "execution_count": null,
   "metadata": {},
   "outputs": [
    {
     "data": {
      "application/vnd.jupyter.widget-view+json": {
       "model_id": "6cbe1d5935014323911d691724594de4",
       "version_major": 2,
       "version_minor": 0
      },
      "text/plain": [
       "  0%|          | 0/19637 [00:00<?, ?it/s]"
      ]
     },
     "metadata": {},
     "output_type": "display_data"
    }
   ],
   "source": [
    "results_light_individual_gutenberg = {} \n",
    "for ID, book in tqdm(all_books.items()):\n",
    "    sequence = book[\"sequence_words\"]\n",
    "    sequence_labels = book[\"sequence_stems\"]\n",
    "    save_light_file_path = os.path.join(analysis_folder, f\"individual_results_light/{ID}_light.pkl\")\n",
    "    save_all_file_path = os.path.join(analysis_folder, f\"individual_results/{ID}.pkl\")\n",
    "    save_entropies_file_path = os.path.join(analysis_folder, 'individual_results_entropy',file_name + '.pkl')\n",
    "    results_light_individual_gutenberg[ID] = analyse_sequence(sequence, num_to_save=1000, \n",
    "                         calculate_entropies_original = False, calculate_entropies_labels = True,\n",
    "                         D=None, D2=None, D3=None, D4=None, sequence_labels = sequence_labels,\n",
    "                         save_all=True, save_all_file_path = save_all_file_path, \n",
    "                         save_light_file_path = save_light_file_path,\n",
    "                         save_entropies_file_path = save_entropies_file_path,\n",
    "                         calculate_beta_loglogregr_indices = False,\n",
    "                         do_prints = False, return_all = False)"
   ]
  },
  {
   "cell_type": "code",
   "execution_count": null,
   "metadata": {
    "tags": []
   },
   "outputs": [],
   "source": [
    "with gzip.open(os.path.join(analysis_folder, \"results_light_texts.pkl.gz\"), \"wb\") as fp:\n",
    "    joblib.dump(results_light_individual_gutenberg, fp)"
   ]
  },
  {
   "cell_type": "code",
   "execution_count": null,
   "metadata": {},
   "outputs": [],
   "source": [
    "results_light_individual_gutenberg_stems = {} \n",
    "for ID, book in tqdm(all_books.items()):\n",
    "    sequence = book[\"sequence_stems\"]\n",
    "    sequence_labels = book[\"sequence_stems\"]\n",
    "    save_light_file_path = os.path.join(analysis_folder, f\"individual_results_stems_light/{ID}_light.pkl\")\n",
    "    save_all_file_path = os.path.join(analysis_folder, f\"individual_results_stems/{ID}.pkl\")\n",
    "    save_entropies_file_path = os.path.join(analysis_folder, 'individual_results_stems_entropy',file_name + '.pkl')\n",
    "    results_light_individual_gutenberg_stems[ID] = analyse_sequence(sequence, num_to_save=1000, \n",
    "                         calculate_entropies_original = False, calculate_entropies_labels = True,\n",
    "                         D=None, D2=None, D3=None, D4=None, sequence_labels = sequence_labels,\n",
    "                         save_all=True, save_all_file_path = save_all_file_path, \n",
    "                         save_light_file_path = save_light_file_path,\n",
    "                         save_entropies_file_path = save_entropies_file_path,\n",
    "                         calculate_beta_loglogregr_indices = False,\n",
    "                         do_prints = False, return_all = False)"
   ]
  },
  {
   "cell_type": "code",
   "execution_count": null,
   "metadata": {
    "tags": []
   },
   "outputs": [],
   "source": [
    "with gzip.open(os.path.join(analysis_folder, \"results_light_stems.pkl.gz\"), \"wb\") as fp:\n",
    "    joblib.dump(results_light_individual_gutenberg_stems, fp)"
   ]
  },
  {
   "cell_type": "code",
   "execution_count": null,
   "metadata": {},
   "outputs": [],
   "source": [
    "len_books = {}\n",
    "for ID, book in tqdm(all_books.items()):\n",
    "    len_books[ID] = book['ts'][-1]\n",
    "with gzip.open(os.path.join(analysis_folder, 'len_books.pkl.gz'), 'wb') as fp:\n",
    "    joblib.dump(len_books, fp)"
   ]
  },
  {
   "cell_type": "markdown",
   "metadata": {},
   "source": [
    "## Average individual analysis"
   ]
  },
  {
   "cell_type": "code",
   "execution_count": 89,
   "metadata": {},
   "outputs": [],
   "source": [
    "with gzip.open(os.path.join(analysis_folder, \"len_books.pkl.gz\"), \"rb\") as fp:\n",
    "    len_books = joblib.load(fp)"
   ]
  },
  {
   "cell_type": "code",
   "execution_count": 90,
   "metadata": {},
   "outputs": [],
   "source": [
    "book_ids = list(len_books.keys())"
   ]
  },
  {
   "cell_type": "code",
   "execution_count": 91,
   "metadata": {},
   "outputs": [],
   "source": [
    "min_len_sequence = 1000"
   ]
  },
  {
   "cell_type": "code",
   "execution_count": 92,
   "metadata": {},
   "outputs": [],
   "source": [
    "# with gzip.open(os.path.join(analysis_folder, \"all_books_preprocessed.pkl.gz\"), \"rb\") as fp:\n",
    "#     all_books = joblib.load(fp)"
   ]
  },
  {
   "cell_type": "code",
   "execution_count": 93,
   "metadata": {},
   "outputs": [
    {
     "data": {
      "application/vnd.jupyter.widget-view+json": {
       "model_id": "da65cba28e9448008dc121327b92ff5b",
       "version_major": 2,
       "version_minor": 0
      },
      "text/plain": [
       "  0%|          | 0/19637 [00:00<?, ?it/s]"
      ]
     },
     "metadata": {},
     "output_type": "display_data"
    },
    {
     "name": "stdout",
     "output_type": "stream",
     "text": [
      "Excluding 0% len is 1003\n",
      "Excluding 10% len is 7584\n",
      "Excluding 20% len is 16262\n",
      "Excluding 30% len is 26327\n",
      "Excluding 40% len is 39107\n",
      "Excluding 50% len is 50726\n",
      "Excluding 60% len is 62836\n",
      "Excluding 70% len is 78279\n",
      "Excluding 80% len is 100108\n",
      "Excluding 90% len is 142297\n",
      "Excluding 100% len is 2124926\n"
     ]
    },
    {
     "data": {
      "text/plain": [
       "[]"
      ]
     },
     "execution_count": 93,
     "metadata": {},
     "output_type": "execute_result"
    },
    {
     "data": {
      "image/png": "[encoded data removed]",
      "text/plain": [
       "<Figure size 2283.91x1522.61 with 1 Axes>"
      ]
     },
     "metadata": {},
     "output_type": "display_data"
    }
   ],
   "source": [
    "len_sequences = {}\n",
    "len_sequences_to_sort = []\n",
    "num_books = len(len_books) # len(all_books)\n",
    "# for ID, book in tqdm(all_books.items()):\n",
    "#     sequence = book[\"sequence_words\"]\n",
    "#     sequence_labels = book[\"sequence_stems\"]\n",
    "#     len_sequences[ID] = len(sequence)\n",
    "#     len_sequences_to_sort.append((len(sequence), ID))\n",
    "for ID, len_book in tqdm(len_books.items()):\n",
    "    len_sequences[ID] = len_book\n",
    "    len_sequences_to_sort.append((len_book, ID))\n",
    "len_sequences_sorted = sorted(len_sequences_to_sort)\n",
    "for i in range(11):\n",
    "    print(f'Excluding %d%% len is %d'%(i*10, len_sequences_sorted[int(i/10*(num_books-1))][0]))\n",
    "vals, bin_edges = np.histogram(list(len_sequences.values()), bins = np.geomspace(min_len_sequence,2*max(list(len_sequences.values())), 100))\n",
    "bin_centers = (bin_edges[:-1] + bin_edges[1:]) / 2\n",
    "plt.scatter(bin_centers, vals)\n",
    "plt.loglog()"
   ]
  },
  {
   "cell_type": "code",
   "execution_count": 94,
   "metadata": {},
   "outputs": [
    {
     "data": {
      "text/plain": [
       "[]"
      ]
     },
     "execution_count": 94,
     "metadata": {},
     "output_type": "execute_result"
    },
    {
     "data": {
      "image/png": "[encoded data removed]",
      "text/plain": [
       "<Figure size 2283.91x1522.61 with 1 Axes>"
      ]
     },
     "metadata": {},
     "output_type": "display_data"
    }
   ],
   "source": [
    "cum = 0\n",
    "cum_vals = []\n",
    "sum_vals = sum(vals)\n",
    "for val in vals:\n",
    "    cum += val\n",
    "    cum_vals.append(sum_vals - cum)\n",
    "plt.plot(bin_centers, cum_vals)\n",
    "plt.loglog()"
   ]
  },
  {
   "cell_type": "code",
   "execution_count": 95,
   "metadata": {},
   "outputs": [
    {
     "name": "stdout",
     "output_type": "stream",
     "text": [
      "Median len of the sequences is 50726\n"
     ]
    }
   ],
   "source": [
    "median_len_sequences = int(np.round(np.median(list(len_sequences.values()))))\n",
    "print(\"Median len of the sequences is\",median_len_sequences)"
   ]
  },
  {
   "cell_type": "code",
   "execution_count": 96,
   "metadata": {},
   "outputs": [
    {
     "data": {
      "application/vnd.jupyter.widget-view+json": {
       "model_id": "83d7f293189e47be9e88b30d960c684f",
       "version_major": 2,
       "version_minor": 0
      },
      "text/plain": [
       "  0%|          | 0/19637 [00:00<?, ?it/s]"
      ]
     },
     "metadata": {},
     "output_type": "display_data"
    },
    {
     "name": "stdout",
     "output_type": "stream",
     "text": [
      "[]\n",
      "9818\n"
     ]
    }
   ],
   "source": [
    "average_book = {\n",
    "    'D': [], \n",
    "    'D2': [], \n",
    "    'D3': [], \n",
    "    'D4': [], \n",
    "}\n",
    "problematic = []\n",
    "count = 0\n",
    "for ID in tqdm(book_ids):\n",
    "    try:\n",
    "        save_all_file_path = os.path.join(analysis_folder, f\"individual_results\", f\"{ID}.pkl\")\n",
    "        save_light_file_path = os.path.join(analysis_folder, f\"individual_results_light\", f\"{ID}_light.pkl\")\n",
    "        if len_books[ID] > median_len_sequences:\n",
    "            with open(save_all_file_path, 'rb') as fp:\n",
    "                book_result = pickle.load(fp)\n",
    "            count += 1\n",
    "            average_book['D'].append(book_result['D'][:median_len_sequences])\n",
    "            average_book['D2'].append(book_result['D2'][:median_len_sequences])\n",
    "            average_book['D3'].append(book_result['D3'][:median_len_sequences])\n",
    "            average_book['D4'].append(book_result['D4'][:median_len_sequences])\n",
    "    except FileNotFoundError:\n",
    "        problematic.append(ID)\n",
    "print(problematic)\n",
    "for key in ['D', 'D2', 'D3', 'D4']:\n",
    "    average_book[key] = np.array(average_book[key])\n",
    "    mean = np.mean(average_book[key], axis=0)\n",
    "    std = np.std(average_book[key], axis=0)\n",
    "    average_book[key+'_plus_std'] = mean + std\n",
    "    average_book[key+'_minus_std'] = mean - std\n",
    "    average_book[key+'_25_percentile'] = np.percentile(average_book[key], 25, axis=0)\n",
    "    average_book[key+'_50_percentile'] = np.percentile(average_book[key], 50, axis=0)\n",
    "    average_book[key+'_75_percentile'] = np.percentile(average_book[key], 75, axis=0)\n",
    "    average_book[key] = mean\n",
    "\n",
    "print(count)"
   ]
  },
  {
   "cell_type": "code",
   "execution_count": 97,
   "metadata": {},
   "outputs": [
    {
     "name": "stderr",
     "output_type": "stream",
     "text": [
      "/data/home/ahw701/env_enrico/envs/gt/lib/python3.9/site-packages/scipy/optimize/minpack.py:833: OptimizeWarning: Covariance of the parameters could not be estimated\n",
      "  warnings.warn('Covariance of the parameters could not be estimated',\n"
     ]
    }
   ],
   "source": [
    "D = average_book['D']\n",
    "D2 = average_book['D2']\n",
    "D3 = average_book['D3']\n",
    "D4 = average_book['D4']\n",
    "indices = np.arange(len(D))\n",
    "save_light_file_path = os.path.join(analysis_folder, f\"average_individual_results_light.pkl\")\n",
    "save_all_file_path = os.path.join(analysis_folder, f\"average_individual_results.pkl\")\n",
    "average_results_gutenberg = analyse_sequence(None, num_to_save=1000, \n",
    "                         calculate_entropies_original = False, calculate_entropies_labels = False,\n",
    "                         D=D, D2=D2, D3=D3, D4=D4, sequence_labels = None,\n",
    "                         save_all=True, save_all_file_path = save_all_file_path, \n",
    "                         save_light_file_path = save_light_file_path,\n",
    "                         calculate_beta_loglogregr_indices = False,\n",
    "                         use_D_as_D_indices = True, indices=indices,\n",
    "                         do_prints = False, return_all = True)\n",
    "os.remove(save_light_file_path)\n",
    "for key in average_book.keys():\n",
    "    average_results_gutenberg[key] = average_book[key]\n",
    "with open(save_all_file_path,'wb') as fp:\n",
    "    pickle.dump(average_results_gutenberg,fp)"
   ]
  },
  {
   "cell_type": "code",
   "execution_count": 98,
   "metadata": {},
   "outputs": [
    {
     "data": {
      "application/vnd.jupyter.widget-view+json": {
       "model_id": "3fa1f6aa3c114551a6affcec8ebdbed0",
       "version_major": 2,
       "version_minor": 0
      },
      "text/plain": [
       "  0%|          | 0/19637 [00:00<?, ?it/s]"
      ]
     },
     "metadata": {},
     "output_type": "display_data"
    },
    {
     "name": "stdout",
     "output_type": "stream",
     "text": [
      "[]\n",
      "9818\n"
     ]
    }
   ],
   "source": [
    "average_book_stems = {\n",
    "    'D': [], \n",
    "    'D2': [], \n",
    "    'D3': [], \n",
    "    'D4': [], \n",
    "}\n",
    "problematic_stems = []\n",
    "count = 0\n",
    "for ID in tqdm(book_ids):\n",
    "    try:\n",
    "        save_all_file_path = os.path.join(analysis_folder, f\"individual_results_stems\", f\"{ID}.pkl\")\n",
    "        save_light_file_path = os.path.join(analysis_folder, f\"individual_results_stems_light\", f\"{ID}_light.pkl\")\n",
    "        if len_books[ID] > median_len_sequences:\n",
    "            with open(save_all_file_path, 'rb') as fp:\n",
    "                book_result = pickle.load(fp)\n",
    "            count += 1\n",
    "            average_book_stems['D'].append(book_result['D'][:median_len_sequences])\n",
    "            average_book_stems['D2'].append(book_result['D2'][:median_len_sequences])\n",
    "            average_book_stems['D3'].append(book_result['D3'][:median_len_sequences])\n",
    "            average_book_stems['D4'].append(book_result['D4'][:median_len_sequences])\n",
    "    except FileNotFoundError:\n",
    "        problematic_stems.append(ID)\n",
    "print(problematic_stems)\n",
    "for key in ['D', 'D2', 'D3', 'D4']:\n",
    "    average_book_stems[key] = np.array(average_book_stems[key])\n",
    "    mean = np.mean(average_book_stems[key], axis=0)\n",
    "    std = np.std(average_book_stems[key], axis=0)\n",
    "    average_book_stems[key+'_plus_std'] = mean + std\n",
    "    average_book_stems[key+'_minus_std'] = mean - std\n",
    "    average_book_stems[key+'_25_percentile'] = np.percentile(average_book_stems[key], 25, axis=0)\n",
    "    average_book_stems[key+'_50_percentile'] = np.percentile(average_book_stems[key], 50, axis=0)\n",
    "    average_book_stems[key+'_75_percentile'] = np.percentile(average_book_stems[key], 75, axis=0)\n",
    "    average_book_stems[key] = mean\n",
    "\n",
    "print(count)"
   ]
  },
  {
   "cell_type": "code",
   "execution_count": 99,
   "metadata": {},
   "outputs": [
    {
     "data": {
      "text/plain": [
       "50726"
      ]
     },
     "execution_count": 99,
     "metadata": {},
     "output_type": "execute_result"
    }
   ],
   "source": [
    "len(average_book_stems['D3_75_percentile'])"
   ]
  },
  {
   "cell_type": "code",
   "execution_count": 100,
   "metadata": {},
   "outputs": [],
   "source": [
    "D = average_book_stems['D']\n",
    "D2 = average_book_stems['D2']\n",
    "D3 = average_book_stems['D3']\n",
    "D4 = average_book_stems['D4']\n",
    "save_light_file_path = os.path.join(analysis_folder, f\"average_individual_results_stems_light.pkl\")\n",
    "save_all_file_path = os.path.join(analysis_folder, f\"average_individual_results_stems.pkl\")\n",
    "average_results_gutenberg_stems = analyse_sequence(None, num_to_save=1000, \n",
    "                         calculate_entropies_original = False, calculate_entropies_labels = False,\n",
    "                         D=D, D2=D2, D3=D3, D4=D4, sequence_labels = None,\n",
    "                         save_all=True, save_all_file_path = save_all_file_path, \n",
    "                         save_light_file_path = save_light_file_path,\n",
    "                         calculate_beta_loglogregr_indices = False,\n",
    "                         use_D_as_D_indices = True, indices=indices,\n",
    "                         do_prints = False, return_all = True)\n",
    "os.remove(save_light_file_path)\n",
    "for key in average_book_stems.keys():\n",
    "    average_results_gutenberg_stems[key] = average_book_stems[key]\n",
    "with open(save_all_file_path,'wb') as fp:\n",
    "    pickle.dump(average_results_gutenberg_stems,fp)"
   ]
  },
  {
   "cell_type": "markdown",
   "metadata": {},
   "source": [
    "## Collective analysis"
   ]
  },
  {
   "cell_type": "code",
   "execution_count": 7,
   "metadata": {},
   "outputs": [],
   "source": [
    "with gzip.open(os.path.join(analysis_folder, \"all_books_preprocessed.pkl.gz\"), \"rb\") as fp:\n",
    "    all_books = joblib.load(fp)"
   ]
  },
  {
   "cell_type": "code",
   "execution_count": 25,
   "metadata": {},
   "outputs": [
    {
     "name": "stderr",
     "output_type": "stream",
     "text": [
      "  1%|          | 110/19637 [00:00<00:17, 1089.44it/s]"
     ]
    },
    {
     "name": "stdout",
     "output_type": "stream",
     "text": [
      "2023-07-12 08:25:03.030500\n"
     ]
    },
    {
     "name": "stderr",
     "output_type": "stream",
     "text": [
      "100%|██████████| 19637/19637 [00:12<00:00, 1563.65it/s]\n"
     ]
    }
   ],
   "source": [
    "print(datetime.now())\n",
    "sequence = []\n",
    "randomized_list_all_book_keys = list(all_books.keys()).copy()\n",
    "random.shuffle(randomized_list_all_book_keys)\n",
    "for ID in tqdm(randomized_list_all_book_keys):\n",
    "    book = all_books[ID]\n",
    "    sequence += list(book[\"sequence_words\"])\n",
    "sequence = np.array(sequence)"
   ]
  },
  {
   "cell_type": "code",
   "execution_count": 8,
   "metadata": {},
   "outputs": [],
   "source": [
    "scratch_folder = '/data/scratch/ahw701/pairs_petralia/github/data/gutenberg/analysis/'"
   ]
  },
  {
   "cell_type": "code",
   "execution_count": 10,
   "metadata": {},
   "outputs": [],
   "source": [
    "os.makedirs(os.path.join(scratch_folder, f\"randomized_collective_sequences\"), exist_ok = True)\n",
    "os.makedirs(os.path.join(scratch_folder, f\"randomized_collective_sequences_labels\"), exist_ok = True)"
   ]
  },
  {
   "cell_type": "code",
   "execution_count": 11,
   "metadata": {},
   "outputs": [
    {
     "name": "stderr",
     "output_type": "stream",
     "text": [
      "100%|██████████| 100/100 [3:13:09<00:00, 115.89s/it] \n"
     ]
    }
   ],
   "source": [
    "for random_ID in tqdm(range(100)):\n",
    "    sequence = []\n",
    "    sequence_labels = []\n",
    "    randomized_list_all_book_keys = list(all_books.keys()).copy()\n",
    "    random.Random(random_ID).shuffle(randomized_list_all_book_keys)\n",
    "    for ID in randomized_list_all_book_keys:\n",
    "        book = all_books[ID]\n",
    "        sequence += list(book[\"sequence_words\"])\n",
    "    sequence = np.array(sequence)\n",
    "    with open(os.path.join(scratch_folder, f\"randomized_collective_sequences\", f'{random_ID}.pkl'), 'wb') as fp:\n",
    "        joblib.dump(sequence, fp)"
   ]
  },
  {
   "cell_type": "code",
   "execution_count": 34,
   "metadata": {},
   "outputs": [
    {
     "name": "stderr",
     "output_type": "stream",
     "text": [
      "100%|██████████| 94/94 [6:12:02<00:00, 237.47s/it]  \n"
     ]
    }
   ],
   "source": [
    "for random_ID in tqdm(range(100)):\n",
    "    sequence = []\n",
    "    sequence_labels = []\n",
    "    randomized_list_all_book_keys = list(all_books.keys()).copy()\n",
    "    random.Random(random_ID).shuffle(randomized_list_all_book_keys)\n",
    "    for ID in randomized_list_all_book_keys:\n",
    "        book = all_books[ID]\n",
    "        sequence_labels += list(book[\"sequence_stems\"])\n",
    "    sequence_labels = np.array(sequence_labels)\n",
    "    with open(os.path.join(scratch_folder, f\"randomized_collective_sequences_labels\", f'{random_ID}.pkl'), 'wb') as fp:\n",
    "        joblib.dump(sequence_labels, fp)"
   ]
  },
  {
   "cell_type": "code",
   "execution_count": 12,
   "metadata": {},
   "outputs": [
    {
     "name": "stderr",
     "output_type": "stream",
     "text": [
      "100%|██████████| 1315357525/1315357525 [13:57<00:00, 1570383.94it/s]\n",
      "100%|██████████| 1315357524/1315357524 [21:43<00:00, 1009427.73it/s]\n",
      "100%|██████████| 1315357523/1315357523 [44:45<00:00, 489846.91it/s] \n"
     ]
    },
    {
     "name": "stdout",
     "output_type": "stream",
     "text": [
      "Sorted indices to save at 2023-07-06 18:35:24.856035\n",
      "Doing beta_mean_indices at 2023-07-06 18:35:24.866684\n",
      "Doing geom points loglogregr at 2023-07-06 18:35:24.908824\n",
      "Saving at 2023-07-06 18:35:35.097188\n",
      "Finished analysis at 2023-07-06 18:37:15.024534\n"
     ]
    }
   ],
   "source": [
    "save_light_file_path = os.path.join(analysis_folder, f\"collective_results_light.pkl\")\n",
    "save_all_file_path = os.path.join(analysis_folder, f\"collective_results.pkl\")\n",
    "\n",
    "results_light_collective_gutenberg = analyse_sequence(sequence, num_to_save=1000, \n",
    "                     calculate_entropies_original = False, calculate_entropies_labels = False,\n",
    "                     D=None, D2=None, D3=None, D4=None, \n",
    "                     do_also_D2 = True, do_also_D3 = True, do_also_D4 = False, sequence_labels = None,\n",
    "                     save_all=True, save_all_file_path = save_all_file_path, \n",
    "                     save_light_file_path = save_light_file_path,\n",
    "                     save_entropies_file_path = \"old_to_delete.entropy\",\n",
    "                     calculate_beta_loglogregr_indices = False,\n",
    "                     do_prints = True, return_all = False)"
   ]
  },
  {
   "cell_type": "code",
   "execution_count": 13,
   "metadata": {},
   "outputs": [
    {
     "name": "stderr",
     "output_type": "stream",
     "text": [
      "  0%|          | 77/19637 [00:00<00:28, 683.76it/s]"
     ]
    },
    {
     "name": "stdout",
     "output_type": "stream",
     "text": [
      "2023-07-06 18:42:17.854267\n"
     ]
    },
    {
     "name": "stderr",
     "output_type": "stream",
     "text": [
      "100%|██████████| 19637/19637 [00:22<00:00, 885.21it/s] \n"
     ]
    }
   ],
   "source": [
    "print(datetime.now())\n",
    "sequence_labels = []\n",
    "randomized_list_all_book_keys = list(all_books.keys()).copy()\n",
    "random.shuffle(randomized_list_all_book_keys)\n",
    "for ID in tqdm(randomized_list_all_book_keys):\n",
    "    book = all_books[ID]\n",
    "    sequence_labels += list(book[\"sequence_stems\"])\n",
    "sequence_labels = np.array(sequence_labels)"
   ]
  },
  {
   "cell_type": "code",
   "execution_count": 14,
   "metadata": {},
   "outputs": [
    {
     "name": "stderr",
     "output_type": "stream",
     "text": [
      "100%|██████████| 1315357525/1315357525 [13:43<00:00, 1596817.60it/s]\n",
      "100%|██████████| 1315357524/1315357524 [21:00<00:00, 1043445.48it/s]\n",
      "100%|██████████| 1315357523/1315357523 [43:55<00:00, 499132.43it/s] \n"
     ]
    },
    {
     "name": "stdout",
     "output_type": "stream",
     "text": [
      "Sorted indices to save at 2023-07-06 22:28:43.487515\n",
      "Doing beta_mean_indices at 2023-07-06 22:28:43.497166\n",
      "Doing geom points loglogregr at 2023-07-06 22:28:43.539592\n",
      "Saving at 2023-07-06 22:28:53.496193\n",
      "Finished analysis at 2023-07-06 22:30:32.882039\n"
     ]
    }
   ],
   "source": [
    "save_light_file_path = os.path.join(analysis_folder, f\"collective_results_stems_light.pkl\")\n",
    "save_all_file_path = os.path.join(analysis_folder, f\"collective_results_stems.pkl\")\n",
    "\n",
    "results_light_collective_stems_gutenberg = analyse_sequence(sequence_labels, num_to_save=1000, \n",
    "                     calculate_entropies_original = False, calculate_entropies_labels = False,\n",
    "                     D=None, D2=None, D3=None, D4=None, \n",
    "                     do_also_D2 = True, do_also_D3 = True, do_also_D4 = False, sequence_labels = None,\n",
    "                     save_all=True, save_all_file_path = save_all_file_path, \n",
    "                     save_light_file_path = save_light_file_path,\n",
    "                     save_entropies_file_path = \"old_to_delete.entropy\",\n",
    "                     calculate_beta_loglogregr_indices = False,\n",
    "                     do_prints = True, return_all = False)"
   ]
  },
  {
   "cell_type": "markdown",
   "metadata": {},
   "source": [
    "# Semantic Scholar dataset"
   ]
  },
  {
   "cell_type": "markdown",
   "metadata": {},
   "source": [
    "Created in ./semanticscholar/dataset_creation.ipynb"
   ]
  },
  {
   "cell_type": "code",
   "execution_count": 12,
   "metadata": {},
   "outputs": [],
   "source": [
    "corpus_version = '2022-01-01'\n",
    "data_folder = os.path.join('./data/semanticscholar',corpus_version, 'data')\n",
    "analysis_folder = os.path.join('./data/semanticscholar',corpus_version, 'analysis')"
   ]
  },
  {
   "cell_type": "code",
   "execution_count": 13,
   "metadata": {},
   "outputs": [],
   "source": [
    "with open(os.path.join(data_folder,'all_fieldsOfStudy.tsv'), 'r', newline='\\n') as fp:\n",
    "    tsv_output = csv.reader(fp, delimiter='\\n')\n",
    "    all_fieldsOfStudy = [] \n",
    "    for _ in tsv_output:\n",
    "        all_fieldsOfStudy.append(_[0])"
   ]
  },
  {
   "cell_type": "code",
   "execution_count": 14,
   "metadata": {},
   "outputs": [
    {
     "data": {
      "text/plain": [
       "['Art',\n",
       " 'Biology',\n",
       " 'Business',\n",
       " 'Chemistry',\n",
       " 'Computer Science',\n",
       " 'Economics',\n",
       " 'Engineering',\n",
       " 'Environmental Science',\n",
       " 'Geography',\n",
       " 'Geology',\n",
       " 'History',\n",
       " 'Materials Science',\n",
       " 'Mathematics',\n",
       " 'Medicine',\n",
       " 'Philosophy',\n",
       " 'Physics',\n",
       " 'Political Science',\n",
       " 'Psychology',\n",
       " 'Sociology']"
      ]
     },
     "execution_count": 14,
     "metadata": {},
     "output_type": "execute_result"
    }
   ],
   "source": [
    "all_fieldsOfStudy"
   ]
  },
  {
   "cell_type": "markdown",
   "metadata": {},
   "source": [
    "## By field of study and journal"
   ]
  },
  {
   "cell_type": "code",
   "execution_count": 18,
   "metadata": {},
   "outputs": [],
   "source": [
    "analysis_folder = os.path.join('./data/semanticscholar',corpus_version, 'analysis')\n",
    "os.makedirs(analysis_folder,exist_ok = True)"
   ]
  },
  {
   "cell_type": "code",
   "execution_count": 19,
   "metadata": {},
   "outputs": [],
   "source": [
    "num_journals = 1000"
   ]
  },
  {
   "cell_type": "markdown",
   "metadata": {},
   "source": [
    "### Individual analysis"
   ]
  },
  {
   "cell_type": "code",
   "execution_count": null,
   "metadata": {},
   "outputs": [],
   "source": [
    "all_fieldsOfStudy = ['Computer Science']"
   ]
  },
  {
   "cell_type": "code",
   "execution_count": null,
   "metadata": {},
   "outputs": [],
   "source": [
    "results_light_individual_journals_fieldsOfStudy = {}\n",
    "for fieldOfStudy in tqdm(all_fieldsOfStudy):\n",
    "    fieldsOfStudy_folder = os.path.join(data_folder,'journals_fieldsOfStudy',fieldOfStudy)\n",
    "    journals_filepaths = sorted(find_pattern('*.tsv', fieldsOfStudy_folder))\n",
    "    if len(journals_filepaths) != num_journals:\n",
    "        print(f'Error! Found {len(journals_filepaths)} journals for {fieldOfStudy} instead of {num_journals}')\n",
    "        break\n",
    "        \n",
    "    results_light_individual_journals_fieldsOfStudy[fieldOfStudy] = {}\n",
    "    for path in tqdm(journals_filepaths):\n",
    "        sequence = [] \n",
    "        with open(path, 'r', newline='\\n') as fp:\n",
    "            tsv_output = csv.reader(fp, delimiter='\\n')\n",
    "            for _ in tsv_output:\n",
    "                sequence.append(int(_[0]))\n",
    "        sequence_labels = sequence.copy()\n",
    "        file_name = path[-path[::-1].index('/'):path.index('.tsv')]\n",
    "        save_light_file_path = os.path.join(analysis_folder, 'journals_fieldsOfStudy',fieldOfStudy,file_name + '.pkl')\n",
    "        save_all_file_path = os.path.join(analysis_folder, 'journals_fieldsOfStudy',fieldOfStudy,file_name + '.pkl')\n",
    "        save_entropies_file_path = os.path.join(analysis_folder, 'journals_fieldsOfStudy_entropy',fieldOfStudy,file_name + '.pkl')\n",
    "        results_light_individual_journals_fieldsOfStudy[fieldOfStudy][file_name] = analyse_sequence(sequence, num_to_save=1000, \n",
    "                         calculate_entropies_original = False, calculate_entropies_labels = True,\n",
    "                         D=None, D2=None, D3=None, D4=None, sequence_labels = sequence_labels,\n",
    "                         save_all=True, save_all_file_path = save_all_file_path, \n",
    "                         save_light_file_path = save_light_file_path,\n",
    "                         save_entropies_file_path = save_entropies_file_path,\n",
    "                         calculate_beta_loglogregr_indices = False,\n",
    "                         do_prints = False, return_all = False)"
   ]
  },
  {
   "cell_type": "code",
   "execution_count": null,
   "metadata": {
    "tags": []
   },
   "outputs": [],
   "source": [
    "with gzip.open(os.path.join(analysis_folder, 'journals_fieldsOfStudy', 'results_light_texts.pkl.gz'), 'wb') as fp:\n",
    "    joblib.dump(results_light_individual_journals_fieldsOfStudy, fp)"
   ]
  },
  {
   "cell_type": "code",
   "execution_count": null,
   "metadata": {},
   "outputs": [],
   "source": [
    "results_light_individual_journals_fieldsOfStudy_stems = {}\n",
    "for fieldOfStudy in tqdm(all_fieldsOfStudy):\n",
    "    fieldsOfStudy_folder = os.path.join(data_folder,'journals_fieldsOfStudy_stems',fieldOfStudy)\n",
    "    journals_filepaths = sorted(find_pattern('*.tsv', fieldsOfStudy_folder))\n",
    "    if len(journals_filepaths) != num_journals:\n",
    "        print(f'Error! Found {len(journals_filepaths)} journals for {fieldOfStudy} instead of {num_journals}')\n",
    "        break\n",
    "        \n",
    "    results_light_individual_journals_fieldsOfStudy_stems[fieldOfStudy] = {}\n",
    "    for path in tqdm(journals_filepaths):\n",
    "        sequence = [] \n",
    "        with open(path, 'r', newline='\\n') as fp:\n",
    "            tsv_output = csv.reader(fp, delimiter='\\n')\n",
    "            for _ in tsv_output:\n",
    "                sequence.append(int(_[0]))\n",
    "        sequence_labels = sequence.copy()\n",
    "        file_name = path[-path[::-1].index('/'):path.index('.tsv')]\n",
    "        save_light_file_path = os.path.join(analysis_folder, 'journals_fieldsOfStudy_stems',fieldOfStudy,file_name + '.pkl')\n",
    "        save_all_file_path = os.path.join(analysis_folder, 'journals_fieldsOfStudy_stems',fieldOfStudy,file_name + '.pkl')\n",
    "        save_entropies_file_path = os.path.join(analysis_folder, 'journals_fieldsOfStudy_entropy_stems',fieldOfStudy,file_name + '.pkl')\n",
    "        results_light_individual_journals_fieldsOfStudy_stems[fieldOfStudy][file_name] = analyse_sequence(sequence, num_to_save=1000, \n",
    "                         calculate_entropies_original = False, calculate_entropies_labels = True,\n",
    "                         D=None, D2=None, D3=None, D4=None, sequence_labels = sequence_labels,\n",
    "                         save_all=True, save_all_file_path = save_all_file_path, \n",
    "                         save_light_file_path = save_light_file_path,\n",
    "                         save_entropies_file_path = save_entropies_file_path,\n",
    "                         calculate_beta_loglogregr_indices = False,\n",
    "                         do_prints = False, return_all = False)"
   ]
  },
  {
   "cell_type": "code",
   "execution_count": 13,
   "metadata": {
    "tags": []
   },
   "outputs": [],
   "source": [
    "with gzip.open(os.path.join(analysis_folder, 'journals_fieldsOfStudy_stems', 'results_light_stems.pkl.gz'), 'wb') as fp:\n",
    "    joblib.dump(results_light_individual_journals_fieldsOfStudy_stems, fp)"
   ]
  },
  {
   "cell_type": "code",
   "execution_count": null,
   "metadata": {},
   "outputs": [],
   "source": [
    "len_journals = {}\n",
    "for fieldOfStudy in tqdm(all_fieldsOfStudy):\n",
    "    journal_2_len[fieldOfStudy] = {}\n",
    "    fieldsOfStudy_folder = os.path.join(data_folder,'journals_fieldsOfStudy',fieldOfStudy)\n",
    "    journals_filepaths = sorted(find_pattern('*.tsv', fieldsOfStudy_folder))\n",
    "    if len(journals_filepaths) != num_journals:\n",
    "        print(f'Error! Found {len(journals_filepaths)} journals for {fieldOfStudy} instead of {num_journals}')\n",
    "        break\n",
    "    for path in tqdm(journals_filepaths):\n",
    "        file_name = path[-path[::-1].index('/'):path.index('.tsv')]\n",
    "        save_light_file_path = os.path.join(analysis_folder, 'journals_fieldsOfStudy_light',fieldOfStudy,file_name + '.pkl')\n",
    "        if os.path.exists(save_light_file_path) == False:\n",
    "            save_light_file_path = os.path.join(analysis_folder, 'journals_fieldsOfStudy_light',fieldOfStudy,file_name + '_light.pkl')\n",
    "        with open(save_light_file_path, 'rb') as fp:\n",
    "            result = pickle.load(fp)\n",
    "        len_journals[fieldOfStudy][file_name] = result['ts'][-1]"
   ]
  },
  {
   "cell_type": "code",
   "execution_count": null,
   "metadata": {},
   "outputs": [],
   "source": [
    "with gzip.open(os.path.join(analysis_folder, 'len_journals.pkl.gz'), 'wb') as fp:\n",
    "    joblib.dump(len_journals, fp)"
   ]
  },
  {
   "cell_type": "markdown",
   "metadata": {},
   "source": [
    "### Average individual analysis"
   ]
  },
  {
   "cell_type": "code",
   "execution_count": 115,
   "metadata": {},
   "outputs": [],
   "source": [
    "data_folder = os.path.join('./data/semanticscholar',corpus_version, 'data')\n",
    "analysis_folder = os.path.join('./data/semanticscholar',corpus_version, 'analysis')\n",
    "os.makedirs(analysis_folder,exist_ok = True)"
   ]
  },
  {
   "cell_type": "code",
   "execution_count": 105,
   "metadata": {},
   "outputs": [],
   "source": [
    "min_len_sequence = 1000"
   ]
  },
  {
   "cell_type": "code",
   "execution_count": 106,
   "metadata": {},
   "outputs": [],
   "source": [
    "with gzip.open(os.path.join(analysis_folder, 'len_journals.pkl.gz'), \"rb\") as fp:\n",
    "    len_journals = joblib.load(fp)"
   ]
  },
  {
   "cell_type": "markdown",
   "metadata": {},
   "source": [
    "This is done across fields of study"
   ]
  },
  {
   "cell_type": "code",
   "execution_count": 107,
   "metadata": {},
   "outputs": [
    {
     "data": {
      "application/vnd.jupyter.widget-view+json": {
       "model_id": "7bdd51778f5c4579ae6358cab2ee7f86",
       "version_major": 2,
       "version_minor": 0
      },
      "text/plain": [
       "  0%|          | 0/19 [00:00<?, ?it/s]"
      ]
     },
     "metadata": {},
     "output_type": "display_data"
    },
    {
     "data": {
      "text/plain": [
       "[]"
      ]
     },
     "execution_count": 107,
     "metadata": {},
     "output_type": "execute_result"
    },
    {
     "data": {
      "image/png": "[encoded data removed]",
      "text/plain": [
       "<Figure size 2283.91x1522.61 with 1 Axes>"
      ]
     },
     "metadata": {},
     "output_type": "display_data"
    }
   ],
   "source": [
    "len_sequences = []\n",
    "for fieldOfStudy,length_dict in tqdm(len_journals.items()):\n",
    "    for length in length_dict.values():\n",
    "        len_sequences.append(length)\n",
    "vals, bin_edges = np.histogram(list(len_sequences), bins = np.geomspace(min_len_sequence,2*max(list(len_sequences)), 100))\n",
    "bin_centers = (bin_edges[:-1] + bin_edges[1:]) / 2\n",
    "plt.scatter(bin_centers, vals)\n",
    "plt.loglog()"
   ]
  },
  {
   "cell_type": "code",
   "execution_count": 113,
   "metadata": {},
   "outputs": [
    {
     "name": "stdout",
     "output_type": "stream",
     "text": [
      "Median len of the sequences is 9114\n"
     ]
    }
   ],
   "source": [
    "median_len_sequences = int(np.round(np.median(list(len_sequences))))\n",
    "print(\"Median len of the sequences is\",median_len_sequences)"
   ]
  },
  {
   "cell_type": "code",
   "execution_count": 127,
   "metadata": {},
   "outputs": [
    {
     "data": {
      "application/vnd.jupyter.widget-view+json": {
       "model_id": "127680e4528e4770a033a0d620365173",
       "version_major": 2,
       "version_minor": 0
      },
      "text/plain": [
       "  0%|          | 0/19 [00:00<?, ?it/s]"
      ]
     },
     "metadata": {},
     "output_type": "display_data"
    },
    {
     "data": {
      "application/vnd.jupyter.widget-view+json": {
       "model_id": "fc163532bcd146828fa92cceb4514502",
       "version_major": 2,
       "version_minor": 0
      },
      "text/plain": [
       "  0%|          | 0/1000 [00:00<?, ?it/s]"
      ]
     },
     "metadata": {},
     "output_type": "display_data"
    },
    {
     "data": {
      "application/vnd.jupyter.widget-view+json": {
       "model_id": "8c367bb57abe4246ac7895b6b8bd341e",
       "version_major": 2,
       "version_minor": 0
      },
      "text/plain": [
       "  0%|          | 0/1000 [00:00<?, ?it/s]"
      ]
     },
     "metadata": {},
     "output_type": "display_data"
    },
    {
     "data": {
      "application/vnd.jupyter.widget-view+json": {
       "model_id": "07d230711fbc4caf988e0821c1c410d9",
       "version_major": 2,
       "version_minor": 0
      },
      "text/plain": [
       "  0%|          | 0/1000 [00:00<?, ?it/s]"
      ]
     },
     "metadata": {},
     "output_type": "display_data"
    },
    {
     "data": {
      "application/vnd.jupyter.widget-view+json": {
       "model_id": "d163871b26384c8190a16767a20b82f3",
       "version_major": 2,
       "version_minor": 0
      },
      "text/plain": [
       "  0%|          | 0/1000 [00:00<?, ?it/s]"
      ]
     },
     "metadata": {},
     "output_type": "display_data"
    },
    {
     "data": {
      "application/vnd.jupyter.widget-view+json": {
       "model_id": "ebe6d5086b42492abaf04be116b499e2",
       "version_major": 2,
       "version_minor": 0
      },
      "text/plain": [
       "  0%|          | 0/1000 [00:00<?, ?it/s]"
      ]
     },
     "metadata": {},
     "output_type": "display_data"
    },
    {
     "data": {
      "application/vnd.jupyter.widget-view+json": {
       "model_id": "a88eeb1729004c428ee713013dfadfc1",
       "version_major": 2,
       "version_minor": 0
      },
      "text/plain": [
       "  0%|          | 0/1000 [00:00<?, ?it/s]"
      ]
     },
     "metadata": {},
     "output_type": "display_data"
    },
    {
     "data": {
      "application/vnd.jupyter.widget-view+json": {
       "model_id": "47392b0d46e84b81bc58308446a4285f",
       "version_major": 2,
       "version_minor": 0
      },
      "text/plain": [
       "  0%|          | 0/1000 [00:00<?, ?it/s]"
      ]
     },
     "metadata": {},
     "output_type": "display_data"
    },
    {
     "data": {
      "application/vnd.jupyter.widget-view+json": {
       "model_id": "ccce1f0501ee4ca68ff7f6ce03e5100c",
       "version_major": 2,
       "version_minor": 0
      },
      "text/plain": [
       "  0%|          | 0/1000 [00:00<?, ?it/s]"
      ]
     },
     "metadata": {},
     "output_type": "display_data"
    },
    {
     "data": {
      "application/vnd.jupyter.widget-view+json": {
       "model_id": "7261078da14a4a1985143f43984bbc37",
       "version_major": 2,
       "version_minor": 0
      },
      "text/plain": [
       "  0%|          | 0/1000 [00:00<?, ?it/s]"
      ]
     },
     "metadata": {},
     "output_type": "display_data"
    },
    {
     "data": {
      "application/vnd.jupyter.widget-view+json": {
       "model_id": "6e83c60bf9314854b26a07be99704613",
       "version_major": 2,
       "version_minor": 0
      },
      "text/plain": [
       "  0%|          | 0/1000 [00:00<?, ?it/s]"
      ]
     },
     "metadata": {},
     "output_type": "display_data"
    },
    {
     "data": {
      "application/vnd.jupyter.widget-view+json": {
       "model_id": "e12d5135c16d445489f24eb94633d6f2",
       "version_major": 2,
       "version_minor": 0
      },
      "text/plain": [
       "  0%|          | 0/1000 [00:00<?, ?it/s]"
      ]
     },
     "metadata": {},
     "output_type": "display_data"
    },
    {
     "data": {
      "application/vnd.jupyter.widget-view+json": {
       "model_id": "056cb7627e77492180d328d2105d1f11",
       "version_major": 2,
       "version_minor": 0
      },
      "text/plain": [
       "  0%|          | 0/1000 [00:00<?, ?it/s]"
      ]
     },
     "metadata": {},
     "output_type": "display_data"
    },
    {
     "data": {
      "application/vnd.jupyter.widget-view+json": {
       "model_id": "13217d1492284e129ef2e597c290191e",
       "version_major": 2,
       "version_minor": 0
      },
      "text/plain": [
       "  0%|          | 0/1000 [00:00<?, ?it/s]"
      ]
     },
     "metadata": {},
     "output_type": "display_data"
    },
    {
     "data": {
      "application/vnd.jupyter.widget-view+json": {
       "model_id": "a0d330bd55b2488fbd9aaf477da54df9",
       "version_major": 2,
       "version_minor": 0
      },
      "text/plain": [
       "  0%|          | 0/1000 [00:00<?, ?it/s]"
      ]
     },
     "metadata": {},
     "output_type": "display_data"
    },
    {
     "data": {
      "application/vnd.jupyter.widget-view+json": {
       "model_id": "ee863023596141858546b64a942cb3c8",
       "version_major": 2,
       "version_minor": 0
      },
      "text/plain": [
       "  0%|          | 0/1000 [00:00<?, ?it/s]"
      ]
     },
     "metadata": {},
     "output_type": "display_data"
    },
    {
     "data": {
      "application/vnd.jupyter.widget-view+json": {
       "model_id": "d4b091b2aec3467abdfc891edbb39555",
       "version_major": 2,
       "version_minor": 0
      },
      "text/plain": [
       "  0%|          | 0/1000 [00:00<?, ?it/s]"
      ]
     },
     "metadata": {},
     "output_type": "display_data"
    },
    {
     "data": {
      "application/vnd.jupyter.widget-view+json": {
       "model_id": "599ed57906e241b2bb9d9aaca73ae586",
       "version_major": 2,
       "version_minor": 0
      },
      "text/plain": [
       "  0%|          | 0/1000 [00:00<?, ?it/s]"
      ]
     },
     "metadata": {},
     "output_type": "display_data"
    },
    {
     "data": {
      "application/vnd.jupyter.widget-view+json": {
       "model_id": "97260b4f63f64ef6b907b07f7a7891c3",
       "version_major": 2,
       "version_minor": 0
      },
      "text/plain": [
       "  0%|          | 0/1000 [00:00<?, ?it/s]"
      ]
     },
     "metadata": {},
     "output_type": "display_data"
    },
    {
     "data": {
      "application/vnd.jupyter.widget-view+json": {
       "model_id": "0b67fd527daa40dcaac913b8ed7b2639",
       "version_major": 2,
       "version_minor": 0
      },
      "text/plain": [
       "  0%|          | 0/1000 [00:00<?, ?it/s]"
      ]
     },
     "metadata": {},
     "output_type": "display_data"
    },
    {
     "name": "stdout",
     "output_type": "stream",
     "text": [
      "[]\n",
      "9500\n"
     ]
    }
   ],
   "source": [
    "average_journal = {\n",
    "    'D': [], \n",
    "    'D2': [], \n",
    "    'D3': [], \n",
    "    'D4': [], \n",
    "}\n",
    "problematic_journals = []\n",
    "count = 0\n",
    "for fieldOfStudy in tqdm(all_fieldsOfStudy):\n",
    "    fieldsOfStudy_folder = os.path.join(data_folder,'journals_fieldsOfStudy',fieldOfStudy)\n",
    "    journals_filepaths = sorted(find_pattern('*.tsv', fieldsOfStudy_folder))\n",
    "    if len(journals_filepaths) != num_journals:\n",
    "        print(f'Error! Found {len(journals_filepaths)} journals for {fieldOfStudy} instead of {num_journals}')\n",
    "        break\n",
    "    for path in tqdm(journals_filepaths):\n",
    "        try:\n",
    "            file_name = path[-path[::-1].index('/'):path.index('.tsv')]\n",
    "            save_all_file_path = os.path.join(analysis_folder, 'journals_fieldsOfStudy',fieldOfStudy,file_name + '.pkl')\n",
    "            save_light_file_path = os.path.join(analysis_folder, 'journals_fieldsOfStudy_light',fieldOfStudy,file_name + \"_light.pkl\")\n",
    "            with open(save_all_file_path, 'rb') as fp:\n",
    "                result = pickle.load(fp)\n",
    "            if len(result['D']) > median_len_sequences:\n",
    "                count += 1\n",
    "                average_journal['D'].append(result['D'][:median_len_sequences])\n",
    "                average_journal['D2'].append(result['D2'][:median_len_sequences])\n",
    "                average_journal['D3'].append(result['D3'][:median_len_sequences])\n",
    "                average_journal['D4'].append(result['D4'][:median_len_sequences])\n",
    "        except FileNotFoundError:\n",
    "            problematic_journals.append(ID)\n",
    "print(problematic_journals)\n",
    "for key in ['D', 'D2', 'D3', 'D4']:\n",
    "    average_journal[key] = np.array(average_journal[key])\n",
    "    mean = np.mean(average_journal[key], axis=0)\n",
    "    std = np.std(average_journal[key], axis=0)\n",
    "    average_journal[key+'_plus_std'] = mean + std\n",
    "    average_journal[key+'_minus_std'] = mean - std\n",
    "    average_journal[key+'_25_percentile'] = np.percentile(average_journal[key], 25, axis=0)\n",
    "    average_journal[key+'_50_percentile'] = np.percentile(average_journal[key], 50, axis=0)\n",
    "    average_journal[key+'_75_percentile'] = np.percentile(average_journal[key], 75, axis=0)\n",
    "    average_journal[key] = mean\n",
    "\n",
    "print(count)"
   ]
  },
  {
   "cell_type": "code",
   "execution_count": 128,
   "metadata": {},
   "outputs": [],
   "source": [
    "D = average_journal['D']\n",
    "D2 = average_journal['D2']\n",
    "D3 = average_journal['D3']\n",
    "D4 = average_journal['D4']\n",
    "indices = np.arange(len(D))\n",
    "save_light_file_path = os.path.join(analysis_folder, 'average_individual_results_light_journals_fieldsOfStudy.pkl')\n",
    "save_all_file_path = os.path.join(analysis_folder, f\"average_individual_results_journals_fieldsOfStudy.pkl\")\n",
    "average_results_journal = analyse_sequence(None, num_to_save=1000, \n",
    "                         calculate_entropies_original = False, calculate_entropies_labels = False,\n",
    "                         D=D, D2=D2, D3=D3, D4=D4, sequence_labels = None,\n",
    "                         save_all=True, save_all_file_path = save_all_file_path, \n",
    "                         save_light_file_path = save_light_file_path,\n",
    "                         calculate_beta_loglogregr_indices = False,\n",
    "                         use_D_as_D_indices = True, indices=indices,\n",
    "                         do_prints = False, return_all = True)\n",
    "os.remove(save_light_file_path)\n",
    "for key in average_journal.keys():\n",
    "    average_results_journal[key] = average_journal[key]\n",
    "with open(save_all_file_path,'wb') as fp:\n",
    "    pickle.dump(average_results_journal,fp)"
   ]
  },
  {
   "cell_type": "code",
   "execution_count": 129,
   "metadata": {},
   "outputs": [
    {
     "data": {
      "application/vnd.jupyter.widget-view+json": {
       "model_id": "7d6ed4c26dfc47f2911bb62b81a9ecc2",
       "version_major": 2,
       "version_minor": 0
      },
      "text/plain": [
       "  0%|          | 0/19 [00:00<?, ?it/s]"
      ]
     },
     "metadata": {},
     "output_type": "display_data"
    },
    {
     "data": {
      "application/vnd.jupyter.widget-view+json": {
       "model_id": "37a6938aabdd423c8fe194134f82e062",
       "version_major": 2,
       "version_minor": 0
      },
      "text/plain": [
       "  0%|          | 0/1000 [00:00<?, ?it/s]"
      ]
     },
     "metadata": {},
     "output_type": "display_data"
    },
    {
     "data": {
      "application/vnd.jupyter.widget-view+json": {
       "model_id": "4d784ec1ac004607b71b8bc45510673f",
       "version_major": 2,
       "version_minor": 0
      },
      "text/plain": [
       "  0%|          | 0/1000 [00:00<?, ?it/s]"
      ]
     },
     "metadata": {},
     "output_type": "display_data"
    },
    {
     "data": {
      "application/vnd.jupyter.widget-view+json": {
       "model_id": "5a5ce194c81447ecb8706d0047b3064a",
       "version_major": 2,
       "version_minor": 0
      },
      "text/plain": [
       "  0%|          | 0/1000 [00:00<?, ?it/s]"
      ]
     },
     "metadata": {},
     "output_type": "display_data"
    },
    {
     "data": {
      "application/vnd.jupyter.widget-view+json": {
       "model_id": "c53e17bda5d047a08ac10c7f92225f0b",
       "version_major": 2,
       "version_minor": 0
      },
      "text/plain": [
       "  0%|          | 0/1000 [00:00<?, ?it/s]"
      ]
     },
     "metadata": {},
     "output_type": "display_data"
    },
    {
     "data": {
      "application/vnd.jupyter.widget-view+json": {
       "model_id": "b1fb614f1e3247d5818a163ccbe1eef2",
       "version_major": 2,
       "version_minor": 0
      },
      "text/plain": [
       "  0%|          | 0/1000 [00:00<?, ?it/s]"
      ]
     },
     "metadata": {},
     "output_type": "display_data"
    },
    {
     "data": {
      "application/vnd.jupyter.widget-view+json": {
       "model_id": "16f61615d4e04ccfa222560dada75b8b",
       "version_major": 2,
       "version_minor": 0
      },
      "text/plain": [
       "  0%|          | 0/1000 [00:00<?, ?it/s]"
      ]
     },
     "metadata": {},
     "output_type": "display_data"
    },
    {
     "data": {
      "application/vnd.jupyter.widget-view+json": {
       "model_id": "eab3561e2b6542ee9783fca4663d850a",
       "version_major": 2,
       "version_minor": 0
      },
      "text/plain": [
       "  0%|          | 0/1000 [00:00<?, ?it/s]"
      ]
     },
     "metadata": {},
     "output_type": "display_data"
    },
    {
     "data": {
      "application/vnd.jupyter.widget-view+json": {
       "model_id": "c9478bdc2f4c40778511b7192944feba",
       "version_major": 2,
       "version_minor": 0
      },
      "text/plain": [
       "  0%|          | 0/1000 [00:00<?, ?it/s]"
      ]
     },
     "metadata": {},
     "output_type": "display_data"
    },
    {
     "data": {
      "application/vnd.jupyter.widget-view+json": {
       "model_id": "ce5ece67545243a4a5c0831ee9a8d230",
       "version_major": 2,
       "version_minor": 0
      },
      "text/plain": [
       "  0%|          | 0/1000 [00:00<?, ?it/s]"
      ]
     },
     "metadata": {},
     "output_type": "display_data"
    },
    {
     "data": {
      "application/vnd.jupyter.widget-view+json": {
       "model_id": "85a883097cd04659b40e2a9f4aeeba6b",
       "version_major": 2,
       "version_minor": 0
      },
      "text/plain": [
       "  0%|          | 0/1000 [00:00<?, ?it/s]"
      ]
     },
     "metadata": {},
     "output_type": "display_data"
    },
    {
     "data": {
      "application/vnd.jupyter.widget-view+json": {
       "model_id": "42802974798647e1a5cfbe349c0011da",
       "version_major": 2,
       "version_minor": 0
      },
      "text/plain": [
       "  0%|          | 0/1000 [00:00<?, ?it/s]"
      ]
     },
     "metadata": {},
     "output_type": "display_data"
    },
    {
     "data": {
      "application/vnd.jupyter.widget-view+json": {
       "model_id": "571b8e541f3b470391b6551aac23a6a4",
       "version_major": 2,
       "version_minor": 0
      },
      "text/plain": [
       "  0%|          | 0/1000 [00:00<?, ?it/s]"
      ]
     },
     "metadata": {},
     "output_type": "display_data"
    },
    {
     "data": {
      "application/vnd.jupyter.widget-view+json": {
       "model_id": "ccd2aec33b18403580ad055e46dc1866",
       "version_major": 2,
       "version_minor": 0
      },
      "text/plain": [
       "  0%|          | 0/1000 [00:00<?, ?it/s]"
      ]
     },
     "metadata": {},
     "output_type": "display_data"
    },
    {
     "data": {
      "application/vnd.jupyter.widget-view+json": {
       "model_id": "3363a9841c6a4b41b8c3b2711988328b",
       "version_major": 2,
       "version_minor": 0
      },
      "text/plain": [
       "  0%|          | 0/1000 [00:00<?, ?it/s]"
      ]
     },
     "metadata": {},
     "output_type": "display_data"
    },
    {
     "data": {
      "application/vnd.jupyter.widget-view+json": {
       "model_id": "9505ae364ade4d07b81454b3b6b7f094",
       "version_major": 2,
       "version_minor": 0
      },
      "text/plain": [
       "  0%|          | 0/1000 [00:00<?, ?it/s]"
      ]
     },
     "metadata": {},
     "output_type": "display_data"
    },
    {
     "data": {
      "application/vnd.jupyter.widget-view+json": {
       "model_id": "5a463935b006412586545c408b7a346d",
       "version_major": 2,
       "version_minor": 0
      },
      "text/plain": [
       "  0%|          | 0/1000 [00:00<?, ?it/s]"
      ]
     },
     "metadata": {},
     "output_type": "display_data"
    },
    {
     "data": {
      "application/vnd.jupyter.widget-view+json": {
       "model_id": "af4789cc80fc4856b61dd3fdb7c13454",
       "version_major": 2,
       "version_minor": 0
      },
      "text/plain": [
       "  0%|          | 0/1000 [00:00<?, ?it/s]"
      ]
     },
     "metadata": {},
     "output_type": "display_data"
    },
    {
     "data": {
      "application/vnd.jupyter.widget-view+json": {
       "model_id": "a070d1112e6f452ebe14d70521024261",
       "version_major": 2,
       "version_minor": 0
      },
      "text/plain": [
       "  0%|          | 0/1000 [00:00<?, ?it/s]"
      ]
     },
     "metadata": {},
     "output_type": "display_data"
    },
    {
     "data": {
      "application/vnd.jupyter.widget-view+json": {
       "model_id": "989195f04ac441ac8504f77e62cbd62c",
       "version_major": 2,
       "version_minor": 0
      },
      "text/plain": [
       "  0%|          | 0/1000 [00:00<?, ?it/s]"
      ]
     },
     "metadata": {},
     "output_type": "display_data"
    },
    {
     "name": "stdout",
     "output_type": "stream",
     "text": [
      "[]\n",
      "9500\n"
     ]
    }
   ],
   "source": [
    "average_journal_stems = {\n",
    "    'D': [], \n",
    "    'D2': [], \n",
    "    'D3': [], \n",
    "    'D4': [], \n",
    "}\n",
    "problematic_journals_stems = []\n",
    "count = 0\n",
    "for fieldOfStudy in tqdm(all_fieldsOfStudy):\n",
    "    fieldsOfStudy_folder = os.path.join(data_folder,'journals_fieldsOfStudy',fieldOfStudy)\n",
    "    journals_filepaths = sorted(find_pattern('*.tsv', fieldsOfStudy_folder))\n",
    "    if len(journals_filepaths) != num_journals:\n",
    "        print(f'Error! Found {len(journals_filepaths)} journals for {fieldOfStudy} instead of {num_journals}')\n",
    "        break\n",
    "    for path in tqdm(journals_filepaths):\n",
    "        try:\n",
    "            file_name = path[-path[::-1].index('/'):path.index('.tsv')]\n",
    "            save_all_file_path = os.path.join(analysis_folder, 'journals_fieldsOfStudy_stems',fieldOfStudy,file_name + '.pkl')\n",
    "            save_light_file_path = os.path.join(analysis_folder, 'journals_fieldsOfStudy_stems_light',fieldOfStudy,file_name +\"_light.pkl\")\n",
    "            with open(save_all_file_path, 'rb') as fp:\n",
    "                result = pickle.load(fp)\n",
    "            if len(result['D']) > median_len_sequences:\n",
    "                count += 1\n",
    "                average_journal_stems['D'].append(result['D'][:median_len_sequences])\n",
    "                average_journal_stems['D2'].append(result['D2'][:median_len_sequences])\n",
    "                average_journal_stems['D3'].append(result['D3'][:median_len_sequences])\n",
    "                average_journal_stems['D4'].append(result['D4'][:median_len_sequences])\n",
    "        except FileNotFoundError:\n",
    "            problematic_journals_stems.append(ID)\n",
    "print(problematic_journals_stems)\n",
    "for key in ['D', 'D2', 'D3', 'D4']:\n",
    "    average_journal_stems[key] = np.array(average_journal_stems[key])\n",
    "    mean = np.mean(average_journal_stems[key], axis=0)\n",
    "    std = np.std(average_journal_stems[key], axis=0)\n",
    "    average_journal_stems[key+'_plus_std'] = mean + std\n",
    "    average_journal_stems[key+'_minus_std'] = mean - std\n",
    "    average_journal_stems[key+'_25_percentile'] = np.percentile(average_journal_stems[key], 25, axis = 0)\n",
    "    average_journal_stems[key+'_50_percentile'] = np.percentile(average_journal_stems[key], 50, axis = 0)\n",
    "    average_journal_stems[key+'_75_percentile'] = np.percentile(average_journal_stems[key], 75, axis = 0)\n",
    "    average_journal_stems[key] = mean\n",
    "\n",
    "print(count)"
   ]
  },
  {
   "cell_type": "code",
   "execution_count": 130,
   "metadata": {},
   "outputs": [],
   "source": [
    "D = average_journal_stems['D']\n",
    "D2 = average_journal_stems['D2']\n",
    "D3 = average_journal_stems['D3']\n",
    "D4 = average_journal_stems['D4']\n",
    "indices = np.arange(len(D))\n",
    "save_light_file_path = os.path.join(analysis_folder, 'average_individual_results_light_journals_fieldsOfStudy_stems.pkl')\n",
    "save_all_file_path = os.path.join(analysis_folder, f\"average_individual_results_journals_fieldsOfStudy_stems.pkl\")\n",
    "average_results_journal_stems = analyse_sequence(None, num_to_save=1000, \n",
    "                         calculate_entropies_original = False, calculate_entropies_labels = False,\n",
    "                         D=D, D2=D2, D3=D3, D4=D4, sequence_labels = None,\n",
    "                         save_all=True, save_all_file_path = save_all_file_path, \n",
    "                         save_light_file_path = save_light_file_path,\n",
    "                         calculate_beta_loglogregr_indices = False,\n",
    "                         use_D_as_D_indices = True, indices=indices,\n",
    "                         do_prints = False, return_all = True)\n",
    "os.remove(save_light_file_path)\n",
    "for key in average_journal_stems.keys():\n",
    "    average_results_journal_stems[key] = average_journal_stems[key]\n",
    "with open(save_all_file_path,'wb') as fp:\n",
    "    pickle.dump(average_results_journal_stems,fp)"
   ]
  },
  {
   "cell_type": "markdown",
   "metadata": {},
   "source": [
    "### Collective analysis"
   ]
  },
  {
   "cell_type": "markdown",
   "metadata": {},
   "source": [
    "#### Get randomized sequences"
   ]
  },
  {
   "cell_type": "code",
   "execution_count": 24,
   "metadata": {},
   "outputs": [],
   "source": [
    "scratch_folder = '/data/scratch/ahw701/pairs_petralia/github/data/semanticscholar/2022-01-01/analysis/'"
   ]
  },
  {
   "cell_type": "code",
   "execution_count": 16,
   "metadata": {},
   "outputs": [],
   "source": [
    "os.makedirs(os.path.join(scratch_folder, f\"randomized_collective_sequences\"), exist_ok = True)\n",
    "os.makedirs(os.path.join(scratch_folder, f\"randomized_collective_sequences_labels\"), exist_ok = True)"
   ]
  },
  {
   "cell_type": "code",
   "execution_count": null,
   "metadata": {},
   "outputs": [
    {
     "name": "stderr",
     "output_type": "stream",
     "text": [
      "  0%|          | 0/100 [00:00<?, ?it/s]"
     ]
    },
    {
     "name": "stdout",
     "output_type": "stream",
     "text": [
      "2023-07-12 18:27:06.699524\n"
     ]
    },
    {
     "name": "stderr",
     "output_type": "stream",
     "text": [
      "  1%|          | 1/100 [12:27<20:32:45, 747.13s/it]"
     ]
    }
   ],
   "source": [
    "print(datetime.now())\n",
    "for random_ID in tqdm(range(100)):\n",
    "    sequence = []\n",
    "    randomized_journals_filepaths = []\n",
    "    for fieldOfStudy in all_fieldsOfStudy:\n",
    "        fieldsOfStudy_folder = os.path.join(data_folder,'journals_fieldsOfStudy',fieldOfStudy)\n",
    "        journals_filepaths = sorted(find_pattern('*.tsv', fieldsOfStudy_folder))\n",
    "        if len(journals_filepaths) != num_journals:\n",
    "            print(f'Error! Found {len(journals_filepaths)} journals for {fieldOfStudy} instead of {num_journals}')\n",
    "            break\n",
    "        randomized_journals_filepaths += journals_filepaths\n",
    "    random.Random(random_ID).shuffle(randomized_journals_filepaths)\n",
    "    for path in randomized_journals_filepaths:\n",
    "        with open(path, 'r', newline='\\n') as fp:\n",
    "            tsv_output = csv.reader(fp, delimiter='\\n')\n",
    "            for _ in tsv_output:\n",
    "                sequence.append(int(_[0]))\n",
    "    sequence = np.array(sequence)\n",
    "    with open(os.path.join(scratch_folder, f\"randomized_collective_sequences\", f'{random_ID}.pkl'), 'wb') as fp:\n",
    "        joblib.dump(sequence, fp)\n",
    "print(datetime.now())"
   ]
  },
  {
   "cell_type": "code",
   "execution_count": 27,
   "metadata": {},
   "outputs": [
    {
     "name": "stderr",
     "output_type": "stream",
     "text": [
      "  0%|          | 0/100 [00:00<?, ?it/s]"
     ]
    },
    {
     "name": "stdout",
     "output_type": "stream",
     "text": [
      "2023-08-28 15:29:42.681365\n"
     ]
    },
    {
     "name": "stderr",
     "output_type": "stream",
     "text": [
      "100%|██████████| 100/100 [6:30:02<00:00, 234.02s/it] "
     ]
    },
    {
     "name": "stdout",
     "output_type": "stream",
     "text": [
      "2023-08-28 21:59:44.932421\n"
     ]
    },
    {
     "name": "stderr",
     "output_type": "stream",
     "text": [
      "\n"
     ]
    }
   ],
   "source": [
    "print(datetime.now())\n",
    "for random_ID in tqdm(range(100)):\n",
    "    if random_ID < 37:\n",
    "        continue\n",
    "    sequence_labels = []\n",
    "    randomized_journals_filepaths = []\n",
    "    for fieldOfStudy in all_fieldsOfStudy:\n",
    "        fieldsOfStudy_folder = os.path.join(data_folder,'journals_fieldsOfStudy_stems',fieldOfStudy)\n",
    "        journals_filepaths = sorted(find_pattern('*.tsv', fieldsOfStudy_folder))\n",
    "        if len(journals_filepaths) != num_journals:\n",
    "            print(f'Error! Found {len(journals_filepaths)} journals for {fieldOfStudy} instead of {num_journals}')\n",
    "            break\n",
    "        randomized_journals_filepaths += journals_filepaths\n",
    "    random.Random(random_ID).shuffle(randomized_journals_filepaths)\n",
    "    for path in randomized_journals_filepaths:\n",
    "        with open(path, 'r', newline='\\n') as fp:\n",
    "            tsv_output = csv.reader(fp, delimiter='\\n')\n",
    "            for _ in tsv_output:\n",
    "                sequence_labels.append(int(_[0]))\n",
    "    sequence_labels = np.array(sequence_labels)\n",
    "    with open(os.path.join(scratch_folder, f\"randomized_collective_sequences_labels\", f'{random_ID}.pkl'), 'wb') as fp:\n",
    "        joblib.dump(sequence_labels, fp)\n",
    "print(datetime.now())"
   ]
  },
  {
   "cell_type": "markdown",
   "metadata": {},
   "source": [
    "## By field of study and author"
   ]
  },
  {
   "cell_type": "markdown",
   "metadata": {},
   "source": [
    "### Individual analysis"
   ]
  },
  {
   "cell_type": "code",
   "execution_count": 40,
   "metadata": {},
   "outputs": [],
   "source": [
    "data_folder = os.path.join('./data/semanticscholar',corpus_version, 'data')\n",
    "analysis_folder = os.path.join('./data/semanticscholar',corpus_version, 'analysis')\n",
    "os.makedirs(analysis_folder,exist_ok = True)"
   ]
  },
  {
   "cell_type": "code",
   "execution_count": null,
   "metadata": {},
   "outputs": [],
   "source": [
    "results_light_individual_authors_fieldsOfStudy = {}\n",
    "num_authors = 1000\n",
    "for fieldOfStudy in tqdm(all_fieldsOfStudy):\n",
    "    fieldsOfStudy_folder = os.path.join(data_folder,'authors_fieldsOfStudy',fieldOfStudy)\n",
    "    authors_filepaths = sorted(find_pattern('*.tsv', fieldsOfStudy_folder))\n",
    "    if len(authors_filepaths) != num_authors:\n",
    "        print(f'Error! Found {len(authors_filepaths)} authors for {fieldOfStudy} instead of {num_authors}')\n",
    "        break\n",
    "        \n",
    "    results_light_individual_authors_fieldsOfStudy[fieldOfStudy] = {}\n",
    "    for path in tqdm(authors_filepaths):\n",
    "        sequence = [] \n",
    "        with open(path, 'r', newline='\\n') as fp:\n",
    "            tsv_output = csv.reader(fp, delimiter='\\n')\n",
    "            for _ in tsv_output:\n",
    "                sequence.append(int(_[0]))\n",
    "        sequence_labels = sequence.copy()\n",
    "        file_name = path[-path[::-1].index('/'):path.index('.tsv')]\n",
    "        save_light_file_path = os.path.join(analysis_folder, 'authors_fieldsOfStudy',fieldOfStudy,file_name + '.pkl')\n",
    "        save_all_file_path = os.path.join(analysis_folder, 'authors_fieldsOfStudy',fieldOfStudy,file_name + '.pkl')\n",
    "        save_entropies_file_path = os.path.join(analysis_folder, 'authors_fieldsOfStudy_entropy',fieldOfStudy,file_name + '.pkl')\n",
    "        results_light_individual_authors_fieldsOfStudy[fieldOfStudy][file_name] = analyse_sequence(sequence, num_to_save=1000, \n",
    "                         calculate_entropies_original = False, calculate_entropies_labels = True,\n",
    "                         D=None, D2=None, D3=None, D4=None, sequence_labels = sequence_labels,\n",
    "                         save_all=True, save_all_file_path = save_all_file_path, \n",
    "                         save_light_file_path = save_light_file_path,\n",
    "                         save_entropies_file_path = save_entropies_file_path,\n",
    "                         calculate_beta_loglogregr_indices = False,\n",
    "                         do_prints = False, return_all = False)"
   ]
  },
  {
   "cell_type": "code",
   "execution_count": null,
   "metadata": {
    "tags": []
   },
   "outputs": [],
   "source": [
    "with gzip.open(os.path.join(analysis_folder, 'authors_fieldsOfStudy', 'results_light_individual_authors_fieldsOfStudy.pkl.gz'), 'wb') as fp:\n",
    "    joblib.dump(results_light_individual_authors_fieldsOfStudy, fp)"
   ]
  },
  {
   "cell_type": "code",
   "execution_count": 41,
   "metadata": {
    "tags": []
   },
   "outputs": [],
   "source": [
    "with gzip.open(os.path.join(analysis_folder, 'authors_fieldsOfStudy', 'results_light_individual_authors_fieldsOfStudy.pkl.gz'), 'rb') as fp:\n",
    "    results_light_individual_authors_fieldsOfStudy = joblib.load(fp)"
   ]
  },
  {
   "cell_type": "markdown",
   "metadata": {},
   "source": [
    "## By author"
   ]
  },
  {
   "cell_type": "markdown",
   "metadata": {},
   "source": [
    "### Individual analysis"
   ]
  },
  {
   "cell_type": "code",
   "execution_count": 116,
   "metadata": {},
   "outputs": [],
   "source": [
    "data_folder = os.path.join('./data/semanticscholar',corpus_version, 'data')\n",
    "analysis_folder = os.path.join('./data/semanticscholar',corpus_version, 'analysis')\n",
    "os.makedirs(analysis_folder,exist_ok = True)"
   ]
  },
  {
   "cell_type": "code",
   "execution_count": null,
   "metadata": {},
   "outputs": [],
   "source": [
    "num_authors = 10000\n",
    "authors_folder = os.path.join(data_folder,'authors')\n",
    "authors_filepaths = sorted(find_pattern('*.tsv', authors_folder))\n",
    "if len(authors_filepaths) != num_authors:\n",
    "    print(f'Error! Found {len(authors_filepaths)} authors for {fieldOfStudy} instead of {num_authors}')\n",
    "\n",
    "results_light_individual_authors = {}\n",
    "for path in tqdm(authors_filepaths):\n",
    "    file_name = path[-path[::-1].index('/'):path.index('.tsv')]\n",
    "    save_light_file_path = os.path.join(analysis_folder, 'authors',file_name + '.pkl')\n",
    "    if not os.path.exists(save_light_file_path):\n",
    "        sequence = [] \n",
    "        with open(path, 'r', newline='\\n') as fp:\n",
    "            tsv_output = csv.reader(fp, delimiter='\\n')\n",
    "            for _ in tsv_output:\n",
    "                sequence.append(int(_[0]))\n",
    "        sequence_labels = sequence.copy()\n",
    "        save_all_file_path = os.path.join(analysis_folder, 'authors',file_name + '.pkl')\n",
    "        save_entropies_file_path = os.path.join(analysis_folder, 'authors_entropy',fieldOfStudy,file_name + '.pkl')\n",
    "        results_light_individual_authors[file_name] = analyse_sequence(sequence, num_to_save=1000, \n",
    "                         calculate_entropies_original = False, calculate_entropies_labels = True,\n",
    "                         D=None, D2=None, D3=None, D4=None, sequence_labels = sequence_labels,\n",
    "                         save_all=True, save_all_file_path = save_all_file_path, \n",
    "                         save_light_file_path = save_light_file_path,\n",
    "                         save_entropies_file_path = save_entropies_file_path,\n",
    "                         calculate_beta_loglogregr_indices = False,\n",
    "                         do_prints = False, return_all = False)"
   ]
  },
  {
   "cell_type": "code",
   "execution_count": 134,
   "metadata": {
    "tags": []
   },
   "outputs": [],
   "source": [
    "with gzip.open(os.path.join(analysis_folder, 'authors', 'results_light_individual_authors.pkl.gz'), 'wb') as fp:\n",
    "    joblib.dump(results_light_individual_authors, fp)"
   ]
  },
  {
   "cell_type": "code",
   "execution_count": null,
   "metadata": {
    "tags": []
   },
   "outputs": [],
   "source": [
    "with gzip.open(os.path.join(analysis_folder, 'authors', 'results_light_individual_authors.pkl.gz'), 'rb') as fp:\n",
    "    results_light_individual_authors = joblib.load(fp)"
   ]
  }
 ],
 "metadata": {
  "kernelspec": {
   "display_name": "Python 3 (ipykernel)",
   "language": "python",
   "name": "python3"
  },
  "language_info": {
   "codemirror_mode": {
    "name": "ipython",
    "version": 3
   },
   "file_extension": ".py",
   "mimetype": "text/x-python",
   "name": "python",
   "nbconvert_exporter": "python",
   "pygments_lexer": "ipython3",
   "version": "3.9.5"
  },
  "toc-autonumbering": true
 },
 "nbformat": 4,
 "nbformat_minor": 4
}
