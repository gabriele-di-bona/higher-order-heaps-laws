{
 "cells": [
  {
   "cell_type": "markdown",
   "metadata": {},
   "source": [
    "# Libraries"
   ]
  },
  {
   "cell_type": "code",
   "execution_count": 1,
   "metadata": {},
   "outputs": [],
   "source": [
    "import numpy as np\n",
    "import pickle\n",
    "import os\n",
    "# Change directory to the root of the folder (this script was launched from the subfolder python_scripts)\n",
    "# All utils presuppose that we are working from the root directory of the github folder\n",
    "os.chdir(\"../\")\n",
    "import sys\n",
    "# Add utils directory in the list of directories to look for packages to import\n",
    "sys.path.insert(0, os.path.join(os.getcwd(),'utils'))\n",
    "import matplotlib.pyplot as plt\n",
    "from tqdm.notebook import tqdm\n",
    "import pandas as pd\n",
    "from datetime import datetime\n",
    "import joblib\n",
    "import gzip\n",
    "import csv\n",
    "import fnmatch\n",
    "from nltk.stem import WordNetLemmatizer\n",
    "from nltk.stem.snowball import SnowballStemmer\n",
    "import cld3\n",
    "from iso639 import languages\n",
    "import re"
   ]
  },
  {
   "cell_type": "code",
   "execution_count": 2,
   "metadata": {},
   "outputs": [],
   "source": [
    "# local utils\n",
    "from powerlaw_regr import *\n",
    "from analyse_sequence import *"
   ]
  },
  {
   "cell_type": "code",
   "execution_count": 3,
   "metadata": {},
   "outputs": [],
   "source": [
    "# DEFAULT PARAMETERS IN THE FIGURES TO BE ADJUSTED!!!!\n",
    "\n",
    "plt.style.use(\"default\")\n",
    "\n",
    "multiplicator = 4\n",
    "width_fig = 5.70978 * multiplicator # default text width in Comnet is 5.70978\n",
    "height_fig = width_fig * 2 / 3\n",
    "\n",
    "\n",
    "params_default = {\n",
    "    # no upper and right axes\n",
    "    'axes.spines.right' : False,\n",
    "    'axes.spines.top' : False,\n",
    "    # no frame around the legend\n",
    "    \"legend.frameon\" : False,\n",
    "\n",
    "    # dimensions of figures and labels\n",
    "    # we will play with these once we see how they are rendered in the latex\n",
    "    'figure.figsize' : (width_fig, height_fig),\n",
    "\n",
    "    'axes.labelsize' : 8 * multiplicator, #22,\n",
    "    'axes.titlesize' : 8 * multiplicator, #25,\n",
    "    'xtick.labelsize' : 6 * multiplicator, #18,\n",
    "    'ytick.labelsize' : 6 * multiplicator, #18,\n",
    "    'legend.fontsize' : 6 * multiplicator, #16,\n",
    "    'font.size' : 8 * multiplicator,\n",
    "\n",
    "    # no grids (?)\n",
    "    'axes.grid' : False,\n",
    "\n",
    "    # the default color(s) for lines in the plots: in order if multiple lines. We can change them or add colors if needed\n",
    "#     'axes.prop_cycle' : mpl.cycler(color=[\"#00008B\", \"#BF0000\", \"#006400\"]), \n",
    "\n",
    "    # default quality of the plot. Not too high but neither too low\n",
    "    \"savefig.dpi\" : 100,\n",
    "    \"savefig.bbox\" : 'tight', \n",
    "    \n",
    "    'mathtext.fontset': 'stix',\n",
    "    'font.family': 'STIXGeneral',\n",
    "    \n",
    "#     'text.usetex' : True,\n",
    "#     'text.latex.preamble': r\"\\usepackage{amsmath}\",\n",
    "}\n",
    "\n",
    "plt.rcParams.update(params_default)"
   ]
  },
  {
   "cell_type": "code",
   "execution_count": 4,
   "metadata": {},
   "outputs": [],
   "source": [
    "def find_pattern(pattern, path):\n",
    "    '''\n",
    "        Finds all the paths inside path that are of the given pattern.\n",
    "\n",
    "        E.g.: find_pattern(\"*.pkl\", \"./\") to find all the files terminating with .pkl inside the current directory\n",
    "\n",
    "        Returns the list of all such paths (empty is none is found).\n",
    "    '''\n",
    "    result = []\n",
    "    for root, dirs, files in os.walk(path):\n",
    "        for name in files:\n",
    "            if fnmatch.fnmatch(name, pattern):\n",
    "                result.append(os.path.join(root, name))\n",
    "    return result\n"
   ]
  },
  {
   "cell_type": "code",
   "execution_count": 5,
   "metadata": {},
   "outputs": [],
   "source": [
    "# prune text from punctuation and junk...\n",
    "wnl = WordNetLemmatizer()\n",
    "pattern = re.compile(r'\\B#\\w*[A-Za-z]+\\w*|\\b\\w*[A-Za-z]+\\w*', re.UNICODE)\n",
    "def lemmatize(doc):\n",
    "    '''\n",
    "        Takes a string doc and returns the list of words, without punctuation and junk\n",
    "    '''\n",
    "    l = [wnl.lemmatize(t) for t in pattern.findall(doc)]\n",
    "    return [w.lower() for w in l if len(w) > 1]"
   ]
  },
  {
   "cell_type": "markdown",
   "metadata": {},
   "source": [
    "# Last.fm - 1k (O.Celma)"
   ]
  },
  {
   "cell_type": "markdown",
   "metadata": {},
   "source": [
    "## 1st processing: time ordering"
   ]
  },
  {
   "cell_type": "code",
   "execution_count": 9,
   "metadata": {},
   "outputs": [],
   "source": [
    "file_path = \"./data/ocelma-dataset/lastfm-dataset-1K/userid-timestamp-artid-artname-traid-traname.tsv\""
   ]
  },
  {
   "cell_type": "code",
   "execution_count": null,
   "metadata": {},
   "outputs": [],
   "source": [
    "df_lastfm = pd.read_csv(file_path, sep=\"\\t\", \n",
    "#                       converters={'timestamp':pd.to_datetime},\n",
    "#                       parse_dates=['timestamp'],\n",
    "#                       date_parser=my_date_parser,\n",
    "#                       infer_datetime_format=True, date_parser=[\"timestamp\"],\n",
    "                      error_bad_lines=False, quoting=3, lineterminator=\"\\n\", \n",
    "                names=[\"userid\", \"timestamp\", \"musicbrainz-artist-id\", \"artist-name\", \"musicbrainz-track-id\", \"track-name\"])"
   ]
  },
  {
   "cell_type": "code",
   "execution_count": null,
   "metadata": {},
   "outputs": [],
   "source": [
    "my_format=\"%Y-%m-%dT%H:%M:%SZ\"\n",
    "\n",
    "\n",
    "def lookup(date_pd_series, format=None):\n",
    "    \"\"\"\n",
    "    This is mostly useful for repeated timestamps, otherwise mostly useless.\n",
    "    This is an extremely fast approach to datetime parsing.\n",
    "    For large data, the same dates are often repeated. Rather than\n",
    "    re-parse these, we store all unique dates, parse them, and\n",
    "    use a lookup to convert all dates.\n",
    "    \"\"\"\n",
    "    dates = {date:pd.to_datetime(date, format=format) for date in tqdm(date_pd_series.unique())}\n",
    "    return date_pd_series.map(dates)\n",
    "df_lastfm['timestamp'] = lookup(df_lastfm['timestamp'], format=my_format)"
   ]
  },
  {
   "cell_type": "code",
   "execution_count": 93,
   "metadata": {},
   "outputs": [
    {
     "data": {
      "text/plain": [
       "userid                                            user_000405\n",
       "timestamp                                2010-08-13T23:06:38Z\n",
       "musicbrainz-artist-id    5f572b31-8fd9-45ae-9beb-358c98d839df\n",
       "artist-name                                 The Dandy Warhols\n",
       "musicbrainz-track-id     223f9324-3546-446b-96a2-5f663192dd42\n",
       "track-name                                              Sleep\n",
       "Name: 7727675, dtype: object"
      ]
     },
     "execution_count": 93,
     "metadata": {},
     "output_type": "execute_result"
    }
   ],
   "source": [
    "df_lastfm.iloc[7727675]"
   ]
  },
  {
   "cell_type": "code",
   "execution_count": 94,
   "metadata": {},
   "outputs": [
    {
     "data": {
      "text/plain": [
       "userid                                            user_000762\n",
       "timestamp                                2013-09-29T18:32:04Z\n",
       "musicbrainz-artist-id    d8354b38-e942-4c89-ba93-29323432abc3\n",
       "artist-name                                30 Seconds To Mars\n",
       "musicbrainz-track-id     b5b40605-5a81-46b4-a51e-2b1ec7964c1a\n",
       "track-name                                    A Beautiful Lie\n",
       "Name: 14343563, dtype: object"
      ]
     },
     "execution_count": 94,
     "metadata": {},
     "output_type": "execute_result"
    }
   ],
   "source": [
    "df_lastfm.iloc[14343563]"
   ]
  },
  {
   "cell_type": "code",
   "execution_count": 76,
   "metadata": {},
   "outputs": [],
   "source": [
    "with open(\"./data/ocelma-dataset/lastfm-dataset-1K/df_orig.pkl\", \"wb\") as fp:\n",
    "    joblib.dump(df_lastfm, fp)"
   ]
  },
  {
   "cell_type": "code",
   "execution_count": 86,
   "metadata": {},
   "outputs": [],
   "source": [
    "df_lastfm = df_lastfm.sort_values(['timestamp', \"userid\"])"
   ]
  },
  {
   "cell_type": "code",
   "execution_count": 87,
   "metadata": {},
   "outputs": [
    {
     "data": {
      "text/html": [
       "<div>\n",
       "<style scoped>\n",
       "    .dataframe tbody tr th:only-of-type {\n",
       "        vertical-align: middle;\n",
       "    }\n",
       "\n",
       "    .dataframe tbody tr th {\n",
       "        vertical-align: top;\n",
       "    }\n",
       "\n",
       "    .dataframe thead th {\n",
       "        text-align: right;\n",
       "    }\n",
       "</style>\n",
       "<table border=\"1\" class=\"dataframe\">\n",
       "  <thead>\n",
       "    <tr style=\"text-align: right;\">\n",
       "      <th></th>\n",
       "      <th>userid</th>\n",
       "      <th>timestamp</th>\n",
       "      <th>musicbrainz-artist-id</th>\n",
       "      <th>artist-name</th>\n",
       "      <th>musicbrainz-track-id</th>\n",
       "      <th>track-name</th>\n",
       "    </tr>\n",
       "  </thead>\n",
       "  <tbody>\n",
       "    <tr>\n",
       "      <th>7589788</th>\n",
       "      <td>user_000391</td>\n",
       "      <td>2005-02-14 00:00:07</td>\n",
       "      <td>fbd86487-ccb5-4a57-a860-cc3d360b5115</td>\n",
       "      <td>Starsailor</td>\n",
       "      <td>6b4977f4-3c7a-492a-af61-1e877fa66f52</td>\n",
       "      <td>Love Is Here</td>\n",
       "    </tr>\n",
       "    <tr>\n",
       "      <th>16931166</th>\n",
       "      <td>user_000871</td>\n",
       "      <td>2005-02-14 00:00:38</td>\n",
       "      <td>b3a6ebdf-4ee6-4ec0-912c-be03ade6c833</td>\n",
       "      <td>Sui Generis</td>\n",
       "      <td>9ecc2ab3-7294-43ad-bdeb-f51388a7a6e0</td>\n",
       "      <td>Rasguña Las Piedras</td>\n",
       "    </tr>\n",
       "    <tr>\n",
       "      <th>13542781</th>\n",
       "      <td>user_000709</td>\n",
       "      <td>2005-02-14 00:01:44</td>\n",
       "      <td>b4d32cff-f19e-455f-86c4-f347d824ca61</td>\n",
       "      <td>Eurythmics</td>\n",
       "      <td>1d0f1ea5-0a92-4578-a7e7-3f2a7129da61</td>\n",
       "      <td>Love Is A Stranger</td>\n",
       "    </tr>\n",
       "    <tr>\n",
       "      <th>5604026</th>\n",
       "      <td>user_000285</td>\n",
       "      <td>2005-02-14 00:02:10</td>\n",
       "      <td>95e1ead9-4d31-4808-a7ac-32c3614c116b</td>\n",
       "      <td>The Killers</td>\n",
       "      <td>46909ba9-46c7-461e-a2ef-280eacd550e4</td>\n",
       "      <td>Jenny Was A Friend Of Mine</td>\n",
       "    </tr>\n",
       "    <tr>\n",
       "      <th>2882463</th>\n",
       "      <td>user_000142</td>\n",
       "      <td>2005-02-14 00:02:40</td>\n",
       "      <td>51086134-0896-4c00-b54a-c5c37aeaf2bf</td>\n",
       "      <td>Anton Maiden</td>\n",
       "      <td>14025355-94c2-4e9b-b63f-c16cab9e8086</td>\n",
       "      <td>Revelations</td>\n",
       "    </tr>\n",
       "  </tbody>\n",
       "</table>\n",
       "</div>"
      ],
      "text/plain": [
       "               userid           timestamp  \\\n",
       "7589788   user_000391 2005-02-14 00:00:07   \n",
       "16931166  user_000871 2005-02-14 00:00:38   \n",
       "13542781  user_000709 2005-02-14 00:01:44   \n",
       "5604026   user_000285 2005-02-14 00:02:10   \n",
       "2882463   user_000142 2005-02-14 00:02:40   \n",
       "\n",
       "                         musicbrainz-artist-id   artist-name  \\\n",
       "7589788   fbd86487-ccb5-4a57-a860-cc3d360b5115    Starsailor   \n",
       "16931166  b3a6ebdf-4ee6-4ec0-912c-be03ade6c833   Sui Generis   \n",
       "13542781  b4d32cff-f19e-455f-86c4-f347d824ca61    Eurythmics   \n",
       "5604026   95e1ead9-4d31-4808-a7ac-32c3614c116b   The Killers   \n",
       "2882463   51086134-0896-4c00-b54a-c5c37aeaf2bf  Anton Maiden   \n",
       "\n",
       "                          musicbrainz-track-id                  track-name  \n",
       "7589788   6b4977f4-3c7a-492a-af61-1e877fa66f52                Love Is Here  \n",
       "16931166  9ecc2ab3-7294-43ad-bdeb-f51388a7a6e0         Rasguña Las Piedras  \n",
       "13542781  1d0f1ea5-0a92-4578-a7e7-3f2a7129da61          Love Is A Stranger  \n",
       "5604026   46909ba9-46c7-461e-a2ef-280eacd550e4  Jenny Was A Friend Of Mine  \n",
       "2882463   14025355-94c2-4e9b-b63f-c16cab9e8086                 Revelations  "
      ]
     },
     "execution_count": 87,
     "metadata": {},
     "output_type": "execute_result"
    }
   ],
   "source": [
    "df_lastfm.head()"
   ]
  },
  {
   "cell_type": "code",
   "execution_count": 96,
   "metadata": {},
   "outputs": [
    {
     "data": {
      "text/html": [
       "<div>\n",
       "<style scoped>\n",
       "    .dataframe tbody tr th:only-of-type {\n",
       "        vertical-align: middle;\n",
       "    }\n",
       "\n",
       "    .dataframe tbody tr th {\n",
       "        vertical-align: top;\n",
       "    }\n",
       "\n",
       "    .dataframe thead th {\n",
       "        text-align: right;\n",
       "    }\n",
       "</style>\n",
       "<table border=\"1\" class=\"dataframe\">\n",
       "  <thead>\n",
       "    <tr style=\"text-align: right;\">\n",
       "      <th></th>\n",
       "      <th>userid</th>\n",
       "      <th>timestamp</th>\n",
       "      <th>musicbrainz-artist-id</th>\n",
       "      <th>artist-name</th>\n",
       "      <th>musicbrainz-track-id</th>\n",
       "      <th>track-name</th>\n",
       "    </tr>\n",
       "  </thead>\n",
       "  <tbody>\n",
       "    <tr>\n",
       "      <th>12052920</th>\n",
       "      <td>user_000650</td>\n",
       "      <td>2009-06-19 20:34:15</td>\n",
       "      <td>cd84f520-7cd7-4e47-8cab-7beeceec3210</td>\n",
       "      <td>Alyson</td>\n",
       "      <td>NaN</td>\n",
       "      <td>Here With Me</td>\n",
       "    </tr>\n",
       "    <tr>\n",
       "      <th>18503194</th>\n",
       "      <td>user_000960</td>\n",
       "      <td>2009-06-19 20:35:33</td>\n",
       "      <td>299278d3-25dd-4f30-bae4-5b571c28034d</td>\n",
       "      <td>The Postal Service</td>\n",
       "      <td>NaN</td>\n",
       "      <td>Umbrella</td>\n",
       "    </tr>\n",
       "    <tr>\n",
       "      <th>18503193</th>\n",
       "      <td>user_000960</td>\n",
       "      <td>2009-06-19 20:40:16</td>\n",
       "      <td>0c751690-c784-4a4f-b1e4-c1de27d47581</td>\n",
       "      <td>Animal Collective</td>\n",
       "      <td>50f16fa4-501b-4883-8932-fb273238947c</td>\n",
       "      <td>Grass</td>\n",
       "    </tr>\n",
       "    <tr>\n",
       "      <th>13793249</th>\n",
       "      <td>user_000724</td>\n",
       "      <td>2009-06-19 20:42:49</td>\n",
       "      <td>f91e3a88-24ee-4563-8963-fab73d2765ed</td>\n",
       "      <td>Franz Schubert</td>\n",
       "      <td>2f685a84-9745-447c-a3a0-8f1d107bc7c2</td>\n",
       "      <td>Piano Sonata No.20 In A, D.959: Ii. Andantino</td>\n",
       "    </tr>\n",
       "    <tr>\n",
       "      <th>18503192</th>\n",
       "      <td>user_000960</td>\n",
       "      <td>2009-06-19 20:43:18</td>\n",
       "      <td>0039c7ae-e1a7-4a7d-9b49-0cbc716821a6</td>\n",
       "      <td>Death Cab For Cutie</td>\n",
       "      <td>5e26d283-96c1-4fbc-a24c-9866953f563c</td>\n",
       "      <td>I Will Possess Your Heart</td>\n",
       "    </tr>\n",
       "    <tr>\n",
       "      <th>13793248</th>\n",
       "      <td>user_000724</td>\n",
       "      <td>2009-06-19 20:50:23</td>\n",
       "      <td>f91e3a88-24ee-4563-8963-fab73d2765ed</td>\n",
       "      <td>Franz Schubert</td>\n",
       "      <td>bd2ff722-fa0b-4090-accb-1fec7b429bb7</td>\n",
       "      <td>Piano Sonata No.20 In A, D.959: Iii. Scherzo (...</td>\n",
       "    </tr>\n",
       "    <tr>\n",
       "      <th>18503191</th>\n",
       "      <td>user_000960</td>\n",
       "      <td>2009-06-19 20:51:53</td>\n",
       "      <td>28b2fb52-a83a-40ec-8617-6436e26eb3fd</td>\n",
       "      <td>Apostle Of Hustle</td>\n",
       "      <td>ca734922-ffc2-41be-8d53-5bdc15be90e2</td>\n",
       "      <td>¡Rafaga!</td>\n",
       "    </tr>\n",
       "    <tr>\n",
       "      <th>16392625</th>\n",
       "      <td>user_000842</td>\n",
       "      <td>2009-06-19 20:55:45</td>\n",
       "      <td>f91e3a88-24ee-4563-8963-fab73d2765ed</td>\n",
       "      <td>Franz Schubert</td>\n",
       "      <td>91aedc56-8a2d-4ca2-96b9-8d014ab92b94</td>\n",
       "      <td>Piano Sonata No.20 In A, D.959: Iv. Rondo (All...</td>\n",
       "    </tr>\n",
       "    <tr>\n",
       "      <th>18503190</th>\n",
       "      <td>user_000960</td>\n",
       "      <td>2009-06-19 20:55:51</td>\n",
       "      <td>299278d3-25dd-4f30-bae4-5b571c28034d</td>\n",
       "      <td>The Postal Service</td>\n",
       "      <td>NaN</td>\n",
       "      <td>Take A Look At Me Now</td>\n",
       "    </tr>\n",
       "    <tr>\n",
       "      <th>18503189</th>\n",
       "      <td>user_000960</td>\n",
       "      <td>2009-06-19 21:00:06</td>\n",
       "      <td>9a58fda3-f4ed-4080-a3a5-f457aac9fcdd</td>\n",
       "      <td>Joy Division</td>\n",
       "      <td>f83d07eb-05d0-4d7b-a4a4-4139b6815ce2</td>\n",
       "      <td>Atrocity Exhibition</td>\n",
       "    </tr>\n",
       "    <tr>\n",
       "      <th>18503188</th>\n",
       "      <td>user_000960</td>\n",
       "      <td>2009-06-19 21:06:11</td>\n",
       "      <td>NaN</td>\n",
       "      <td>Bjork Guðmundsdottir &amp; Trio</td>\n",
       "      <td>NaN</td>\n",
       "      <td>Litli Tonlistarmadurinn</td>\n",
       "    </tr>\n",
       "    <tr>\n",
       "      <th>18503187</th>\n",
       "      <td>user_000960</td>\n",
       "      <td>2009-06-19 21:09:33</td>\n",
       "      <td>20883363-1ea4-4d72-ad72-c0e767038f3e</td>\n",
       "      <td>The Mars Volta</td>\n",
       "      <td>18c564d4-19e4-4598-b896-e3e697da5f2c</td>\n",
       "      <td>This Apparatus Must Be Unearthed</td>\n",
       "    </tr>\n",
       "    <tr>\n",
       "      <th>18503186</th>\n",
       "      <td>user_000960</td>\n",
       "      <td>2009-06-19 21:14:32</td>\n",
       "      <td>db9d25d7-a85b-4a29-b2ff-8f5b69ed691e</td>\n",
       "      <td>Mission Of Burma</td>\n",
       "      <td>6a2e5c69-5c02-479c-b51c-a7a33f25d0c5</td>\n",
       "      <td>Laugh The World Away</td>\n",
       "    </tr>\n",
       "    <tr>\n",
       "      <th>18503185</th>\n",
       "      <td>user_000960</td>\n",
       "      <td>2009-06-19 21:18:26</td>\n",
       "      <td>09037f07-42bc-46ac-a1ee-37f834451fee</td>\n",
       "      <td>Minor Threat</td>\n",
       "      <td>5ec37b8c-1e83-46b2-8c6f-83f4923435a7</td>\n",
       "      <td>No Reason</td>\n",
       "    </tr>\n",
       "    <tr>\n",
       "      <th>18503184</th>\n",
       "      <td>user_000960</td>\n",
       "      <td>2009-06-19 21:20:24</td>\n",
       "      <td>3f542031-b054-454d-b57b-812fa2a81b11</td>\n",
       "      <td>Yo La Tengo</td>\n",
       "      <td>9fb737f7-dc19-452d-983e-83812612b3b5</td>\n",
       "      <td>A Worrying Thing</td>\n",
       "    </tr>\n",
       "    <tr>\n",
       "      <th>18503183</th>\n",
       "      <td>user_000960</td>\n",
       "      <td>2009-06-19 21:23:17</td>\n",
       "      <td>0039c7ae-e1a7-4a7d-9b49-0cbc716821a6</td>\n",
       "      <td>Death Cab For Cutie</td>\n",
       "      <td>4e17b118-70a6-4c1f-b326-b4ce91fd3fad</td>\n",
       "      <td>Soul Meets Body</td>\n",
       "    </tr>\n",
       "    <tr>\n",
       "      <th>18503182</th>\n",
       "      <td>user_000960</td>\n",
       "      <td>2009-06-19 21:27:08</td>\n",
       "      <td>5cbef01b-cc35-4f52-af7b-d0df0c4f61b9</td>\n",
       "      <td>Sonic Youth</td>\n",
       "      <td>af847770-3a91-4ecd-912c-ce154b5fce6a</td>\n",
       "      <td>Superstar</td>\n",
       "    </tr>\n",
       "    <tr>\n",
       "      <th>12068756</th>\n",
       "      <td>user_000651</td>\n",
       "      <td>2009-06-19 21:31:16</td>\n",
       "      <td>c43c7134-5d6f-4bfa-8275-b4012ae97c46</td>\n",
       "      <td>Adolescents</td>\n",
       "      <td>7a415b2b-1655-4516-ad97-de545e05f7a1</td>\n",
       "      <td>Welcome To Reality</td>\n",
       "    </tr>\n",
       "    <tr>\n",
       "      <th>7727675</th>\n",
       "      <td>user_000405</td>\n",
       "      <td>2010-08-13 23:06:38</td>\n",
       "      <td>5f572b31-8fd9-45ae-9beb-358c98d839df</td>\n",
       "      <td>The Dandy Warhols</td>\n",
       "      <td>223f9324-3546-446b-96a2-5f663192dd42</td>\n",
       "      <td>Sleep</td>\n",
       "    </tr>\n",
       "    <tr>\n",
       "      <th>14343563</th>\n",
       "      <td>user_000762</td>\n",
       "      <td>2013-09-29 18:32:04</td>\n",
       "      <td>d8354b38-e942-4c89-ba93-29323432abc3</td>\n",
       "      <td>30 Seconds To Mars</td>\n",
       "      <td>b5b40605-5a81-46b4-a51e-2b1ec7964c1a</td>\n",
       "      <td>A Beautiful Lie</td>\n",
       "    </tr>\n",
       "  </tbody>\n",
       "</table>\n",
       "</div>"
      ],
      "text/plain": [
       "               userid           timestamp  \\\n",
       "12052920  user_000650 2009-06-19 20:34:15   \n",
       "18503194  user_000960 2009-06-19 20:35:33   \n",
       "18503193  user_000960 2009-06-19 20:40:16   \n",
       "13793249  user_000724 2009-06-19 20:42:49   \n",
       "18503192  user_000960 2009-06-19 20:43:18   \n",
       "13793248  user_000724 2009-06-19 20:50:23   \n",
       "18503191  user_000960 2009-06-19 20:51:53   \n",
       "16392625  user_000842 2009-06-19 20:55:45   \n",
       "18503190  user_000960 2009-06-19 20:55:51   \n",
       "18503189  user_000960 2009-06-19 21:00:06   \n",
       "18503188  user_000960 2009-06-19 21:06:11   \n",
       "18503187  user_000960 2009-06-19 21:09:33   \n",
       "18503186  user_000960 2009-06-19 21:14:32   \n",
       "18503185  user_000960 2009-06-19 21:18:26   \n",
       "18503184  user_000960 2009-06-19 21:20:24   \n",
       "18503183  user_000960 2009-06-19 21:23:17   \n",
       "18503182  user_000960 2009-06-19 21:27:08   \n",
       "12068756  user_000651 2009-06-19 21:31:16   \n",
       "7727675   user_000405 2010-08-13 23:06:38   \n",
       "14343563  user_000762 2013-09-29 18:32:04   \n",
       "\n",
       "                         musicbrainz-artist-id                  artist-name  \\\n",
       "12052920  cd84f520-7cd7-4e47-8cab-7beeceec3210                       Alyson   \n",
       "18503194  299278d3-25dd-4f30-bae4-5b571c28034d           The Postal Service   \n",
       "18503193  0c751690-c784-4a4f-b1e4-c1de27d47581            Animal Collective   \n",
       "13793249  f91e3a88-24ee-4563-8963-fab73d2765ed               Franz Schubert   \n",
       "18503192  0039c7ae-e1a7-4a7d-9b49-0cbc716821a6          Death Cab For Cutie   \n",
       "13793248  f91e3a88-24ee-4563-8963-fab73d2765ed               Franz Schubert   \n",
       "18503191  28b2fb52-a83a-40ec-8617-6436e26eb3fd            Apostle Of Hustle   \n",
       "16392625  f91e3a88-24ee-4563-8963-fab73d2765ed               Franz Schubert   \n",
       "18503190  299278d3-25dd-4f30-bae4-5b571c28034d           The Postal Service   \n",
       "18503189  9a58fda3-f4ed-4080-a3a5-f457aac9fcdd                 Joy Division   \n",
       "18503188                                   NaN  Bjork Guðmundsdottir & Trio   \n",
       "18503187  20883363-1ea4-4d72-ad72-c0e767038f3e               The Mars Volta   \n",
       "18503186  db9d25d7-a85b-4a29-b2ff-8f5b69ed691e             Mission Of Burma   \n",
       "18503185  09037f07-42bc-46ac-a1ee-37f834451fee                 Minor Threat   \n",
       "18503184  3f542031-b054-454d-b57b-812fa2a81b11                  Yo La Tengo   \n",
       "18503183  0039c7ae-e1a7-4a7d-9b49-0cbc716821a6          Death Cab For Cutie   \n",
       "18503182  5cbef01b-cc35-4f52-af7b-d0df0c4f61b9                  Sonic Youth   \n",
       "12068756  c43c7134-5d6f-4bfa-8275-b4012ae97c46                  Adolescents   \n",
       "7727675   5f572b31-8fd9-45ae-9beb-358c98d839df            The Dandy Warhols   \n",
       "14343563  d8354b38-e942-4c89-ba93-29323432abc3           30 Seconds To Mars   \n",
       "\n",
       "                          musicbrainz-track-id  \\\n",
       "12052920                                   NaN   \n",
       "18503194                                   NaN   \n",
       "18503193  50f16fa4-501b-4883-8932-fb273238947c   \n",
       "13793249  2f685a84-9745-447c-a3a0-8f1d107bc7c2   \n",
       "18503192  5e26d283-96c1-4fbc-a24c-9866953f563c   \n",
       "13793248  bd2ff722-fa0b-4090-accb-1fec7b429bb7   \n",
       "18503191  ca734922-ffc2-41be-8d53-5bdc15be90e2   \n",
       "16392625  91aedc56-8a2d-4ca2-96b9-8d014ab92b94   \n",
       "18503190                                   NaN   \n",
       "18503189  f83d07eb-05d0-4d7b-a4a4-4139b6815ce2   \n",
       "18503188                                   NaN   \n",
       "18503187  18c564d4-19e4-4598-b896-e3e697da5f2c   \n",
       "18503186  6a2e5c69-5c02-479c-b51c-a7a33f25d0c5   \n",
       "18503185  5ec37b8c-1e83-46b2-8c6f-83f4923435a7   \n",
       "18503184  9fb737f7-dc19-452d-983e-83812612b3b5   \n",
       "18503183  4e17b118-70a6-4c1f-b326-b4ce91fd3fad   \n",
       "18503182  af847770-3a91-4ecd-912c-ce154b5fce6a   \n",
       "12068756  7a415b2b-1655-4516-ad97-de545e05f7a1   \n",
       "7727675   223f9324-3546-446b-96a2-5f663192dd42   \n",
       "14343563  b5b40605-5a81-46b4-a51e-2b1ec7964c1a   \n",
       "\n",
       "                                                 track-name  \n",
       "12052920                                       Here With Me  \n",
       "18503194                                           Umbrella  \n",
       "18503193                                              Grass  \n",
       "13793249      Piano Sonata No.20 In A, D.959: Ii. Andantino  \n",
       "18503192                          I Will Possess Your Heart  \n",
       "13793248  Piano Sonata No.20 In A, D.959: Iii. Scherzo (...  \n",
       "18503191                                           ¡Rafaga!  \n",
       "16392625  Piano Sonata No.20 In A, D.959: Iv. Rondo (All...  \n",
       "18503190                              Take A Look At Me Now  \n",
       "18503189                                Atrocity Exhibition  \n",
       "18503188                            Litli Tonlistarmadurinn  \n",
       "18503187                   This Apparatus Must Be Unearthed  \n",
       "18503186                               Laugh The World Away  \n",
       "18503185                                          No Reason  \n",
       "18503184                                   A Worrying Thing  \n",
       "18503183                                    Soul Meets Body  \n",
       "18503182                                          Superstar  \n",
       "12068756                                 Welcome To Reality  \n",
       "7727675                                               Sleep  \n",
       "14343563                                    A Beautiful Lie  "
      ]
     },
     "execution_count": 96,
     "metadata": {},
     "output_type": "execute_result"
    }
   ],
   "source": [
    "df_lastfm.tail(20)"
   ]
  },
  {
   "cell_type": "code",
   "execution_count": 90,
   "metadata": {},
   "outputs": [
    {
     "name": "stdout",
     "output_type": "stream",
     "text": [
      "2005-02-14 00:00:07 2005-02-14 00:00:38\n",
      "2013-09-29 18:32:04 2010-08-13 23:06:38\n"
     ]
    }
   ],
   "source": [
    "print(df_lastfm.iloc[0][\"timestamp\"], df_lastfm.iloc[1][\"timestamp\"] )\n",
    "print(df_lastfm.iloc[-1][\"timestamp\"], df_lastfm.iloc[-2][\"timestamp\"] )"
   ]
  },
  {
   "cell_type": "code",
   "execution_count": 95,
   "metadata": {},
   "outputs": [],
   "source": [
    "with open(\"./data/ocelma-dataset/lastfm-dataset-1K/df_time_ordered.pkl\", \"wb\") as fp:\n",
    "    joblib.dump(df_lastfm, fp)"
   ]
  },
  {
   "cell_type": "code",
   "execution_count": 42,
   "metadata": {},
   "outputs": [],
   "source": [
    "df = df.reset_index(drop=True)"
   ]
  },
  {
   "cell_type": "code",
   "execution_count": 43,
   "metadata": {},
   "outputs": [],
   "source": [
    "df_lastfm = df_lastfm.drop([19150866,19150867])"
   ]
  },
  {
   "cell_type": "code",
   "execution_count": 44,
   "metadata": {},
   "outputs": [
    {
     "data": {
      "text/html": [
       "<div>\n",
       "<style scoped>\n",
       "    .dataframe tbody tr th:only-of-type {\n",
       "        vertical-align: middle;\n",
       "    }\n",
       "\n",
       "    .dataframe tbody tr th {\n",
       "        vertical-align: top;\n",
       "    }\n",
       "\n",
       "    .dataframe thead th {\n",
       "        text-align: right;\n",
       "    }\n",
       "</style>\n",
       "<table border=\"1\" class=\"dataframe\">\n",
       "  <thead>\n",
       "    <tr style=\"text-align: right;\">\n",
       "      <th></th>\n",
       "      <th>userid</th>\n",
       "      <th>timestamp</th>\n",
       "      <th>musicbrainz-artist-id</th>\n",
       "      <th>artist-name</th>\n",
       "      <th>musicbrainz-track-id</th>\n",
       "      <th>track-name</th>\n",
       "    </tr>\n",
       "  </thead>\n",
       "  <tbody>\n",
       "    <tr>\n",
       "      <th>0</th>\n",
       "      <td>user_000391</td>\n",
       "      <td>2005-02-14 00:00:07</td>\n",
       "      <td>fbd86487-ccb5-4a57-a860-cc3d360b5115</td>\n",
       "      <td>Starsailor</td>\n",
       "      <td>6b4977f4-3c7a-492a-af61-1e877fa66f52</td>\n",
       "      <td>Love Is Here</td>\n",
       "    </tr>\n",
       "    <tr>\n",
       "      <th>1</th>\n",
       "      <td>user_000871</td>\n",
       "      <td>2005-02-14 00:00:38</td>\n",
       "      <td>b3a6ebdf-4ee6-4ec0-912c-be03ade6c833</td>\n",
       "      <td>Sui Generis</td>\n",
       "      <td>9ecc2ab3-7294-43ad-bdeb-f51388a7a6e0</td>\n",
       "      <td>Rasguña Las Piedras</td>\n",
       "    </tr>\n",
       "    <tr>\n",
       "      <th>2</th>\n",
       "      <td>user_000709</td>\n",
       "      <td>2005-02-14 00:01:44</td>\n",
       "      <td>b4d32cff-f19e-455f-86c4-f347d824ca61</td>\n",
       "      <td>Eurythmics</td>\n",
       "      <td>1d0f1ea5-0a92-4578-a7e7-3f2a7129da61</td>\n",
       "      <td>Love Is A Stranger</td>\n",
       "    </tr>\n",
       "    <tr>\n",
       "      <th>3</th>\n",
       "      <td>user_000285</td>\n",
       "      <td>2005-02-14 00:02:10</td>\n",
       "      <td>95e1ead9-4d31-4808-a7ac-32c3614c116b</td>\n",
       "      <td>The Killers</td>\n",
       "      <td>46909ba9-46c7-461e-a2ef-280eacd550e4</td>\n",
       "      <td>Jenny Was A Friend Of Mine</td>\n",
       "    </tr>\n",
       "    <tr>\n",
       "      <th>4</th>\n",
       "      <td>user_000142</td>\n",
       "      <td>2005-02-14 00:02:40</td>\n",
       "      <td>51086134-0896-4c00-b54a-c5c37aeaf2bf</td>\n",
       "      <td>Anton Maiden</td>\n",
       "      <td>14025355-94c2-4e9b-b63f-c16cab9e8086</td>\n",
       "      <td>Revelations</td>\n",
       "    </tr>\n",
       "    <tr>\n",
       "      <th>...</th>\n",
       "      <td>...</td>\n",
       "      <td>...</td>\n",
       "      <td>...</td>\n",
       "      <td>...</td>\n",
       "      <td>...</td>\n",
       "      <td>...</td>\n",
       "    </tr>\n",
       "    <tr>\n",
       "      <th>19150861</th>\n",
       "      <td>user_000960</td>\n",
       "      <td>2009-06-19 21:18:26</td>\n",
       "      <td>09037f07-42bc-46ac-a1ee-37f834451fee</td>\n",
       "      <td>Minor Threat</td>\n",
       "      <td>5ec37b8c-1e83-46b2-8c6f-83f4923435a7</td>\n",
       "      <td>No Reason</td>\n",
       "    </tr>\n",
       "    <tr>\n",
       "      <th>19150862</th>\n",
       "      <td>user_000960</td>\n",
       "      <td>2009-06-19 21:20:24</td>\n",
       "      <td>3f542031-b054-454d-b57b-812fa2a81b11</td>\n",
       "      <td>Yo La Tengo</td>\n",
       "      <td>9fb737f7-dc19-452d-983e-83812612b3b5</td>\n",
       "      <td>A Worrying Thing</td>\n",
       "    </tr>\n",
       "    <tr>\n",
       "      <th>19150863</th>\n",
       "      <td>user_000960</td>\n",
       "      <td>2009-06-19 21:23:17</td>\n",
       "      <td>0039c7ae-e1a7-4a7d-9b49-0cbc716821a6</td>\n",
       "      <td>Death Cab For Cutie</td>\n",
       "      <td>4e17b118-70a6-4c1f-b326-b4ce91fd3fad</td>\n",
       "      <td>Soul Meets Body</td>\n",
       "    </tr>\n",
       "    <tr>\n",
       "      <th>19150864</th>\n",
       "      <td>user_000960</td>\n",
       "      <td>2009-06-19 21:27:08</td>\n",
       "      <td>5cbef01b-cc35-4f52-af7b-d0df0c4f61b9</td>\n",
       "      <td>Sonic Youth</td>\n",
       "      <td>af847770-3a91-4ecd-912c-ce154b5fce6a</td>\n",
       "      <td>Superstar</td>\n",
       "    </tr>\n",
       "    <tr>\n",
       "      <th>19150865</th>\n",
       "      <td>user_000651</td>\n",
       "      <td>2009-06-19 21:31:16</td>\n",
       "      <td>c43c7134-5d6f-4bfa-8275-b4012ae97c46</td>\n",
       "      <td>Adolescents</td>\n",
       "      <td>7a415b2b-1655-4516-ad97-de545e05f7a1</td>\n",
       "      <td>Welcome To Reality</td>\n",
       "    </tr>\n",
       "  </tbody>\n",
       "</table>\n",
       "<p>19150866 rows × 6 columns</p>\n",
       "</div>"
      ],
      "text/plain": [
       "               userid           timestamp  \\\n",
       "0         user_000391 2005-02-14 00:00:07   \n",
       "1         user_000871 2005-02-14 00:00:38   \n",
       "2         user_000709 2005-02-14 00:01:44   \n",
       "3         user_000285 2005-02-14 00:02:10   \n",
       "4         user_000142 2005-02-14 00:02:40   \n",
       "...               ...                 ...   \n",
       "19150861  user_000960 2009-06-19 21:18:26   \n",
       "19150862  user_000960 2009-06-19 21:20:24   \n",
       "19150863  user_000960 2009-06-19 21:23:17   \n",
       "19150864  user_000960 2009-06-19 21:27:08   \n",
       "19150865  user_000651 2009-06-19 21:31:16   \n",
       "\n",
       "                         musicbrainz-artist-id          artist-name  \\\n",
       "0         fbd86487-ccb5-4a57-a860-cc3d360b5115           Starsailor   \n",
       "1         b3a6ebdf-4ee6-4ec0-912c-be03ade6c833          Sui Generis   \n",
       "2         b4d32cff-f19e-455f-86c4-f347d824ca61           Eurythmics   \n",
       "3         95e1ead9-4d31-4808-a7ac-32c3614c116b          The Killers   \n",
       "4         51086134-0896-4c00-b54a-c5c37aeaf2bf         Anton Maiden   \n",
       "...                                        ...                  ...   \n",
       "19150861  09037f07-42bc-46ac-a1ee-37f834451fee         Minor Threat   \n",
       "19150862  3f542031-b054-454d-b57b-812fa2a81b11          Yo La Tengo   \n",
       "19150863  0039c7ae-e1a7-4a7d-9b49-0cbc716821a6  Death Cab For Cutie   \n",
       "19150864  5cbef01b-cc35-4f52-af7b-d0df0c4f61b9          Sonic Youth   \n",
       "19150865  c43c7134-5d6f-4bfa-8275-b4012ae97c46          Adolescents   \n",
       "\n",
       "                          musicbrainz-track-id                  track-name  \n",
       "0         6b4977f4-3c7a-492a-af61-1e877fa66f52                Love Is Here  \n",
       "1         9ecc2ab3-7294-43ad-bdeb-f51388a7a6e0         Rasguña Las Piedras  \n",
       "2         1d0f1ea5-0a92-4578-a7e7-3f2a7129da61          Love Is A Stranger  \n",
       "3         46909ba9-46c7-461e-a2ef-280eacd550e4  Jenny Was A Friend Of Mine  \n",
       "4         14025355-94c2-4e9b-b63f-c16cab9e8086                 Revelations  \n",
       "...                                        ...                         ...  \n",
       "19150861  5ec37b8c-1e83-46b2-8c6f-83f4923435a7                   No Reason  \n",
       "19150862  9fb737f7-dc19-452d-983e-83812612b3b5            A Worrying Thing  \n",
       "19150863  4e17b118-70a6-4c1f-b326-b4ce91fd3fad             Soul Meets Body  \n",
       "19150864  af847770-3a91-4ecd-912c-ce154b5fce6a                   Superstar  \n",
       "19150865  7a415b2b-1655-4516-ad97-de545e05f7a1          Welcome To Reality  \n",
       "\n",
       "[19150866 rows x 6 columns]"
      ]
     },
     "execution_count": 44,
     "metadata": {},
     "output_type": "execute_result"
    }
   ],
   "source": [
    "df_lastfm"
   ]
  },
  {
   "cell_type": "code",
   "execution_count": 45,
   "metadata": {},
   "outputs": [],
   "source": [
    "with open(\"./data/ocelma-dataset/lastfm-dataset-1K/df_time_ordered_clean.pkl\", \"wb\") as fp:\n",
    "    joblib.dump(df_lastfm, fp)"
   ]
  },
  {
   "cell_type": "markdown",
   "metadata": {},
   "source": [
    "Last two rows must be dropped. Also this dataframe has a time interval different than the one said by the author on the website.\n",
    "\n",
    "TODO: do calc on all and on single users of D and D2, as in UMT. Also check analytical data loaded into G.Drive"
   ]
  },
  {
   "cell_type": "markdown",
   "metadata": {},
   "source": [
    "## 2nd processing: indexing tracks and artists"
   ]
  },
  {
   "cell_type": "code",
   "execution_count": 39,
   "metadata": {},
   "outputs": [],
   "source": [
    "with open(\"./data/ocelma-dataset/lastfm-dataset-1K/df_time_ordered_clean.pkl\", \"rb\") as fp:\n",
    "    df_lastfm = joblib.load(fp)"
   ]
  },
  {
   "cell_type": "code",
   "execution_count": 45,
   "metadata": {},
   "outputs": [],
   "source": [
    "artists = df_lastfm[[\"musicbrainz-artist-id\",\"artist-name\"]]\n",
    "\n",
    "artists_unique = artists.drop_duplicates()\n",
    "\n",
    "artists_unique = artists_unique.reset_index(drop=True)"
   ]
  },
  {
   "cell_type": "code",
   "execution_count": 46,
   "metadata": {},
   "outputs": [
    {
     "name": "stderr",
     "output_type": "stream",
     "text": [
      "100%|██████████| 177023/177023 [00:24<00:00, 7298.38it/s]\n"
     ]
    }
   ],
   "source": [
    "unique_artists_remap = {}\n",
    "for i in tqdm(range(len(artists_unique))):\n",
    "    row = artists_unique.loc[i]\n",
    "    artist_id = row[\"musicbrainz-artist-id\"]\n",
    "    if not pd.notna(artist_id):\n",
    "        artist_id = None\n",
    "    artist_name = row[\"artist-name\"]\n",
    "    if not pd.notna(artist_name):\n",
    "        artist_name = None\n",
    "    unique_artists_remap[(artist_id,artist_name)] = i"
   ]
  },
  {
   "cell_type": "code",
   "execution_count": 40,
   "metadata": {},
   "outputs": [],
   "source": [
    "tracks = df_lastfm[[\"musicbrainz-track-id\",\"track-name\",\"musicbrainz-artist-id\",\"artist-name\"]]"
   ]
  },
  {
   "cell_type": "code",
   "execution_count": 41,
   "metadata": {},
   "outputs": [],
   "source": [
    "tracks_unique = tracks.drop_duplicates()"
   ]
  },
  {
   "cell_type": "code",
   "execution_count": 42,
   "metadata": {},
   "outputs": [],
   "source": [
    "tracks_unique = tracks_unique.reset_index(drop=True)\n",
    "# tracks_unique[\"index\"] = tracks_unique."
   ]
  },
  {
   "cell_type": "code",
   "execution_count": 86,
   "metadata": {},
   "outputs": [],
   "source": [
    "# unique_tracks_remap = {}\n",
    "# for i in tqdm(range(len(tracks_unique))):\n",
    "#     row = tracks_unique.loc[i]\n",
    "#     unique_tracks_remap[(row[\"musicbrainz-track-id\"],row[\"track-name\"],row[\"musicbrainz-artist-id\"],row[\"artist-name\"])] = i"
   ]
  },
  {
   "cell_type": "code",
   "execution_count": 48,
   "metadata": {},
   "outputs": [
    {
     "name": "stderr",
     "output_type": "stream",
     "text": [
      "100%|██████████| 1505514/1505514 [03:45<00:00, 6662.75it/s]\n"
     ]
    }
   ],
   "source": [
    "unique_tracks_remap = {}\n",
    "for i in tqdm(range(len(tracks_unique))):\n",
    "    row = tracks_unique.loc[i]\n",
    "    track_id = row[\"musicbrainz-track-id\"]\n",
    "    if not pd.notna(track_id):\n",
    "        track_id = None\n",
    "    track_name = row[\"track-name\"]\n",
    "    if not pd.notna(track_name):\n",
    "        track_name = None\n",
    "    artist_id = row[\"musicbrainz-artist-id\"]\n",
    "    if not pd.notna(artist_id):\n",
    "        artist_id = None\n",
    "    artist_name = row[\"artist-name\"]\n",
    "    if not pd.notna(artist_name):\n",
    "        artist_name = None\n",
    "    artist_id_remapped = unique_artists_remap[(artist_id,artist_name)]\n",
    "    unique_tracks_remap[(track_id,track_name,artist_id_remapped)] = i"
   ]
  },
  {
   "cell_type": "code",
   "execution_count": 49,
   "metadata": {},
   "outputs": [],
   "source": [
    "df_lastfm2 = df_lastfm[[\"userid\",\"timestamp\"]]\n",
    "track_id_remapped_list = -np.ones(len(df_lastfm2))\n",
    "artist_id_remapped_list = -np.ones(len(df_lastfm2))"
   ]
  },
  {
   "cell_type": "code",
   "execution_count": 50,
   "metadata": {},
   "outputs": [
    {
     "name": "stderr",
     "output_type": "stream",
     "text": [
      "100%|██████████| 19150866/19150866 [1:28:24<00:00, 3610.16it/s]\n"
     ]
    }
   ],
   "source": [
    "for i in tqdm(range(len(df_lastfm))):\n",
    "    row = df_lastfm.loc[i]\n",
    "    track_id = row[\"musicbrainz-track-id\"]\n",
    "    if not pd.notna(track_id):\n",
    "        track_id = None\n",
    "    track_name = row[\"track-name\"]\n",
    "    if not pd.notna(track_name):\n",
    "        track_name = None\n",
    "    artist_id = row[\"musicbrainz-artist-id\"]\n",
    "    if not pd.notna(artist_id):\n",
    "        artist_id = None\n",
    "    artist_name = row[\"artist-name\"]\n",
    "    if not pd.notna(artist_name):\n",
    "        artist_name = None\n",
    "    artist_id_remapped = unique_artists_remap[(artist_id,artist_name)]\n",
    "    artist_id_remapped_list[i] = artist_id_remapped\n",
    "    track_id_remapped_list[i] = unique_tracks_remap[(track_id,track_name,artist_id_remapped)]"
   ]
  },
  {
   "cell_type": "code",
   "execution_count": 51,
   "metadata": {},
   "outputs": [
    {
     "name": "stderr",
     "output_type": "stream",
     "text": [
      "/tmp/2049703.1.all.q/ipykernel_20116/1589433352.py:1: SettingWithCopyWarning: \n",
      "A value is trying to be set on a copy of a slice from a DataFrame.\n",
      "Try using .loc[row_indexer,col_indexer] = value instead\n",
      "\n",
      "See the caveats in the documentation: https://pandas.pydata.org/pandas-docs/stable/user_guide/indexing.html#returning-a-view-versus-a-copy\n",
      "  df2[\"track_id_remapped\"] = track_id_remapped_list.copy()\n",
      "/tmp/2049703.1.all.q/ipykernel_20116/1589433352.py:2: SettingWithCopyWarning: \n",
      "A value is trying to be set on a copy of a slice from a DataFrame.\n",
      "Try using .loc[row_indexer,col_indexer] = value instead\n",
      "\n",
      "See the caveats in the documentation: https://pandas.pydata.org/pandas-docs/stable/user_guide/indexing.html#returning-a-view-versus-a-copy\n",
      "  df2[\"artist_id_remapped\"] = artist_id_remapped_list.copy()\n"
     ]
    }
   ],
   "source": [
    "df_lastfm2[\"track_id_remapped\"] = track_id_remapped_list.copy()\n",
    "df_lastfm2[\"artist_id_remapped\"] = artist_id_remapped_list.copy()"
   ]
  },
  {
   "cell_type": "code",
   "execution_count": 52,
   "metadata": {},
   "outputs": [],
   "source": [
    "with open(\"./data/ocelma-dataset/lastfm-dataset-1K/remap_artists.pkl\", \"wb\") as fp:\n",
    "    joblib.dump(unique_artists_remap, fp)\n",
    "with open(\"./data/ocelma-dataset/lastfm-dataset-1K/remap_tracks.pkl\", \"wb\") as fp:\n",
    "    joblib.dump(unique_tracks_remap, fp)"
   ]
  },
  {
   "cell_type": "code",
   "execution_count": 53,
   "metadata": {},
   "outputs": [],
   "source": [
    "with open(\"./data/ocelma-dataset/lastfm-dataset-1K/df_indexed.pkl\", \"wb\") as fp:\n",
    "    joblib.dump(df_lastfm2, fp)"
   ]
  },
  {
   "cell_type": "code",
   "execution_count": 54,
   "metadata": {},
   "outputs": [],
   "source": [
    "df_lastfm = df_lastfm2.copy()"
   ]
  },
  {
   "cell_type": "markdown",
   "metadata": {},
   "source": [
    "## 3rd processing: creation of individual sequences"
   ]
  },
  {
   "cell_type": "code",
   "execution_count": 281,
   "metadata": {
    "tags": []
   },
   "outputs": [],
   "source": [
    "with open(\"./data/ocelma-dataset/lastfm-dataset-1K/df_indexed.pkl\", \"rb\") as fp:\n",
    "    df_lastfm = joblib.load(fp)"
   ]
  },
  {
   "cell_type": "code",
   "execution_count": 282,
   "metadata": {},
   "outputs": [
    {
     "name": "stdout",
     "output_type": "stream",
     "text": [
      "992 user_001000\n"
     ]
    }
   ],
   "source": [
    "users_list = list(df_lastfm[\"userid\"].unique())\n",
    "users_list.sort()\n",
    "print(len(users_list), max(users_list))"
   ]
  },
  {
   "cell_type": "code",
   "execution_count": 283,
   "metadata": {},
   "outputs": [
    {
     "data": {
      "text/html": [
       "<div>\n",
       "<style scoped>\n",
       "    .dataframe tbody tr th:only-of-type {\n",
       "        vertical-align: middle;\n",
       "    }\n",
       "\n",
       "    .dataframe tbody tr th {\n",
       "        vertical-align: top;\n",
       "    }\n",
       "\n",
       "    .dataframe thead th {\n",
       "        text-align: right;\n",
       "    }\n",
       "</style>\n",
       "<table border=\"1\" class=\"dataframe\">\n",
       "  <thead>\n",
       "    <tr style=\"text-align: right;\">\n",
       "      <th></th>\n",
       "      <th>userid</th>\n",
       "      <th>timestamp</th>\n",
       "      <th>track_id_remapped</th>\n",
       "      <th>artist_id_remapped</th>\n",
       "    </tr>\n",
       "  </thead>\n",
       "  <tbody>\n",
       "    <tr>\n",
       "      <th>0</th>\n",
       "      <td>user_000391</td>\n",
       "      <td>2005-02-14 00:00:07</td>\n",
       "      <td>0.0</td>\n",
       "      <td>0.0</td>\n",
       "    </tr>\n",
       "    <tr>\n",
       "      <th>1</th>\n",
       "      <td>user_000871</td>\n",
       "      <td>2005-02-14 00:00:38</td>\n",
       "      <td>1.0</td>\n",
       "      <td>1.0</td>\n",
       "    </tr>\n",
       "    <tr>\n",
       "      <th>2</th>\n",
       "      <td>user_000709</td>\n",
       "      <td>2005-02-14 00:01:44</td>\n",
       "      <td>2.0</td>\n",
       "      <td>2.0</td>\n",
       "    </tr>\n",
       "    <tr>\n",
       "      <th>3</th>\n",
       "      <td>user_000285</td>\n",
       "      <td>2005-02-14 00:02:10</td>\n",
       "      <td>3.0</td>\n",
       "      <td>3.0</td>\n",
       "    </tr>\n",
       "    <tr>\n",
       "      <th>4</th>\n",
       "      <td>user_000142</td>\n",
       "      <td>2005-02-14 00:02:40</td>\n",
       "      <td>4.0</td>\n",
       "      <td>4.0</td>\n",
       "    </tr>\n",
       "    <tr>\n",
       "      <th>...</th>\n",
       "      <td>...</td>\n",
       "      <td>...</td>\n",
       "      <td>...</td>\n",
       "      <td>...</td>\n",
       "    </tr>\n",
       "    <tr>\n",
       "      <th>19150861</th>\n",
       "      <td>user_000960</td>\n",
       "      <td>2009-06-19 21:18:26</td>\n",
       "      <td>73214.0</td>\n",
       "      <td>2842.0</td>\n",
       "    </tr>\n",
       "    <tr>\n",
       "      <th>19150862</th>\n",
       "      <td>user_000960</td>\n",
       "      <td>2009-06-19 21:20:24</td>\n",
       "      <td>117991.0</td>\n",
       "      <td>2228.0</td>\n",
       "    </tr>\n",
       "    <tr>\n",
       "      <th>19150863</th>\n",
       "      <td>user_000960</td>\n",
       "      <td>2009-06-19 21:23:17</td>\n",
       "      <td>103131.0</td>\n",
       "      <td>126.0</td>\n",
       "    </tr>\n",
       "    <tr>\n",
       "      <th>19150864</th>\n",
       "      <td>user_000960</td>\n",
       "      <td>2009-06-19 21:27:08</td>\n",
       "      <td>25733.0</td>\n",
       "      <td>346.0</td>\n",
       "    </tr>\n",
       "    <tr>\n",
       "      <th>19150865</th>\n",
       "      <td>user_000651</td>\n",
       "      <td>2009-06-19 21:31:16</td>\n",
       "      <td>192460.0</td>\n",
       "      <td>6263.0</td>\n",
       "    </tr>\n",
       "  </tbody>\n",
       "</table>\n",
       "<p>19150866 rows × 4 columns</p>\n",
       "</div>"
      ],
      "text/plain": [
       "               userid           timestamp  track_id_remapped  \\\n",
       "0         user_000391 2005-02-14 00:00:07                0.0   \n",
       "1         user_000871 2005-02-14 00:00:38                1.0   \n",
       "2         user_000709 2005-02-14 00:01:44                2.0   \n",
       "3         user_000285 2005-02-14 00:02:10                3.0   \n",
       "4         user_000142 2005-02-14 00:02:40                4.0   \n",
       "...               ...                 ...                ...   \n",
       "19150861  user_000960 2009-06-19 21:18:26            73214.0   \n",
       "19150862  user_000960 2009-06-19 21:20:24           117991.0   \n",
       "19150863  user_000960 2009-06-19 21:23:17           103131.0   \n",
       "19150864  user_000960 2009-06-19 21:27:08            25733.0   \n",
       "19150865  user_000651 2009-06-19 21:31:16           192460.0   \n",
       "\n",
       "          artist_id_remapped  \n",
       "0                        0.0  \n",
       "1                        1.0  \n",
       "2                        2.0  \n",
       "3                        3.0  \n",
       "4                        4.0  \n",
       "...                      ...  \n",
       "19150861              2842.0  \n",
       "19150862              2228.0  \n",
       "19150863               126.0  \n",
       "19150864               346.0  \n",
       "19150865              6263.0  \n",
       "\n",
       "[19150866 rows x 4 columns]"
      ]
     },
     "execution_count": 283,
     "metadata": {},
     "output_type": "execute_result"
    }
   ],
   "source": [
    "df_lastfm"
   ]
  },
  {
   "cell_type": "code",
   "execution_count": 284,
   "metadata": {},
   "outputs": [],
   "source": [
    "users = {}\n",
    "for userid in users_list:\n",
    "    users[userid] = {\"sequence_tracks\":[], \"sequence_artists\":[], \"sequence_timestamps\":[]}"
   ]
  },
  {
   "cell_type": "code",
   "execution_count": null,
   "metadata": {},
   "outputs": [],
   "source": [
    "for i in tqdm(range(len(df_lastfm))):\n",
    "    row = df_lastfm.loc[i]\n",
    "    userid = row[\"userid\"]\n",
    "    if not pd.notna(userid):\n",
    "        print(f\"Row {i}: userid None\")\n",
    "        userid = None\n",
    "    timestamp = row[\"timestamp\"]\n",
    "    if not pd.notna(timestamp):\n",
    "        print(f\"Row {i}: timestamp None\")\n",
    "        timestamp = None\n",
    "    track_id = row[\"track_id_remapped\"]\n",
    "    if not pd.notna(track_id):\n",
    "        print(f\"Row {i}: track_id None\")\n",
    "        track_id = None\n",
    "    artist_id = row[\"artist_id_remapped\"]\n",
    "    if not pd.notna(artist_id):\n",
    "        print(f\"Row {i}: artist_id None\")\n",
    "        artist_id = None\n",
    "    users[userid][\"sequence_tracks\"].append(track_id)\n",
    "    users[userid][\"sequence_artists\"].append(artist_id)\n",
    "    users[userid][\"sequence_timestamps\"].append(timestamp)"
   ]
  },
  {
   "cell_type": "code",
   "execution_count": 63,
   "metadata": {},
   "outputs": [
    {
     "name": "stderr",
     "output_type": "stream",
     "text": [
      "100%|██████████| 992/992 [00:00<00:00, 14418.21it/s]\n"
     ]
    }
   ],
   "source": [
    "for userid in tqdm(users_list):\n",
    "    users[userid][\"sequence_tracks\"] = np.array(users[userid][\"sequence_tracks\"],dtype=int)\n",
    "    users[userid][\"sequence_artists\"] = np.array(users[userid][\"sequence_artists\"],dtype=int)\n",
    "    users[userid][\"sequence_timestamps\"] = np.array(users[userid][\"sequence_timestamps\"])"
   ]
  },
  {
   "cell_type": "code",
   "execution_count": 64,
   "metadata": {},
   "outputs": [
    {
     "name": "stdout",
     "output_type": "stream",
     "text": [
      "[447195 447199 447208 447212 447213 447218  79351  70436   2677 410222\n",
      " 447267 447272 447276  63867 314911  73796 352588 108352 447301  41303]\n",
      "[1456541  514060   53426 1251851 1161644 1161658 1477073 1477076 1477082\n",
      "  241971 1477101 1477242 1476972 1476987 1476992 1477268 1476995 1477004\n",
      " 1477011 1496528]\n",
      "[55741 55741 55741  6657 14330  7290  7290   284   299  4638 55749 20455\n",
      " 55750   464   464   779 12480   407 17380  1691]\n",
      "[169814  16914   9673    323   1139   1139   6625   6625   6625   6625\n",
      "   6625   6625   6625   6625   6625   6625   6625   6625   6625   2969]\n",
      "[Timestamp('2006-08-13 13:59:20') Timestamp('2006-08-13 14:03:29')\n",
      " Timestamp('2006-08-13 14:10:43') Timestamp('2006-08-13 14:17:40')\n",
      " Timestamp('2006-08-13 14:19:06') Timestamp('2006-08-13 14:23:03')\n",
      " Timestamp('2006-08-13 14:44:23') Timestamp('2006-08-13 14:55:14')\n",
      " Timestamp('2006-08-13 14:59:59') Timestamp('2006-08-13 15:05:20')\n",
      " Timestamp('2006-08-13 15:07:25') Timestamp('2006-08-13 15:12:12')\n",
      " Timestamp('2006-08-13 15:17:35') Timestamp('2006-08-13 15:23:08')\n",
      " Timestamp('2006-08-13 15:28:44') Timestamp('2006-08-13 15:36:22')\n",
      " Timestamp('2006-08-13 15:40:13') Timestamp('2006-08-13 15:44:17')\n",
      " Timestamp('2006-08-13 15:49:22') Timestamp('2006-08-13 15:54:20')]\n",
      "[Timestamp('2009-05-03 14:56:25') Timestamp('2009-05-03 15:04:31')\n",
      " Timestamp('2009-05-03 15:10:18') Timestamp('2009-05-03 15:14:53')\n",
      " Timestamp('2009-05-03 15:37:56') Timestamp('2009-05-03 15:48:25')\n",
      " Timestamp('2009-05-04 12:51:26') Timestamp('2009-05-04 12:55:34')\n",
      " Timestamp('2009-05-04 13:00:48') Timestamp('2009-05-04 13:06:09')\n",
      " Timestamp('2009-05-04 13:13:38') Timestamp('2009-05-04 13:19:22')\n",
      " Timestamp('2009-05-04 13:23:45') Timestamp('2009-05-04 13:33:28')\n",
      " Timestamp('2009-05-04 13:38:31') Timestamp('2009-05-04 13:42:11')\n",
      " Timestamp('2009-05-04 13:42:52') Timestamp('2009-05-04 13:52:04')\n",
      " Timestamp('2009-05-04 13:54:10') Timestamp('2009-05-04 23:08:57')]\n"
     ]
    }
   ],
   "source": [
    "i = users_list[0]\n",
    "print(users[i][\"sequence_tracks\"][:20])\n",
    "print(users[i][\"sequence_tracks\"][-20:])\n",
    "print(users[i][\"sequence_artists\"][:20])\n",
    "print(users[i][\"sequence_artists\"][-20:])\n",
    "print(users[i][\"sequence_timestamps\"][:20])\n",
    "print(users[i][\"sequence_timestamps\"][-20:])"
   ]
  },
  {
   "cell_type": "code",
   "execution_count": 291,
   "metadata": {},
   "outputs": [],
   "source": [
    "with gzip.open(\"./data/ocelma-dataset/lastfm-dataset-1K/users.pkl.gz\", \"wb\") as fp:\n",
    "    joblib.dump(users, fp)"
   ]
  },
  {
   "cell_type": "code",
   "execution_count": 290,
   "metadata": {},
   "outputs": [],
   "source": [
    "with gzip.open(\"./data/ocelma-dataset/lastfm-dataset-1K/users.pkl.gz\", \"rb\") as fp:\n",
    "    users = joblib.load(fp)"
   ]
  },
  {
   "cell_type": "code",
   "execution_count": 292,
   "metadata": {},
   "outputs": [
    {
     "data": {
      "application/vnd.jupyter.widget-view+json": {
       "model_id": "141b0112fa5c43da9102363d8cd4f809",
       "version_major": 2,
       "version_minor": 0
      },
      "text/plain": [
       "  0%|          | 0/992 [00:00<?, ?it/s]"
      ]
     },
     "metadata": {},
     "output_type": "display_data"
    },
    {
     "name": "stdout",
     "output_type": "stream",
     "text": [
      "Kept 890 out of 992\n"
     ]
    }
   ],
   "source": [
    "min_len_sequence = 1000\n",
    "# filtering on all users with at least 1000 elements in the sequence\n",
    "users_list_filtered = []\n",
    "for userid in tqdm(users_list):\n",
    "    if len(users[userid][\"sequence_tracks\"]) < min_len_sequence:\n",
    "        del users[userid]\n",
    "    else:\n",
    "        users_list_filtered.append(userid)\n",
    "print(\"Kept %d out of %d\"%(len(users_list_filtered), len(users_list)))"
   ]
  },
  {
   "cell_type": "code",
   "execution_count": 293,
   "metadata": {},
   "outputs": [],
   "source": [
    "# from now on this will be used instead\n",
    "with gzip.open(\"./data/ocelma-dataset/lastfm-dataset-1K/users_min_1000.pkl.gz\", \"wb\") as fp:\n",
    "    joblib.dump(users, fp)"
   ]
  },
  {
   "cell_type": "code",
   "execution_count": 294,
   "metadata": {},
   "outputs": [],
   "source": [
    "users_list = users_list_filtered"
   ]
  },
  {
   "cell_type": "code",
   "execution_count": 17,
   "metadata": {},
   "outputs": [],
   "source": [
    "# from now on this will be used instead\n",
    "with gzip.open(\"./data/ocelma-dataset/lastfm-dataset-1K/users_list_min_1000.pkl.gz\", \"wb\") as fp:\n",
    "    joblib.dump(users_list, fp)"
   ]
  },
  {
   "cell_type": "markdown",
   "metadata": {},
   "source": [
    "## Analysis"
   ]
  },
  {
   "cell_type": "code",
   "execution_count": 6,
   "metadata": {},
   "outputs": [],
   "source": [
    "with gzip.open(\"./data/ocelma-dataset/lastfm-dataset-1K/users_min_1000.pkl.gz\", \"rb\") as fp:\n",
    "    users = joblib.load(fp)"
   ]
  },
  {
   "cell_type": "code",
   "execution_count": 14,
   "metadata": {},
   "outputs": [
    {
     "name": "stdout",
     "output_type": "stream",
     "text": [
      "890 user_001000\n"
     ]
    }
   ],
   "source": [
    "users_list = list(users.keys())\n",
    "users_list.sort()\n",
    "print(len(users_list), max(users_list))"
   ]
  },
  {
   "cell_type": "code",
   "execution_count": 15,
   "metadata": {},
   "outputs": [
    {
     "data": {
      "application/vnd.jupyter.widget-view+json": {
       "model_id": "85c757b9f5da4d9fb0fd065d2ea3b47c",
       "version_major": 2,
       "version_minor": 0
      },
      "text/plain": [
       "  0%|          | 0/890 [00:00<?, ?it/s]"
      ]
     },
     "metadata": {},
     "output_type": "display_data"
    }
   ],
   "source": [
    "# Just a check here\n",
    "# If there is a sequence_labels with max counts of each labels = 2 there might be a problem during entropy calculation!\n",
    "for userid in tqdm(users_list):\n",
    "    sequence_labels = users[userid][\"sequence_artists\"]\n",
    "    labels_freq = {}\n",
    "    for t,label in enumerate(sequence_labels):\n",
    "        if label not in labels_freq:\n",
    "            labels_freq[label] = 1\n",
    "        else:\n",
    "            labels_freq[label] += 1\n",
    "    if max(list(labels_freq.values())) < 10:\n",
    "        print(userid,max(list(labels_freq.values())))"
   ]
  },
  {
   "cell_type": "markdown",
   "metadata": {},
   "source": [
    "### Individual analysis"
   ]
  },
  {
   "cell_type": "code",
   "execution_count": null,
   "metadata": {},
   "outputs": [
    {
     "data": {
      "application/vnd.jupyter.widget-view+json": {
       "model_id": "4aa80b7b40674089afd830226f721327",
       "version_major": 2,
       "version_minor": 0
      },
      "text/plain": [
       "  0%|          | 0/890 [00:00<?, ?it/s]"
      ]
     },
     "metadata": {},
     "output_type": "display_data"
    },
    {
     "name": "stderr",
     "output_type": "stream",
     "text": [
      "/data/home/ahw701/env_enrico/envs/gt/lib/python3.9/site-packages/scipy/optimize/minpack.py:833: OptimizeWarning: Covariance of the parameters could not be estimated\n",
      "  warnings.warn('Covariance of the parameters could not be estimated',\n"
     ]
    }
   ],
   "source": [
    "# userid = users_list[60]\n",
    "results_light_individual_lastfm = {} \n",
    "for userid in tqdm(users_list):\n",
    "    sequence = users[userid][\"sequence_tracks\"]\n",
    "    sequence_labels = users[userid][\"sequence_artists\"]\n",
    "    save_light_file_path = f\"./data/ocelma-dataset/lastfm-dataset-1K/individual_results_light/{userid}_light.pkl\"\n",
    "    save_all_file_path = f\"./data/ocelma-dataset/lastfm-dataset-1K/individual_results/{userid}.pkl\"\n",
    "    results_light_individual_lastfm[userid] = analyse_sequence(sequence, num_to_save=1000, find_novelties = True, \n",
    "                         calculate_entropies_original = False, calculate_entropies_labels = True,\n",
    "                         D=None, D2=None, D3=None, D4=None, sequence_labels = sequence_labels,\n",
    "                         save_all=True, save_all_file_path = save_all_file_path, \n",
    "                         save_light_file_path = save_light_file_path,\n",
    "                         calculate_beta_loglogregr_indices = False,\n",
    "                         do_prints = False, return_all = False)"
   ]
  },
  {
   "cell_type": "code",
   "execution_count": null,
   "metadata": {},
   "outputs": [],
   "source": [
    "print(\"FINISHED\")"
   ]
  },
  {
   "cell_type": "code",
   "execution_count": 60,
   "metadata": {
    "tags": []
   },
   "outputs": [],
   "source": [
    "with gzip.open(\"./data/ocelma-dataset/lastfm-dataset-1K/results_light_users_lastfm.pkl.gz\", \"wb\") as fp:\n",
    "    joblib.dump(results_light_individual_lastfm, fp)"
   ]
  },
  {
   "cell_type": "code",
   "execution_count": 61,
   "metadata": {},
   "outputs": [
    {
     "data": {
      "application/vnd.jupyter.widget-view+json": {
       "model_id": "e6efb67a8ac149ec8060f5b739fec712",
       "version_major": 2,
       "version_minor": 0
      },
      "text/plain": [
       "  0%|          | 0/890 [00:00<?, ?it/s]"
      ]
     },
     "metadata": {},
     "output_type": "display_data"
    }
   ],
   "source": [
    "# USE THIS TIME THE SEQUENCE OF ARTISTS FOR THE SEQUENCES\n",
    "results_light_individual_lastfm = {} \n",
    "for userid in tqdm(users_list):\n",
    "    sequence = users[userid][\"sequence_artists\"]\n",
    "    sequence_labels = users[userid][\"sequence_artists\"]\n",
    "    save_light_file_path = f\"./data/ocelma-dataset/lastfm-dataset-1K/individual_results_artists_light/{userid}_light.pkl\"\n",
    "    save_all_file_path = f\"./data/ocelma-dataset/lastfm-dataset-1K/individual_results_artists/{userid}.pkl\"\n",
    "    results_light_individual_lastfm[userid] = analyse_sequence(sequence, num_to_save=1000, find_novelties = True, \n",
    "                         calculate_entropies_original = False, calculate_entropies_labels = True,\n",
    "                         D=None, D2=None, D3=None, D4=None, sequence_labels = sequence_labels,\n",
    "                         save_all=True, save_all_file_path = save_all_file_path, \n",
    "                         save_light_file_path = save_light_file_path,\n",
    "                         calculate_beta_loglogregr_indices = False,\n",
    "                         do_prints = False, return_all = False)"
   ]
  },
  {
   "cell_type": "code",
   "execution_count": 62,
   "metadata": {
    "tags": []
   },
   "outputs": [],
   "source": [
    "with gzip.open(\"./data/ocelma-dataset/lastfm-dataset-1K/results_light_users_lastfm_artists.pkl.gz\", \"wb\") as fp:\n",
    "    joblib.dump(results_light_individual_lastfm, fp)"
   ]
  },
  {
   "cell_type": "code",
   "execution_count": 63,
   "metadata": {
    "tags": []
   },
   "outputs": [],
   "source": [
    "with gzip.open(\"./data/ocelma-dataset/lastfm-dataset-1K/results_light_users_lastfm.pkl.gz\", \"rb\") as fp:\n",
    "    results_light_individual_lastfm = joblib.load(fp)"
   ]
  },
  {
   "cell_type": "markdown",
   "metadata": {},
   "source": [
    "### Check users Heaps'"
   ]
  },
  {
   "cell_type": "code",
   "execution_count": 64,
   "metadata": {
    "tags": []
   },
   "outputs": [],
   "source": [
    "with gzip.open(\"./data/ocelma-dataset/lastfm-dataset-1K/results_light_users_lastfm.pkl.gz\", \"rb\") as fp:\n",
    "    results_light_individual_lastfm = joblib.load(fp)"
   ]
  },
  {
   "cell_type": "code",
   "execution_count": 65,
   "metadata": {},
   "outputs": [],
   "source": [
    "with gzip.open(\"./data/ocelma-dataset/lastfm-dataset-1K/users_min_1000.pkl.gz\", \"rb\") as fp:\n",
    "    users = joblib.load(fp)"
   ]
  },
  {
   "cell_type": "code",
   "execution_count": 66,
   "metadata": {},
   "outputs": [
    {
     "name": "stdout",
     "output_type": "stream",
     "text": [
      "890 user_001000\n"
     ]
    }
   ],
   "source": [
    "users_list = list(users.keys())\n",
    "users_list.sort()\n",
    "print(len(users_list), max(users_list))"
   ]
  },
  {
   "cell_type": "code",
   "execution_count": 67,
   "metadata": {},
   "outputs": [
    {
     "data": {
      "text/plain": [
       "dict_keys(['sequence_tracks', 'sequence_artists', 'sequence_timestamps'])"
      ]
     },
     "execution_count": 67,
     "metadata": {},
     "output_type": "execute_result"
    }
   ],
   "source": [
    "users['user_000001'].keys()"
   ]
  },
  {
   "cell_type": "code",
   "execution_count": 68,
   "metadata": {},
   "outputs": [
    {
     "name": "stdout",
     "output_type": "stream",
     "text": [
      "dict_keys(['D', 'D2', 'D3', 'D4', 'ts', 'indices', 'ts_geom', 'indices_geom', 'D_indices', 'D2_indices', 'D3_indices', 'D4_indices', 'sequence', 'sequence_labels', 'entropies', 'entropies_glob', 'weighted_diff_entropies', 'entropies_sorted_keys', 'entropies_sorted_weights', 'mean_entropies', 'mean_entropies_glob', 'beta_mean_indices', 'beta2_mean_indices', 'beta3_mean_indices', 'beta4_mean_indices', 'beta_loglogregr_indices_geom', 'beta2_loglogregr_indices_geom', 'beta3_loglogregr_indices_geom', 'beta4_loglogregr_indices_geom'])\n"
     ]
    }
   ],
   "source": [
    "results = {}\n",
    "for userid in users_list:\n",
    "    try:\n",
    "        save_all_file_path = f\"./data/ocelma-dataset/lastfm-dataset-1K/individual_results/{userid}.pkl\"\n",
    "        with open(save_all_file_path, 'rb') as fp:\n",
    "            user_result = joblib.load(fp)\n",
    "        results[userid] = user_result\n",
    "    except:\n",
    "        pass\n",
    "print(user_result.keys())"
   ]
  },
  {
   "cell_type": "code",
   "execution_count": 69,
   "metadata": {},
   "outputs": [
    {
     "data": {
      "text/plain": [
       "dict_keys(['ts', 'indices', 'ts_geom', 'indices_geom', 'D_indices', 'D2_indices', 'D3_indices', 'D4_indices', 'weighted_diff_entropies', 'beta_mean_indices', 'beta2_mean_indices', 'beta3_mean_indices', 'beta4_mean_indices', 'beta_loglogregr_indices_geom', 'beta2_loglogregr_indices_geom', 'beta3_loglogregr_indices_geom', 'beta4_loglogregr_indices_geom'])"
      ]
     },
     "execution_count": 69,
     "metadata": {},
     "output_type": "execute_result"
    }
   ],
   "source": [
    "results_light_individual_lastfm[userid].keys()"
   ]
  },
  {
   "cell_type": "code",
   "execution_count": 70,
   "metadata": {},
   "outputs": [],
   "source": [
    "check_userid = [userid for userid in users_list if results_light_individual_lastfm[userid]['beta_loglogregr_indices_geom'][-1] > 1.2 and userid in results]"
   ]
  },
  {
   "cell_type": "code",
   "execution_count": 71,
   "metadata": {},
   "outputs": [
    {
     "data": {
      "text/plain": [
       "[]"
      ]
     },
     "execution_count": 71,
     "metadata": {},
     "output_type": "execute_result"
    }
   ],
   "source": [
    "check_userid"
   ]
  },
  {
   "cell_type": "code",
   "execution_count": 72,
   "metadata": {},
   "outputs": [
    {
     "data": {
      "text/plain": [
       "(array([ 1.,  0.,  0.,  0.,  2.,  0.,  1.,  0.,  0.,  1.,  0.,  2.,  0.,\n",
       "         4.,  3.,  3.,  4.,  8.,  4., 10., 13., 12., 10., 20., 16., 23.,\n",
       "        24., 30., 22., 42., 39., 33., 35., 44., 33., 37., 41., 49., 41.,\n",
       "        43., 43., 28., 25., 32., 22., 34., 12., 15., 19., 10.]),\n",
       " array([0.59615778, 0.60415196, 0.61214614, 0.62014032, 0.6281345 ,\n",
       "        0.63612867, 0.64412285, 0.65211703, 0.66011121, 0.66810539,\n",
       "        0.67609957, 0.68409374, 0.69208792, 0.7000821 , 0.70807628,\n",
       "        0.71607046, 0.72406464, 0.73205881, 0.74005299, 0.74804717,\n",
       "        0.75604135, 0.76403553, 0.77202971, 0.78002388, 0.78801806,\n",
       "        0.79601224, 0.80400642, 0.8120006 , 0.81999478, 0.82798895,\n",
       "        0.83598313, 0.84397731, 0.85197149, 0.85996567, 0.86795984,\n",
       "        0.87595402, 0.8839482 , 0.89194238, 0.89993656, 0.90793074,\n",
       "        0.91592491, 0.92391909, 0.93191327, 0.93990745, 0.94790163,\n",
       "        0.95589581, 0.96388998, 0.97188416, 0.97987834, 0.98787252,\n",
       "        0.9958667 ]),\n",
       " <BarContainer object of 50 artists>)"
      ]
     },
     "execution_count": 72,
     "metadata": {},
     "output_type": "execute_result"
    },
    {
     "data": {
      "image/png": "[encoded data removed]",
      "text/plain": [
       "<Figure size 800x500 with 1 Axes>"
      ]
     },
     "metadata": {},
     "output_type": "display_data"
    }
   ],
   "source": [
    "plt.figure(figsize=(8,5))\n",
    "plt.hist([results_light_individual_lastfm[userid]['beta_loglogregr_indices_geom'][-1] for userid in users_list], bins=50)"
   ]
  },
  {
   "cell_type": "code",
   "execution_count": 73,
   "metadata": {},
   "outputs": [
    {
     "data": {
      "text/plain": [
       "0"
      ]
     },
     "execution_count": 73,
     "metadata": {},
     "output_type": "execute_result"
    }
   ],
   "source": [
    "len(check_userid)"
   ]
  },
  {
   "cell_type": "code",
   "execution_count": 74,
   "metadata": {},
   "outputs": [],
   "source": [
    "colors=['blue','red','green','orange', 'magenta']"
   ]
  },
  {
   "cell_type": "code",
   "execution_count": 75,
   "metadata": {},
   "outputs": [
    {
     "data": {
      "text/plain": [
       "Text(0, 0.5, '$D(t)$')"
      ]
     },
     "execution_count": 75,
     "metadata": {},
     "output_type": "execute_result"
    },
    {
     "data": {
      "image/png": "[encoded data removed]",
      "text/plain": [
       "<Figure size 1000x700 with 1 Axes>"
      ]
     },
     "metadata": {},
     "output_type": "display_data"
    }
   ],
   "source": [
    "fig = plt.figure(figsize=(10,7))\n",
    "ax = plt.gca()\n",
    "ax.plot([1,10**5], [1,10**5],\n",
    "        color = 'black', ls = \"--\", alpha=0.8, label = r\"$y=x$\")\n",
    "    \n",
    "for i,userid in enumerate(check_userid):\n",
    "    ax.plot(results[userid][\"ts\"],results[userid][\"D_indices\"], color = colors[i])\n",
    "    ax.plot(results[userid][\"ts\"],results[userid][\"ts\"]**results[userid][\"beta_loglogregr_indices_geom\"][-1] * (results[userid][\"D_indices\"][-1]/results[userid][\"ts\"][-1]**results[userid][\"beta_loglogregr_indices_geom\"][-1]), \n",
    "        color = colors[i], ls = \"--\", alpha=0.8, label = \"%.3f\"%results[userid][\"beta_loglogregr_indices_geom\"][-1])\n",
    "ax.loglog()\n",
    "ax.legend()\n",
    "ax.set_xlabel(r'$t$')\n",
    "ax.set_ylabel(r'$D(t)$')"
   ]
  },
  {
   "cell_type": "code",
   "execution_count": 76,
   "metadata": {},
   "outputs": [],
   "source": [
    "t = np.arange(100,1000)\n",
    "y = t - 100"
   ]
  },
  {
   "cell_type": "code",
   "execution_count": 77,
   "metadata": {},
   "outputs": [],
   "source": [
    "t = np.arange(100,1000)\n",
    "y2 = t**0.5"
   ]
  },
  {
   "cell_type": "code",
   "execution_count": 78,
   "metadata": {},
   "outputs": [
    {
     "data": {
      "text/plain": [
       "Text(0, 0.5, '$D(t)$')"
      ]
     },
     "execution_count": 78,
     "metadata": {},
     "output_type": "execute_result"
    },
    {
     "data": {
      "image/png": "[encoded data removed]",
      "text/plain": [
       "<Figure size 1000x700 with 1 Axes>"
      ]
     },
     "metadata": {},
     "output_type": "display_data"
    }
   ],
   "source": [
    "fig = plt.figure(figsize=(10,7))\n",
    "ax = plt.gca()\n",
    "ax.plot([1,10**3], [1,10**3],\n",
    "        color = 'black', ls = \"--\", alpha=0.8, label = r\"$y=x$\")\n",
    "ax.plot(t,y, label = r\"$y = t - 100$\")\n",
    "ax.plot(t,y2, label = r\"$y = t - 100$\")\n",
    "# ax.loglog()\n",
    "ax.legend()\n",
    "ax.set_xlabel(r'$t$')\n",
    "ax.set_ylabel(r'$D(t)$')"
   ]
  },
  {
   "cell_type": "code",
   "execution_count": 79,
   "metadata": {},
   "outputs": [],
   "source": [
    "import powerlaw"
   ]
  },
  {
   "cell_type": "code",
   "execution_count": 80,
   "metadata": {},
   "outputs": [
    {
     "data": {
      "text/plain": [
       "Text(0, 0.5, '$D(t)$')"
      ]
     },
     "execution_count": 80,
     "metadata": {},
     "output_type": "execute_result"
    },
    {
     "data": {
      "image/png": "[encoded data removed]",
      "text/plain": [
       "<Figure size 1000x700 with 1 Axes>"
      ]
     },
     "metadata": {},
     "output_type": "display_data"
    }
   ],
   "source": [
    "fig = plt.figure(figsize=(10,7))\n",
    "ax = plt.gca()\n",
    "ax.plot([1,10**3], [1,10**3],\n",
    "        color = 'black', ls = \"--\", alpha=0.8, label = r\"$y=x$\")\n",
    "ax.plot(t,y, label = r\"$y = t - 100$\")\n",
    "ax.loglog()\n",
    "ax.legend()\n",
    "ax.set_xlabel(r'$t$')\n",
    "ax.set_ylabel(r'$D(t)$')"
   ]
  },
  {
   "cell_type": "code",
   "execution_count": 89,
   "metadata": {},
   "outputs": [],
   "source": [
    "data = [t[i] for i in range(len(t)) for _ in range(y[i])]"
   ]
  },
  {
   "cell_type": "code",
   "execution_count": 110,
   "metadata": {},
   "outputs": [],
   "source": [
    "fit = powerlaw.Fit(data,xmin=100,xmax=1000,discrete=True)"
   ]
  },
  {
   "cell_type": "code",
   "execution_count": 119,
   "metadata": {},
   "outputs": [
    {
     "name": "stdout",
     "output_type": "stream",
     "text": [
      "Calculating best minimal value for power law fit\n",
      "xmin progress: 99%\r"
     ]
    },
    {
     "name": "stderr",
     "output_type": "stream",
     "text": [
      "No valid fits found.\n"
     ]
    }
   ],
   "source": [
    "fit = powerlaw.Fit(data,parameter_range={'alpha':(0,1)})"
   ]
  },
  {
   "cell_type": "code",
   "execution_count": 114,
   "metadata": {},
   "outputs": [
    {
     "ename": "TypeError",
     "evalue": "'numpy.float64' object cannot be interpreted as an integer",
     "output_type": "error",
     "traceback": [
      "\u001b[0;31m---------------------------------------------------------------------------\u001b[0m",
      "\u001b[0;31mTypeError\u001b[0m                                 Traceback (most recent call last)",
      "\u001b[0;32m/tmp/2600877.1.all.q/ipykernel_26147/2341591404.py\u001b[0m in \u001b[0;36m<module>\u001b[0;34m\u001b[0m\n\u001b[0;32m----> 1\u001b[0;31m \u001b[0mdata2\u001b[0m \u001b[0;34m=\u001b[0m \u001b[0;34m[\u001b[0m\u001b[0mt\u001b[0m\u001b[0;34m[\u001b[0m\u001b[0mi\u001b[0m\u001b[0;34m]\u001b[0m \u001b[0;32mfor\u001b[0m \u001b[0mi\u001b[0m \u001b[0;32min\u001b[0m \u001b[0mrange\u001b[0m\u001b[0;34m(\u001b[0m\u001b[0mlen\u001b[0m\u001b[0;34m(\u001b[0m\u001b[0mt\u001b[0m\u001b[0;34m)\u001b[0m\u001b[0;34m)\u001b[0m \u001b[0;32mfor\u001b[0m \u001b[0m_\u001b[0m \u001b[0;32min\u001b[0m \u001b[0mrange\u001b[0m\u001b[0;34m(\u001b[0m\u001b[0my2\u001b[0m\u001b[0;34m[\u001b[0m\u001b[0mi\u001b[0m\u001b[0;34m]\u001b[0m\u001b[0;34m)\u001b[0m\u001b[0;34m]\u001b[0m\u001b[0;34m\u001b[0m\u001b[0;34m\u001b[0m\u001b[0m\n\u001b[0m",
      "\u001b[0;32m/tmp/2600877.1.all.q/ipykernel_26147/2341591404.py\u001b[0m in \u001b[0;36m<listcomp>\u001b[0;34m(.0)\u001b[0m\n\u001b[0;32m----> 1\u001b[0;31m \u001b[0mdata2\u001b[0m \u001b[0;34m=\u001b[0m \u001b[0;34m[\u001b[0m\u001b[0mt\u001b[0m\u001b[0;34m[\u001b[0m\u001b[0mi\u001b[0m\u001b[0;34m]\u001b[0m \u001b[0;32mfor\u001b[0m \u001b[0mi\u001b[0m \u001b[0;32min\u001b[0m \u001b[0mrange\u001b[0m\u001b[0;34m(\u001b[0m\u001b[0mlen\u001b[0m\u001b[0;34m(\u001b[0m\u001b[0mt\u001b[0m\u001b[0;34m)\u001b[0m\u001b[0;34m)\u001b[0m \u001b[0;32mfor\u001b[0m \u001b[0m_\u001b[0m \u001b[0;32min\u001b[0m \u001b[0mrange\u001b[0m\u001b[0;34m(\u001b[0m\u001b[0my2\u001b[0m\u001b[0;34m[\u001b[0m\u001b[0mi\u001b[0m\u001b[0;34m]\u001b[0m\u001b[0;34m)\u001b[0m\u001b[0;34m]\u001b[0m\u001b[0;34m\u001b[0m\u001b[0;34m\u001b[0m\u001b[0m\n\u001b[0m",
      "\u001b[0;31mTypeError\u001b[0m: 'numpy.float64' object cannot be interpreted as an integer"
     ]
    }
   ],
   "source": [
    "data2 = [t[i] for i in range(len(t)) for _ in range(y2[i])]"
   ]
  },
  {
   "cell_type": "code",
   "execution_count": null,
   "metadata": {},
   "outputs": [],
   "source": [
    "fit2 = powerlaw.Fit(data2,parameter_range={'alpha':(-2,0)})"
   ]
  },
  {
   "cell_type": "code",
   "execution_count": 103,
   "metadata": {},
   "outputs": [
    {
     "ename": "AttributeError",
     "evalue": "'Power_Law' object has no attribute 'parent_Fit'",
     "output_type": "error",
     "traceback": [
      "\u001b[0;31m---------------------------------------------------------------------------\u001b[0m",
      "\u001b[0;31mAttributeError\u001b[0m                            Traceback (most recent call last)",
      "\u001b[0;32m/tmp/2600877.1.all.q/ipykernel_26147/2470546643.py\u001b[0m in \u001b[0;36m<module>\u001b[0;34m\u001b[0m\n\u001b[0;32m----> 1\u001b[0;31m \u001b[0mfit\u001b[0m \u001b[0;34m=\u001b[0m \u001b[0mpowerlaw\u001b[0m\u001b[0;34m.\u001b[0m\u001b[0mFit\u001b[0m\u001b[0;34m(\u001b[0m\u001b[0mdata\u001b[0m\u001b[0;34m,\u001b[0m\u001b[0mxmin\u001b[0m\u001b[0;34m=\u001b[0m\u001b[0;36m100\u001b[0m\u001b[0;34m,\u001b[0m\u001b[0mxmax\u001b[0m\u001b[0;34m=\u001b[0m\u001b[0;36m1000\u001b[0m\u001b[0;34m,\u001b[0m\u001b[0mdiscrete\u001b[0m\u001b[0;34m=\u001b[0m\u001b[0;32mFalse\u001b[0m\u001b[0;34m,\u001b[0m\u001b[0mparameter_range\u001b[0m\u001b[0;34m=\u001b[0m\u001b[0;34m{\u001b[0m\u001b[0;34m'alpha'\u001b[0m\u001b[0;34m:\u001b[0m\u001b[0;34m(\u001b[0m\u001b[0;32mNone\u001b[0m\u001b[0;34m,\u001b[0m\u001b[0;32mNone\u001b[0m\u001b[0;34m)\u001b[0m\u001b[0;34m}\u001b[0m\u001b[0;34m)\u001b[0m\u001b[0;34m\u001b[0m\u001b[0;34m\u001b[0m\u001b[0m\n\u001b[0m",
      "\u001b[0;32m~/env_enrico/envs/gt/lib/python3.9/site-packages/powerlaw.py\u001b[0m in \u001b[0;36m__init__\u001b[0;34m(self, data, discrete, xmin, xmax, verbose, fit_method, estimate_discrete, discrete_approximation, sigma_threshold, parameter_range, fit_optimizer, xmin_distance, xmin_distribution, **kwargs)\u001b[0m\n\u001b[1;32m    132\u001b[0m             \u001b[0mself\u001b[0m\u001b[0;34m.\u001b[0m\u001b[0mxmin\u001b[0m \u001b[0;34m=\u001b[0m \u001b[0mfloat\u001b[0m\u001b[0;34m(\u001b[0m\u001b[0mxmin\u001b[0m\u001b[0;34m)\u001b[0m\u001b[0;34m\u001b[0m\u001b[0;34m\u001b[0m\u001b[0m\n\u001b[1;32m    133\u001b[0m             \u001b[0mself\u001b[0m\u001b[0;34m.\u001b[0m\u001b[0mnoise_flag\u001b[0m \u001b[0;34m=\u001b[0m \u001b[0;32mNone\u001b[0m\u001b[0;34m\u001b[0m\u001b[0;34m\u001b[0m\u001b[0m\n\u001b[0;32m--> 134\u001b[0;31m             pl = Power_Law(xmin=self.xmin,\n\u001b[0m\u001b[1;32m    135\u001b[0m                            \u001b[0mxmax\u001b[0m\u001b[0;34m=\u001b[0m\u001b[0mself\u001b[0m\u001b[0;34m.\u001b[0m\u001b[0mxmax\u001b[0m\u001b[0;34m,\u001b[0m\u001b[0;34m\u001b[0m\u001b[0;34m\u001b[0m\u001b[0m\n\u001b[1;32m    136\u001b[0m                            \u001b[0mdiscrete\u001b[0m\u001b[0;34m=\u001b[0m\u001b[0mself\u001b[0m\u001b[0;34m.\u001b[0m\u001b[0mdiscrete\u001b[0m\u001b[0;34m,\u001b[0m\u001b[0;34m\u001b[0m\u001b[0;34m\u001b[0m\u001b[0m\n",
      "\u001b[0;32m~/env_enrico/envs/gt/lib/python3.9/site-packages/powerlaw.py\u001b[0m in \u001b[0;36m__init__\u001b[0;34m(self, estimate_discrete, **kwargs)\u001b[0m\n\u001b[1;32m   1121\u001b[0m     \u001b[0;32mdef\u001b[0m \u001b[0m__init__\u001b[0m\u001b[0;34m(\u001b[0m\u001b[0mself\u001b[0m\u001b[0;34m,\u001b[0m \u001b[0mestimate_discrete\u001b[0m\u001b[0;34m=\u001b[0m\u001b[0;32mTrue\u001b[0m\u001b[0;34m,\u001b[0m \u001b[0;34m**\u001b[0m\u001b[0mkwargs\u001b[0m\u001b[0;34m)\u001b[0m\u001b[0;34m:\u001b[0m\u001b[0;34m\u001b[0m\u001b[0;34m\u001b[0m\u001b[0m\n\u001b[1;32m   1122\u001b[0m         \u001b[0mself\u001b[0m\u001b[0;34m.\u001b[0m\u001b[0mestimate_discrete\u001b[0m \u001b[0;34m=\u001b[0m \u001b[0mestimate_discrete\u001b[0m\u001b[0;34m\u001b[0m\u001b[0;34m\u001b[0m\u001b[0m\n\u001b[0;32m-> 1123\u001b[0;31m         \u001b[0mDistribution\u001b[0m\u001b[0;34m.\u001b[0m\u001b[0m__init__\u001b[0m\u001b[0;34m(\u001b[0m\u001b[0mself\u001b[0m\u001b[0;34m,\u001b[0m \u001b[0;34m**\u001b[0m\u001b[0mkwargs\u001b[0m\u001b[0;34m)\u001b[0m\u001b[0;34m\u001b[0m\u001b[0;34m\u001b[0m\u001b[0m\n\u001b[0m\u001b[1;32m   1124\u001b[0m \u001b[0;34m\u001b[0m\u001b[0m\n\u001b[1;32m   1125\u001b[0m     \u001b[0;32mdef\u001b[0m \u001b[0mparameters\u001b[0m\u001b[0;34m(\u001b[0m\u001b[0mself\u001b[0m\u001b[0;34m,\u001b[0m \u001b[0mparams\u001b[0m\u001b[0;34m)\u001b[0m\u001b[0;34m:\u001b[0m\u001b[0;34m\u001b[0m\u001b[0;34m\u001b[0m\u001b[0m\n",
      "\u001b[0;32m~/env_enrico/envs/gt/lib/python3.9/site-packages/powerlaw.py\u001b[0m in \u001b[0;36m__init__\u001b[0;34m(self, xmin, xmax, discrete, fit_method, data, parameters, parameter_range, initial_parameters, discrete_approximation, parent_Fit, **kwargs)\u001b[0m\n\u001b[1;32m    612\u001b[0m \u001b[0;34m\u001b[0m\u001b[0m\n\u001b[1;32m    613\u001b[0m         \u001b[0;32mif\u001b[0m \u001b[0mparameter_range\u001b[0m\u001b[0;34m:\u001b[0m\u001b[0;34m\u001b[0m\u001b[0;34m\u001b[0m\u001b[0m\n\u001b[0;32m--> 614\u001b[0;31m             \u001b[0mself\u001b[0m\u001b[0;34m.\u001b[0m\u001b[0mparameter_range\u001b[0m\u001b[0;34m(\u001b[0m\u001b[0mparameter_range\u001b[0m\u001b[0;34m)\u001b[0m\u001b[0;34m\u001b[0m\u001b[0;34m\u001b[0m\u001b[0m\n\u001b[0m\u001b[1;32m    615\u001b[0m \u001b[0;34m\u001b[0m\u001b[0m\n\u001b[1;32m    616\u001b[0m         \u001b[0;32mif\u001b[0m \u001b[0minitial_parameters\u001b[0m\u001b[0;34m:\u001b[0m\u001b[0;34m\u001b[0m\u001b[0;34m\u001b[0m\u001b[0m\n",
      "\u001b[0;32m~/env_enrico/envs/gt/lib/python3.9/site-packages/powerlaw.py\u001b[0m in \u001b[0;36mparameter_range\u001b[0;34m(self, r, initial_parameters)\u001b[0m\n\u001b[1;32m    911\u001b[0m             \u001b[0mself\u001b[0m\u001b[0;34m.\u001b[0m\u001b[0m_given_initial_parameters\u001b[0m \u001b[0;34m=\u001b[0m \u001b[0minitial_parameters\u001b[0m\u001b[0;34m\u001b[0m\u001b[0;34m\u001b[0m\u001b[0m\n\u001b[1;32m    912\u001b[0m \u001b[0;34m\u001b[0m\u001b[0m\n\u001b[0;32m--> 913\u001b[0;31m         \u001b[0;32mif\u001b[0m \u001b[0mself\u001b[0m\u001b[0;34m.\u001b[0m\u001b[0mparent_Fit\u001b[0m\u001b[0;34m:\u001b[0m\u001b[0;34m\u001b[0m\u001b[0;34m\u001b[0m\u001b[0m\n\u001b[0m\u001b[1;32m    914\u001b[0m             \u001b[0mself\u001b[0m\u001b[0;34m.\u001b[0m\u001b[0mfit\u001b[0m\u001b[0;34m(\u001b[0m\u001b[0mself\u001b[0m\u001b[0;34m.\u001b[0m\u001b[0mparent_Fit\u001b[0m\u001b[0;34m.\u001b[0m\u001b[0mdata\u001b[0m\u001b[0;34m)\u001b[0m\u001b[0;34m\u001b[0m\u001b[0;34m\u001b[0m\u001b[0m\n\u001b[1;32m    915\u001b[0m \u001b[0;34m\u001b[0m\u001b[0m\n",
      "\u001b[0;31mAttributeError\u001b[0m: 'Power_Law' object has no attribute 'parent_Fit'"
     ]
    }
   ],
   "source": [
    "fit = powerlaw.Fit(data,xmin=100,xmax=1000,discrete=True,parameter_range={'alpha':(None,None)})"
   ]
  },
  {
   "cell_type": "code",
   "execution_count": 96,
   "metadata": {},
   "outputs": [
    {
     "data": {
      "text/plain": [
       "1.0000000050875804"
      ]
     },
     "execution_count": 96,
     "metadata": {},
     "output_type": "execute_result"
    }
   ],
   "source": [
    "fit.alpha"
   ]
  },
  {
   "cell_type": "code",
   "execution_count": 95,
   "metadata": {},
   "outputs": [
    {
     "data": {
      "text/plain": [
       "7.998806283595838e-12"
      ]
     },
     "execution_count": 95,
     "metadata": {},
     "output_type": "execute_result"
    }
   ],
   "source": [
    "fit.sigma"
   ]
  },
  {
   "cell_type": "code",
   "execution_count": 79,
   "metadata": {},
   "outputs": [
    {
     "name": "stdout",
     "output_type": "stream",
     "text": [
      "37.71490033533836\n",
      "947.0\n"
     ]
    }
   ],
   "source": [
    "print(fit.power_law.alpha)\n",
    "print(fit.power_law.xmin)"
   ]
  },
  {
   "cell_type": "code",
   "execution_count": 91,
   "metadata": {},
   "outputs": [
    {
     "data": {
      "text/plain": [
       "(1, 1000)"
      ]
     },
     "execution_count": 91,
     "metadata": {},
     "output_type": "execute_result"
    },
    {
     "data": {
      "image/png": "[encoded data removed]",
      "text/plain": [
       "<Figure size 2283.91x1522.61 with 1 Axes>"
      ]
     },
     "metadata": {},
     "output_type": "display_data"
    }
   ],
   "source": [
    "powerlaw.plot_pdf(data)\n",
    "plt.xlim(1,1000)"
   ]
  },
  {
   "cell_type": "code",
   "execution_count": 86,
   "metadata": {},
   "outputs": [
    {
     "name": "stderr",
     "output_type": "stream",
     "text": [
      "Assuming nested distributions\n"
     ]
    }
   ],
   "source": [
    "R, p = fit.distribution_compare('lognormal_positive', 'lognormal')"
   ]
  },
  {
   "cell_type": "code",
   "execution_count": 85,
   "metadata": {},
   "outputs": [
    {
     "name": "stderr",
     "output_type": "stream",
     "text": [
      "Assuming nested distributions\n"
     ]
    },
    {
     "ename": "AttributeError",
     "evalue": "normal",
     "output_type": "error",
     "traceback": [
      "\u001b[0;31m---------------------------------------------------------------------------\u001b[0m",
      "\u001b[0;31mAttributeError\u001b[0m                            Traceback (most recent call last)",
      "\u001b[0;32m/tmp/2600877.1.all.q/ipykernel_26147/2003098776.py\u001b[0m in \u001b[0;36m<module>\u001b[0;34m\u001b[0m\n\u001b[0;32m----> 1\u001b[0;31m \u001b[0mfit\u001b[0m\u001b[0;34m.\u001b[0m\u001b[0mdistribution_compare\u001b[0m\u001b[0;34m(\u001b[0m\u001b[0;34m'lognormal'\u001b[0m\u001b[0;34m,\u001b[0m \u001b[0;34m'normal'\u001b[0m\u001b[0;34m)\u001b[0m\u001b[0;34m\u001b[0m\u001b[0;34m\u001b[0m\u001b[0m\n\u001b[0m",
      "\u001b[0;32m~/env_enrico/envs/gt/lib/python3.9/site-packages/powerlaw.py\u001b[0m in \u001b[0;36mdistribution_compare\u001b[0;34m(self, dist1, dist2, nested, **kwargs)\u001b[0m\n\u001b[1;32m    342\u001b[0m \u001b[0;34m\u001b[0m\u001b[0m\n\u001b[1;32m    343\u001b[0m         \u001b[0mdist1\u001b[0m \u001b[0;34m=\u001b[0m \u001b[0mgetattr\u001b[0m\u001b[0;34m(\u001b[0m\u001b[0mself\u001b[0m\u001b[0;34m,\u001b[0m \u001b[0mdist1\u001b[0m\u001b[0;34m)\u001b[0m\u001b[0;34m\u001b[0m\u001b[0;34m\u001b[0m\u001b[0m\n\u001b[0;32m--> 344\u001b[0;31m         \u001b[0mdist2\u001b[0m \u001b[0;34m=\u001b[0m \u001b[0mgetattr\u001b[0m\u001b[0;34m(\u001b[0m\u001b[0mself\u001b[0m\u001b[0;34m,\u001b[0m \u001b[0mdist2\u001b[0m\u001b[0;34m)\u001b[0m\u001b[0;34m\u001b[0m\u001b[0;34m\u001b[0m\u001b[0m\n\u001b[0m\u001b[1;32m    345\u001b[0m \u001b[0;34m\u001b[0m\u001b[0m\n\u001b[1;32m    346\u001b[0m         \u001b[0mloglikelihoods1\u001b[0m \u001b[0;34m=\u001b[0m \u001b[0mdist1\u001b[0m\u001b[0;34m.\u001b[0m\u001b[0mloglikelihoods\u001b[0m\u001b[0;34m(\u001b[0m\u001b[0mself\u001b[0m\u001b[0;34m.\u001b[0m\u001b[0mdata\u001b[0m\u001b[0;34m)\u001b[0m\u001b[0;34m\u001b[0m\u001b[0;34m\u001b[0m\u001b[0m\n",
      "\u001b[0;32m~/env_enrico/envs/gt/lib/python3.9/site-packages/powerlaw.py\u001b[0m in \u001b[0;36m__getattr__\u001b[0;34m(self, name)\u001b[0m\n\u001b[1;32m    177\u001b[0m             \u001b[0;32mreturn\u001b[0m \u001b[0mgetattr\u001b[0m\u001b[0;34m(\u001b[0m\u001b[0mself\u001b[0m\u001b[0;34m,\u001b[0m \u001b[0mname\u001b[0m\u001b[0;34m)\u001b[0m\u001b[0;34m\u001b[0m\u001b[0;34m\u001b[0m\u001b[0m\n\u001b[1;32m    178\u001b[0m         \u001b[0;32melse\u001b[0m\u001b[0;34m:\u001b[0m\u001b[0;34m\u001b[0m\u001b[0;34m\u001b[0m\u001b[0m\n\u001b[0;32m--> 179\u001b[0;31m             \u001b[0;32mraise\u001b[0m \u001b[0mAttributeError\u001b[0m\u001b[0;34m(\u001b[0m\u001b[0mname\u001b[0m\u001b[0;34m)\u001b[0m\u001b[0;34m\u001b[0m\u001b[0;34m\u001b[0m\u001b[0m\n\u001b[0m\u001b[1;32m    180\u001b[0m \u001b[0;34m\u001b[0m\u001b[0m\n\u001b[1;32m    181\u001b[0m     \u001b[0;32mdef\u001b[0m \u001b[0mfind_xmin\u001b[0m\u001b[0;34m(\u001b[0m\u001b[0mself\u001b[0m\u001b[0;34m,\u001b[0m \u001b[0mxmin_distance\u001b[0m\u001b[0;34m=\u001b[0m\u001b[0;32mNone\u001b[0m\u001b[0;34m)\u001b[0m\u001b[0;34m:\u001b[0m\u001b[0;34m\u001b[0m\u001b[0;34m\u001b[0m\u001b[0m\n",
      "\u001b[0;31mAttributeError\u001b[0m: normal"
     ]
    }
   ],
   "source": [
    "fit.distribution_compare('lognormal', 'normal')"
   ]
  },
  {
   "cell_type": "code",
   "execution_count": 87,
   "metadata": {},
   "outputs": [
    {
     "data": {
      "text/plain": [
       "(0.0, 1.0)"
      ]
     },
     "execution_count": 87,
     "metadata": {},
     "output_type": "execute_result"
    }
   ],
   "source": [
    "R,p"
   ]
  },
  {
   "cell_type": "code",
   "execution_count": 72,
   "metadata": {},
   "outputs": [
    {
     "data": {
      "text/plain": [
       "Text(0, 0.5, '$D(t)$')"
      ]
     },
     "execution_count": 72,
     "metadata": {},
     "output_type": "execute_result"
    },
    {
     "data": {
      "image/png": "[encoded data removed]",
      "text/plain": [
       "<Figure size 1000x700 with 1 Axes>"
      ]
     },
     "metadata": {},
     "output_type": "display_data"
    }
   ],
   "source": [
    "fig = plt.figure(figsize=(10,7))\n",
    "ax = plt.gca()\n",
    "ax.plot([1,10**5], [1,10**5],\n",
    "        color = 'black', ls = \"--\", alpha=0.8, label = r\"$y=x$\")\n",
    "    \n",
    "for i,userid in enumerate(check_userid):\n",
    "    ax.plot(results[userid][\"ts\"]+1,results[userid][\"D_indices\"], color = colors[i])\n",
    "    ax.plot(results[userid][\"ts\"],results[userid][\"ts\"]**results[userid][\"beta_loglogregr_indices_geom\"][-1] * (results[userid][\"D_indices\"][-1]/results[userid][\"ts\"][-1]**results[userid][\"beta_loglogregr_indices_geom\"][-1]), \n",
    "        color = colors[i], ls = \"--\", alpha=0.8, label = \"%.3f\"%results[userid][\"beta_loglogregr_indices_geom\"][-1])\n",
    "# ax.loglog()\n",
    "ax.legend()\n",
    "ax.set_xlabel(r'$t$')\n",
    "ax.set_ylabel(r'$D(t)$')"
   ]
  },
  {
   "cell_type": "code",
   "execution_count": 59,
   "metadata": {},
   "outputs": [
    {
     "data": {
      "text/plain": [
       "1"
      ]
     },
     "execution_count": 59,
     "metadata": {},
     "output_type": "execute_result"
    }
   ],
   "source": [
    "results[userid][\"ts\"][0]"
   ]
  },
  {
   "cell_type": "code",
   "execution_count": 60,
   "metadata": {},
   "outputs": [
    {
     "name": "stdout",
     "output_type": "stream",
     "text": [
      "1\n",
      "1\n",
      "1\n",
      "1\n",
      "1\n"
     ]
    }
   ],
   "source": [
    "for userid in check_userid:\n",
    "    user_result = results[userid]\n",
    "    D = user_result['D']\n",
    "    last_y = D[0]\n",
    "    print(D[0])\n",
    "    for t,y in enumerate(D):\n",
    "        if y not in [last_y, last_y+1]:\n",
    "            print(f\"problem with {userid} at t={t}\")\n",
    "        last_y = y"
   ]
  },
  {
   "cell_type": "code",
   "execution_count": 65,
   "metadata": {},
   "outputs": [
    {
     "data": {
      "text/plain": [
       "dict_keys(['D', 'D2', 'D3', 'D4', 'ts', 'indices', 'ts_geom', 'indices_geom', 'D_indices', 'D2_indices', 'D3_indices', 'D4_indices', 'sequence', 'sequence_labels', 'entropies', 'entropies_glob', 'weighted_diff_entropies', 'entropies_sorted_keys', 'entropies_sorted_weights', 'mean_entropies', 'mean_entropies_glob', 'beta_mean_indices', 'beta2_mean_indices', 'beta3_mean_indices', 'beta4_mean_indices', 'beta_loglogregr_indices_geom', 'beta2_loglogregr_indices_geom', 'beta3_loglogregr_indices_geom', 'beta4_loglogregr_indices_geom'])"
      ]
     },
     "execution_count": 65,
     "metadata": {},
     "output_type": "execute_result"
    }
   ],
   "source": [
    "user_result.keys()"
   ]
  },
  {
   "cell_type": "code",
   "execution_count": 63,
   "metadata": {},
   "outputs": [
    {
     "data": {
      "text/plain": [
       "2204"
      ]
     },
     "execution_count": 63,
     "metadata": {},
     "output_type": "execute_result"
    }
   ],
   "source": [
    "len(user_result['D'])"
   ]
  },
  {
   "cell_type": "code",
   "execution_count": 64,
   "metadata": {},
   "outputs": [
    {
     "data": {
      "text/plain": [
       "1257"
      ]
     },
     "execution_count": 64,
     "metadata": {},
     "output_type": "execute_result"
    }
   ],
   "source": [
    "len(user_result['ts'])"
   ]
  },
  {
   "cell_type": "code",
   "execution_count": 62,
   "metadata": {},
   "outputs": [
    {
     "data": {
      "text/plain": [
       "1257"
      ]
     },
     "execution_count": 62,
     "metadata": {},
     "output_type": "execute_result"
    }
   ],
   "source": [
    "len(user_result['D_indices'])"
   ]
  },
  {
   "cell_type": "code",
   "execution_count": 66,
   "metadata": {},
   "outputs": [
    {
     "data": {
      "text/plain": [
       "[1,\n",
       " 2,\n",
       " 3,\n",
       " 4,\n",
       " 5,\n",
       " 6,\n",
       " 7,\n",
       " 8,\n",
       " 9,\n",
       " 10,\n",
       " 11,\n",
       " 12,\n",
       " 13,\n",
       " 14,\n",
       " 15,\n",
       " 16,\n",
       " 17,\n",
       " 18,\n",
       " 19,\n",
       " 20,\n",
       " 21,\n",
       " 22,\n",
       " 23,\n",
       " 24,\n",
       " 25,\n",
       " 26,\n",
       " 27,\n",
       " 28,\n",
       " 29,\n",
       " 30,\n",
       " 31,\n",
       " 32,\n",
       " 33,\n",
       " 34,\n",
       " 35,\n",
       " 36,\n",
       " 37,\n",
       " 38,\n",
       " 39,\n",
       " 40,\n",
       " 41,\n",
       " 42,\n",
       " 43,\n",
       " 44,\n",
       " 45,\n",
       " 46,\n",
       " 47,\n",
       " 48,\n",
       " 49,\n",
       " 50,\n",
       " 51,\n",
       " 52,\n",
       " 53,\n",
       " 54,\n",
       " 55,\n",
       " 56,\n",
       " 57,\n",
       " 58,\n",
       " 59,\n",
       " 60,\n",
       " 61,\n",
       " 62,\n",
       " 63,\n",
       " 64,\n",
       " 65,\n",
       " 66,\n",
       " 67,\n",
       " 68,\n",
       " 69,\n",
       " 70,\n",
       " 71,\n",
       " 72,\n",
       " 73,\n",
       " 74,\n",
       " 75,\n",
       " 76,\n",
       " 77,\n",
       " 78,\n",
       " 79,\n",
       " 80,\n",
       " 81,\n",
       " 82,\n",
       " 83,\n",
       " 84,\n",
       " 85,\n",
       " 86,\n",
       " 87,\n",
       " 88,\n",
       " 89,\n",
       " 90,\n",
       " 91,\n",
       " 92,\n",
       " 93,\n",
       " 94,\n",
       " 95,\n",
       " 96,\n",
       " 97,\n",
       " 98,\n",
       " 99,\n",
       " 100,\n",
       " 101,\n",
       " 102,\n",
       " 103,\n",
       " 104,\n",
       " 105,\n",
       " 106,\n",
       " 107,\n",
       " 108,\n",
       " 109,\n",
       " 110,\n",
       " 111,\n",
       " 112,\n",
       " 113,\n",
       " 114,\n",
       " 115,\n",
       " 116,\n",
       " 117,\n",
       " 118,\n",
       " 119,\n",
       " 120,\n",
       " 121,\n",
       " 122,\n",
       " 123,\n",
       " 124,\n",
       " 125,\n",
       " 126,\n",
       " 127,\n",
       " 128,\n",
       " 129,\n",
       " 130,\n",
       " 131,\n",
       " 132,\n",
       " 133,\n",
       " 134,\n",
       " 135,\n",
       " 136,\n",
       " 137,\n",
       " 138,\n",
       " 139,\n",
       " 140,\n",
       " 141,\n",
       " 142,\n",
       " 144,\n",
       " 145,\n",
       " 146,\n",
       " 147,\n",
       " 148,\n",
       " 149,\n",
       " 150,\n",
       " 151,\n",
       " 153,\n",
       " 154,\n",
       " 155,\n",
       " 156,\n",
       " 157,\n",
       " 159,\n",
       " 160,\n",
       " 161,\n",
       " 162,\n",
       " 164,\n",
       " 165,\n",
       " 166,\n",
       " 168,\n",
       " 169,\n",
       " 170,\n",
       " 171,\n",
       " 172,\n",
       " 173,\n",
       " 174,\n",
       " 175,\n",
       " 177,\n",
       " 178,\n",
       " 179,\n",
       " 180,\n",
       " 181,\n",
       " 182,\n",
       " 183,\n",
       " 184,\n",
       " 185,\n",
       " 186,\n",
       " 187,\n",
       " 188,\n",
       " 190,\n",
       " 191,\n",
       " 192,\n",
       " 193,\n",
       " 194,\n",
       " 196,\n",
       " 197,\n",
       " 199,\n",
       " 200,\n",
       " 201,\n",
       " 202,\n",
       " 203,\n",
       " 205,\n",
       " 206,\n",
       " 208,\n",
       " 210,\n",
       " 211,\n",
       " 212,\n",
       " 213,\n",
       " 214,\n",
       " 216,\n",
       " 217,\n",
       " 218,\n",
       " 219,\n",
       " 220,\n",
       " 221,\n",
       " 223,\n",
       " 225,\n",
       " 226,\n",
       " 228,\n",
       " 230,\n",
       " 232,\n",
       " 234,\n",
       " 235,\n",
       " 236,\n",
       " 237,\n",
       " 239,\n",
       " 241,\n",
       " 243,\n",
       " 245,\n",
       " 246,\n",
       " 247,\n",
       " 248,\n",
       " 250,\n",
       " 252,\n",
       " 254,\n",
       " 256,\n",
       " 258,\n",
       " 260,\n",
       " 261,\n",
       " 262,\n",
       " 263,\n",
       " 264,\n",
       " 265,\n",
       " 266,\n",
       " 267,\n",
       " 268,\n",
       " 269,\n",
       " 270,\n",
       " 272,\n",
       " 274,\n",
       " 275,\n",
       " 276,\n",
       " 277,\n",
       " 278,\n",
       " 279,\n",
       " 280,\n",
       " 281,\n",
       " 283,\n",
       " 285,\n",
       " 287,\n",
       " 288,\n",
       " 289,\n",
       " 290,\n",
       " 291,\n",
       " 292,\n",
       " 294,\n",
       " 296,\n",
       " 297,\n",
       " 298,\n",
       " 299,\n",
       " 300,\n",
       " 301,\n",
       " 302,\n",
       " 304,\n",
       " 305,\n",
       " 306,\n",
       " 307,\n",
       " 308,\n",
       " 309,\n",
       " 311,\n",
       " 313,\n",
       " 316,\n",
       " 318,\n",
       " 320,\n",
       " 322,\n",
       " 323,\n",
       " 325,\n",
       " 327,\n",
       " 328,\n",
       " 329,\n",
       " 330,\n",
       " 331,\n",
       " 333,\n",
       " 336,\n",
       " 338,\n",
       " 340,\n",
       " 341,\n",
       " 342,\n",
       " 343,\n",
       " 344,\n",
       " 346,\n",
       " 347,\n",
       " 349,\n",
       " 351,\n",
       " 352,\n",
       " 353,\n",
       " 354,\n",
       " 355,\n",
       " 357,\n",
       " 358,\n",
       " 360,\n",
       " 362,\n",
       " 363,\n",
       " 364,\n",
       " 365,\n",
       " 366,\n",
       " 368,\n",
       " 369,\n",
       " 371,\n",
       " 373,\n",
       " 374,\n",
       " 375,\n",
       " 377,\n",
       " 380,\n",
       " 382,\n",
       " 383,\n",
       " 384,\n",
       " 386,\n",
       " 388,\n",
       " 389,\n",
       " 391,\n",
       " 392,\n",
       " 393,\n",
       " 395,\n",
       " 397,\n",
       " 398,\n",
       " 399,\n",
       " 401,\n",
       " 402,\n",
       " 404,\n",
       " 406,\n",
       " 407,\n",
       " 408,\n",
       " 410,\n",
       " 413,\n",
       " 415,\n",
       " 417,\n",
       " 419,\n",
       " 420,\n",
       " 422,\n",
       " 423,\n",
       " 424,\n",
       " 426,\n",
       " 428,\n",
       " 430,\n",
       " 433,\n",
       " 435,\n",
       " 436,\n",
       " 437,\n",
       " 439,\n",
       " 440,\n",
       " 441,\n",
       " 443,\n",
       " 444,\n",
       " 446,\n",
       " 447,\n",
       " 448,\n",
       " 450,\n",
       " 452,\n",
       " 453,\n",
       " 455,\n",
       " 457,\n",
       " 459,\n",
       " 461,\n",
       " 463,\n",
       " 464,\n",
       " 466,\n",
       " 468,\n",
       " 470,\n",
       " 471,\n",
       " 472,\n",
       " 474,\n",
       " 475,\n",
       " 477,\n",
       " 479,\n",
       " 481,\n",
       " 482,\n",
       " 483,\n",
       " 485,\n",
       " 486,\n",
       " 488,\n",
       " 490,\n",
       " 492,\n",
       " 494,\n",
       " 496,\n",
       " 497,\n",
       " 499,\n",
       " 501,\n",
       " 503,\n",
       " 505,\n",
       " 507,\n",
       " 509,\n",
       " 510,\n",
       " 512,\n",
       " 513,\n",
       " 514,\n",
       " 516,\n",
       " 517,\n",
       " 518,\n",
       " 521,\n",
       " 523,\n",
       " 525,\n",
       " 527,\n",
       " 529,\n",
       " 530,\n",
       " 532,\n",
       " 533,\n",
       " 534,\n",
       " 536,\n",
       " 537,\n",
       " 538,\n",
       " 541,\n",
       " 543,\n",
       " 545,\n",
       " 546,\n",
       " 547,\n",
       " 549,\n",
       " 550,\n",
       " 552,\n",
       " 554,\n",
       " 556,\n",
       " 558,\n",
       " 560,\n",
       " 563,\n",
       " 565,\n",
       " 567,\n",
       " 569,\n",
       " 571,\n",
       " 572,\n",
       " 574,\n",
       " 576,\n",
       " 578,\n",
       " 580,\n",
       " 582,\n",
       " 585,\n",
       " 587,\n",
       " 589,\n",
       " 591,\n",
       " 593,\n",
       " 594,\n",
       " 596,\n",
       " 598,\n",
       " 599,\n",
       " 600,\n",
       " 602,\n",
       " 603,\n",
       " 604,\n",
       " 607,\n",
       " 608,\n",
       " 609,\n",
       " 611,\n",
       " 613,\n",
       " 615,\n",
       " 617,\n",
       " 618,\n",
       " 620,\n",
       " 622,\n",
       " 624,\n",
       " 626,\n",
       " 627,\n",
       " 629,\n",
       " 631,\n",
       " 632,\n",
       " 633,\n",
       " 635,\n",
       " 637,\n",
       " 638,\n",
       " 640,\n",
       " 642,\n",
       " 644,\n",
       " 646,\n",
       " 647,\n",
       " 649,\n",
       " 651,\n",
       " 652,\n",
       " 653,\n",
       " 655,\n",
       " 657,\n",
       " 660,\n",
       " 662,\n",
       " 664,\n",
       " 666,\n",
       " 667,\n",
       " 668,\n",
       " 671,\n",
       " 672,\n",
       " 673,\n",
       " 675,\n",
       " 677,\n",
       " 679,\n",
       " 682,\n",
       " 684,\n",
       " 686,\n",
       " 688,\n",
       " 690,\n",
       " 693,\n",
       " 695,\n",
       " 697,\n",
       " 698,\n",
       " 699,\n",
       " 701,\n",
       " 704,\n",
       " 706,\n",
       " 708,\n",
       " 709,\n",
       " 710,\n",
       " 712,\n",
       " 715,\n",
       " 717,\n",
       " 719,\n",
       " 720,\n",
       " 721,\n",
       " 723,\n",
       " 726,\n",
       " 728,\n",
       " 730,\n",
       " 731,\n",
       " 732,\n",
       " 735,\n",
       " 737,\n",
       " 739,\n",
       " 741,\n",
       " 743,\n",
       " 746,\n",
       " 748,\n",
       " 749,\n",
       " 750,\n",
       " 752,\n",
       " 754,\n",
       " 757,\n",
       " 759,\n",
       " 760,\n",
       " 761,\n",
       " 763,\n",
       " 765,\n",
       " 766,\n",
       " 768,\n",
       " 770,\n",
       " 772,\n",
       " 774,\n",
       " 776,\n",
       " 778,\n",
       " 779,\n",
       " 781,\n",
       " 783,\n",
       " 784,\n",
       " 785,\n",
       " 787,\n",
       " 790,\n",
       " 792,\n",
       " 794,\n",
       " 796,\n",
       " 798,\n",
       " 801,\n",
       " 802,\n",
       " 803,\n",
       " 805,\n",
       " 807,\n",
       " 809,\n",
       " 812,\n",
       " 814,\n",
       " 815,\n",
       " 816,\n",
       " 818,\n",
       " 820,\n",
       " 821,\n",
       " 823,\n",
       " 825,\n",
       " 827,\n",
       " 829,\n",
       " 831,\n",
       " 834,\n",
       " 836,\n",
       " 838,\n",
       " 840,\n",
       " 843,\n",
       " 845,\n",
       " 847,\n",
       " 849,\n",
       " 851,\n",
       " 853,\n",
       " 854,\n",
       " 856,\n",
       " 858,\n",
       " 860,\n",
       " 862,\n",
       " 865,\n",
       " 867,\n",
       " 869,\n",
       " 871,\n",
       " 873,\n",
       " 876,\n",
       " 878,\n",
       " 880,\n",
       " 882,\n",
       " 884,\n",
       " 887,\n",
       " 889,\n",
       " 891,\n",
       " 893,\n",
       " 894,\n",
       " 895,\n",
       " 898,\n",
       " 900,\n",
       " 901,\n",
       " 902,\n",
       " 904,\n",
       " 906,\n",
       " 908,\n",
       " 909,\n",
       " 911,\n",
       " 913,\n",
       " 915,\n",
       " 917,\n",
       " 920,\n",
       " 922,\n",
       " 924,\n",
       " 926,\n",
       " 928,\n",
       " 929,\n",
       " 931,\n",
       " 933,\n",
       " 935,\n",
       " 936,\n",
       " 937,\n",
       " 939,\n",
       " 942,\n",
       " 943,\n",
       " 944,\n",
       " 946,\n",
       " 948,\n",
       " 951,\n",
       " 953,\n",
       " 955,\n",
       " 957,\n",
       " 958,\n",
       " 959,\n",
       " 962,\n",
       " 964,\n",
       " 965,\n",
       " 966,\n",
       " 968,\n",
       " 970,\n",
       " 973,\n",
       " 975,\n",
       " 977,\n",
       " 979,\n",
       " 980,\n",
       " 981,\n",
       " 984,\n",
       " 986,\n",
       " 988,\n",
       " 990,\n",
       " 992,\n",
       " 995,\n",
       " 996,\n",
       " 997,\n",
       " 999,\n",
       " 1001,\n",
       " 1003,\n",
       " 1006,\n",
       " 1008,\n",
       " 1010,\n",
       " 1011,\n",
       " 1012,\n",
       " 1014,\n",
       " 1017,\n",
       " 1019,\n",
       " 1021,\n",
       " 1023,\n",
       " 1025,\n",
       " 1027,\n",
       " 1028,\n",
       " 1030,\n",
       " 1032,\n",
       " 1034,\n",
       " 1035,\n",
       " 1036,\n",
       " 1039,\n",
       " 1041,\n",
       " 1043,\n",
       " 1045,\n",
       " 1047,\n",
       " 1050,\n",
       " 1051,\n",
       " 1052,\n",
       " 1054,\n",
       " 1056,\n",
       " 1059,\n",
       " 1061,\n",
       " 1063,\n",
       " 1065,\n",
       " 1067,\n",
       " 1070,\n",
       " 1072,\n",
       " 1074,\n",
       " 1075,\n",
       " 1076,\n",
       " 1078,\n",
       " 1081,\n",
       " 1083,\n",
       " 1084,\n",
       " 1085,\n",
       " 1087,\n",
       " 1089,\n",
       " 1092,\n",
       " 1094,\n",
       " 1096,\n",
       " 1098,\n",
       " 1100,\n",
       " 1101,\n",
       " 1103,\n",
       " 1105,\n",
       " 1107,\n",
       " 1109,\n",
       " 1111,\n",
       " 1114,\n",
       " 1116,\n",
       " 1118,\n",
       " 1120,\n",
       " 1122,\n",
       " 1125,\n",
       " 1126,\n",
       " 1127,\n",
       " 1129,\n",
       " 1131,\n",
       " 1133,\n",
       " 1135,\n",
       " 1136,\n",
       " 1138,\n",
       " 1140,\n",
       " 1142,\n",
       " 1144,\n",
       " 1147,\n",
       " 1149,\n",
       " 1151,\n",
       " 1153,\n",
       " 1156,\n",
       " 1158,\n",
       " 1160,\n",
       " 1162,\n",
       " 1164,\n",
       " 1167,\n",
       " 1169,\n",
       " 1171,\n",
       " 1173,\n",
       " 1175,\n",
       " 1178,\n",
       " 1180,\n",
       " 1182,\n",
       " 1184,\n",
       " 1186,\n",
       " 1189,\n",
       " 1191,\n",
       " 1193,\n",
       " 1195,\n",
       " 1197,\n",
       " 1198,\n",
       " 1200,\n",
       " 1202,\n",
       " 1204,\n",
       " 1206,\n",
       " 1207,\n",
       " 1208,\n",
       " 1211,\n",
       " 1213,\n",
       " 1215,\n",
       " 1217,\n",
       " 1219,\n",
       " 1222,\n",
       " 1224,\n",
       " 1226,\n",
       " 1228,\n",
       " 1230,\n",
       " 1233,\n",
       " 1235,\n",
       " 1236,\n",
       " 1237,\n",
       " 1239,\n",
       " 1241,\n",
       " 1244,\n",
       " 1245,\n",
       " 1246,\n",
       " 1248,\n",
       " 1250,\n",
       " 1252,\n",
       " 1255,\n",
       " 1257,\n",
       " 1259,\n",
       " 1261,\n",
       " 1264,\n",
       " 1266,\n",
       " 1268,\n",
       " 1270,\n",
       " 1272,\n",
       " 1274,\n",
       " 1275,\n",
       " 1277,\n",
       " 1279,\n",
       " 1281,\n",
       " 1283,\n",
       " 1284,\n",
       " 1286,\n",
       " 1288,\n",
       " 1290,\n",
       " 1292,\n",
       " 1294,\n",
       " 1297,\n",
       " 1299,\n",
       " 1301,\n",
       " 1303,\n",
       " 1304,\n",
       " 1305,\n",
       " 1308,\n",
       " 1310,\n",
       " 1312,\n",
       " 1314,\n",
       " 1316,\n",
       " 1319,\n",
       " 1321,\n",
       " 1323,\n",
       " 1324,\n",
       " 1325,\n",
       " 1327,\n",
       " 1330,\n",
       " 1332,\n",
       " 1334,\n",
       " 1335,\n",
       " 1336,\n",
       " 1338,\n",
       " 1341,\n",
       " 1343,\n",
       " 1345,\n",
       " 1347,\n",
       " 1349,\n",
       " 1352,\n",
       " 1354,\n",
       " 1355,\n",
       " 1356,\n",
       " 1358,\n",
       " 1360,\n",
       " 1363,\n",
       " 1365,\n",
       " 1366,\n",
       " 1367,\n",
       " 1369,\n",
       " 1372,\n",
       " 1374,\n",
       " 1376,\n",
       " 1378,\n",
       " 1380,\n",
       " 1383,\n",
       " 1385,\n",
       " 1387,\n",
       " 1389,\n",
       " 1391,\n",
       " 1394,\n",
       " 1396,\n",
       " 1398,\n",
       " 1400,\n",
       " 1402,\n",
       " 1405,\n",
       " 1407,\n",
       " 1409,\n",
       " 1411,\n",
       " 1413,\n",
       " 1416,\n",
       " 1418,\n",
       " 1419,\n",
       " 1420,\n",
       " 1422,\n",
       " 1424,\n",
       " 1427,\n",
       " 1429,\n",
       " 1430,\n",
       " 1431,\n",
       " 1433,\n",
       " 1435,\n",
       " 1438,\n",
       " 1440,\n",
       " 1441,\n",
       " 1442,\n",
       " 1444,\n",
       " 1446,\n",
       " 1449,\n",
       " 1451,\n",
       " 1453,\n",
       " 1455,\n",
       " 1457,\n",
       " 1460,\n",
       " 1462,\n",
       " 1464,\n",
       " 1466,\n",
       " 1469,\n",
       " 1471,\n",
       " 1473,\n",
       " 1475,\n",
       " 1477,\n",
       " 1480,\n",
       " 1482,\n",
       " 1484,\n",
       " 1486,\n",
       " 1487,\n",
       " 1488,\n",
       " 1491,\n",
       " 1493,\n",
       " 1495,\n",
       " 1497,\n",
       " 1498,\n",
       " 1499,\n",
       " 1502,\n",
       " 1504,\n",
       " 1506,\n",
       " 1508,\n",
       " 1510,\n",
       " 1513,\n",
       " 1515,\n",
       " 1517,\n",
       " 1519,\n",
       " 1521,\n",
       " 1524,\n",
       " 1526,\n",
       " 1528,\n",
       " 1530,\n",
       " 1532,\n",
       " 1533,\n",
       " 1535,\n",
       " 1537,\n",
       " 1539,\n",
       " 1541,\n",
       " 1543,\n",
       " 1545,\n",
       " 1546,\n",
       " 1548,\n",
       " 1550,\n",
       " 1552,\n",
       " 1554,\n",
       " 1557,\n",
       " 1559,\n",
       " 1561,\n",
       " 1563,\n",
       " 1565,\n",
       " 1568,\n",
       " 1569,\n",
       " 1570,\n",
       " 1572,\n",
       " 1574,\n",
       " 1577,\n",
       " 1579,\n",
       " 1581,\n",
       " 1583,\n",
       " 1585,\n",
       " 1588,\n",
       " 1590,\n",
       " 1592,\n",
       " 1593,\n",
       " 1594,\n",
       " 1596,\n",
       " 1599,\n",
       " 1601,\n",
       " 1603,\n",
       " 1605,\n",
       " 1606,\n",
       " 1607,\n",
       " 1610,\n",
       " 1612,\n",
       " 1614,\n",
       " 1616,\n",
       " 1618,\n",
       " 1621,\n",
       " 1623,\n",
       " 1625,\n",
       " 1627,\n",
       " 1629,\n",
       " 1631,\n",
       " 1632,\n",
       " 1634,\n",
       " 1636,\n",
       " 1638,\n",
       " 1640,\n",
       " 1643,\n",
       " 1645,\n",
       " 1647,\n",
       " 1649,\n",
       " 1651,\n",
       " 1654,\n",
       " 1656,\n",
       " 1658,\n",
       " 1660,\n",
       " 1662,\n",
       " 1665,\n",
       " 1667,\n",
       " 1669,\n",
       " 1671,\n",
       " 1673,\n",
       " 1676,\n",
       " 1678,\n",
       " ...]"
      ]
     },
     "execution_count": 66,
     "metadata": {},
     "output_type": "execute_result"
    }
   ],
   "source": [
    "user_result['indices']"
   ]
  },
  {
   "cell_type": "code",
   "execution_count": 33,
   "metadata": {},
   "outputs": [
    {
     "data": {
      "text/plain": [
       "(606, 630)"
      ]
     },
     "execution_count": 33,
     "metadata": {},
     "output_type": "execute_result"
    }
   ],
   "source": [
    "len(user_result['beta_loglogregr_indices_geom']), len(results_light_individual_lastfm[userid]['beta_loglogregr_indices_geom'])"
   ]
  },
  {
   "cell_type": "code",
   "execution_count": 550,
   "metadata": {},
   "outputs": [
    {
     "data": {
      "application/vnd.jupyter.widget-view+json": {
       "model_id": "1b7bd2e96f754afb907e71bd19f210b5",
       "version_major": 2,
       "version_minor": 0
      },
      "text/plain": [
       "  0%|          | 0/890 [00:00<?, ?it/s]"
      ]
     },
     "metadata": {},
     "output_type": "display_data"
    },
    {
     "name": "stdout",
     "output_type": "stream",
     "text": [
      "445\n"
     ]
    }
   ],
   "source": [
    "for userid in tqdm(users_list):\n",
    "    save_all_file_path = f\"./data/ocelma-dataset/lastfm-dataset-1K/individual_results/{userid}.pkl\"\n",
    "    with open(save_all_file_path, 'rb') as fp:\n",
    "        user_result = pickle.load(fp)\n",
    "    if len(user_result['D']) > median_len_sequences:\n",
    "        count += 1\n",
    "        average_user['D'] += user_result['D'][:median_len_sequences]\n",
    "        average_user['D2'] += user_result['D2'][:median_len_sequences]\n",
    "        average_user['D3'] += user_result['D3'][:median_len_sequences]\n",
    "        average_user['D4'] += user_result['D4'][:median_len_sequences]\n",
    "average_user['D']  /= count\n",
    "average_user['D2'] /= count\n",
    "average_user['D3'] /= count\n",
    "average_user['D4'] /= count\n",
    "print(count)"
   ]
  },
  {
   "cell_type": "markdown",
   "metadata": {},
   "source": [
    "### Average individual analysis"
   ]
  },
  {
   "cell_type": "code",
   "execution_count": 157,
   "metadata": {},
   "outputs": [],
   "source": [
    "with gzip.open(\"./data/ocelma-dataset/lastfm-dataset-1K/users_min_1000.pkl.gz\", \"rb\") as fp:\n",
    "    users = joblib.load(fp)"
   ]
  },
  {
   "cell_type": "code",
   "execution_count": 158,
   "metadata": {},
   "outputs": [
    {
     "data": {
      "text/plain": [
       "dict_keys(['sequence_tracks', 'sequence_artists', 'sequence_timestamps'])"
      ]
     },
     "execution_count": 158,
     "metadata": {},
     "output_type": "execute_result"
    }
   ],
   "source": [
    "users['user_000001'].keys()"
   ]
  },
  {
   "cell_type": "code",
   "execution_count": 159,
   "metadata": {},
   "outputs": [],
   "source": [
    "min_len_sequence = 1000"
   ]
  },
  {
   "cell_type": "code",
   "execution_count": 160,
   "metadata": {},
   "outputs": [
    {
     "name": "stdout",
     "output_type": "stream",
     "text": [
      "890\n"
     ]
    },
    {
     "data": {
      "application/vnd.jupyter.widget-view+json": {
       "model_id": "f3d2de0754e54af7aab8ad98a9d26469",
       "version_major": 2,
       "version_minor": 0
      },
      "text/plain": [
       "  0%|          | 0/890 [00:00<?, ?it/s]"
      ]
     },
     "metadata": {},
     "output_type": "display_data"
    },
    {
     "name": "stdout",
     "output_type": "stream",
     "text": [
      "Excluding 0% len is 1021\n",
      "Excluding 10% len is 2500\n",
      "Excluding 20% len is 4530\n",
      "Excluding 30% len is 7078\n",
      "Excluding 40% len is 10297\n",
      "Excluding 50% len is 13971\n",
      "Excluding 60% len is 18354\n",
      "Excluding 70% len is 23465\n",
      "Excluding 80% len is 34738\n",
      "Excluding 90% len is 48223\n",
      "Excluding 100% len is 183103\n"
     ]
    },
    {
     "data": {
      "text/plain": [
       "[]"
      ]
     },
     "execution_count": 160,
     "metadata": {},
     "output_type": "execute_result"
    },
    {
     "data": {
      "image/png": "[encoded data removed]",
      "text/plain": [
       "<Figure size 2283.91x1522.61 with 1 Axes>"
      ]
     },
     "metadata": {},
     "output_type": "display_data"
    }
   ],
   "source": [
    "len_sequences = {}\n",
    "len_sequences_to_sort = []\n",
    "num_users = len(users)\n",
    "print(num_users)\n",
    "for ID, user in tqdm(users.items()):\n",
    "    sequence = user[\"sequence_tracks\"]\n",
    "    sequence_labels = user[\"sequence_artists\"]\n",
    "    len_sequences[ID] = len(sequence)\n",
    "    len_sequences_to_sort.append((len(sequence), ID))\n",
    "len_sequences_sorted = sorted(len_sequences_to_sort)\n",
    "for i in range(11):\n",
    "    print(f'Excluding %d%% len is %d'%(i*10, len_sequences_sorted[int(i/10*(num_users-1))][0]))\n",
    "vals, bin_edges = np.histogram(list(len_sequences.values()), bins = np.geomspace(min_len_sequence,2*max(list(len_sequences.values())), 100))\n",
    "bin_centers = (bin_edges[:-1] + bin_edges[1:]) / 2\n",
    "plt.scatter(bin_centers, vals)\n",
    "plt.loglog()"
   ]
  },
  {
   "cell_type": "code",
   "execution_count": 161,
   "metadata": {},
   "outputs": [
    {
     "data": {
      "text/plain": [
       "[]"
      ]
     },
     "execution_count": 161,
     "metadata": {},
     "output_type": "execute_result"
    },
    {
     "data": {
      "image/png": "[encoded data removed]",
      "text/plain": [
       "<Figure size 2283.91x1522.61 with 1 Axes>"
      ]
     },
     "metadata": {},
     "output_type": "display_data"
    }
   ],
   "source": [
    "cum = 0\n",
    "cum_vals = []\n",
    "sum_vals = sum(vals)\n",
    "for val in vals:\n",
    "    cum += val\n",
    "    cum_vals.append(sum_vals - cum)\n",
    "plt.plot(bin_centers, cum_vals)\n",
    "plt.loglog()"
   ]
  },
  {
   "cell_type": "code",
   "execution_count": 162,
   "metadata": {},
   "outputs": [
    {
     "name": "stdout",
     "output_type": "stream",
     "text": [
      "Median len of the sequences is 13985\n"
     ]
    }
   ],
   "source": [
    "median_len_sequences = int(np.round(np.median(list(len_sequences.values()))))\n",
    "print(\"Median len of the sequences is\",median_len_sequences)"
   ]
  },
  {
   "cell_type": "code",
   "execution_count": null,
   "metadata": {},
   "outputs": [],
   "source": [
    "average_user = {\n",
    "    'D':np.zeros(median_len_sequences,dtype=float), \n",
    "    'D2':np.zeros(median_len_sequences,dtype=float), \n",
    "    'D3':np.zeros(median_len_sequences,dtype=float), \n",
    "    'D4':np.zeros(median_len_sequences,dtype=float), \n",
    "}\n",
    "count = 0\n",
    "for userid in tqdm(users_list):\n",
    "    save_all_file_path = f\"./data/ocelma-dataset/lastfm-dataset-1K/individual_results/{userid}.pkl\"\n",
    "    with open(save_all_file_path, 'rb') as fp:\n",
    "        user_result = pickle.load(fp)\n",
    "    if len(user_result['D']) > median_len_sequences:\n",
    "        count += 1\n",
    "        average_user['D'] += user_result['D'][:median_len_sequences]\n",
    "        average_user['D2'] += user_result['D2'][:median_len_sequences]\n",
    "        average_user['D3'] += user_result['D3'][:median_len_sequences]\n",
    "        average_user['D4'] += user_result['D4'][:median_len_sequences]\n",
    "#     print(f\"found {userid}\")\n",
    "average_user['D']  /= count\n",
    "average_user['D2'] /= count\n",
    "average_user['D3'] /= count\n",
    "average_user['D4'] /= count\n",
    "print(count)"
   ]
  },
  {
   "cell_type": "code",
   "execution_count": 164,
   "metadata": {},
   "outputs": [],
   "source": [
    "D = average_user['D']\n",
    "D2 = average_user['D2']\n",
    "D3 = average_user['D3']\n",
    "D4 = average_user['D4']\n",
    "indices = np.arange(len(D))\n",
    "save_light_file_path = os.path.join('./data/ocelma-dataset/lastfm-dataset-1K/', f\"average_individual_results_light.pkl\")\n",
    "save_all_file_path = os.path.join('./data/ocelma-dataset/lastfm-dataset-1K/', f\"average_individual_results.pkl\")\n",
    "average_results_light_lastfm = analyse_sequence(None, num_to_save=1000, find_novelties = False, \n",
    "                         calculate_entropies_original = False, calculate_entropies_labels = False,\n",
    "                         D=D, D2=D2, D3=D3, D4=D4, sequence_labels = None,\n",
    "                         save_all=True, save_all_file_path = save_all_file_path, \n",
    "                         save_light_file_path = save_light_file_path,\n",
    "                         calculate_beta_loglogregr_indices = False,\n",
    "                         use_D_as_D_indices = True, indices=indices,\n",
    "                         do_prints = False, return_all = False)"
   ]
  },
  {
   "cell_type": "code",
   "execution_count": 165,
   "metadata": {},
   "outputs": [
    {
     "data": {
      "application/vnd.jupyter.widget-view+json": {
       "model_id": "3097d29cef604d469fbc2884b29960ba",
       "version_major": 2,
       "version_minor": 0
      },
      "text/plain": [
       "  0%|          | 0/890 [00:00<?, ?it/s]"
      ]
     },
     "metadata": {},
     "output_type": "display_data"
    },
    {
     "name": "stdout",
     "output_type": "stream",
     "text": [
      "445\n"
     ]
    }
   ],
   "source": [
    "average_user_artists = {\n",
    "    'D':np.zeros(median_len_sequences,dtype=float), \n",
    "    'D2':np.zeros(median_len_sequences,dtype=float), \n",
    "    'D3':np.zeros(median_len_sequences,dtype=float), \n",
    "    'D4':np.zeros(median_len_sequences,dtype=float), \n",
    "}\n",
    "count = 0\n",
    "for userid in tqdm(users_list):\n",
    "    save_all_file_path = f\"./data/ocelma-dataset/lastfm-dataset-1K/individual_results_artists/{userid}.pkl\"\n",
    "    with open(save_all_file_path, 'rb') as fp:\n",
    "        user_result = pickle.load(fp)\n",
    "    if len(user_result['D']) > median_len_sequences:\n",
    "        count += 1\n",
    "        average_user_artists['D'] += user_result['D'][:median_len_sequences]\n",
    "        average_user_artists['D2'] += user_result['D2'][:median_len_sequences]\n",
    "        average_user_artists['D3'] += user_result['D3'][:median_len_sequences]\n",
    "        average_user_artists['D4'] += user_result['D4'][:median_len_sequences]\n",
    "average_user_artists['D']  /= count\n",
    "average_user_artists['D2'] /= count\n",
    "average_user_artists['D3'] /= count\n",
    "average_user_artists['D4'] /= count\n",
    "print(count)"
   ]
  },
  {
   "cell_type": "code",
   "execution_count": 167,
   "metadata": {},
   "outputs": [],
   "source": [
    "D = average_user_artists['D']\n",
    "D2 = average_user_artists['D2']\n",
    "D3 = average_user_artists['D3']\n",
    "D4 = average_user_artists['D4']\n",
    "indices = np.arange(len(D))\n",
    "save_light_file_path = os.path.join('./data/ocelma-dataset/lastfm-dataset-1K/', f\"average_individual_results_artists_light.pkl\")\n",
    "save_all_file_path = os.path.join('./data/ocelma-dataset/lastfm-dataset-1K/', f\"average_individual_results_artists.pkl\")\n",
    "average_results_light_lastfm_artists = analyse_sequence(None, num_to_save=1000, find_novelties = False, \n",
    "                         calculate_entropies_original = False, calculate_entropies_labels = False,\n",
    "                         D=D, D2=D2, D3=D3, D4=D4, sequence_labels = None,\n",
    "                         save_all=True, save_all_file_path = save_all_file_path, \n",
    "                         save_light_file_path = save_light_file_path,\n",
    "                         calculate_beta_loglogregr_indices = False,\n",
    "                         use_D_as_D_indices = True, indices=indices,\n",
    "                         do_prints = False, return_all = False)"
   ]
  },
  {
   "cell_type": "markdown",
   "metadata": {},
   "source": [
    "# Gutenberg"
   ]
  },
  {
   "cell_type": "markdown",
   "metadata": {},
   "source": [
    "Only consider English books using https://github.com/pgcorpus/gutenberg"
   ]
  },
  {
   "cell_type": "code",
   "execution_count": 7,
   "metadata": {},
   "outputs": [],
   "source": [
    "data_folder = './data/gutenberg/data/'\n",
    "analysis_folder = './data/gutenberg/analysis/'\n",
    "os.makedirs(analysis_folder, exist_ok = True)\n",
    "text_folder = './data/gutenberg/data/text/'"
   ]
  },
  {
   "cell_type": "markdown",
   "metadata": {},
   "source": [
    "## Data collection"
   ]
  },
  {
   "cell_type": "code",
   "execution_count": 10,
   "metadata": {},
   "outputs": [],
   "source": [
    "min_len_sequence = 1000"
   ]
  },
  {
   "cell_type": "code",
   "execution_count": 11,
   "metadata": {},
   "outputs": [
    {
     "data": {
      "text/plain": [
       "['./gutenberg/data/text/PG10000_text.txt',\n",
       " './gutenberg/data/text/PG10007_text.txt',\n",
       " './gutenberg/data/text/PG1000_text.txt',\n",
       " './gutenberg/data/text/PG10012_text.txt',\n",
       " './gutenberg/data/text/PG1001_text.txt',\n",
       " './gutenberg/data/text/PG1002_text.txt',\n",
       " './gutenberg/data/text/PG10031_text.txt',\n",
       " './gutenberg/data/text/PG10039_text.txt',\n",
       " './gutenberg/data/text/PG1003_text.txt',\n",
       " './gutenberg/data/text/PG1004_text.txt']"
      ]
     },
     "execution_count": 11,
     "metadata": {},
     "output_type": "execute_result"
    }
   ],
   "source": [
    "paths = sorted(find_pattern('*.txt', text_folder))\n",
    "paths[:10]"
   ]
  },
  {
   "cell_type": "code",
   "execution_count": 12,
   "metadata": {},
   "outputs": [
    {
     "data": {
      "text/plain": [
       "['PG10000',\n",
       " 'PG10007',\n",
       " 'PG1000',\n",
       " 'PG10012',\n",
       " 'PG1001',\n",
       " 'PG1002',\n",
       " 'PG10031',\n",
       " 'PG10039',\n",
       " 'PG1003',\n",
       " 'PG1004']"
      ]
     },
     "execution_count": 12,
     "metadata": {},
     "output_type": "execute_result"
    }
   ],
   "source": [
    "IDs = [path.split('/')[-1].split('_')[0] for path in paths]\n",
    "IDs[:10]"
   ]
  },
  {
   "cell_type": "code",
   "execution_count": null,
   "metadata": {},
   "outputs": [
    {
     "name": "stdout",
     "output_type": "stream",
     "text": [
      "Computing word2index and word2stem mapping...\n"
     ]
    },
    {
     "data": {
      "application/vnd.jupyter.widget-view+json": {
       "model_id": "3d6065ee36e2416599de3f66d0fd13fb",
       "version_major": 2,
       "version_minor": 0
      },
      "text/plain": [
       "  0%|          | 0/25079 [00:00<?, ?it/s]"
      ]
     },
     "metadata": {},
     "output_type": "display_data"
    },
    {
     "name": "stdout",
     "output_type": "stream",
     "text": [
      "Found 19637 english books with more than 1000 words out of 25079\n"
     ]
    }
   ],
   "source": [
    "try:\n",
    "    raise KeyError\n",
    "    print('Trying to load word2index and word2stem mapping...')\n",
    "    with gzip.open(os.path.join(analysis_folder, 'word2index.pkl.gz'), 'rb') as fp:\n",
    "        word2index = joblib.load(fp)\n",
    "    with gzip.open(os.path.join(analysis_folder, 'word2stem.pkl.gz'), 'rb') as fp:\n",
    "        word2stem = joblib.load(fp)\n",
    "    print('Loaded word2index and word2stem mapping')\n",
    "except:\n",
    "    print('Computing word2index and word2stem mapping...')\n",
    "    all_books = {}\n",
    "    word2index = {}\n",
    "    max_index = 0\n",
    "    word2stem = {}\n",
    "    stem2index = {}\n",
    "    max_stem_index = 0\n",
    "    english_IDs = []\n",
    "    for path in tqdm(paths):\n",
    "        ID = path.split('/')[-1].split('_')[0]\n",
    "        with open(path, 'r') as fp:\n",
    "            text = fp.read()\n",
    "        language_prediction = cld3.get_language(text) # technically now they are all english texts, so no need for this\n",
    "#         if language_prediction.probability > 0.5: # probability > 0.99: # is_reliable == True:\n",
    "        language = language_prediction.language # This gives a iso639 code\n",
    "        if language != 'en':\n",
    "            continue\n",
    "        language = languages.get(alpha2=language).name # get the full name of the language from its iso639 code\n",
    "#         else:\n",
    "#             print(text,language_prediction, language)\n",
    "#             break\n",
    "        words = lemmatize(text)\n",
    "        if len(words) < min_len_sequence:\n",
    "            continue\n",
    "        sequence_words = []\n",
    "        sequence_stems = []\n",
    "        snow_stemmer = SnowballStemmer(language=language.lower())\n",
    "        for word in words:\n",
    "            if word not in word2index:\n",
    "                word2index[word] = max_index\n",
    "                max_index += 1\n",
    "                stem = snow_stemmer.stem(word)\n",
    "                word2stem[word] = stem\n",
    "                if stem not in stem2index:\n",
    "                    stem2index[stem] = max_stem_index\n",
    "                    max_stem_index += 1\n",
    "            sequence_words.append(word2index[word])\n",
    "            sequence_stems.append(stem2index[word2stem[word]])\n",
    "        all_books[ID] = {'ID':ID, 'sequence_words':sequence_words, 'sequence_stems':sequence_stems}\n",
    "        english_IDs.append(ID)\n",
    "    print(f'Found {len(english_IDs)} english books with more than 1000 words out of {len(IDs)}')\n",
    "    # Dump\n",
    "    with gzip.open(os.path.join(analysis_folder, 'word2index.pkl.gz'), 'wb') as fp:\n",
    "        joblib.dump(word2index,fp)\n",
    "    with gzip.open(os.path.join(analysis_folder, 'word2stem.pkl.gz'), 'wb') as fp:\n",
    "        joblib.dump(word2stem,fp)\n",
    "    with gzip.open(os.path.join(analysis_folder, 'stem2index.pkl.gz'), 'wb') as fp:\n",
    "        joblib.dump(stem2index,fp)\n",
    "    with gzip.open(os.path.join(analysis_folder, 'all_books_preprocessed.pkl.gz'), 'wb') as fp:\n",
    "        joblib.dump(all_books,fp)\n",
    "    print('Dumped')"
   ]
  },
  {
   "cell_type": "markdown",
   "metadata": {},
   "source": [
    "## Individual analysis"
   ]
  },
  {
   "cell_type": "code",
   "execution_count": 8,
   "metadata": {},
   "outputs": [],
   "source": [
    "with gzip.open(os.path.join(analysis_folder, \"all_books_preprocessed.pkl.gz\"), \"rb\") as fp:\n",
    "    all_books = joblib.load(fp)"
   ]
  },
  {
   "cell_type": "code",
   "execution_count": null,
   "metadata": {},
   "outputs": [
    {
     "data": {
      "application/vnd.jupyter.widget-view+json": {
       "model_id": "6cbe1d5935014323911d691724594de4",
       "version_major": 2,
       "version_minor": 0
      },
      "text/plain": [
       "  0%|          | 0/19637 [00:00<?, ?it/s]"
      ]
     },
     "metadata": {},
     "output_type": "display_data"
    }
   ],
   "source": [
    "results_light_individual_gutenberg = {} \n",
    "for ID, book in tqdm(all_books.items()):\n",
    "    sequence = book[\"sequence_words\"]\n",
    "    sequence_labels = book[\"sequence_stems\"]\n",
    "    save_light_file_path = os.path.join(analysis_folder, f\"individual_results_light/{ID}_light.pkl\")\n",
    "    save_all_file_path = f\"/data/scratch/ahw701/pairs/gutenberg/analysis/individual_results/{ID}.pkl\"\n",
    "    results_light_individual_gutenberg[ID] = analyse_sequence(sequence, num_to_save=1000, find_novelties = True, \n",
    "                         calculate_entropies_original = False, calculate_entropies_labels = True,\n",
    "                         D=None, D2=None, D3=None, D4=None, sequence_labels = sequence_labels,\n",
    "                         save_all=True, save_all_file_path = save_all_file_path, \n",
    "                         save_light_file_path = save_light_file_path,\n",
    "                         calculate_beta_loglogregr_indices = False,\n",
    "                         do_prints = False, return_all = False)"
   ]
  },
  {
   "cell_type": "code",
   "execution_count": null,
   "metadata": {
    "tags": []
   },
   "outputs": [],
   "source": [
    "with gzip.open(os.path.join(analysis_folder, \"results_light_texts.pkl.gz\"), \"wb\") as fp:\n",
    "    joblib.dump(results_light_individual_gutenberg, fp)"
   ]
  },
  {
   "cell_type": "code",
   "execution_count": null,
   "metadata": {},
   "outputs": [],
   "source": [
    "results_light_individual_gutenberg_stems = {} \n",
    "for ID, book in tqdm(all_books.items()):\n",
    "    sequence = book[\"sequence_stems\"]\n",
    "    sequence_labels = book[\"sequence_stems\"]\n",
    "    save_light_file_path = os.path.join(analysis_folder, f\"individual_results_stems_light/{ID}_light.pkl\")\n",
    "    save_all_file_path = f\"/data/scratch/ahw701/pairs/gutenberg/analysis/individual_results_stems/{ID}.pkl\"\n",
    "    results_light_individual_gutenberg_stems[ID] = analyse_sequence(sequence, num_to_save=1000, find_novelties = True, \n",
    "                         calculate_entropies_original = False, calculate_entropies_labels = True,\n",
    "                         D=None, D2=None, D3=None, D4=None, sequence_labels = sequence_labels,\n",
    "                         save_all=True, save_all_file_path = save_all_file_path, \n",
    "                         save_light_file_path = save_light_file_path,\n",
    "                         calculate_beta_loglogregr_indices = False,\n",
    "                         do_prints = False, return_all = False)"
   ]
  },
  {
   "cell_type": "code",
   "execution_count": null,
   "metadata": {
    "tags": []
   },
   "outputs": [],
   "source": [
    "with gzip.open(os.path.join(analysis_folder, \"results_light_stems.pkl.gz\"), \"wb\") as fp:\n",
    "    joblib.dump(results_light_individual_gutenberg_stems, fp)"
   ]
  },
  {
   "cell_type": "markdown",
   "metadata": {},
   "source": [
    "## Average individual analysis"
   ]
  },
  {
   "cell_type": "code",
   "execution_count": null,
   "metadata": {},
   "outputs": [],
   "source": [
    "with gzip.open(os.path.join(analysis_folder, \"all_books_preprocessed.pkl.gz\"), \"rb\") as fp:\n",
    "    all_books = joblib.load(fp)"
   ]
  },
  {
   "cell_type": "code",
   "execution_count": 123,
   "metadata": {},
   "outputs": [
    {
     "data": {
      "application/vnd.jupyter.widget-view+json": {
       "model_id": "1cd32f0116de4ec8a7d14cbd414cb522",
       "version_major": 2,
       "version_minor": 0
      },
      "text/plain": [
       "  0%|          | 0/19637 [00:00<?, ?it/s]"
      ]
     },
     "metadata": {},
     "output_type": "display_data"
    },
    {
     "name": "stdout",
     "output_type": "stream",
     "text": [
      "Excluding 0% len is 1003\n",
      "Excluding 10% len is 7584\n",
      "Excluding 20% len is 16262\n",
      "Excluding 30% len is 26327\n",
      "Excluding 40% len is 39107\n",
      "Excluding 50% len is 50726\n",
      "Excluding 60% len is 62836\n",
      "Excluding 70% len is 78279\n",
      "Excluding 80% len is 100108\n",
      "Excluding 90% len is 142297\n",
      "Excluding 100% len is 2124926\n"
     ]
    },
    {
     "data": {
      "text/plain": [
       "[]"
      ]
     },
     "execution_count": 123,
     "metadata": {},
     "output_type": "execute_result"
    },
    {
     "data": {
      "image/png": "[encoded data removed]",
      "text/plain": [
       "<Figure size 2283.91x1522.61 with 1 Axes>"
      ]
     },
     "metadata": {},
     "output_type": "display_data"
    }
   ],
   "source": [
    "len_sequences = {}\n",
    "len_sequences_to_sort = []\n",
    "num_books = len(all_books)\n",
    "for ID, book in tqdm(all_books.items()):\n",
    "    sequence = book[\"sequence_words\"]\n",
    "    sequence_labels = book[\"sequence_stems\"]\n",
    "    len_sequences[ID] = len(sequence)\n",
    "    len_sequences_to_sort.append((len(sequence), ID))\n",
    "len_sequences_sorted = sorted(len_sequences_to_sort)\n",
    "for i in range(11):\n",
    "    print(f'Excluding %d%% len is %d'%(i*10, len_sequences_sorted[int(i/10*(num_books-1))][0]))\n",
    "vals, bin_edges = np.histogram(list(len_sequences.values()), bins = np.geomspace(min_len_sequence,2*max(list(len_sequences.values())), 100))\n",
    "bin_centers = (bin_edges[:-1] + bin_edges[1:]) / 2\n",
    "plt.scatter(bin_centers, vals)\n",
    "plt.loglog()"
   ]
  },
  {
   "cell_type": "code",
   "execution_count": 124,
   "metadata": {},
   "outputs": [
    {
     "data": {
      "text/plain": [
       "[]"
      ]
     },
     "execution_count": 124,
     "metadata": {},
     "output_type": "execute_result"
    },
    {
     "data": {
      "image/png": "[encoded data removed]",
      "text/plain": [
       "<Figure size 2283.91x1522.61 with 1 Axes>"
      ]
     },
     "metadata": {},
     "output_type": "display_data"
    }
   ],
   "source": [
    "cum = 0\n",
    "cum_vals = []\n",
    "sum_vals = sum(vals)\n",
    "for val in vals:\n",
    "    cum += val\n",
    "    cum_vals.append(sum_vals - cum)\n",
    "plt.plot(bin_centers, cum_vals)\n",
    "plt.loglog()"
   ]
  },
  {
   "cell_type": "code",
   "execution_count": 125,
   "metadata": {},
   "outputs": [
    {
     "name": "stdout",
     "output_type": "stream",
     "text": [
      "Median len of the sequences is 50726\n"
     ]
    }
   ],
   "source": [
    "median_len_sequences = int(np.round(np.median(list(len_sequences.values()))))\n",
    "print(\"Median len of the sequences is\",median_len_sequences)"
   ]
  },
  {
   "cell_type": "code",
   "execution_count": 126,
   "metadata": {},
   "outputs": [
    {
     "data": {
      "application/vnd.jupyter.widget-view+json": {
       "model_id": "7534ae77546c430fa73eaea0f6f3d769",
       "version_major": 2,
       "version_minor": 0
      },
      "text/plain": [
       "  0%|          | 0/19637 [00:00<?, ?it/s]"
      ]
     },
     "metadata": {},
     "output_type": "display_data"
    },
    {
     "name": "stdout",
     "output_type": "stream",
     "text": [
      "9818\n"
     ]
    }
   ],
   "source": [
    "average_book = {\n",
    "    'D':np.zeros(median_len_sequences,dtype=float), \n",
    "    'D2':np.zeros(median_len_sequences,dtype=float), \n",
    "    'D3':np.zeros(median_len_sequences,dtype=float), \n",
    "    'D4':np.zeros(median_len_sequences,dtype=float), \n",
    "}\n",
    "count = 0\n",
    "for ID, book in tqdm(all_books.items()):\n",
    "    save_all_file_path = f\"/data/scratch/ahw701/pairs/gutenberg/analysis/individual_results/{ID}.pkl\"\n",
    "    with open(save_all_file_path, 'rb') as fp:\n",
    "        book_result = pickle.load(fp)\n",
    "    if len(book_result['D']) > median_len_sequences:\n",
    "        count += 1\n",
    "        average_book['D'] += book_result['D'][:median_len_sequences]\n",
    "        average_book['D2'] += book_result['D2'][:median_len_sequences]\n",
    "        average_book['D3'] += book_result['D3'][:median_len_sequences]\n",
    "        average_book['D4'] += book_result['D4'][:median_len_sequences]\n",
    "average_book['D']  /= count\n",
    "average_book['D2'] /= count\n",
    "average_book['D3'] /= count\n",
    "average_book['D4'] /= count\n",
    "print(count)"
   ]
  },
  {
   "cell_type": "code",
   "execution_count": 127,
   "metadata": {},
   "outputs": [],
   "source": [
    "D = average_book['D']\n",
    "D2 = average_book['D2']\n",
    "D3 = average_book['D3']\n",
    "D4 = average_book['D4']\n",
    "indices = np.arange(len(D))\n",
    "save_light_file_path = os.path.join(analysis_folder, f\"average_individual_results_light.pkl\")\n",
    "save_all_file_path = os.path.join(analysis_folder, f\"average_individual_results.pkl\")\n",
    "average_results_light_gutenberg = analyse_sequence(None, num_to_save=1000, find_novelties = False, \n",
    "                         calculate_entropies_original = False, calculate_entropies_labels = False,\n",
    "                         D=D, D2=D2, D3=D3, D4=D4, sequence_labels = None,\n",
    "                         save_all=True, save_all_file_path = save_all_file_path, \n",
    "                         save_light_file_path = save_light_file_path,\n",
    "                         calculate_beta_loglogregr_indices = False,\n",
    "                         use_D_as_D_indices = True, indices=indices,\n",
    "                         do_prints = False, return_all = False)"
   ]
  },
  {
   "cell_type": "code",
   "execution_count": 128,
   "metadata": {},
   "outputs": [
    {
     "data": {
      "application/vnd.jupyter.widget-view+json": {
       "model_id": "bea65bd3f658430da3648266f8c4a9c5",
       "version_major": 2,
       "version_minor": 0
      },
      "text/plain": [
       "  0%|          | 0/19637 [00:00<?, ?it/s]"
      ]
     },
     "metadata": {},
     "output_type": "display_data"
    },
    {
     "name": "stdout",
     "output_type": "stream",
     "text": [
      "9818\n"
     ]
    }
   ],
   "source": [
    "average_book_stems = {\n",
    "    'D':np.zeros(median_len_sequences,dtype=float), \n",
    "    'D2':np.zeros(median_len_sequences,dtype=float), \n",
    "    'D3':np.zeros(median_len_sequences,dtype=float), \n",
    "    'D4':np.zeros(median_len_sequences,dtype=float), \n",
    "}\n",
    "count = 0\n",
    "for ID, book in tqdm(all_books.items()):\n",
    "    save_all_file_path = f\"/data/scratch/ahw701/pairs/gutenberg/analysis/individual_results_stems/{ID}.pkl\"\n",
    "    with open(save_all_file_path, 'rb') as fp:\n",
    "        book_result = pickle.load(fp)\n",
    "    if len(book_result['D']) > median_len_sequences:\n",
    "        count += 1\n",
    "        average_book_stems['D'] += book_result['D'][:median_len_sequences]\n",
    "        average_book_stems['D2'] += book_result['D2'][:median_len_sequences]\n",
    "        average_book_stems['D3'] += book_result['D3'][:median_len_sequences]\n",
    "        average_book_stems['D4'] += book_result['D4'][:median_len_sequences]\n",
    "average_book_stems['D']  /= count\n",
    "average_book_stems['D2'] /= count\n",
    "average_book_stems['D3'] /= count\n",
    "average_book_stems['D4'] /= count\n",
    "print(count)"
   ]
  },
  {
   "cell_type": "code",
   "execution_count": 129,
   "metadata": {},
   "outputs": [],
   "source": [
    "D = average_book_stems['D']\n",
    "D2 = average_book_stems['D2']\n",
    "D3 = average_book_stems['D3']\n",
    "D4 = average_book_stems['D4']\n",
    "save_light_file_path = os.path.join(analysis_folder, f\"average_individual_results_stems_light.pkl\")\n",
    "save_all_file_path = os.path.join(analysis_folder, f\"average_individual_results_stems.pkl\")\n",
    "average_results_light_gutenberg_stems = analyse_sequence(None, num_to_save=1000, find_novelties = False, \n",
    "                         calculate_entropies_original = False, calculate_entropies_labels = False,\n",
    "                         D=D, D2=D2, D3=D3, D4=D4, sequence_labels = None,\n",
    "                         save_all=True, save_all_file_path = save_all_file_path, \n",
    "                         save_light_file_path = save_light_file_path,\n",
    "                         calculate_beta_loglogregr_indices = False,\n",
    "                         use_D_as_D_indices = True, indices=indices,\n",
    "                         do_prints = False, return_all = False)"
   ]
  },
  {
   "cell_type": "markdown",
   "metadata": {},
   "source": [
    "# Semantic Scholar dataset"
   ]
  },
  {
   "cell_type": "markdown",
   "metadata": {},
   "source": [
    "Created in ./semanticscholar/dataset_creation.ipynb"
   ]
  },
  {
   "cell_type": "code",
   "execution_count": 9,
   "metadata": {},
   "outputs": [],
   "source": [
    "corpus_version = '2022-01-01'\n",
    "data_folder = os.path.join('./data/semanticscholar/data/', corpus_version) # where you save the data"
   ]
  },
  {
   "cell_type": "code",
   "execution_count": 10,
   "metadata": {},
   "outputs": [],
   "source": [
    "with open(os.path.join(data_folder,'all_fieldsOfStudy.tsv'), 'r', newline='\\n') as fp:\n",
    "    tsv_output = csv.reader(fp, delimiter='\\n')\n",
    "    all_fieldsOfStudy = [] \n",
    "    for _ in tsv_output:\n",
    "        all_fieldsOfStudy.append(_[0])"
   ]
  },
  {
   "cell_type": "code",
   "execution_count": 11,
   "metadata": {},
   "outputs": [
    {
     "data": {
      "text/plain": [
       "['Art',\n",
       " 'Biology',\n",
       " 'Business',\n",
       " 'Chemistry',\n",
       " 'Computer Science',\n",
       " 'Economics',\n",
       " 'Engineering',\n",
       " 'Environmental Science',\n",
       " 'Geography',\n",
       " 'Geology',\n",
       " 'History',\n",
       " 'Materials Science',\n",
       " 'Mathematics',\n",
       " 'Medicine',\n",
       " 'Philosophy',\n",
       " 'Physics',\n",
       " 'Political Science',\n",
       " 'Psychology',\n",
       " 'Sociology']"
      ]
     },
     "execution_count": 11,
     "metadata": {},
     "output_type": "execute_result"
    }
   ],
   "source": [
    "all_fieldsOfStudy"
   ]
  },
  {
   "cell_type": "markdown",
   "metadata": {},
   "source": [
    "## By field of study and journal"
   ]
  },
  {
   "cell_type": "code",
   "execution_count": 25,
   "metadata": {},
   "outputs": [
    {
     "data": {
      "application/vnd.jupyter.widget-view+json": {
       "model_id": "1409f2af2ca44584bc4b816f36d39568",
       "version_major": 2,
       "version_minor": 0
      },
      "text/plain": [
       "  0%|          | 0/19637 [00:00<?, ?it/s]"
      ]
     },
     "metadata": {},
     "output_type": "display_data"
    }
   ],
   "source": [
    "data_folder = os.path.join('./data/gutenberg/data_processed')\n",
    "for book_id, tmp_dict in tqdm(all_books.items()):\n",
    "    with open(os.path.join(data_folder, 'sequences_words', f'{book_id}.pkl'), 'wb') as fp:\n",
    "        joblib.dump(tmp_dict['sequence_words'], fp)\n",
    "    with open(os.path.join(data_folder, 'sequences_stems', f'{book_id}.pkl'), 'wb') as fp:\n",
    "        joblib.dump(tmp_dict['sequence_stems'], fp)"
   ]
  },
  {
   "cell_type": "code",
   "execution_count": 22,
   "metadata": {},
   "outputs": [
    {
     "data": {
      "text/plain": [
       "[0, 1, 2, 3, 0, 4, 5, 1, 2, 1]"
      ]
     },
     "execution_count": 22,
     "metadata": {},
     "output_type": "execute_result"
    }
   ],
   "source": [
    "all_books['PG10000']['sequence_words'][:10]"
   ]
  },
  {
   "cell_type": "code",
   "execution_count": 12,
   "metadata": {},
   "outputs": [],
   "source": [
    "analysis_folder = os.path.join('./data/semanticscholar/analysis/', corpus_version)\n",
    "os.makedirs(analysis_folder,exist_ok = True)"
   ]
  },
  {
   "cell_type": "markdown",
   "metadata": {},
   "source": [
    "### Individual analysis"
   ]
  },
  {
   "cell_type": "code",
   "execution_count": null,
   "metadata": {},
   "outputs": [],
   "source": [
    "all_fieldsOfStudy = ['Computer Science']"
   ]
  },
  {
   "cell_type": "code",
   "execution_count": null,
   "metadata": {},
   "outputs": [],
   "source": [
    "results_light_individual_journals_fieldsOfStudy = {}\n",
    "num_journals = 1000\n",
    "for fieldOfStudy in tqdm(all_fieldsOfStudy):\n",
    "    fieldsOfStudy_folder = os.path.join(data_folder,'journals_fieldsOfStudy',fieldOfStudy)\n",
    "    journals_filepaths = sorted(find_pattern('*.tsv', fieldsOfStudy_folder))\n",
    "    if len(journals_filepaths) != num_journals:\n",
    "        print(f'Error! Found {len(journals_filepaths)} journals for {fieldOfStudy} instead of {num_journals}')\n",
    "        break\n",
    "        \n",
    "    results_light_individual_journals_fieldsOfStudy[fieldOfStudy] = {}\n",
    "    for path in tqdm(journals_filepaths):\n",
    "        sequence = [] \n",
    "        with open(path, 'r', newline='\\n') as fp:\n",
    "            tsv_output = csv.reader(fp, delimiter='\\n')\n",
    "            for _ in tsv_output:\n",
    "                sequence.append(int(_[0]))\n",
    "        sequence_labels = sequence.copy()\n",
    "        file_name = path[-path[::-1].index('/'):path.index('.tsv')]\n",
    "        save_light_file_path = os.path.join(analysis_folder, 'journals_fieldsOfStudy',fieldOfStudy,file_name + '.pkl')\n",
    "        save_all_file_path = os.path.join('/data/scratch/ahw701/pairs/semanticscholar', 'journals_fieldsOfStudy',fieldOfStudy,file_name + '.pkl')\n",
    "        results_light_individual_journals_fieldsOfStudy[fieldOfStudy][file_name] = analyse_sequence(sequence, num_to_save=1000, find_novelties = True, \n",
    "                         calculate_entropies_original = False, calculate_entropies_labels = True,\n",
    "                         D=None, D2=None, D3=None, D4=None, sequence_labels = sequence_labels,\n",
    "                         save_all=True, save_all_file_path = save_all_file_path, \n",
    "                         save_light_file_path = save_light_file_path,\n",
    "                         calculate_beta_loglogregr_indices = False,\n",
    "                         do_prints = False, return_all = False)"
   ]
  },
  {
   "cell_type": "code",
   "execution_count": null,
   "metadata": {
    "tags": []
   },
   "outputs": [],
   "source": [
    "with gzip.open(os.path.join(analysis_folder, 'journals_fieldsOfStudy', 'results_light_texts.pkl.gz'), 'wb') as fp:\n",
    "    joblib.dump(results_light_individual_journals_fieldsOfStudy, fp)"
   ]
  },
  {
   "cell_type": "code",
   "execution_count": 10,
   "metadata": {},
   "outputs": [
    {
     "data": {
      "application/vnd.jupyter.widget-view+json": {
       "model_id": "9c7b3850514d47bcaee380d276ea141b",
       "version_major": 2,
       "version_minor": 0
      },
      "text/plain": [
       "  0%|          | 0/19 [00:00<?, ?it/s]"
      ]
     },
     "metadata": {},
     "output_type": "display_data"
    },
    {
     "data": {
      "application/vnd.jupyter.widget-view+json": {
       "model_id": "0ad2398126eb4d3d869779bca57f1136",
       "version_major": 2,
       "version_minor": 0
      },
      "text/plain": [
       "  0%|          | 0/1000 [00:00<?, ?it/s]"
      ]
     },
     "metadata": {},
     "output_type": "display_data"
    },
    {
     "name": "stderr",
     "output_type": "stream",
     "text": [
      "/data/home/ahw701/env_enrico/envs/gt/lib/python3.9/site-packages/numba/core/ir_utils.py:2119: NumbaPendingDeprecationWarning: \n",
      "Encountered the use of a type that is scheduled for deprecation: type 'reflected list' found for argument 'seq' of function 'entropyCalc'.\n",
      "\n",
      "For more information visit https://numba.pydata.org/numba-doc/latest/reference/deprecation.html#deprecation-of-reflection-for-list-and-set-types\n",
      "\n",
      "File \"utils/entropy.py\", line 6:\n",
      "@njit\n",
      "def entropyCalc(seq, labels_freq_keys, labels_freq_values):\n",
      "^\n",
      "\n",
      "  warnings.warn(NumbaPendingDeprecationWarning(msg, loc=loc))\n"
     ]
    },
    {
     "data": {
      "application/vnd.jupyter.widget-view+json": {
       "model_id": "d847aa6f5aa241bfa8e61536d4dd62f4",
       "version_major": 2,
       "version_minor": 0
      },
      "text/plain": [
       "  0%|          | 0/1000 [00:00<?, ?it/s]"
      ]
     },
     "metadata": {},
     "output_type": "display_data"
    },
    {
     "data": {
      "application/vnd.jupyter.widget-view+json": {
       "model_id": "ac0507ffd64a4ab4a4a03097d24d5678",
       "version_major": 2,
       "version_minor": 0
      },
      "text/plain": [
       "  0%|          | 0/1000 [00:00<?, ?it/s]"
      ]
     },
     "metadata": {},
     "output_type": "display_data"
    },
    {
     "data": {
      "application/vnd.jupyter.widget-view+json": {
       "model_id": "90c098cee9264bdd91e977902b0d391e",
       "version_major": 2,
       "version_minor": 0
      },
      "text/plain": [
       "  0%|          | 0/1000 [00:00<?, ?it/s]"
      ]
     },
     "metadata": {},
     "output_type": "display_data"
    },
    {
     "data": {
      "application/vnd.jupyter.widget-view+json": {
       "model_id": "0f603e45ba274bcf854d2eee7b28ce3e",
       "version_major": 2,
       "version_minor": 0
      },
      "text/plain": [
       "  0%|          | 0/1000 [00:00<?, ?it/s]"
      ]
     },
     "metadata": {},
     "output_type": "display_data"
    },
    {
     "name": "stderr",
     "output_type": "stream",
     "text": [
      "IOPub message rate exceeded.\n",
      "The Jupyter server will temporarily stop sending output\n",
      "to the client in order to avoid crashing it.\n",
      "To change this limit, set the config variable\n",
      "`--ServerApp.iopub_msg_rate_limit`.\n",
      "\n",
      "Current values:\n",
      "ServerApp.iopub_msg_rate_limit=1000.0 (msgs/sec)\n",
      "ServerApp.rate_limit_window=3.0 (secs)\n",
      "\n"
     ]
    },
    {
     "data": {
      "application/vnd.jupyter.widget-view+json": {
       "model_id": "f72a3486f1db4b1a9ce89f4b625c7358",
       "version_major": 2,
       "version_minor": 0
      },
      "text/plain": [
       "  0%|          | 0/1000 [00:00<?, ?it/s]"
      ]
     },
     "metadata": {},
     "output_type": "display_data"
    },
    {
     "name": "stderr",
     "output_type": "stream",
     "text": [
      "IOPub message rate exceeded.\n",
      "The Jupyter server will temporarily stop sending output\n",
      "to the client in order to avoid crashing it.\n",
      "To change this limit, set the config variable\n",
      "`--ServerApp.iopub_msg_rate_limit`.\n",
      "\n",
      "Current values:\n",
      "ServerApp.iopub_msg_rate_limit=1000.0 (msgs/sec)\n",
      "ServerApp.rate_limit_window=3.0 (secs)\n",
      "\n"
     ]
    },
    {
     "data": {
      "application/vnd.jupyter.widget-view+json": {
       "model_id": "827650df588449b4a5fd02165dd1087e",
       "version_major": 2,
       "version_minor": 0
      },
      "text/plain": [
       "  0%|          | 0/1000 [00:00<?, ?it/s]"
      ]
     },
     "metadata": {},
     "output_type": "display_data"
    },
    {
     "name": "stderr",
     "output_type": "stream",
     "text": [
      "IOPub message rate exceeded.\n",
      "The Jupyter server will temporarily stop sending output\n",
      "to the client in order to avoid crashing it.\n",
      "To change this limit, set the config variable\n",
      "`--ServerApp.iopub_msg_rate_limit`.\n",
      "\n",
      "Current values:\n",
      "ServerApp.iopub_msg_rate_limit=1000.0 (msgs/sec)\n",
      "ServerApp.rate_limit_window=3.0 (secs)\n",
      "\n"
     ]
    },
    {
     "data": {
      "application/vnd.jupyter.widget-view+json": {
       "model_id": "4042d933c1164cb38fc8730292d95f46",
       "version_major": 2,
       "version_minor": 0
      },
      "text/plain": [
       "  0%|          | 0/1000 [00:00<?, ?it/s]"
      ]
     },
     "metadata": {},
     "output_type": "display_data"
    },
    {
     "data": {
      "application/vnd.jupyter.widget-view+json": {
       "model_id": "55a75459b39d478eaf76f677b416a2ca",
       "version_major": 2,
       "version_minor": 0
      },
      "text/plain": [
       "  0%|          | 0/1000 [00:00<?, ?it/s]"
      ]
     },
     "metadata": {},
     "output_type": "display_data"
    },
    {
     "name": "stderr",
     "output_type": "stream",
     "text": [
      "IOPub message rate exceeded.\n",
      "The Jupyter server will temporarily stop sending output\n",
      "to the client in order to avoid crashing it.\n",
      "To change this limit, set the config variable\n",
      "`--ServerApp.iopub_msg_rate_limit`.\n",
      "\n",
      "Current values:\n",
      "ServerApp.iopub_msg_rate_limit=1000.0 (msgs/sec)\n",
      "ServerApp.rate_limit_window=3.0 (secs)\n",
      "\n"
     ]
    }
   ],
   "source": [
    "results_light_individual_journals_fieldsOfStudy_stems = {}\n",
    "num_journals = 1000\n",
    "for fieldOfStudy in tqdm(all_fieldsOfStudy):\n",
    "    fieldsOfStudy_folder = os.path.join(data_folder,'journals_fieldsOfStudy_stems',fieldOfStudy)\n",
    "    journals_filepaths = sorted(find_pattern('*.tsv', fieldsOfStudy_folder))\n",
    "    if len(journals_filepaths) != num_journals:\n",
    "        print(f'Error! Found {len(journals_filepaths)} journals for {fieldOfStudy} instead of {num_journals}')\n",
    "        break\n",
    "        \n",
    "    results_light_individual_journals_fieldsOfStudy_stems[fieldOfStudy] = {}\n",
    "    for path in tqdm(journals_filepaths):\n",
    "        sequence = [] \n",
    "        with open(path, 'r', newline='\\n') as fp:\n",
    "            tsv_output = csv.reader(fp, delimiter='\\n')\n",
    "            for _ in tsv_output:\n",
    "                sequence.append(int(_[0]))\n",
    "        sequence_labels = sequence.copy()\n",
    "        file_name = path[-path[::-1].index('/'):path.index('.tsv')]\n",
    "        save_light_file_path = os.path.join(analysis_folder, 'journals_fieldsOfStudy_stems',fieldOfStudy,file_name + '.pkl')\n",
    "        save_all_file_path = os.path.join('/data/scratch/ahw701/pairs/semanticscholar', 'journals_fieldsOfStudy_stems',fieldOfStudy,file_name + '.pkl')\n",
    "        results_light_individual_journals_fieldsOfStudy_stems[fieldOfStudy][file_name] = analyse_sequence(sequence, num_to_save=1000, find_novelties = True, \n",
    "                         calculate_entropies_original = False, calculate_entropies_labels = True,\n",
    "                         D=None, D2=None, D3=None, D4=None, sequence_labels = sequence_labels,\n",
    "                         save_all=True, save_all_file_path = save_all_file_path, \n",
    "                         save_light_file_path = save_light_file_path,\n",
    "                         calculate_beta_loglogregr_indices = False,\n",
    "                         do_prints = False, return_all = False)"
   ]
  },
  {
   "cell_type": "code",
   "execution_count": 13,
   "metadata": {
    "tags": []
   },
   "outputs": [],
   "source": [
    "with gzip.open(os.path.join(analysis_folder, 'journals_fieldsOfStudy_stems', 'results_light_stems.pkl.gz'), 'wb') as fp:\n",
    "    joblib.dump(results_light_individual_journals_fieldsOfStudy_stems, fp)"
   ]
  },
  {
   "cell_type": "code",
   "execution_count": null,
   "metadata": {
    "tags": []
   },
   "outputs": [],
   "source": [
    "with gzip.open(os.path.join(analysis_folder, 'journals_fieldsOfStudy', 'results_light_texts.pkl.gz'), 'rb') as fp:\n",
    "    results_light_individual_journals_fieldsOfStudy = joblib.load(fp)"
   ]
  },
  {
   "cell_type": "markdown",
   "metadata": {},
   "source": [
    "### Average individual analysis"
   ]
  },
  {
   "cell_type": "code",
   "execution_count": 153,
   "metadata": {},
   "outputs": [],
   "source": [
    "analysis_folder = os.path.join('./data/semanticscholar/analysis/', corpus_version)\n",
    "os.makedirs(analysis_folder,exist_ok = True)"
   ]
  },
  {
   "cell_type": "markdown",
   "metadata": {},
   "source": [
    "This is done across fields of study"
   ]
  },
  {
   "cell_type": "code",
   "execution_count": 145,
   "metadata": {},
   "outputs": [
    {
     "data": {
      "application/vnd.jupyter.widget-view+json": {
       "model_id": "15d1ff9c37f24697bc040afebeb17014",
       "version_major": 2,
       "version_minor": 0
      },
      "text/plain": [
       "  0%|          | 0/19 [00:00<?, ?it/s]"
      ]
     },
     "metadata": {},
     "output_type": "display_data"
    },
    {
     "data": {
      "application/vnd.jupyter.widget-view+json": {
       "model_id": "1114495ae84f49b0892248591b9c032c",
       "version_major": 2,
       "version_minor": 0
      },
      "text/plain": [
       "  0%|          | 0/1000 [00:00<?, ?it/s]"
      ]
     },
     "metadata": {},
     "output_type": "display_data"
    },
    {
     "data": {
      "application/vnd.jupyter.widget-view+json": {
       "model_id": "a075fac56fa740e3b94c1573564fd10f",
       "version_major": 2,
       "version_minor": 0
      },
      "text/plain": [
       "  0%|          | 0/1000 [00:00<?, ?it/s]"
      ]
     },
     "metadata": {},
     "output_type": "display_data"
    },
    {
     "data": {
      "application/vnd.jupyter.widget-view+json": {
       "model_id": "ba270b542371467999fa14305915b919",
       "version_major": 2,
       "version_minor": 0
      },
      "text/plain": [
       "  0%|          | 0/1000 [00:00<?, ?it/s]"
      ]
     },
     "metadata": {},
     "output_type": "display_data"
    },
    {
     "data": {
      "application/vnd.jupyter.widget-view+json": {
       "model_id": "8e0ad38174cd42679bf10a787226398d",
       "version_major": 2,
       "version_minor": 0
      },
      "text/plain": [
       "  0%|          | 0/1000 [00:00<?, ?it/s]"
      ]
     },
     "metadata": {},
     "output_type": "display_data"
    },
    {
     "data": {
      "application/vnd.jupyter.widget-view+json": {
       "model_id": "67a30fe681bb498184ba733d97a3aaaf",
       "version_major": 2,
       "version_minor": 0
      },
      "text/plain": [
       "  0%|          | 0/1000 [00:00<?, ?it/s]"
      ]
     },
     "metadata": {},
     "output_type": "display_data"
    },
    {
     "data": {
      "application/vnd.jupyter.widget-view+json": {
       "model_id": "53fca14e7e7e46b1a966ca6453d6ddc8",
       "version_major": 2,
       "version_minor": 0
      },
      "text/plain": [
       "  0%|          | 0/1000 [00:00<?, ?it/s]"
      ]
     },
     "metadata": {},
     "output_type": "display_data"
    },
    {
     "data": {
      "application/vnd.jupyter.widget-view+json": {
       "model_id": "2560c174c3fa403cb2963bf6df3370f4",
       "version_major": 2,
       "version_minor": 0
      },
      "text/plain": [
       "  0%|          | 0/1000 [00:00<?, ?it/s]"
      ]
     },
     "metadata": {},
     "output_type": "display_data"
    },
    {
     "data": {
      "application/vnd.jupyter.widget-view+json": {
       "model_id": "b2d0965e574e4ea2b0916a6f7411b5dc",
       "version_major": 2,
       "version_minor": 0
      },
      "text/plain": [
       "  0%|          | 0/1000 [00:00<?, ?it/s]"
      ]
     },
     "metadata": {},
     "output_type": "display_data"
    },
    {
     "data": {
      "application/vnd.jupyter.widget-view+json": {
       "model_id": "2add634b477d42a9953893733ef6b126",
       "version_major": 2,
       "version_minor": 0
      },
      "text/plain": [
       "  0%|          | 0/1000 [00:00<?, ?it/s]"
      ]
     },
     "metadata": {},
     "output_type": "display_data"
    },
    {
     "data": {
      "application/vnd.jupyter.widget-view+json": {
       "model_id": "717b3613ba614c489ef74b1501c779bd",
       "version_major": 2,
       "version_minor": 0
      },
      "text/plain": [
       "  0%|          | 0/1000 [00:00<?, ?it/s]"
      ]
     },
     "metadata": {},
     "output_type": "display_data"
    },
    {
     "data": {
      "application/vnd.jupyter.widget-view+json": {
       "model_id": "4f746c20cc5b44b5b487c1e293ae842e",
       "version_major": 2,
       "version_minor": 0
      },
      "text/plain": [
       "  0%|          | 0/1000 [00:00<?, ?it/s]"
      ]
     },
     "metadata": {},
     "output_type": "display_data"
    },
    {
     "data": {
      "application/vnd.jupyter.widget-view+json": {
       "model_id": "693400dd73d3407591d4e6356e421ab0",
       "version_major": 2,
       "version_minor": 0
      },
      "text/plain": [
       "  0%|          | 0/1000 [00:00<?, ?it/s]"
      ]
     },
     "metadata": {},
     "output_type": "display_data"
    },
    {
     "data": {
      "application/vnd.jupyter.widget-view+json": {
       "model_id": "12b062b858de4982a4f92da1a78c8875",
       "version_major": 2,
       "version_minor": 0
      },
      "text/plain": [
       "  0%|          | 0/1000 [00:00<?, ?it/s]"
      ]
     },
     "metadata": {},
     "output_type": "display_data"
    },
    {
     "data": {
      "application/vnd.jupyter.widget-view+json": {
       "model_id": "b828ad4f57d0453c9dc36f30f70abc84",
       "version_major": 2,
       "version_minor": 0
      },
      "text/plain": [
       "  0%|          | 0/1000 [00:00<?, ?it/s]"
      ]
     },
     "metadata": {},
     "output_type": "display_data"
    },
    {
     "data": {
      "application/vnd.jupyter.widget-view+json": {
       "model_id": "beca80c890a047e0a880ad4d984b6d38",
       "version_major": 2,
       "version_minor": 0
      },
      "text/plain": [
       "  0%|          | 0/1000 [00:00<?, ?it/s]"
      ]
     },
     "metadata": {},
     "output_type": "display_data"
    },
    {
     "data": {
      "application/vnd.jupyter.widget-view+json": {
       "model_id": "c09ea4332d374ffaac11ce29b5c656c9",
       "version_major": 2,
       "version_minor": 0
      },
      "text/plain": [
       "  0%|          | 0/1000 [00:00<?, ?it/s]"
      ]
     },
     "metadata": {},
     "output_type": "display_data"
    },
    {
     "data": {
      "application/vnd.jupyter.widget-view+json": {
       "model_id": "34779dbf67a742a09bbeb90c366d27a8",
       "version_major": 2,
       "version_minor": 0
      },
      "text/plain": [
       "  0%|          | 0/1000 [00:00<?, ?it/s]"
      ]
     },
     "metadata": {},
     "output_type": "display_data"
    },
    {
     "data": {
      "application/vnd.jupyter.widget-view+json": {
       "model_id": "34a548a3c9cb45779a00cf753d30b27f",
       "version_major": 2,
       "version_minor": 0
      },
      "text/plain": [
       "  0%|          | 0/1000 [00:00<?, ?it/s]"
      ]
     },
     "metadata": {},
     "output_type": "display_data"
    },
    {
     "data": {
      "application/vnd.jupyter.widget-view+json": {
       "model_id": "e760a0675c6647f2bf6b8d4e52b904fc",
       "version_major": 2,
       "version_minor": 0
      },
      "text/plain": [
       "  0%|          | 0/1000 [00:00<?, ?it/s]"
      ]
     },
     "metadata": {},
     "output_type": "display_data"
    },
    {
     "data": {
      "text/plain": [
       "[]"
      ]
     },
     "execution_count": 145,
     "metadata": {},
     "output_type": "execute_result"
    },
    {
     "data": {
      "image/png": "[encoded data removed]",
      "text/plain": [
       "<Figure size 2283.91x1522.61 with 1 Axes>"
      ]
     },
     "metadata": {},
     "output_type": "display_data"
    }
   ],
   "source": [
    "len_sequences = []\n",
    "for fieldOfStudy in tqdm(all_fieldsOfStudy):\n",
    "    fieldsOfStudy_folder = os.path.join(data_folder,'journals_fieldsOfStudy',fieldOfStudy)\n",
    "    journals_filepaths = sorted(find_pattern('*.tsv', fieldsOfStudy_folder))\n",
    "    if len(journals_filepaths) != num_journals:\n",
    "        print(f'Error! Found {len(journals_filepaths)} journals for {fieldOfStudy} instead of {num_journals}')\n",
    "        break\n",
    "    for path in tqdm(journals_filepaths):\n",
    "        file_name = path[-path[::-1].index('/'):path.index('.tsv')]\n",
    "        save_all_file_path = os.path.join('/data/scratch/ahw701/pairs/semanticscholar', 'journals_fieldsOfStudy',fieldOfStudy,file_name + '.pkl')\n",
    "        with open(save_all_file_path, 'rb') as fp:\n",
    "            result = pickle.load(fp)\n",
    "        sequence = result[\"sequence\"]\n",
    "        sequence_labels = result[\"sequence_labels\"]\n",
    "        len_sequences.append(len(sequence))\n",
    "vals, bin_edges = np.histogram(list(len_sequences), bins = np.geomspace(min_len_sequence,2*max(list(len_sequences)), 100))\n",
    "bin_centers = (bin_edges[:-1] + bin_edges[1:]) / 2\n",
    "plt.scatter(bin_centers, vals)\n",
    "plt.loglog()"
   ]
  },
  {
   "cell_type": "code",
   "execution_count": 146,
   "metadata": {},
   "outputs": [
    {
     "name": "stdout",
     "output_type": "stream",
     "text": [
      "Median len of the sequences is 9114\n"
     ]
    }
   ],
   "source": [
    "median_len_sequences = int(np.round(np.median(list(len_sequences))))\n",
    "print(\"Median len of the sequences is\",median_len_sequences)"
   ]
  },
  {
   "cell_type": "code",
   "execution_count": 147,
   "metadata": {},
   "outputs": [
    {
     "data": {
      "application/vnd.jupyter.widget-view+json": {
       "model_id": "6943d12941994883900e9b47cb1898c2",
       "version_major": 2,
       "version_minor": 0
      },
      "text/plain": [
       "  0%|          | 0/19 [00:00<?, ?it/s]"
      ]
     },
     "metadata": {},
     "output_type": "display_data"
    },
    {
     "data": {
      "application/vnd.jupyter.widget-view+json": {
       "model_id": "d0fa7743e54a46d2896a2309e4fc0a09",
       "version_major": 2,
       "version_minor": 0
      },
      "text/plain": [
       "  0%|          | 0/1000 [00:00<?, ?it/s]"
      ]
     },
     "metadata": {},
     "output_type": "display_data"
    },
    {
     "data": {
      "application/vnd.jupyter.widget-view+json": {
       "model_id": "d3d3220caa0d4380ab570a2fd749fc90",
       "version_major": 2,
       "version_minor": 0
      },
      "text/plain": [
       "  0%|          | 0/1000 [00:00<?, ?it/s]"
      ]
     },
     "metadata": {},
     "output_type": "display_data"
    },
    {
     "data": {
      "application/vnd.jupyter.widget-view+json": {
       "model_id": "d48b5b745c384040a27b98b4a259e733",
       "version_major": 2,
       "version_minor": 0
      },
      "text/plain": [
       "  0%|          | 0/1000 [00:00<?, ?it/s]"
      ]
     },
     "metadata": {},
     "output_type": "display_data"
    },
    {
     "data": {
      "application/vnd.jupyter.widget-view+json": {
       "model_id": "2c5407efae5749c888e3d122e92e4753",
       "version_major": 2,
       "version_minor": 0
      },
      "text/plain": [
       "  0%|          | 0/1000 [00:00<?, ?it/s]"
      ]
     },
     "metadata": {},
     "output_type": "display_data"
    },
    {
     "data": {
      "application/vnd.jupyter.widget-view+json": {
       "model_id": "528d896eccd4487fb564790fd8ec76a1",
       "version_major": 2,
       "version_minor": 0
      },
      "text/plain": [
       "  0%|          | 0/1000 [00:00<?, ?it/s]"
      ]
     },
     "metadata": {},
     "output_type": "display_data"
    },
    {
     "data": {
      "application/vnd.jupyter.widget-view+json": {
       "model_id": "d41a97fc4bb440e2addd8bf2e35fd52f",
       "version_major": 2,
       "version_minor": 0
      },
      "text/plain": [
       "  0%|          | 0/1000 [00:00<?, ?it/s]"
      ]
     },
     "metadata": {},
     "output_type": "display_data"
    },
    {
     "data": {
      "application/vnd.jupyter.widget-view+json": {
       "model_id": "b98f05d2392246b1a5cac04cdd9fbcf0",
       "version_major": 2,
       "version_minor": 0
      },
      "text/plain": [
       "  0%|          | 0/1000 [00:00<?, ?it/s]"
      ]
     },
     "metadata": {},
     "output_type": "display_data"
    },
    {
     "data": {
      "application/vnd.jupyter.widget-view+json": {
       "model_id": "44c486f782f94ddf8374aa1de7b666e1",
       "version_major": 2,
       "version_minor": 0
      },
      "text/plain": [
       "  0%|          | 0/1000 [00:00<?, ?it/s]"
      ]
     },
     "metadata": {},
     "output_type": "display_data"
    },
    {
     "data": {
      "application/vnd.jupyter.widget-view+json": {
       "model_id": "fe37132de76d440e89f3972fbd1952d0",
       "version_major": 2,
       "version_minor": 0
      },
      "text/plain": [
       "  0%|          | 0/1000 [00:00<?, ?it/s]"
      ]
     },
     "metadata": {},
     "output_type": "display_data"
    },
    {
     "data": {
      "application/vnd.jupyter.widget-view+json": {
       "model_id": "afb38c10f4cd405fb20d5837037fd9ff",
       "version_major": 2,
       "version_minor": 0
      },
      "text/plain": [
       "  0%|          | 0/1000 [00:00<?, ?it/s]"
      ]
     },
     "metadata": {},
     "output_type": "display_data"
    },
    {
     "data": {
      "application/vnd.jupyter.widget-view+json": {
       "model_id": "f931af77751f4efeade3778e5bdb4598",
       "version_major": 2,
       "version_minor": 0
      },
      "text/plain": [
       "  0%|          | 0/1000 [00:00<?, ?it/s]"
      ]
     },
     "metadata": {},
     "output_type": "display_data"
    },
    {
     "data": {
      "application/vnd.jupyter.widget-view+json": {
       "model_id": "5ca23cb806ed4118b9596d1d56b83183",
       "version_major": 2,
       "version_minor": 0
      },
      "text/plain": [
       "  0%|          | 0/1000 [00:00<?, ?it/s]"
      ]
     },
     "metadata": {},
     "output_type": "display_data"
    },
    {
     "data": {
      "application/vnd.jupyter.widget-view+json": {
       "model_id": "c6125a502ab9479781fa983b9cfe815c",
       "version_major": 2,
       "version_minor": 0
      },
      "text/plain": [
       "  0%|          | 0/1000 [00:00<?, ?it/s]"
      ]
     },
     "metadata": {},
     "output_type": "display_data"
    },
    {
     "data": {
      "application/vnd.jupyter.widget-view+json": {
       "model_id": "643b140c28a14553b92e69f6f70e06b3",
       "version_major": 2,
       "version_minor": 0
      },
      "text/plain": [
       "  0%|          | 0/1000 [00:00<?, ?it/s]"
      ]
     },
     "metadata": {},
     "output_type": "display_data"
    },
    {
     "data": {
      "application/vnd.jupyter.widget-view+json": {
       "model_id": "25188e334b804ca6a45f5ccc99d94fcb",
       "version_major": 2,
       "version_minor": 0
      },
      "text/plain": [
       "  0%|          | 0/1000 [00:00<?, ?it/s]"
      ]
     },
     "metadata": {},
     "output_type": "display_data"
    },
    {
     "data": {
      "application/vnd.jupyter.widget-view+json": {
       "model_id": "6d7abbe86d234306b4e2fdc0427e8eec",
       "version_major": 2,
       "version_minor": 0
      },
      "text/plain": [
       "  0%|          | 0/1000 [00:00<?, ?it/s]"
      ]
     },
     "metadata": {},
     "output_type": "display_data"
    },
    {
     "data": {
      "application/vnd.jupyter.widget-view+json": {
       "model_id": "058a68694c2a443bbbec1515062a5fc4",
       "version_major": 2,
       "version_minor": 0
      },
      "text/plain": [
       "  0%|          | 0/1000 [00:00<?, ?it/s]"
      ]
     },
     "metadata": {},
     "output_type": "display_data"
    },
    {
     "data": {
      "application/vnd.jupyter.widget-view+json": {
       "model_id": "6c430876e83247718aefe5beaa405ace",
       "version_major": 2,
       "version_minor": 0
      },
      "text/plain": [
       "  0%|          | 0/1000 [00:00<?, ?it/s]"
      ]
     },
     "metadata": {},
     "output_type": "display_data"
    },
    {
     "data": {
      "application/vnd.jupyter.widget-view+json": {
       "model_id": "7c1ba394764647968a48fe8c13de6d1d",
       "version_major": 2,
       "version_minor": 0
      },
      "text/plain": [
       "  0%|          | 0/1000 [00:00<?, ?it/s]"
      ]
     },
     "metadata": {},
     "output_type": "display_data"
    },
    {
     "name": "stdout",
     "output_type": "stream",
     "text": [
      "9500\n"
     ]
    }
   ],
   "source": [
    "average_journal = {\n",
    "    'D':np.zeros(median_len_sequences,dtype=float), \n",
    "    'D2':np.zeros(median_len_sequences,dtype=float), \n",
    "    'D3':np.zeros(median_len_sequences,dtype=float), \n",
    "    'D4':np.zeros(median_len_sequences,dtype=float), \n",
    "}\n",
    "count = 0\n",
    "for fieldOfStudy in tqdm(all_fieldsOfStudy):\n",
    "    fieldsOfStudy_folder = os.path.join(data_folder,'journals_fieldsOfStudy',fieldOfStudy)\n",
    "    journals_filepaths = sorted(find_pattern('*.tsv', fieldsOfStudy_folder))\n",
    "    if len(journals_filepaths) != num_journals:\n",
    "        print(f'Error! Found {len(journals_filepaths)} journals for {fieldOfStudy} instead of {num_journals}')\n",
    "        break\n",
    "    for path in tqdm(journals_filepaths):\n",
    "        file_name = path[-path[::-1].index('/'):path.index('.tsv')]\n",
    "        save_all_file_path = os.path.join('/data/scratch/ahw701/pairs/semanticscholar', 'journals_fieldsOfStudy',fieldOfStudy,file_name + '.pkl')\n",
    "        with open(save_all_file_path, 'rb') as fp:\n",
    "            result = pickle.load(fp)\n",
    "        if len(result['D']) > median_len_sequences:\n",
    "            count += 1\n",
    "            average_journal['D'] += result['D'][:median_len_sequences]\n",
    "            average_journal['D2'] += result['D2'][:median_len_sequences]\n",
    "            average_journal['D3'] += result['D3'][:median_len_sequences]\n",
    "            average_journal['D4'] += result['D4'][:median_len_sequences]\n",
    "average_journal['D']  /= count\n",
    "average_journal['D2'] /= count\n",
    "average_journal['D3'] /= count\n",
    "average_journal['D4'] /= count\n",
    "print(count)"
   ]
  },
  {
   "cell_type": "code",
   "execution_count": 154,
   "metadata": {},
   "outputs": [
    {
     "data": {
      "text/plain": [
       "'./semanticscholar/analysis/2022-01-01'"
      ]
     },
     "execution_count": 154,
     "metadata": {},
     "output_type": "execute_result"
    }
   ],
   "source": [
    "analysis_folder"
   ]
  },
  {
   "cell_type": "code",
   "execution_count": 148,
   "metadata": {},
   "outputs": [],
   "source": [
    "D = average_journal['D']\n",
    "D2 = average_journal['D2']\n",
    "D3 = average_journal['D3']\n",
    "D4 = average_journal['D4']\n",
    "indices = np.arange(len(D))\n",
    "save_light_file_path = os.path.join(analysis_folder, 'average_individual_results_light_journals_fieldsOfStudy.pkl')\n",
    "save_all_file_path = os.path.join(analysis_folder, f\"average_individual_results_journals_fieldsOfStudy.pkl\")\n",
    "average_results_light_gutenberg = analyse_sequence(None, num_to_save=1000, find_novelties = False, \n",
    "                         calculate_entropies_original = False, calculate_entropies_labels = False,\n",
    "                         D=D, D2=D2, D3=D3, D4=D4, sequence_labels = None,\n",
    "                         save_all=True, save_all_file_path = save_all_file_path, \n",
    "                         save_light_file_path = save_light_file_path,\n",
    "                         calculate_beta_loglogregr_indices = False,\n",
    "                         use_D_as_D_indices = True, indices=indices,\n",
    "                         do_prints = False, return_all = False)"
   ]
  },
  {
   "cell_type": "code",
   "execution_count": 155,
   "metadata": {},
   "outputs": [
    {
     "data": {
      "application/vnd.jupyter.widget-view+json": {
       "model_id": "9cf844031a6a4458a93649dad7730fca",
       "version_major": 2,
       "version_minor": 0
      },
      "text/plain": [
       "  0%|          | 0/19 [00:00<?, ?it/s]"
      ]
     },
     "metadata": {},
     "output_type": "display_data"
    },
    {
     "data": {
      "application/vnd.jupyter.widget-view+json": {
       "model_id": "15a69ef78b4f4dd3a150263b2c3f281b",
       "version_major": 2,
       "version_minor": 0
      },
      "text/plain": [
       "  0%|          | 0/1000 [00:00<?, ?it/s]"
      ]
     },
     "metadata": {},
     "output_type": "display_data"
    },
    {
     "data": {
      "application/vnd.jupyter.widget-view+json": {
       "model_id": "6cb0d7905ab34e3cab6aab6baae58488",
       "version_major": 2,
       "version_minor": 0
      },
      "text/plain": [
       "  0%|          | 0/1000 [00:00<?, ?it/s]"
      ]
     },
     "metadata": {},
     "output_type": "display_data"
    },
    {
     "data": {
      "application/vnd.jupyter.widget-view+json": {
       "model_id": "fc69a54e553849a3b4e0586157bbf998",
       "version_major": 2,
       "version_minor": 0
      },
      "text/plain": [
       "  0%|          | 0/1000 [00:00<?, ?it/s]"
      ]
     },
     "metadata": {},
     "output_type": "display_data"
    },
    {
     "data": {
      "application/vnd.jupyter.widget-view+json": {
       "model_id": "0ae18a4adaf94168b3e0def0d2ccd28a",
       "version_major": 2,
       "version_minor": 0
      },
      "text/plain": [
       "  0%|          | 0/1000 [00:00<?, ?it/s]"
      ]
     },
     "metadata": {},
     "output_type": "display_data"
    },
    {
     "data": {
      "application/vnd.jupyter.widget-view+json": {
       "model_id": "6c883d89cdf744be80bbdd1795e41255",
       "version_major": 2,
       "version_minor": 0
      },
      "text/plain": [
       "  0%|          | 0/1000 [00:00<?, ?it/s]"
      ]
     },
     "metadata": {},
     "output_type": "display_data"
    },
    {
     "data": {
      "application/vnd.jupyter.widget-view+json": {
       "model_id": "2d29ab6229564bb08bd85e097351195d",
       "version_major": 2,
       "version_minor": 0
      },
      "text/plain": [
       "  0%|          | 0/1000 [00:00<?, ?it/s]"
      ]
     },
     "metadata": {},
     "output_type": "display_data"
    },
    {
     "data": {
      "application/vnd.jupyter.widget-view+json": {
       "model_id": "e3702c072d9c4a58a80774743361d4f0",
       "version_major": 2,
       "version_minor": 0
      },
      "text/plain": [
       "  0%|          | 0/1000 [00:00<?, ?it/s]"
      ]
     },
     "metadata": {},
     "output_type": "display_data"
    },
    {
     "data": {
      "application/vnd.jupyter.widget-view+json": {
       "model_id": "98b1a4911ac446f89c7ea2393488747a",
       "version_major": 2,
       "version_minor": 0
      },
      "text/plain": [
       "  0%|          | 0/1000 [00:00<?, ?it/s]"
      ]
     },
     "metadata": {},
     "output_type": "display_data"
    },
    {
     "data": {
      "application/vnd.jupyter.widget-view+json": {
       "model_id": "4434a69436f945808537e75de7c4aaf9",
       "version_major": 2,
       "version_minor": 0
      },
      "text/plain": [
       "  0%|          | 0/1000 [00:00<?, ?it/s]"
      ]
     },
     "metadata": {},
     "output_type": "display_data"
    },
    {
     "data": {
      "application/vnd.jupyter.widget-view+json": {
       "model_id": "2997fb655f8c43d49f71efc17b031bc4",
       "version_major": 2,
       "version_minor": 0
      },
      "text/plain": [
       "  0%|          | 0/1000 [00:00<?, ?it/s]"
      ]
     },
     "metadata": {},
     "output_type": "display_data"
    },
    {
     "data": {
      "application/vnd.jupyter.widget-view+json": {
       "model_id": "70e913433cb346d4b1a0b05c30049ae5",
       "version_major": 2,
       "version_minor": 0
      },
      "text/plain": [
       "  0%|          | 0/1000 [00:00<?, ?it/s]"
      ]
     },
     "metadata": {},
     "output_type": "display_data"
    },
    {
     "data": {
      "application/vnd.jupyter.widget-view+json": {
       "model_id": "a9d46acd7a8d4eacb1ae372376c81103",
       "version_major": 2,
       "version_minor": 0
      },
      "text/plain": [
       "  0%|          | 0/1000 [00:00<?, ?it/s]"
      ]
     },
     "metadata": {},
     "output_type": "display_data"
    },
    {
     "data": {
      "application/vnd.jupyter.widget-view+json": {
       "model_id": "b229d22cd96a4d1b81780396b7f9301f",
       "version_major": 2,
       "version_minor": 0
      },
      "text/plain": [
       "  0%|          | 0/1000 [00:00<?, ?it/s]"
      ]
     },
     "metadata": {},
     "output_type": "display_data"
    },
    {
     "data": {
      "application/vnd.jupyter.widget-view+json": {
       "model_id": "f6e5ab0aff7340f0aeeddd55de476a1f",
       "version_major": 2,
       "version_minor": 0
      },
      "text/plain": [
       "  0%|          | 0/1000 [00:00<?, ?it/s]"
      ]
     },
     "metadata": {},
     "output_type": "display_data"
    },
    {
     "data": {
      "application/vnd.jupyter.widget-view+json": {
       "model_id": "dbf6a11f84a544d291ae20575e6aa5ba",
       "version_major": 2,
       "version_minor": 0
      },
      "text/plain": [
       "  0%|          | 0/1000 [00:00<?, ?it/s]"
      ]
     },
     "metadata": {},
     "output_type": "display_data"
    },
    {
     "data": {
      "application/vnd.jupyter.widget-view+json": {
       "model_id": "7fbbae05cd734c7f8779aab65ea8c238",
       "version_major": 2,
       "version_minor": 0
      },
      "text/plain": [
       "  0%|          | 0/1000 [00:00<?, ?it/s]"
      ]
     },
     "metadata": {},
     "output_type": "display_data"
    },
    {
     "data": {
      "application/vnd.jupyter.widget-view+json": {
       "model_id": "57e88843f8204adaa085c9950e57250c",
       "version_major": 2,
       "version_minor": 0
      },
      "text/plain": [
       "  0%|          | 0/1000 [00:00<?, ?it/s]"
      ]
     },
     "metadata": {},
     "output_type": "display_data"
    },
    {
     "data": {
      "application/vnd.jupyter.widget-view+json": {
       "model_id": "e93ee7ddcbe04a9d8f338f17f3352202",
       "version_major": 2,
       "version_minor": 0
      },
      "text/plain": [
       "  0%|          | 0/1000 [00:00<?, ?it/s]"
      ]
     },
     "metadata": {},
     "output_type": "display_data"
    },
    {
     "data": {
      "application/vnd.jupyter.widget-view+json": {
       "model_id": "1076598678fb4337a14974ed70280b59",
       "version_major": 2,
       "version_minor": 0
      },
      "text/plain": [
       "  0%|          | 0/1000 [00:00<?, ?it/s]"
      ]
     },
     "metadata": {},
     "output_type": "display_data"
    },
    {
     "name": "stdout",
     "output_type": "stream",
     "text": [
      "9500\n"
     ]
    }
   ],
   "source": [
    "average_journal_stems = {\n",
    "    'D':np.zeros(median_len_sequences,dtype=float), \n",
    "    'D2':np.zeros(median_len_sequences,dtype=float), \n",
    "    'D3':np.zeros(median_len_sequences,dtype=float), \n",
    "    'D4':np.zeros(median_len_sequences,dtype=float), \n",
    "}\n",
    "count = 0\n",
    "for fieldOfStudy in tqdm(all_fieldsOfStudy):\n",
    "    fieldsOfStudy_folder = os.path.join(data_folder,'journals_fieldsOfStudy',fieldOfStudy)\n",
    "    journals_filepaths = sorted(find_pattern('*.tsv', fieldsOfStudy_folder))\n",
    "    if len(journals_filepaths) != num_journals:\n",
    "        print(f'Error! Found {len(journals_filepaths)} journals for {fieldOfStudy} instead of {num_journals}')\n",
    "        break\n",
    "    for path in tqdm(journals_filepaths):\n",
    "        file_name = path[-path[::-1].index('/'):path.index('.tsv')]\n",
    "        save_all_file_path = os.path.join('/data/scratch/ahw701/pairs/semanticscholar', 'journals_fieldsOfStudy_stems',fieldOfStudy,file_name + '.pkl')\n",
    "        with open(save_all_file_path, 'rb') as fp:\n",
    "            result = pickle.load(fp)\n",
    "        if len(result['D']) > median_len_sequences:\n",
    "            count += 1\n",
    "            average_journal_stems['D'] += book_result['D'][:median_len_sequences]\n",
    "            average_journal_stems['D2'] += book_result['D2'][:median_len_sequences]\n",
    "            average_journal_stems['D3'] += book_result['D3'][:median_len_sequences]\n",
    "            average_journal_stems['D4'] += book_result['D4'][:median_len_sequences]\n",
    "average_journal_stems['D']  /= count\n",
    "average_journal_stems['D2'] /= count\n",
    "average_journal_stems['D3'] /= count\n",
    "average_journal_stems['D4'] /= count\n",
    "print(count)"
   ]
  },
  {
   "cell_type": "code",
   "execution_count": 156,
   "metadata": {},
   "outputs": [],
   "source": [
    "D = average_journal_stems['D']\n",
    "D2 = average_journal_stems['D2']\n",
    "D3 = average_journal_stems['D3']\n",
    "D4 = average_journal_stems['D4']\n",
    "indices = np.arange(len(D))\n",
    "save_light_file_path = os.path.join(analysis_folder, 'average_individual_results_light_journals_fieldsOfStudy_stems.pkl')\n",
    "save_all_file_path = os.path.join(analysis_folder, f\"average_individual_results_journals_fieldsOfStudy_stems.pkl\")\n",
    "average_results_light_gutenberg = analyse_sequence(None, num_to_save=1000, find_novelties = False, \n",
    "                         calculate_entropies_original = False, calculate_entropies_labels = False,\n",
    "                         D=D, D2=D2, D3=D3, D4=D4, sequence_labels = None,\n",
    "                         save_all=True, save_all_file_path = save_all_file_path, \n",
    "                         save_light_file_path = save_light_file_path,\n",
    "                         calculate_beta_loglogregr_indices = False,\n",
    "                         use_D_as_D_indices = True, indices=indices,\n",
    "                         do_prints = False, return_all = False)"
   ]
  },
  {
   "cell_type": "markdown",
   "metadata": {},
   "source": [
    "## By field of study and author"
   ]
  },
  {
   "cell_type": "markdown",
   "metadata": {},
   "source": [
    "### Individual analysis"
   ]
  },
  {
   "cell_type": "code",
   "execution_count": 40,
   "metadata": {},
   "outputs": [],
   "source": [
    "analysis_folder = os.path.join('./data/semanticscholar/analysis/', corpus_version)\n",
    "os.makedirs(analysis_folder,exist_ok = True)"
   ]
  },
  {
   "cell_type": "code",
   "execution_count": null,
   "metadata": {},
   "outputs": [],
   "source": [
    "results_light_individual_authors_fieldsOfStudy = {}\n",
    "num_authors = 1000\n",
    "for fieldOfStudy in tqdm(all_fieldsOfStudy):\n",
    "    fieldsOfStudy_folder = os.path.join(data_folder,'authors_fieldsOfStudy',fieldOfStudy)\n",
    "    authors_filepaths = sorted(find_pattern('*.tsv', fieldsOfStudy_folder))\n",
    "    if len(authors_filepaths) != num_authors:\n",
    "        print(f'Error! Found {len(authors_filepaths)} authors for {fieldOfStudy} instead of {num_authors}')\n",
    "        break\n",
    "        \n",
    "    results_light_individual_authors_fieldsOfStudy[fieldOfStudy] = {}\n",
    "    for path in tqdm(authors_filepaths):\n",
    "        sequence = [] \n",
    "        with open(path, 'r', newline='\\n') as fp:\n",
    "            tsv_output = csv.reader(fp, delimiter='\\n')\n",
    "            for _ in tsv_output:\n",
    "                sequence.append(int(_[0]))\n",
    "        sequence_labels = sequence.copy()\n",
    "        file_name = path[-path[::-1].index('/'):path.index('.tsv')]\n",
    "        save_light_file_path = os.path.join(analysis_folder, 'authors_fieldsOfStudy',fieldOfStudy,file_name + '.pkl')\n",
    "        save_all_file_path = os.path.join('/data/scratch/ahw701/pairs/semanticscholar', 'authors_fieldsOfStudy',fieldOfStudy,file_name + '.pkl')\n",
    "        results_light_individual_authors_fieldsOfStudy[fieldOfStudy][file_name] = analyse_sequence(sequence, num_to_save=1000, find_novelties = True, \n",
    "                         calculate_entropies_original = False, calculate_entropies_labels = True,\n",
    "                         D=None, D2=None, D3=None, D4=None, sequence_labels = sequence_labels,\n",
    "                         save_all=True, save_all_file_path = save_all_file_path, \n",
    "                         save_light_file_path = save_light_file_path,\n",
    "                         calculate_beta_loglogregr_indices = False,\n",
    "                         do_prints = False, return_all = False)"
   ]
  },
  {
   "cell_type": "code",
   "execution_count": null,
   "metadata": {
    "tags": []
   },
   "outputs": [],
   "source": [
    "with gzip.open(os.path.join(analysis_folder, 'authors_fieldsOfStudy', 'results_light_individual_authors_fieldsOfStudy.pkl.gz'), 'wb') as fp:\n",
    "    joblib.dump(results_light_individual_authors_fieldsOfStudy, fp)"
   ]
  },
  {
   "cell_type": "code",
   "execution_count": 41,
   "metadata": {
    "tags": []
   },
   "outputs": [],
   "source": [
    "with gzip.open(os.path.join(analysis_folder, 'authors_fieldsOfStudy', 'results_light_individual_authors_fieldsOfStudy.pkl.gz'), 'rb') as fp:\n",
    "    results_light_individual_authors_fieldsOfStudy = joblib.load(fp)"
   ]
  },
  {
   "cell_type": "markdown",
   "metadata": {},
   "source": [
    "## By author"
   ]
  },
  {
   "cell_type": "markdown",
   "metadata": {},
   "source": [
    "### Individual analysis"
   ]
  },
  {
   "cell_type": "code",
   "execution_count": 116,
   "metadata": {},
   "outputs": [],
   "source": [
    "analysis_folder = os.path.join('./data/semanticscholar/analysis/', corpus_version)\n",
    "os.makedirs(analysis_folder,exist_ok = True)"
   ]
  },
  {
   "cell_type": "code",
   "execution_count": 133,
   "metadata": {},
   "outputs": [
    {
     "data": {
      "application/vnd.jupyter.widget-view+json": {
       "model_id": "da2c83692a3c41a3bf346593d21c10ed",
       "version_major": 2,
       "version_minor": 0
      },
      "text/plain": [
       "  0%|          | 0/10000 [00:00<?, ?it/s]"
      ]
     },
     "metadata": {},
     "output_type": "display_data"
    },
    {
     "name": "stderr",
     "output_type": "stream",
     "text": [
      "/data/home/ahw701/env_enrico/envs/gt/lib/python3.9/site-packages/numba/core/ir_utils.py:2119: NumbaPendingDeprecationWarning: \n",
      "Encountered the use of a type that is scheduled for deprecation: type 'reflected list' found for argument 'seq' of function 'entropyCalc'.\n",
      "\n",
      "For more information visit https://numba.pydata.org/numba-doc/latest/reference/deprecation.html#deprecation-of-reflection-for-list-and-set-types\n",
      "\n",
      "File \"../../../../tmp/2155093.1.all.q/ipykernel_236746/1214679203.py\", line 1:\n",
      "<source missing, REPL/exec in use?>\n",
      "\n",
      "  warnings.warn(NumbaPendingDeprecationWarning(msg, loc=loc))\n"
     ]
    }
   ],
   "source": [
    "num_authors = 10000\n",
    "authors_folder = os.path.join(data_folder,'authors')\n",
    "authors_filepaths = sorted(find_pattern('*.tsv', authors_folder))\n",
    "if len(authors_filepaths) != num_authors:\n",
    "    print(f'Error! Found {len(authors_filepaths)} authors for {fieldOfStudy} instead of {num_authors}')\n",
    "\n",
    "results_light_individual_authors = {}\n",
    "for path in tqdm(authors_filepaths):\n",
    "    file_name = path[-path[::-1].index('/'):path.index('.tsv')]\n",
    "    save_light_file_path = os.path.join(analysis_folder, 'authors',file_name + '.pkl')\n",
    "    if not os.path.exists(save_light_file_path):\n",
    "        sequence = [] \n",
    "        with open(path, 'r', newline='\\n') as fp:\n",
    "            tsv_output = csv.reader(fp, delimiter='\\n')\n",
    "            for _ in tsv_output:\n",
    "                sequence.append(int(_[0]))\n",
    "        sequence_labels = sequence.copy()\n",
    "        save_all_file_path = os.path.join('/data/scratch/ahw701/pairs/semanticscholar', 'authors',file_name + '.pkl')\n",
    "        results_light_individual_authors[file_name] = analyse_sequence(sequence, num_to_save=1000, find_novelties = True, \n",
    "                         calculate_entropies_original = False, calculate_entropies_labels = True,\n",
    "                         D=None, D2=None, D3=None, D4=None, sequence_labels = sequence_labels,\n",
    "                         save_all=True, save_all_file_path = save_all_file_path, \n",
    "                         save_light_file_path = save_light_file_path,\n",
    "                         calculate_beta_loglogregr_indices = False,\n",
    "                         do_prints = False, return_all = False)"
   ]
  },
  {
   "cell_type": "code",
   "execution_count": 134,
   "metadata": {
    "tags": []
   },
   "outputs": [],
   "source": [
    "with gzip.open(os.path.join(analysis_folder, 'authors', 'results_light_individual_authors.pkl.gz'), 'wb') as fp:\n",
    "    joblib.dump(results_light_individual_authors, fp)"
   ]
  },
  {
   "cell_type": "code",
   "execution_count": null,
   "metadata": {
    "tags": []
   },
   "outputs": [],
   "source": [
    "with gzip.open(os.path.join(analysis_folder, 'authors', 'results_light_individual_authors.pkl.gz'), 'rb') as fp:\n",
    "    results_light_individual_authors = joblib.load(fp)"
   ]
  },
  {
   "cell_type": "markdown",
   "metadata": {},
   "source": [
    "# UMST simulations"
   ]
  },
  {
   "cell_type": "code",
   "execution_count": 6,
   "metadata": {},
   "outputs": [],
   "source": [
    "def adjust_positive_intercept_fit_result_sequence(result):\n",
    "    indices_geom = result['indices_geom']\n",
    "    ts_geom = result['ts_geom']\n",
    "    D_indices_geom = result['D_indices'][indices_geom]\n",
    "    D2_indices_geom = result['D2_indices'][indices_geom]\n",
    "    D3_indices_geom = result['D3_indices'][indices_geom]\n",
    "    D4_indices_geom = result['D4_indices'][indices_geom]\n",
    "\n",
    "    beta_loglogregr_indices_geom = []\n",
    "    beta2_loglogregr_indices_geom = []\n",
    "    beta3_loglogregr_indices_geom = []\n",
    "    beta4_loglogregr_indices_geom = []\n",
    "    intercept_loglogregr_indices_geom = []\n",
    "    intercept2_loglogregr_indices_geom = []\n",
    "    intercept3_loglogregr_indices_geom = []\n",
    "    intercept4_loglogregr_indices_geom = []\n",
    "    std_err_beta_loglogregr_indices_geom = []\n",
    "    std_err_beta2_loglogregr_indices_geom = []\n",
    "    std_err_beta3_loglogregr_indices_geom = []\n",
    "    std_err_beta4_loglogregr_indices_geom = []\n",
    "    std_err_intercept_loglogregr_indices_geom = []\n",
    "    std_err_intercept2_loglogregr_indices_geom = []\n",
    "    std_err_intercept3_loglogregr_indices_geom = []\n",
    "    std_err_intercept4_loglogregr_indices_geom = []\n",
    "    for i in range(len(ts_geom)):\n",
    "        slope, intercept, std_err = powerLawRegrPoints(ts_geom[max(0,i-100)+1:i+1], D_indices_geom[max(0,i-100)+1:i+1], intercept_left_lim = 0, intercept_right_lim = np.inf)\n",
    "        beta_loglogregr_indices_geom.append(slope)\n",
    "        intercept_loglogregr_indices_geom.append(intercept)\n",
    "        std_err_beta_loglogregr_indices_geom.append(std_err[0])\n",
    "        std_err_intercept_loglogregr_indices_geom.append(std_err[1])\n",
    "        slope, intercept, std_err = powerLawRegrPoints(ts_geom[max(1,i-100)+1:i+1]-1, D2_indices_geom[max(1,i-100)+1:i+1], intercept_left_lim = 0, intercept_right_lim = np.inf)\n",
    "        beta2_loglogregr_indices_geom.append(slope)\n",
    "        intercept2_loglogregr_indices_geom.append(intercept)\n",
    "        std_err_beta2_loglogregr_indices_geom.append(std_err[0])\n",
    "        std_err_intercept2_loglogregr_indices_geom.append(std_err[1])\n",
    "        slope, intercept, std_err = powerLawRegrPoints(ts_geom[max(2,i-100)+1:i+1]-2, D3_indices_geom[max(2,i-100)+1:i+1], intercept_left_lim = 0, intercept_right_lim = np.inf)\n",
    "        beta3_loglogregr_indices_geom.append(slope)\n",
    "        intercept3_loglogregr_indices_geom.append(intercept)\n",
    "        std_err_beta3_loglogregr_indices_geom.append(std_err[0])\n",
    "        std_err_intercept3_loglogregr_indices_geom.append(std_err[1])\n",
    "        slope, intercept, std_err = powerLawRegrPoints(ts_geom[max(3,i-100)+1:i+1]-3, D4_indices_geom[max(3,i-100)+1:i+1], intercept_left_lim = 0, intercept_right_lim = np.inf)\n",
    "        beta4_loglogregr_indices_geom.append(slope)\n",
    "        intercept4_loglogregr_indices_geom.append(intercept)\n",
    "        std_err_beta4_loglogregr_indices_geom.append(std_err[0])\n",
    "        std_err_intercept4_loglogregr_indices_geom.append(std_err[1])\n",
    "    result[\"beta_loglogregr_indices_geom\"] = np.array(beta_loglogregr_indices_geom)\n",
    "    result[\"beta2_loglogregr_indices_geom\"] = np.array(beta2_loglogregr_indices_geom)\n",
    "    result[\"beta3_loglogregr_indices_geom\"] = np.array(beta3_loglogregr_indices_geom)\n",
    "    result[\"beta4_loglogregr_indices_geom\"] = np.array(beta4_loglogregr_indices_geom)\n",
    "    result[\"intercept_loglogregr_indices_geom\"] = np.array(intercept_loglogregr_indices_geom)\n",
    "    result[\"intercept2_loglogregr_indices_geom\"] = np.array(intercept2_loglogregr_indices_geom)\n",
    "    result[\"intercept3_loglogregr_indices_geom\"] = np.array(intercept3_loglogregr_indices_geom)\n",
    "    result[\"intercept4_loglogregr_indices_geom\"] = np.array(intercept4_loglogregr_indices_geom)\n",
    "    result[\"std_err_beta_loglogregr_indices_geom\"] = np.array(std_err_beta_loglogregr_indices_geom)\n",
    "    result[\"std_err_beta2_loglogregr_indices_geom\"] = np.array(std_err_beta2_loglogregr_indices_geom)\n",
    "    result[\"std_err_beta3_loglogregr_indices_geom\"] = np.array(std_err_beta3_loglogregr_indices_geom)\n",
    "    result[\"std_err_beta4_loglogregr_indices_geom\"] = np.array(std_err_beta4_loglogregr_indices_geom)\n",
    "    result[\"std_err_intercept_loglogregr_indices_geom\"] = np.array(std_err_intercept_loglogregr_indices_geom)\n",
    "    result[\"std_err_intercept2_loglogregr_indices_geom\"] = np.array(std_err_intercept2_loglogregr_indices_geom)\n",
    "    result[\"std_err_intercept3_loglogregr_indices_geom\"] = np.array(std_err_intercept3_loglogregr_indices_geom)\n",
    "    result[\"std_err_intercept4_loglogregr_indices_geom\"] = np.array(std_err_intercept4_loglogregr_indices_geom)\n",
    "    return result"
   ]
  },
  {
   "cell_type": "code",
   "execution_count": null,
   "metadata": {},
   "outputs": [
    {
     "data": {
      "application/vnd.jupyter.widget-view+json": {
       "model_id": "b7982a30131c4439b0977e36bc43cf0a",
       "version_major": 2,
       "version_minor": 0
      },
      "text/plain": [
       "  0%|          | 0/2 [00:00<?, ?it/s]"
      ]
     },
     "metadata": {},
     "output_type": "display_data"
    },
    {
     "name": "stdout",
     "output_type": "stream",
     "text": [
      "rho 20\n"
     ]
    },
    {
     "data": {
      "application/vnd.jupyter.widget-view+json": {
       "model_id": "b000cdc23c1b4eb8803a6499aea45157",
       "version_major": 2,
       "version_minor": 0
      },
      "text/plain": [
       "  0%|          | 0/2 [00:00<?, ?it/s]"
      ]
     },
     "metadata": {},
     "output_type": "display_data"
    },
    {
     "name": "stdout",
     "output_type": "stream",
     "text": [
      "Tmax 100000\n"
     ]
    },
    {
     "data": {
      "application/vnd.jupyter.widget-view+json": {
       "model_id": "af39b5c03fa043e2a54dc866abdccca6",
       "version_major": 2,
       "version_minor": 0
      },
      "text/plain": [
       "  0%|          | 0/20 [00:00<?, ?it/s]"
      ]
     },
     "metadata": {},
     "output_type": "display_data"
    },
    {
     "name": "stdout",
     "output_type": "stream",
     "text": [
      "nu 1\n"
     ]
    },
    {
     "name": "stderr",
     "output_type": "stream",
     "text": [
      "/data/home/ahw701/env_enrico/envs/gt/lib/python3.9/site-packages/scipy/optimize/minpack.py:833: OptimizeWarning: Covariance of the parameters could not be estimated\n",
      "  warnings.warn('Covariance of the parameters could not be estimated',\n"
     ]
    },
    {
     "name": "stdout",
     "output_type": "stream",
     "text": [
      "nu 2\n"
     ]
    }
   ],
   "source": [
    "for rho in tqdm([20, 4]):\n",
    "    print('rho', rho)\n",
    "    for Tmax in tqdm([int(1e5), int(1e7)]):\n",
    "        print('Tmax', Tmax)\n",
    "        for nu in tqdm(range(20)):\n",
    "            nu += 1\n",
    "            print('nu', nu)\n",
    "            for eta in [1, .1]:\n",
    "                for run in range(101):\n",
    "                    workdir = f\"./data/simulations/rho_{rho:.5f}/nu_{nu}/Tmax_{Tmax}/eta_{eta:.5f}/\"\n",
    "                    save_light_file_path = os.path.join(workdir, f\"UMT_light_run_{run}.pkl\") \n",
    "                    workdir_new = f\"./data/simulations_new_positive_intercept/rho_{rho:.5f}/nu_{nu}/Tmax_{Tmax}/eta_{eta:.5f}/\"\n",
    "                    save_light_file_path_new = os.path.join(workdir_new, f\"UMT_light_run_{run}.pkl\") \n",
    "\n",
    "                    try:\n",
    "                        with open(save_light_file_path,'rb') as fp:\n",
    "                            result = pickle.load(fp)\n",
    "\n",
    "                        result = adjust_positive_intercept_fit_result_sequence(result)\n",
    "                        \n",
    "                        os.makedirs(workdir_new, exist_ok=True)\n",
    "                        with open(save_light_file_path_new,'wb') as fp:\n",
    "                            pickle.dump(result,fp)\n",
    "                    except:\n",
    "                        pass"
   ]
  }
 ],
 "metadata": {
  "kernelspec": {
   "display_name": "Python 3 (ipykernel)",
   "language": "python",
   "name": "python3"
  },
  "language_info": {
   "codemirror_mode": {
    "name": "ipython",
    "version": 3
   },
   "file_extension": ".py",
   "mimetype": "text/x-python",
   "name": "python",
   "nbconvert_exporter": "python",
   "pygments_lexer": "ipython3",
   "version": "3.9.5"
  },
  "toc-autonumbering": true
 },
 "nbformat": 4,
 "nbformat_minor": 4
}
